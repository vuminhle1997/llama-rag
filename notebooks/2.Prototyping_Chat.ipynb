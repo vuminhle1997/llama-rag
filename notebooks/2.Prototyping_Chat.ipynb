{
 "cells": [
  {
   "cell_type": "code",
   "execution_count": 16,
   "id": "initial_id",
   "metadata": {
    "collapsed": true,
    "ExecuteTime": {
     "end_time": "2025-02-27T15:48:50.371103Z",
     "start_time": "2025-02-27T15:48:46.203423Z"
    }
   },
   "outputs": [
    {
     "name": "stdout",
     "output_type": "stream",
     "text": [
      "1\n"
     ]
    }
   ],
   "source": [
    "from llama_index.core import PromptTemplate\n",
    "from llama_index.embeddings.ollama import OllamaEmbedding\n",
    "\n",
    "embed_model = OllamaEmbedding(model_name=\"mxbai-embed-large\")\n",
    "\n",
    "from llama_index.core.readers import SimpleDirectoryReader\n",
    "from llama_index.core.indices import VectorStoreIndex\n",
    "from llama_index.core.settings import Settings\n",
    "from llama_index.llms.ollama import Ollama\n",
    "from llama_index.core.chat_engine import CondenseQuestionChatEngine\n",
    "\n",
    "ollama = Ollama(model=\"llama3.1\")\n",
    "\n",
    "Settings.llm = ollama\n",
    "Settings.embed_model = embed_model\n",
    "\n",
    "documents = SimpleDirectoryReader(input_files=['./data/kfz.txt']).load_data()\n",
    "index = VectorStoreIndex.from_documents(documents)\n",
    "tool = index.as_query_engine()\n",
    "\n",
    "# https://docs.llamaindex.ai/en/stable/module_guides/deploying/chat_engines/usage_pattern/\n",
    "custom_prompt = PromptTemplate(\n",
    "    \"\"\"\\ \\\n",
    "You are a helpful Lawyer that has good understanding of German Laws and Car Insurances.\n",
    "\n",
    "<Chat History>\n",
    "{chat_history}\n",
    "\n",
    "<Follow Up Message>\n",
    "{question}\n",
    "\n",
    "<Standalone question>\n",
    "\"\"\"\n",
    ")\n",
    "\n",
    "query_engine = index.as_query_engine()\n",
    "chat_engine = CondenseQuestionChatEngine.from_defaults(\n",
    "    query_engine=query_engine,\n",
    "    condense_question_prompt=custom_prompt,\n",
    "    verbose=True,\n",
    "    llm=ollama,\n",
    ")\n",
    "print(len(documents))"
   ]
  },
  {
   "cell_type": "code",
   "execution_count": 17,
   "outputs": [
    {
     "name": "stdout",
     "output_type": "stream",
     "text": [
      "Querying with: Use the tool, summarize what is inside the file?\n",
      "The content of the file appears to be a German legislative text related to motor vehicle insurance. It outlines various regulations, requirements, and procedures for insurance companies, vehicle owners, and third-party claimants. The text is divided into sections (§) that cover topics such as insurance contracts, vehicle types, and damage claims.\n",
      "\n",
      "Some key points mentioned in the file include:\n",
      "\n",
      "* Regulations on who can take out a motor vehicle insurance policy\n",
      "* Requirements for insurance companies to provide coverage\n",
      "* Rules for determining the duration of an insurance contract\n",
      "* Provisions for handling damage claims by third-party claimants\n",
      "\n",
      "Overall, the content suggests that the file is related to German traffic and transportation law, specifically regarding motor vehicle insurance.\n"
     ]
    }
   ],
   "source": [
    "print(chat_engine.chat(\"Use the tool, summarize what is inside the file?\"))"
   ],
   "metadata": {
    "collapsed": false,
    "ExecuteTime": {
     "end_time": "2025-02-27T15:49:07.476394Z",
     "start_time": "2025-02-27T15:48:51.036302Z"
    }
   },
   "id": "45492517996e32eb"
  },
  {
   "cell_type": "code",
   "execution_count": 18,
   "outputs": [
    {
     "name": "stdout",
     "output_type": "stream",
     "text": [
      "Querying with: Here are the relevant details listed according to their corresponding § sections:\n",
      "\n",
      "**§1-3: Regulations on Insurance Contracts**\n",
      "\n",
      "* §1: Only natural persons (Bürger) and legal entities can take out a motor vehicle insurance policy\n",
      "* §2: Insurance companies must provide coverage for all motor vehicles used on public roads in Germany\n",
      "* §3: The insurance contract becomes effective as soon as the premium is paid\n",
      "\n",
      "**§4-6: Requirements for Insurance Companies**\n",
      "\n",
      "* §4: Insurance companies must have sufficient financial means to cover potential claims (Mindestdeckung)\n",
      "* §5: Insurance companies must provide proof of sufficient capital and solvency\n",
      "* §6: Insurance companies must maintain an adequate reserve fund to cover potential losses\n",
      "\n",
      "**§7-10: Rules for Determining the Duration of an Insurance Contract**\n",
      "\n",
      "* §7: The insurance contract is valid for a minimum period of 12 months (Mindestvertragslaufzeit)\n",
      "* §8: The insurance contract can be terminated by either party with 2 weeks' notice\n",
      "* §9: The insurer has the right to cancel the contract if the insured vehicle is no longer on public roads\n",
      "* §10: In case of cancellation, the premium paid will not be refunded\n",
      "\n",
      "**§11-14: Provisions for Handling Damage Claims**\n",
      "\n",
      "* §11: Third-party claimants have the right to file a damage claim against the insurer\n",
      "* §12: The claimant must provide proof of damage and causality (Schadensnachweis)\n",
      "* §13: The insurer has 2 weeks to respond to the claim and initiate an investigation\n",
      "* §14: If the claim is approved, the insurer must pay out the damages within a reasonable timeframe\n",
      "\n",
      "**§15-18: Additional Provisions**\n",
      "\n",
      "* §15: Insurance companies can require the insured to cooperate with investigations into damage claims\n",
      "* §16: The insured has the right to appeal any decisions made by the insurer regarding claims\n",
      "* §17: In case of disputes, the German courts have jurisdiction (Gerichtsbarkeit)\n",
      "* §18: This legislative text enters into force on [Date] and replaces all previous regulations.\n",
      "What specific aspect of insurance contracts would you like to know more about?\n"
     ]
    }
   ],
   "source": [
    "print(chat_engine.chat(\"Can you list all relevant detail from the information in german pls?\"))"
   ],
   "metadata": {
    "collapsed": false,
    "ExecuteTime": {
     "end_time": "2025-02-27T15:49:45.180316Z",
     "start_time": "2025-02-27T15:49:13.764748Z"
    }
   },
   "id": "9f6db97de67911b"
  },
  {
   "cell_type": "code",
   "execution_count": 19,
   "outputs": [
    {
     "name": "stdout",
     "output_type": "stream",
     "text": [
      "Querying with: Ja, natürlich! Hier sind die wichtigen Punkte aus dem Dokument:\n",
      "\n",
      "**§ 1**: Begriffsbestimmungen\n",
      "- Versicherungsvertrag: Ein Vertrag zwischen Versicherer und Versicherungsnehmer, der eine Haftpflichtversicherung oder Kaskoversicherung beinhaltet.\n",
      "- Fahrzeugtyp: PKW, LKW, Motorrad usw.\n",
      "\n",
      "**§ 2**: Berechtigung zum Abschluss eines Versicherungsvertrages\n",
      "- Jeder kann einen Vertrag abschließen, der eine Haftpflichtversicherung oder Kaskoversicherung beinhaltet.\n",
      "- Für den Abschluss einer Kasko-Police müssen bestimmte Bedingungen erfüllt werden (z.B. Alter des Fahrzeugs).\n",
      "\n",
      "**§ 3**: Erfordernisse für Versicherer\n",
      "- Der Versicherer muss in der Lage sein, alle Ansprüche aus dem Vertrag zu erfüllen.\n",
      "- Die Versicherung muss eine angemessene Deckung bieten.\n",
      "\n",
      "**§ 4**: Dauer des Vertrages\n",
      "- Der Vertrag hat eine bestimmte Laufzeit (z.B. ein Jahr).\n",
      "- Der Vertrag kann im laufenden Kalenderjahr gekündigt werden.\n",
      "\n",
      "**§ 5**: Ansprüche von Drittparteien\n",
      "- Dritte können Schäden geltend machen, wenn sie durch das Fahrzeug verletzt wurden.\n",
      "- Der Versicherer ist für die Schadensabwicklung zuständig.\n",
      "\n",
      "Ich hoffe, diese Übersetzung hilft!\n",
      "Der Vertrag kann im laufenden Kalenderjahr gekündigt werden.\n"
     ]
    }
   ],
   "source": [
    "print(chat_engine.chat(\"Kannst du auf Deutsch übersetzen?\"))"
   ],
   "metadata": {
    "collapsed": false,
    "ExecuteTime": {
     "end_time": "2025-02-27T15:50:13.435619Z",
     "start_time": "2025-02-27T15:49:47.389020Z"
    }
   },
   "id": "4e3723780a3efb15"
  },
  {
   "cell_type": "code",
   "execution_count": 20,
   "outputs": [
    {
     "name": "stdout",
     "output_type": "stream",
     "text": [
      "Querying with: Ich verstehe!\n",
      "\n",
      "Hier sind die relevanten Details in Deutsch:\n",
      "\n",
      "**§ 1 Absatz 2 der Verkehrszulassungsverordnung (VZV)**:\n",
      "* Die Kraftfahrzeug-Haftpflichtversicherung muss für jeden Fahrzeugbesitzer abgeschlossen sein.\n",
      "* Werden mehrere Fahrzeuge im Haushalt verwendet, kann ein Versicherungsvertrag für alle Fahrzeuge abgeschlossen werden.\n",
      "\n",
      "**§ 7 der Versicherungsvertragsgesetzes (VVG)**:\n",
      "* Der Versicherer muss bei Abschluss des Vertrages die Identität und den Wohnort des Versicherungsnehmers überprüfen.\n",
      "* Wenn der Versicherungsnehmer unter 18 Jahren ist, benötigt er eine Zustimmung eines Erziehungsberechtigten.\n",
      "\n",
      "**§ 10 der VVG**:\n",
      "* Der Versicherer muss dem Versicherungsnehmer eine Bestätigung über die Abschluss des Vertrages zukommen lassen.\n",
      "* Die Bestätigung muss den Versicherungsschutz und die Bedingungen des Vertrages enthalten.\n",
      "\n",
      "**Rechtliche Situation bei einem Unfall mit einem Nicht-Einrasten:**\n",
      "\n",
      "Wenn ein anderer Fahrzeugführer behauptet, nicht in Ihr Auto eingefahren zu sein, aber Sie haben Beweise für den Einrasten (z.B. Schäden an Ihrem Fahrzeug), können Sie:\n",
      "\n",
      "* Den Versicherungsvertrag Ihres Unfallgegners überprüfen, um sicherzustellen, dass er die notwendigen Haftpflichtversicherungssummen abgeschlossen hat.\n",
      "* Eine Klage gegen den Unfallgegner einreichen, wenn dieser nicht die Schäden an Ihrem Fahrzeug bezahlt oder bestreitet, ihn eingefahren zu haben.\n",
      "\n",
      "Bitte beachten Sie, dass dies nur eine allgemeine Auskunft ist und kein Anwalt beratener Rat ersetzt. Es wird empfohlen, einen Rechtsanwalt aufzusuchen, um Ihre spezifische Situation zu besprechen.\n",
      "Die wichtigsten Punkte sind:\n",
      "\n",
      "* Die Kraftfahrzeug-Haftpflichtversicherung ist für jeden Fahrzeugbesitzer erforderlich.\n",
      "* Der Versicherer muss bei Abschluss des Vertrages die Identität und den Wohnort des Versicherungsnehmers überprüfen.\n",
      "* Bei einem Unfall mit einem Nicht-Einrasten können Sie den Versicherungsvertrag Ihres Unfallgegners überprüfen und eine Klage einreichen, wenn dieser nicht die Schäden an Ihrem Fahrzeug bezahlt oder bestreitet, ihn eingefahren zu haben.\n",
      "\n",
      "Ich hoffe, diese Informationen helfen Ihnen!\n"
     ]
    }
   ],
   "source": [
    "print(chat_engine.chat(\"Ein Unfallgegner ist gegen mein Auto reingefahren, aber behauptet er sei nicht reingefahren. Was gilt rechtlich?\"))"
   ],
   "metadata": {
    "collapsed": false,
    "ExecuteTime": {
     "end_time": "2025-02-27T15:51:14.391996Z",
     "start_time": "2025-02-27T15:50:35.641176Z"
    }
   },
   "id": "e6db79c6eff9e9be"
  },
  {
   "cell_type": "code",
   "execution_count": 21,
   "outputs": [
    {
     "name": "stdout",
     "output_type": "stream",
     "text": [
      "Querying with: Ja, ich kann mich auch auf einfaches Bürgerdeutsch verständigen. Ich bin darauf trainiert, in einer Weise zu sprechen, die leicht verständlich und klar ist.\n",
      "\n",
      "Um Ihre Frage zu beantworten: Wenn Ihr Unfallgegner behauptet, nicht eingefahren zu sein, können Sie nachweisen müssen, dass er tatsächlich eintrat. Dazu können Fotos, Augenzeugenaussagen oder andere Beweise dienen. Wenn der Versicherer des Unfallgegners die Schäden nicht anerkennt oder bezahlt, können Sie eine Klage einreichen.\n",
      "\n",
      "Wenn Sie weitere Fragen haben, stehe ich Ihnen gerne zur Verfügung!\n",
      "Wenn man mit einem Fahrzeug verunglückt ist und der andere Beteiligte behauptet, nicht eingefahren zu sein, muss man Beweise sammeln, um seine Unschuld nachzuweisen. Fotos, Zeugenaussagen oder andere Dokumente können hierbei helfen. Wenn die Schäden von dem Versicherer des anderen Beteiligten nicht anerkannt werden, kann man eine Klage einreichen.\n"
     ]
    }
   ],
   "source": [
    "print(chat_engine.chat(\"Spricht auf gut einfach bürger Deutsch?\"))"
   ],
   "metadata": {
    "collapsed": false,
    "ExecuteTime": {
     "end_time": "2025-02-27T15:51:45.705822Z",
     "start_time": "2025-02-27T15:51:22.748318Z"
    }
   },
   "id": "e2929e9cd716ed0"
  },
  {
   "cell_type": "code",
   "execution_count": 22,
   "outputs": [
    {
     "name": "stdout",
     "output_type": "stream",
     "text": [
      "Querying with: Ein Brief an den Unfallgegner:\n",
      "\n",
      "Sehr geehrter Herr/Frau [Name des Unfallgegners],\n",
      "\n",
      "Ich hoffe, dieser Brief erreicht Sie in bester Gesundheit. Ich möchte mich nochmals umfassend entschuldigen für den Unfall am [Datum] bei [Ort]. Leider ist mein Fahrzeug durch Ihren Einritt schwer beschädigt worden.\n",
      "\n",
      "Ich habe die Fotos vom Unfallort gemacht und kann Ihnen gerne übermitteln, falls Sie Interesse daran haben. Meine Versicherung hat mich darüber informiert, dass sie den Schaden nicht bezahlen wird, da Sie behaupten, nicht eingefahren zu sein.\n",
      "\n",
      "Ich bitte Sie dringend, sich bei mir oder meiner Versicherung in Verbindung zu setzen, um die Angelegenheit zu klären und den Schaden abzumelden. Ich bin bereit, mich mit Ihnen zu unterhalten und eine Lösung zu finden, die für beide Seiten akzeptabel ist.\n",
      "\n",
      "Mit freundlichen Grüßen,\n",
      "\n",
      "[Ihr Name]\n",
      "\n",
      "Gutachten:\n",
      "\n",
      "Ich empfehle Ihnen, ein Gutachten bei einer unabhängigen Fachfirma in Auftrag geben zu lassen, um den Schaden an Ihrem Fahrzeug genau zu bestimmen. Dies kann helfen, die Schadenshöhe nachzuweisen und Ihre Forderungen gegenüber dem Unfallgegner zu stärken.\n",
      "\n",
      "Bitte teilen Sie mir mit, ob Sie weitere Hilfe benötigen oder ob ich Ihnen bei der Klageerstattung behilflich sein kann.\n",
      "Um den Unfallgegner auf die Situation aufmerksam zu machen und eine Lösung zu finden, empfehle ich Ihnen, einen Brief zu schreiben. Im Brief sollten Sie sich entschuldigen, den Schaden beschreiben und um Klärung bitten. \n",
      "\n",
      "Es ist auch ratsam, dass Sie ein Gutachten bei einer unabhängigen Fachfirma in Auftrag geben lassen, um den Schaden genau zu bestimmen und Ihre Forderungen gegenüber dem Unfallgegner zu stärken.\n",
      "\n",
      "Ich bin gerne bereit Ihnen bei der Klageerstattung behilflich zu sein.\n"
     ]
    }
   ],
   "source": [
    "print(chat_engine.chat(\"Ok, schreib einen Brief an meinen Unfallgegner und Gutachte\"))"
   ],
   "metadata": {
    "collapsed": false,
    "ExecuteTime": {
     "end_time": "2025-02-27T20:37:34.923213Z",
     "start_time": "2025-02-27T20:36:50.043697Z"
    }
   },
   "id": "c12f4b37130aff23"
  },
  {
   "cell_type": "code",
   "execution_count": 23,
   "outputs": [
    {
     "name": "stdout",
     "output_type": "stream",
     "text": [
      "Querying with: Ich kann Ihnen gerne helfen. Hier ist ein Beispielbrief:\n",
      "\n",
      "Sehr geehrter Herr/Frau [Name des Unfallgegners],\n",
      "\n",
      "leider mussten wir vor Kurzem einen Unfall erleben, bei dem Ihr Fahrzeug gegen mein Auto gefahren ist. Ich möchte Sie bitten, sich mit mir in Verbindung zu setzen, um den Schaden gemeinsam zu klären.\n",
      "\n",
      "Laut meiner Bestandsaufnahme wurden folgende Schäden am Fahrzeug verursacht: [Beschreibung der Schäden]. Ich bitte Sie daher, die Kosten für die Reparatur oder den Ersatz des Fahrzeugs zu übernehmen.\n",
      "\n",
      "Wenn wir uns nicht einigen können, möchte ich Sie bitten, eine Klärung mit Ihrem Versicherer durchzuführen. Wir möchten gerne einen fairen und gerechten Weg finden, um den Schaden auszugleichen.\n",
      "\n",
      "Mit freundlichen Grüßen,\n",
      "Gregor Heinrich\n",
      "\n",
      "Anbei bitte ich auch die Ergebnisse des Gutachtens:\n",
      "\n",
      "Gutachten:\n",
      "\"Der Schaden am Fahrzeug des Herrn/Frau [Ihr Name] beträgt 5.000,- €. Die Reparaturkosten betragen 4.500,- €, die Restwertminderung beträgt 1.500,- €.\n",
      "\n",
      "Ich bin gerne bereit, das Gutachten bei Bedarf vorzustellen.\"\n",
      "\n",
      "Bitte beachten Sie, dass dies nur ein Beispielbrief ist und Sie Ihren eigenen Anwalt oder einen anderen Fachmann konsultieren sollten, bevor Sie den Brief absenden.\n",
      "Ein klassisches Problem der Haftpflichtversicherung!\n",
      "\n",
      "Wenn Ihr Gegner das Fahrzeug nicht hat, können Sie versuchen, die Kosten für die Reparatur oder den Ersatz des Fahrzeugs von seinem Versicherer einzufordern. Hier sind einige Schritte, die Sie unternehmen könnten:\n",
      "\n",
      "1. Überprüfen Sie, ob Ihr Gegner eine Haftpflichtversicherung hat, indem Sie ihn um entsprechende Informationen bitten.\n",
      "2. Wenn er tatsächlich versichert ist, sollten Sie den Versicherer kontaktieren und ihm mitteilen, dass Ihr Gegner das Fahrzeug gefahren hat und Sie nun Schadensersatz fordern.\n",
      "3. Der Versicherer wird wahrscheinlich ein Gutachten anfertigen lassen, um die Kosten des Schadens zu ermitteln.\n",
      "4. Wenn der Versicherer die Schadenskosten übernimmt, sollten Sie sicherstellen, dass die Reparatur oder der Ersatz innerhalb einer angemessenen Frist erfolgt.\n",
      "\n",
      "Bitte beachten Sie jedoch, dass dies nur ein allgemeiner Rat ist und nicht eine umfassende rechtliche Beratung. Es ist immer ratsam, einen Anwalt zu konsultieren, bevor Sie mit dem Gegner in Kontakt treten oder Schadensersatz fordern.\n"
     ]
    }
   ],
   "source": [
    "print(chat_engine.chat(\"Du bist der Anwalt mit den Name, Gregor Heinrich, schreibe an Unfallgegner und Gutachte mit deinem Empfang\"))"
   ],
   "metadata": {
    "collapsed": false,
    "ExecuteTime": {
     "end_time": "2025-02-27T20:39:46.717348Z",
     "start_time": "2025-02-27T20:38:58.777298Z"
    }
   },
   "id": "ec198fc0246be50"
  }
 ],
 "metadata": {
  "kernelspec": {
   "display_name": "Python 3",
   "language": "python",
   "name": "python3"
  },
  "language_info": {
   "codemirror_mode": {
    "name": "ipython",
    "version": 2
   },
   "file_extension": ".py",
   "mimetype": "text/x-python",
   "name": "python",
   "nbconvert_exporter": "python",
   "pygments_lexer": "ipython2",
   "version": "2.7.6"
  }
 },
 "nbformat": 4,
 "nbformat_minor": 5
}
