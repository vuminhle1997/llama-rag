{
 "cells": [
  {
   "cell_type": "code",
   "id": "initial_id",
   "metadata": {
    "collapsed": true,
    "ExecuteTime": {
     "end_time": "2025-04-16T13:42:44.822450Z",
     "start_time": "2025-04-16T13:42:40.159954Z"
    }
   },
   "source": "!pip install -U -q deepeval llama-index",
   "outputs": [
    {
     "name": "stdout",
     "output_type": "stream",
     "text": [
      "\r\n",
      "\u001B[1m[\u001B[0m\u001B[34;49mnotice\u001B[0m\u001B[1;39;49m]\u001B[0m\u001B[39;49m A new release of pip is available: \u001B[0m\u001B[31;49m23.2.1\u001B[0m\u001B[39;49m -> \u001B[0m\u001B[32;49m25.0.1\u001B[0m\r\n",
      "\u001B[1m[\u001B[0m\u001B[34;49mnotice\u001B[0m\u001B[1;39;49m]\u001B[0m\u001B[39;49m To update, run: \u001B[0m\u001B[32;49mpip install --upgrade pip\u001B[0m\r\n"
     ]
    }
   ],
   "execution_count": 7
  },
  {
   "metadata": {
    "ExecuteTime": {
     "end_time": "2025-04-16T13:45:47.431387Z",
     "start_time": "2025-04-16T13:45:43.527784Z"
    }
   },
   "cell_type": "code",
   "source": "!deepeval set-ollama llama3.1",
   "id": "edc05855dacc9b46",
   "outputs": [
    {
     "name": "stdout",
     "output_type": "stream",
     "text": [
      "🙌 Congratulations! You're now using a local Ollama model for all evals that \r\n",
      "require an LLM.\r\n"
     ]
    }
   ],
   "execution_count": 13
  },
  {
   "metadata": {
    "ExecuteTime": {
     "end_time": "2025-04-16T13:45:54.867735Z",
     "start_time": "2025-04-16T13:45:52.130431Z"
    }
   },
   "cell_type": "code",
   "outputs": [],
   "execution_count": 14,
   "source": [
    "from llama_index.core import VectorStoreIndex, SimpleDirectoryReader\n",
    "from llama_index.llms.ollama import Ollama\n",
    "from llama_index.embeddings.ollama import OllamaEmbedding\n",
    "from llama_index.core.settings import Settings\n",
    "\n",
    "embed_model = OllamaEmbedding(model_name=\"mxbai-embed-large\")\n",
    "llm = Ollama(model=\"llama3.1\", request_timeout=300, temperature=0.0)\n",
    "\n",
    "Settings.chunk_size = 512\n",
    "Settings.chunk_overlap = 50\n",
    "Settings.llm = llm\n",
    "Settings.embed_model = embed_model\n",
    "\n",
    "# Read LlamaIndex's quickstart on more details, you will need to store your data in \"YOUR_DATA_DIRECTORY\" beforehand\n",
    "documents = SimpleDirectoryReader(input_files=['./data/text1.txt']).load_data()\n",
    "index = VectorStoreIndex.from_documents(documents)\n",
    "rag_application = index.as_query_engine(llm=llm)"
   ],
   "id": "9fba434d494ce618"
  },
  {
   "metadata": {
    "ExecuteTime": {
     "end_time": "2025-04-16T13:56:48.298054Z",
     "start_time": "2025-04-16T13:56:14.170960Z"
    }
   },
   "cell_type": "code",
   "source": [
    "import nest_asyncio\n",
    "\n",
    "nest_asyncio.apply()\n",
    "\n",
    "from deepeval.integrations.llama_index import (\n",
    "    DeepEvalAnswerRelevancyEvaluator,\n",
    "    DeepEvalFaithfulnessEvaluator,\n",
    "    DeepEvalContextualRelevancyEvaluator,\n",
    "    DeepEvalSummarizationEvaluator,\n",
    "    DeepEvalBiasEvaluator,\n",
    "    DeepEvalToxicityEvaluator,\n",
    ")\n",
    "\n",
    "# An example input to your RAG application\n",
    "user_input = \"Who is Twice?\"\n",
    "\n",
    "# LlamaIndex returns a response object that contains\n",
    "# both the output string and retrieved nodes\n",
    "response_object = rag_application.query(user_input)\n",
    "\n",
    "evaluators = [\n",
    "    DeepEvalAnswerRelevancyEvaluator(),\n",
    "    DeepEvalFaithfulnessEvaluator(),\n",
    "    DeepEvalContextualRelevancyEvaluator(),\n",
    "    DeepEvalSummarizationEvaluator(),\n",
    "    DeepEvalBiasEvaluator(),\n",
    "    DeepEvalToxicityEvaluator(),\n",
    "]\n",
    "\n",
    "for evaluator in evaluators:\n",
    "    evaluation_result = evaluator.evaluate_response(\n",
    "        query=user_input, response=response_object\n",
    "    )\n",
    "    print(evaluation_result)\n",
    "    print(\"\\n\")"
   ],
   "id": "3df2b836b5a989f7",
   "outputs": [
    {
     "data": {
      "text/plain": [],
      "text/html": [
       "<pre style=\"white-space:pre;overflow-x:auto;line-height:normal;font-family:Menlo,'DejaVu Sans Mono',consolas,'Courier New',monospace\"></pre>\n"
      ]
     },
     "metadata": {},
     "output_type": "display_data"
    },
    {
     "name": "stdout",
     "output_type": "stream",
     "text": [
      "query='Who is Twice?' contexts=None response='A South Korean girl group from the third generation of K-Pop, formed by JYP Entertainment through a casting show. The group consists of nine members who have gained international recognition for their music and performances. They are known for breaking records in album sales and achieving significant chart success worldwide.' passing=True feedback='The score is 0.83 because it is lowered by the irrelevance of mentioning record-breaking album sales and chart success as an indirect definition of Twice.' score=0.8333333333333334 pairwise_source=None invalid_result=False invalid_reason=None\n",
      "\n",
      "\n"
     ]
    },
    {
     "data": {
      "text/plain": [],
      "text/html": [
       "<pre style=\"white-space:pre;overflow-x:auto;line-height:normal;font-family:Menlo,'DejaVu Sans Mono',consolas,'Courier New',monospace\"></pre>\n"
      ]
     },
     "metadata": {},
     "output_type": "display_data"
    },
    {
     "name": "stdout",
     "output_type": "stream",
     "text": [
      "query='Who is Twice?' contexts=None response='A South Korean girl group from the third generation of K-Pop, formed by JYP Entertainment through a casting show. The group consists of nine members who have gained international recognition for their music and performances. They are known for breaking records in album sales and achieving significant chart success worldwide.' passing=True feedback=\"The score is 0.75 because the actual output is partially faithful to the retrieval context, as it appears to acknowledge the indirect support for the group's international recognition despite not directly stating it.\" score=0.75 pairwise_source=None invalid_result=False invalid_reason=None\n",
      "\n",
      "\n"
     ]
    },
    {
     "data": {
      "text/plain": [],
      "text/html": [
       "<pre style=\"white-space:pre;overflow-x:auto;line-height:normal;font-family:Menlo,'DejaVu Sans Mono',consolas,'Courier New',monospace\"></pre>\n"
      ]
     },
     "metadata": {},
     "output_type": "display_data"
    },
    {
     "name": "stdout",
     "output_type": "stream",
     "text": [
      "query='Who is Twice?' contexts=None response='A South Korean girl group from the third generation of K-Pop, formed by JYP Entertainment through a casting show. The group consists of nine members who have gained international recognition for their music and performances. They are known for breaking records in album sales and achieving significant chart success worldwide.' passing=True feedback='The score is 0.78 because the retrieval context contains information about the group\\'s achievements and activities, not a person, which contradicts the input \\'Who is Twice?\\' - as stated in the first reason for irrelevancy: \"Twice\" is a South Korean girl group, not a person.' score=0.7777777777777778 pairwise_source=None invalid_result=False invalid_reason=None\n",
      "\n",
      "\n"
     ]
    },
    {
     "data": {
      "text/plain": [],
      "text/html": [
       "<pre style=\"white-space:pre;overflow-x:auto;line-height:normal;font-family:Menlo,'DejaVu Sans Mono',consolas,'Courier New',monospace\"></pre>\n"
      ]
     },
     "metadata": {},
     "output_type": "display_data"
    },
    {
     "name": "stdout",
     "output_type": "stream",
     "text": [
      "query='Who is Twice?' contexts=None response='A South Korean girl group from the third generation of K-Pop, formed by JYP Entertainment through a casting show. The group consists of nine members who have gained international recognition for their music and performances. They are known for breaking records in album sales and achieving significant chart success worldwide.' passing=False feedback='The score is 0.00 because there is contradicting information, as the summary inaccurately claims the group has nine members, which contradicts the lack of any member count mentioned in the original text.' score=0.0 pairwise_source=None invalid_result=False invalid_reason=None\n",
      "\n",
      "\n"
     ]
    },
    {
     "data": {
      "text/plain": [],
      "text/html": [
       "<pre style=\"white-space:pre;overflow-x:auto;line-height:normal;font-family:Menlo,'DejaVu Sans Mono',consolas,'Courier New',monospace\"></pre>\n"
      ]
     },
     "metadata": {},
     "output_type": "display_data"
    },
    {
     "name": "stdout",
     "output_type": "stream",
     "text": [
      "query='Who is Twice?' contexts=None response='A South Korean girl group from the third generation of K-Pop, formed by JYP Entertainment through a casting show. The group consists of nine members who have gained international recognition for their music and performances. They are known for breaking records in album sales and achieving significant chart success worldwide.' passing=True feedback='The score is 0.00 because there are no identified biases.' score=0.0 pairwise_source=None invalid_result=False invalid_reason=None\n",
      "\n",
      "\n"
     ]
    },
    {
     "data": {
      "text/plain": [],
      "text/html": [
       "<pre style=\"white-space:pre;overflow-x:auto;line-height:normal;font-family:Menlo,'DejaVu Sans Mono',consolas,'Courier New',monospace\"></pre>\n"
      ]
     },
     "metadata": {},
     "output_type": "display_data"
    },
    {
     "name": "stdout",
     "output_type": "stream",
     "text": [
      "query='Who is Twice?' contexts=None response='A South Korean girl group from the third generation of K-Pop, formed by JYP Entertainment through a casting show. The group consists of nine members who have gained international recognition for their music and performances. They are known for breaking records in album sales and achieving significant chart success worldwide.' passing=True feedback='The score is 0.00 because there are no notable reasons for toxicity.' score=0.0 pairwise_source=None invalid_result=False invalid_reason=None\n",
      "\n",
      "\n"
     ]
    }
   ],
   "execution_count": 18
  },
  {
   "metadata": {},
   "cell_type": "code",
   "outputs": [],
   "execution_count": null,
   "source": "",
   "id": "c09c56de41d53224"
  }
 ],
 "metadata": {
  "kernelspec": {
   "display_name": "Python 3",
   "language": "python",
   "name": "python3"
  },
  "language_info": {
   "codemirror_mode": {
    "name": "ipython",
    "version": 2
   },
   "file_extension": ".py",
   "mimetype": "text/x-python",
   "name": "python",
   "nbconvert_exporter": "python",
   "pygments_lexer": "ipython2",
   "version": "2.7.6"
  }
 },
 "nbformat": 4,
 "nbformat_minor": 5
}
