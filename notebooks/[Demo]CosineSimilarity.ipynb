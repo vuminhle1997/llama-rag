{
 "cells": [
  {
   "cell_type": "code",
   "execution_count": 1,
   "id": "98ff107a",
   "metadata": {},
   "outputs": [
    {
     "name": "stdout",
     "output_type": "stream",
     "text": [
      "Requirement already satisfied: scikit-learn in ./.venv/lib/python3.10/site-packages (1.7.0)\n",
      "Requirement already satisfied: llama-index in ./.venv/lib/python3.10/site-packages (0.12.48)\n",
      "Requirement already satisfied: llama-index-embeddings-ollama in ./.venv/lib/python3.10/site-packages (0.6.0)\n",
      "Requirement already satisfied: pandas in ./.venv/lib/python3.10/site-packages (2.2.3)\n",
      "Requirement already satisfied: numpy>=1.22.0 in ./.venv/lib/python3.10/site-packages (from scikit-learn) (2.2.6)\n",
      "Requirement already satisfied: scipy>=1.8.0 in ./.venv/lib/python3.10/site-packages (from scikit-learn) (1.15.3)\n",
      "Requirement already satisfied: joblib>=1.2.0 in ./.venv/lib/python3.10/site-packages (from scikit-learn) (1.5.1)\n",
      "Requirement already satisfied: threadpoolctl>=3.1.0 in ./.venv/lib/python3.10/site-packages (from scikit-learn) (3.6.0)\n",
      "Requirement already satisfied: llama-index-agent-openai<0.5,>=0.4.0 in ./.venv/lib/python3.10/site-packages (from llama-index) (0.4.12)\n",
      "Requirement already satisfied: llama-index-cli<0.5,>=0.4.2 in ./.venv/lib/python3.10/site-packages (from llama-index) (0.4.4)\n",
      "Requirement already satisfied: llama-index-core<0.13,>=0.12.48 in ./.venv/lib/python3.10/site-packages (from llama-index) (0.12.48)\n",
      "Requirement already satisfied: llama-index-embeddings-openai<0.4,>=0.3.0 in ./.venv/lib/python3.10/site-packages (from llama-index) (0.3.1)\n",
      "Requirement already satisfied: llama-index-indices-managed-llama-cloud>=0.4.0 in ./.venv/lib/python3.10/site-packages (from llama-index) (0.7.10)\n",
      "Requirement already satisfied: llama-index-llms-openai<0.5,>=0.4.0 in ./.venv/lib/python3.10/site-packages (from llama-index) (0.4.7)\n",
      "Requirement already satisfied: llama-index-multi-modal-llms-openai<0.6,>=0.5.0 in ./.venv/lib/python3.10/site-packages (from llama-index) (0.5.3)\n",
      "Requirement already satisfied: llama-index-program-openai<0.4,>=0.3.0 in ./.venv/lib/python3.10/site-packages (from llama-index) (0.3.2)\n",
      "Requirement already satisfied: llama-index-question-gen-openai<0.4,>=0.3.0 in ./.venv/lib/python3.10/site-packages (from llama-index) (0.3.1)\n",
      "Requirement already satisfied: llama-index-readers-file<0.5,>=0.4.0 in ./.venv/lib/python3.10/site-packages (from llama-index) (0.4.11)\n",
      "Requirement already satisfied: llama-index-readers-llama-parse>=0.4.0 in ./.venv/lib/python3.10/site-packages (from llama-index) (0.4.0)\n",
      "Requirement already satisfied: nltk>3.8.1 in ./.venv/lib/python3.10/site-packages (from llama-index) (3.9.1)\n",
      "Requirement already satisfied: openai>=1.14.0 in ./.venv/lib/python3.10/site-packages (from llama-index-agent-openai<0.5,>=0.4.0->llama-index) (1.95.0)\n",
      "Requirement already satisfied: aiohttp<4,>=3.8.6 in ./.venv/lib/python3.10/site-packages (from llama-index-core<0.13,>=0.12.48->llama-index) (3.12.14)\n",
      "Requirement already satisfied: aiosqlite in ./.venv/lib/python3.10/site-packages (from llama-index-core<0.13,>=0.12.48->llama-index) (0.21.0)\n",
      "Requirement already satisfied: banks<3,>=2.0.0 in ./.venv/lib/python3.10/site-packages (from llama-index-core<0.13,>=0.12.48->llama-index) (2.1.3)\n",
      "Requirement already satisfied: dataclasses-json in ./.venv/lib/python3.10/site-packages (from llama-index-core<0.13,>=0.12.48->llama-index) (0.6.7)\n",
      "Requirement already satisfied: deprecated>=1.2.9.3 in ./.venv/lib/python3.10/site-packages (from llama-index-core<0.13,>=0.12.48->llama-index) (1.2.18)\n",
      "Requirement already satisfied: dirtyjson<2,>=1.0.8 in ./.venv/lib/python3.10/site-packages (from llama-index-core<0.13,>=0.12.48->llama-index) (1.0.8)\n",
      "Requirement already satisfied: filetype<2,>=1.2.0 in ./.venv/lib/python3.10/site-packages (from llama-index-core<0.13,>=0.12.48->llama-index) (1.2.0)\n",
      "Requirement already satisfied: fsspec>=2023.5.0 in ./.venv/lib/python3.10/site-packages (from llama-index-core<0.13,>=0.12.48->llama-index) (2025.5.1)\n",
      "Requirement already satisfied: httpx in ./.venv/lib/python3.10/site-packages (from llama-index-core<0.13,>=0.12.48->llama-index) (0.28.1)\n",
      "Requirement already satisfied: llama-index-workflows<2,>=1.0.1 in ./.venv/lib/python3.10/site-packages (from llama-index-core<0.13,>=0.12.48->llama-index) (1.1.0)\n",
      "Requirement already satisfied: nest-asyncio<2,>=1.5.8 in ./.venv/lib/python3.10/site-packages (from llama-index-core<0.13,>=0.12.48->llama-index) (1.6.0)\n",
      "Requirement already satisfied: networkx>=3.0 in ./.venv/lib/python3.10/site-packages (from llama-index-core<0.13,>=0.12.48->llama-index) (3.4.2)\n",
      "Requirement already satisfied: pillow>=9.0.0 in ./.venv/lib/python3.10/site-packages (from llama-index-core<0.13,>=0.12.48->llama-index) (11.3.0)\n",
      "Requirement already satisfied: pydantic>=2.8.0 in ./.venv/lib/python3.10/site-packages (from llama-index-core<0.13,>=0.12.48->llama-index) (2.11.7)\n",
      "Requirement already satisfied: pyyaml>=6.0.1 in ./.venv/lib/python3.10/site-packages (from llama-index-core<0.13,>=0.12.48->llama-index) (6.0.2)\n",
      "Requirement already satisfied: requests>=2.31.0 in ./.venv/lib/python3.10/site-packages (from llama-index-core<0.13,>=0.12.48->llama-index) (2.32.4)\n",
      "Requirement already satisfied: setuptools>=80.9.0 in ./.venv/lib/python3.10/site-packages (from llama-index-core<0.13,>=0.12.48->llama-index) (80.9.0)\n",
      "Requirement already satisfied: sqlalchemy>=1.4.49 in ./.venv/lib/python3.10/site-packages (from sqlalchemy[asyncio]>=1.4.49->llama-index-core<0.13,>=0.12.48->llama-index) (2.0.41)\n",
      "Requirement already satisfied: tenacity!=8.4.0,<10.0.0,>=8.2.0 in ./.venv/lib/python3.10/site-packages (from llama-index-core<0.13,>=0.12.48->llama-index) (9.1.2)\n",
      "Requirement already satisfied: tiktoken>=0.7.0 in ./.venv/lib/python3.10/site-packages (from llama-index-core<0.13,>=0.12.48->llama-index) (0.9.0)\n",
      "Requirement already satisfied: tqdm<5,>=4.66.1 in ./.venv/lib/python3.10/site-packages (from llama-index-core<0.13,>=0.12.48->llama-index) (4.67.1)\n",
      "Requirement already satisfied: typing-extensions>=4.5.0 in ./.venv/lib/python3.10/site-packages (from llama-index-core<0.13,>=0.12.48->llama-index) (4.14.1)\n",
      "Requirement already satisfied: typing-inspect>=0.8.0 in ./.venv/lib/python3.10/site-packages (from llama-index-core<0.13,>=0.12.48->llama-index) (0.9.0)\n",
      "Requirement already satisfied: wrapt in ./.venv/lib/python3.10/site-packages (from llama-index-core<0.13,>=0.12.48->llama-index) (1.17.2)\n",
      "Requirement already satisfied: aiohappyeyeballs>=2.5.0 in ./.venv/lib/python3.10/site-packages (from aiohttp<4,>=3.8.6->llama-index-core<0.13,>=0.12.48->llama-index) (2.6.1)\n",
      "Requirement already satisfied: aiosignal>=1.4.0 in ./.venv/lib/python3.10/site-packages (from aiohttp<4,>=3.8.6->llama-index-core<0.13,>=0.12.48->llama-index) (1.4.0)\n",
      "Requirement already satisfied: async-timeout<6.0,>=4.0 in ./.venv/lib/python3.10/site-packages (from aiohttp<4,>=3.8.6->llama-index-core<0.13,>=0.12.48->llama-index) (5.0.1)\n",
      "Requirement already satisfied: attrs>=17.3.0 in ./.venv/lib/python3.10/site-packages (from aiohttp<4,>=3.8.6->llama-index-core<0.13,>=0.12.48->llama-index) (25.3.0)\n",
      "Requirement already satisfied: frozenlist>=1.1.1 in ./.venv/lib/python3.10/site-packages (from aiohttp<4,>=3.8.6->llama-index-core<0.13,>=0.12.48->llama-index) (1.7.0)\n",
      "Requirement already satisfied: multidict<7.0,>=4.5 in ./.venv/lib/python3.10/site-packages (from aiohttp<4,>=3.8.6->llama-index-core<0.13,>=0.12.48->llama-index) (6.6.3)\n",
      "Requirement already satisfied: propcache>=0.2.0 in ./.venv/lib/python3.10/site-packages (from aiohttp<4,>=3.8.6->llama-index-core<0.13,>=0.12.48->llama-index) (0.3.2)\n",
      "Requirement already satisfied: yarl<2.0,>=1.17.0 in ./.venv/lib/python3.10/site-packages (from aiohttp<4,>=3.8.6->llama-index-core<0.13,>=0.12.48->llama-index) (1.20.1)\n",
      "Requirement already satisfied: griffe in ./.venv/lib/python3.10/site-packages (from banks<3,>=2.0.0->llama-index-core<0.13,>=0.12.48->llama-index) (1.7.3)\n",
      "Requirement already satisfied: jinja2 in ./.venv/lib/python3.10/site-packages (from banks<3,>=2.0.0->llama-index-core<0.13,>=0.12.48->llama-index) (3.1.6)\n",
      "Requirement already satisfied: platformdirs in ./.venv/lib/python3.10/site-packages (from banks<3,>=2.0.0->llama-index-core<0.13,>=0.12.48->llama-index) (4.3.8)\n",
      "Requirement already satisfied: tiktoken>=0.7.0 in ./.venv/lib/python3.10/site-packages (from llama-index-core<0.13,>=0.12.48->llama-index) (0.9.0)\n",
      "Requirement already satisfied: tqdm<5,>=4.66.1 in ./.venv/lib/python3.10/site-packages (from llama-index-core<0.13,>=0.12.48->llama-index) (4.67.1)\n",
      "Requirement already satisfied: typing-extensions>=4.5.0 in ./.venv/lib/python3.10/site-packages (from llama-index-core<0.13,>=0.12.48->llama-index) (4.14.1)\n",
      "Requirement already satisfied: typing-inspect>=0.8.0 in ./.venv/lib/python3.10/site-packages (from llama-index-core<0.13,>=0.12.48->llama-index) (0.9.0)\n",
      "Requirement already satisfied: wrapt in ./.venv/lib/python3.10/site-packages (from llama-index-core<0.13,>=0.12.48->llama-index) (1.17.2)\n",
      "Requirement already satisfied: aiohappyeyeballs>=2.5.0 in ./.venv/lib/python3.10/site-packages (from aiohttp<4,>=3.8.6->llama-index-core<0.13,>=0.12.48->llama-index) (2.6.1)\n",
      "Requirement already satisfied: aiosignal>=1.4.0 in ./.venv/lib/python3.10/site-packages (from aiohttp<4,>=3.8.6->llama-index-core<0.13,>=0.12.48->llama-index) (1.4.0)\n",
      "Requirement already satisfied: async-timeout<6.0,>=4.0 in ./.venv/lib/python3.10/site-packages (from aiohttp<4,>=3.8.6->llama-index-core<0.13,>=0.12.48->llama-index) (5.0.1)\n",
      "Requirement already satisfied: attrs>=17.3.0 in ./.venv/lib/python3.10/site-packages (from aiohttp<4,>=3.8.6->llama-index-core<0.13,>=0.12.48->llama-index) (25.3.0)\n",
      "Requirement already satisfied: frozenlist>=1.1.1 in ./.venv/lib/python3.10/site-packages (from aiohttp<4,>=3.8.6->llama-index-core<0.13,>=0.12.48->llama-index) (1.7.0)\n",
      "Requirement already satisfied: multidict<7.0,>=4.5 in ./.venv/lib/python3.10/site-packages (from aiohttp<4,>=3.8.6->llama-index-core<0.13,>=0.12.48->llama-index) (6.6.3)\n",
      "Requirement already satisfied: propcache>=0.2.0 in ./.venv/lib/python3.10/site-packages (from aiohttp<4,>=3.8.6->llama-index-core<0.13,>=0.12.48->llama-index) (0.3.2)\n",
      "Requirement already satisfied: yarl<2.0,>=1.17.0 in ./.venv/lib/python3.10/site-packages (from aiohttp<4,>=3.8.6->llama-index-core<0.13,>=0.12.48->llama-index) (1.20.1)\n",
      "Requirement already satisfied: griffe in ./.venv/lib/python3.10/site-packages (from banks<3,>=2.0.0->llama-index-core<0.13,>=0.12.48->llama-index) (1.7.3)\n",
      "Requirement already satisfied: jinja2 in ./.venv/lib/python3.10/site-packages (from banks<3,>=2.0.0->llama-index-core<0.13,>=0.12.48->llama-index) (3.1.6)\n",
      "Requirement already satisfied: platformdirs in ./.venv/lib/python3.10/site-packages (from banks<3,>=2.0.0->llama-index-core<0.13,>=0.12.48->llama-index) (4.3.8)\n",
      "Requirement already satisfied: beautifulsoup4<5,>=4.12.3 in ./.venv/lib/python3.10/site-packages (from llama-index-readers-file<0.5,>=0.4.0->llama-index) (4.13.4)\n",
      "Requirement already satisfied: defusedxml>=0.7.1 in ./.venv/lib/python3.10/site-packages (from llama-index-readers-file<0.5,>=0.4.0->llama-index) (0.7.1)\n",
      "Requirement already satisfied: pypdf<6,>=5.1.0 in ./.venv/lib/python3.10/site-packages (from llama-index-readers-file<0.5,>=0.4.0->llama-index) (5.8.0)\n",
      "Requirement already satisfied: striprtf<0.0.27,>=0.0.26 in ./.venv/lib/python3.10/site-packages (from llama-index-readers-file<0.5,>=0.4.0->llama-index) (0.0.26)\n",
      "Requirement already satisfied: beautifulsoup4<5,>=4.12.3 in ./.venv/lib/python3.10/site-packages (from llama-index-readers-file<0.5,>=0.4.0->llama-index) (4.13.4)\n",
      "Requirement already satisfied: defusedxml>=0.7.1 in ./.venv/lib/python3.10/site-packages (from llama-index-readers-file<0.5,>=0.4.0->llama-index) (0.7.1)\n",
      "Requirement already satisfied: pypdf<6,>=5.1.0 in ./.venv/lib/python3.10/site-packages (from llama-index-readers-file<0.5,>=0.4.0->llama-index) (5.8.0)\n",
      "Requirement already satisfied: striprtf<0.0.27,>=0.0.26 in ./.venv/lib/python3.10/site-packages (from llama-index-readers-file<0.5,>=0.4.0->llama-index) (0.0.26)\n",
      "Requirement already satisfied: python-dateutil>=2.8.2 in ./.venv/lib/python3.10/site-packages (from pandas) (2.9.0.post0)\n",
      "Requirement already satisfied: pytz>=2020.1 in ./.venv/lib/python3.10/site-packages (from pandas) (2025.2)\n",
      "Requirement already satisfied: tzdata>=2022.7 in ./.venv/lib/python3.10/site-packages (from pandas) (2025.2)\n",
      "Requirement already satisfied: soupsieve>1.2 in ./.venv/lib/python3.10/site-packages (from beautifulsoup4<5,>=4.12.3->llama-index-readers-file<0.5,>=0.4.0->llama-index) (2.7)\n",
      "Requirement already satisfied: llama-index-instrumentation>=0.1.0 in ./.venv/lib/python3.10/site-packages (from llama-index-workflows<2,>=1.0.1->llama-index-core<0.13,>=0.12.48->llama-index) (0.2.0)\n",
      "Requirement already satisfied: anyio<5,>=3.5.0 in ./.venv/lib/python3.10/site-packages (from openai>=1.14.0->llama-index-agent-openai<0.5,>=0.4.0->llama-index) (4.9.0)\n",
      "Requirement already satisfied: distro<2,>=1.7.0 in ./.venv/lib/python3.10/site-packages (from openai>=1.14.0->llama-index-agent-openai<0.5,>=0.4.0->llama-index) (1.9.0)\n",
      "Requirement already satisfied: jiter<1,>=0.4.0 in ./.venv/lib/python3.10/site-packages (from openai>=1.14.0->llama-index-agent-openai<0.5,>=0.4.0->llama-index) (0.10.0)\n",
      "Requirement already satisfied: sniffio in ./.venv/lib/python3.10/site-packages (from openai>=1.14.0->llama-index-agent-openai<0.5,>=0.4.0->llama-index) (1.3.1)\n",
      "Requirement already satisfied: exceptiongroup>=1.0.2 in ./.venv/lib/python3.10/site-packages (from anyio<5,>=3.5.0->openai>=1.14.0->llama-index-agent-openai<0.5,>=0.4.0->llama-index) (1.3.0)\n",
      "Requirement already satisfied: idna>=2.8 in ./.venv/lib/python3.10/site-packages (from anyio<5,>=3.5.0->openai>=1.14.0->llama-index-agent-openai<0.5,>=0.4.0->llama-index) (3.10)\n",
      "Requirement already satisfied: certifi in ./.venv/lib/python3.10/site-packages (from httpx->llama-index-core<0.13,>=0.12.48->llama-index) (2025.7.9)\n",
      "Requirement already satisfied: httpcore==1.* in ./.venv/lib/python3.10/site-packages (from httpx->llama-index-core<0.13,>=0.12.48->llama-index) (1.0.9)\n",
      "Requirement already satisfied: h11>=0.16 in ./.venv/lib/python3.10/site-packages (from httpcore==1.*->httpx->llama-index-core<0.13,>=0.12.48->llama-index) (0.16.0)\n",
      "Requirement already satisfied: python-dateutil>=2.8.2 in ./.venv/lib/python3.10/site-packages (from pandas) (2.9.0.post0)\n",
      "Requirement already satisfied: pytz>=2020.1 in ./.venv/lib/python3.10/site-packages (from pandas) (2025.2)\n",
      "Requirement already satisfied: tzdata>=2022.7 in ./.venv/lib/python3.10/site-packages (from pandas) (2025.2)\n",
      "Requirement already satisfied: soupsieve>1.2 in ./.venv/lib/python3.10/site-packages (from beautifulsoup4<5,>=4.12.3->llama-index-readers-file<0.5,>=0.4.0->llama-index) (2.7)\n",
      "Requirement already satisfied: llama-index-instrumentation>=0.1.0 in ./.venv/lib/python3.10/site-packages (from llama-index-workflows<2,>=1.0.1->llama-index-core<0.13,>=0.12.48->llama-index) (0.2.0)\n",
      "Requirement already satisfied: anyio<5,>=3.5.0 in ./.venv/lib/python3.10/site-packages (from openai>=1.14.0->llama-index-agent-openai<0.5,>=0.4.0->llama-index) (4.9.0)\n",
      "Requirement already satisfied: distro<2,>=1.7.0 in ./.venv/lib/python3.10/site-packages (from openai>=1.14.0->llama-index-agent-openai<0.5,>=0.4.0->llama-index) (1.9.0)\n",
      "Requirement already satisfied: jiter<1,>=0.4.0 in ./.venv/lib/python3.10/site-packages (from openai>=1.14.0->llama-index-agent-openai<0.5,>=0.4.0->llama-index) (0.10.0)\n",
      "Requirement already satisfied: sniffio in ./.venv/lib/python3.10/site-packages (from openai>=1.14.0->llama-index-agent-openai<0.5,>=0.4.0->llama-index) (1.3.1)\n",
      "Requirement already satisfied: exceptiongroup>=1.0.2 in ./.venv/lib/python3.10/site-packages (from anyio<5,>=3.5.0->openai>=1.14.0->llama-index-agent-openai<0.5,>=0.4.0->llama-index) (1.3.0)\n",
      "Requirement already satisfied: idna>=2.8 in ./.venv/lib/python3.10/site-packages (from anyio<5,>=3.5.0->openai>=1.14.0->llama-index-agent-openai<0.5,>=0.4.0->llama-index) (3.10)\n",
      "Requirement already satisfied: certifi in ./.venv/lib/python3.10/site-packages (from httpx->llama-index-core<0.13,>=0.12.48->llama-index) (2025.7.9)\n",
      "Requirement already satisfied: httpcore==1.* in ./.venv/lib/python3.10/site-packages (from httpx->llama-index-core<0.13,>=0.12.48->llama-index) (1.0.9)\n",
      "Requirement already satisfied: h11>=0.16 in ./.venv/lib/python3.10/site-packages (from httpcore==1.*->httpx->llama-index-core<0.13,>=0.12.48->llama-index) (0.16.0)\n",
      "Requirement already satisfied: annotated-types>=0.6.0 in ./.venv/lib/python3.10/site-packages (from pydantic>=2.8.0->llama-index-core<0.13,>=0.12.48->llama-index) (0.7.0)\n",
      "Requirement already satisfied: pydantic-core==2.33.2 in ./.venv/lib/python3.10/site-packages (from pydantic>=2.8.0->llama-index-core<0.13,>=0.12.48->llama-index) (2.33.2)\n",
      "Requirement already satisfied: typing-inspection>=0.4.0 in ./.venv/lib/python3.10/site-packages (from pydantic>=2.8.0->llama-index-core<0.13,>=0.12.48->llama-index) (0.4.1)\n",
      "Requirement already satisfied: ollama>=0.3.1 in ./.venv/lib/python3.10/site-packages (from llama-index-embeddings-ollama) (0.5.1)\n",
      "Requirement already satisfied: annotated-types>=0.6.0 in ./.venv/lib/python3.10/site-packages (from pydantic>=2.8.0->llama-index-core<0.13,>=0.12.48->llama-index) (0.7.0)\n",
      "Requirement already satisfied: pydantic-core==2.33.2 in ./.venv/lib/python3.10/site-packages (from pydantic>=2.8.0->llama-index-core<0.13,>=0.12.48->llama-index) (2.33.2)\n",
      "Requirement already satisfied: typing-inspection>=0.4.0 in ./.venv/lib/python3.10/site-packages (from pydantic>=2.8.0->llama-index-core<0.13,>=0.12.48->llama-index) (0.4.1)\n",
      "Requirement already satisfied: ollama>=0.3.1 in ./.venv/lib/python3.10/site-packages (from llama-index-embeddings-ollama) (0.5.1)\n",
      "Requirement already satisfied: llama-cloud==0.1.32 in ./.venv/lib/python3.10/site-packages (from llama-index-indices-managed-llama-cloud>=0.4.0->llama-index) (0.1.32)\n",
      "Requirement already satisfied: llama-parse>=0.5.0 in ./.venv/lib/python3.10/site-packages (from llama-index-readers-llama-parse>=0.4.0->llama-index) (0.6.43)\n",
      "Requirement already satisfied: llama-cloud==0.1.32 in ./.venv/lib/python3.10/site-packages (from llama-index-indices-managed-llama-cloud>=0.4.0->llama-index) (0.1.32)\n",
      "Requirement already satisfied: llama-parse>=0.5.0 in ./.venv/lib/python3.10/site-packages (from llama-index-readers-llama-parse>=0.4.0->llama-index) (0.6.43)\n",
      "Requirement already satisfied: llama-cloud-services>=0.6.43 in ./.venv/lib/python3.10/site-packages (from llama-parse>=0.5.0->llama-index-readers-llama-parse>=0.4.0->llama-index) (0.6.43)\n",
      "Requirement already satisfied: click<9.0.0,>=8.1.7 in ./.venv/lib/python3.10/site-packages (from llama-cloud-services>=0.6.43->llama-parse>=0.5.0->llama-index-readers-llama-parse>=0.4.0->llama-index) (8.2.1)\n",
      "Requirement already satisfied: python-dotenv<2.0.0,>=1.0.1 in ./.venv/lib/python3.10/site-packages (from llama-cloud-services>=0.6.43->llama-parse>=0.5.0->llama-index-readers-llama-parse>=0.4.0->llama-index) (1.1.1)\n",
      "Requirement already satisfied: regex>=2021.8.3 in ./.venv/lib/python3.10/site-packages (from nltk>3.8.1->llama-index) (2024.11.6)\n",
      "Requirement already satisfied: llama-cloud-services>=0.6.43 in ./.venv/lib/python3.10/site-packages (from llama-parse>=0.5.0->llama-index-readers-llama-parse>=0.4.0->llama-index) (0.6.43)\n",
      "Requirement already satisfied: click<9.0.0,>=8.1.7 in ./.venv/lib/python3.10/site-packages (from llama-cloud-services>=0.6.43->llama-parse>=0.5.0->llama-index-readers-llama-parse>=0.4.0->llama-index) (8.2.1)\n",
      "Requirement already satisfied: python-dotenv<2.0.0,>=1.0.1 in ./.venv/lib/python3.10/site-packages (from llama-cloud-services>=0.6.43->llama-parse>=0.5.0->llama-index-readers-llama-parse>=0.4.0->llama-index) (1.1.1)\n",
      "Requirement already satisfied: regex>=2021.8.3 in ./.venv/lib/python3.10/site-packages (from nltk>3.8.1->llama-index) (2024.11.6)\n",
      "Requirement already satisfied: six>=1.5 in ./.venv/lib/python3.10/site-packages (from python-dateutil>=2.8.2->pandas) (1.17.0)\n",
      "Requirement already satisfied: charset_normalizer<4,>=2 in ./.venv/lib/python3.10/site-packages (from requests>=2.31.0->llama-index-core<0.13,>=0.12.48->llama-index) (3.4.2)\n",
      "Requirement already satisfied: urllib3<3,>=1.21.1 in ./.venv/lib/python3.10/site-packages (from requests>=2.31.0->llama-index-core<0.13,>=0.12.48->llama-index) (2.5.0)\n",
      "Requirement already satisfied: six>=1.5 in ./.venv/lib/python3.10/site-packages (from python-dateutil>=2.8.2->pandas) (1.17.0)\n",
      "Requirement already satisfied: charset_normalizer<4,>=2 in ./.venv/lib/python3.10/site-packages (from requests>=2.31.0->llama-index-core<0.13,>=0.12.48->llama-index) (3.4.2)\n",
      "Requirement already satisfied: urllib3<3,>=1.21.1 in ./.venv/lib/python3.10/site-packages (from requests>=2.31.0->llama-index-core<0.13,>=0.12.48->llama-index) (2.5.0)\n",
      "Requirement already satisfied: greenlet>=1 in ./.venv/lib/python3.10/site-packages (from sqlalchemy>=1.4.49->sqlalchemy[asyncio]>=1.4.49->llama-index-core<0.13,>=0.12.48->llama-index) (3.2.3)\n",
      "Requirement already satisfied: greenlet>=1 in ./.venv/lib/python3.10/site-packages (from sqlalchemy>=1.4.49->sqlalchemy[asyncio]>=1.4.49->llama-index-core<0.13,>=0.12.48->llama-index) (3.2.3)\n",
      "Requirement already satisfied: mypy-extensions>=0.3.0 in ./.venv/lib/python3.10/site-packages (from typing-inspect>=0.8.0->llama-index-core<0.13,>=0.12.48->llama-index) (1.1.0)\n",
      "Requirement already satisfied: marshmallow<4.0.0,>=3.18.0 in ./.venv/lib/python3.10/site-packages (from dataclasses-json->llama-index-core<0.13,>=0.12.48->llama-index) (3.26.1)\n",
      "Requirement already satisfied: packaging>=17.0 in ./.venv/lib/python3.10/site-packages (from marshmallow<4.0.0,>=3.18.0->dataclasses-json->llama-index-core<0.13,>=0.12.48->llama-index) (25.0)\n",
      "Requirement already satisfied: colorama>=0.4 in ./.venv/lib/python3.10/site-packages (from griffe->banks<3,>=2.0.0->llama-index-core<0.13,>=0.12.48->llama-index) (0.4.6)\n",
      "Requirement already satisfied: MarkupSafe>=2.0 in ./.venv/lib/python3.10/site-packages (from jinja2->banks<3,>=2.0.0->llama-index-core<0.13,>=0.12.48->llama-index) (3.0.2)\n",
      "Requirement already satisfied: mypy-extensions>=0.3.0 in ./.venv/lib/python3.10/site-packages (from typing-inspect>=0.8.0->llama-index-core<0.13,>=0.12.48->llama-index) (1.1.0)\n",
      "Requirement already satisfied: marshmallow<4.0.0,>=3.18.0 in ./.venv/lib/python3.10/site-packages (from dataclasses-json->llama-index-core<0.13,>=0.12.48->llama-index) (3.26.1)\n",
      "Requirement already satisfied: packaging>=17.0 in ./.venv/lib/python3.10/site-packages (from marshmallow<4.0.0,>=3.18.0->dataclasses-json->llama-index-core<0.13,>=0.12.48->llama-index) (25.0)\n",
      "Requirement already satisfied: colorama>=0.4 in ./.venv/lib/python3.10/site-packages (from griffe->banks<3,>=2.0.0->llama-index-core<0.13,>=0.12.48->llama-index) (0.4.6)\n",
      "Requirement already satisfied: MarkupSafe>=2.0 in ./.venv/lib/python3.10/site-packages (from jinja2->banks<3,>=2.0.0->llama-index-core<0.13,>=0.12.48->llama-index) (3.0.2)\n",
      "Note: you may need to restart the kernel to use updated packages.\n",
      "Note: you may need to restart the kernel to use updated packages.\n"
     ]
    }
   ],
   "source": [
    "%pip install scikit-learn llama-index llama-index-embeddings-ollama pandas"
   ]
  },
  {
   "cell_type": "markdown",
   "id": "5a19d7d0",
   "metadata": {},
   "source": [
    "# 🔍 Demonstration: Retrieval-Augmented Generation (RAG) with Cosine Similarity\n",
    "This notebook showcases how Retrieval-Augmented Generation (RAG) works under the hood by using cosine similarity to retrieve the most relevant text chunks in response to a query.\n",
    "\n",
    "## 🧾 Test Document\n",
    "The evaluation is based on a synthetic insurance document generated by GPT-4o (OpenAI). The document includes:\n",
    "\n",
    "- A fictional insurance contract by Allianz AG\n",
    "- Customer details (e.g., policyholder: Max Mustermann)\n",
    "- Key contractual clauses and policy terms\n",
    "- An unrelated paragraph to simulate noise or misleading context (for testing retrieval robustness)\n",
    "\n",
    "## 🧠 Embedding Models Tested\n",
    "To compute similarity and retrieve relevant text chunks, we use vector embeddings from the following models:\n",
    "\n",
    "- text-embedding-ada-002 (OpenAI)\n",
    "- Llama3.3-70B (via embedding interface)\n",
    "\n",
    "## 🧠 Language Synthetization with LLM\n",
    "To generate an answer, we retrieve the Top-K from the similarity scores, put them with the query in a meaningful context, and pass the context to the LLM:\n",
    "\n",
    "- GPT-3.5-Turbo-Instruct\n",
    "- Llama3.3-70B\n",
    "\n",
    "## ⚙️ Workflow Overview\n",
    "1. The document is split into manageable text chunks\n",
    "2. Each chunk is embedded into a vector space\n",
    "3. A user query is embedded and compared to all chunk vectors using cosine similarity\n",
    "4. The top-k most relevant chunks are passed to the LLM (Llama3.3:70B or GPT-3.5-Instruct) for response generation\n",
    "\n",
    "This setup helps illustrate how RAG systems combine information retrieval with language generation to provide grounded and context-aware responses."
   ]
  },
  {
   "cell_type": "code",
   "execution_count": 101,
   "id": "b1671d97",
   "metadata": {},
   "outputs": [
    {
     "data": {
      "text/plain": [
       "True"
      ]
     },
     "execution_count": 101,
     "metadata": {},
     "output_type": "execute_result"
    }
   ],
   "source": [
    "from dotenv import load_dotenv\n",
    "load_dotenv()"
   ]
  },
  {
   "cell_type": "code",
   "execution_count": null,
   "id": "a5278ca6",
   "metadata": {},
   "outputs": [],
   "source": [
    "from sklearn.metrics.pairwise import cosine_similarity\n",
    "from llama_index.embeddings.openai import OpenAIEmbedding\n",
    "from llama_index.llms.openai import OpenAI\n",
    "from llama_index.core.settings import Settings\n",
    "\n",
    "import os\n",
    "\n",
    "api_key = os.getenv('OPENAI_KEY')\n",
    "\n",
    "llm = OpenAI(\n",
    "    temperature=0,\n",
    "    api_key=api_key,\n",
    "    model=\"gpt-3.5-turbo-instruct\"\n",
    ")\n",
    "embed_model = OpenAIEmbedding(\n",
    "    model='text-embedding-ada-002',\n",
    "    api_key=api_key,\n",
    ")\n",
    "Settings.llm = llm\n",
    "Settings.embed_model = embed_model\n",
    "Settings.chunk_size=256"
   ]
  },
  {
   "cell_type": "markdown",
   "id": "dea2b32e",
   "metadata": {},
   "source": [
    "This notebook demonstrates the functionality of Retrieval Augmented Generation works in the background with the cosine similarity formula\n",
    "Tested on a generated document by GPT-4o of OpenAI (the link is that.), the document contains exampled generated insurance contract of Allianz Ag, an insurance taker name, the policy, and a paragraph that has something to do with insurance but is not related to the document.\n",
    "Also tested on embed model of llama3.3-70b, gpt-3.5-instruct and text-embedding-ada-002 of openai for combining the top_k with the llm of llama and gpt-3.5-instruct."
   ]
  },
  {
   "cell_type": "code",
   "execution_count": 73,
   "id": "38768971",
   "metadata": {},
   "outputs": [
    {
     "name": "stderr",
     "output_type": "stream",
     "text": [
      "Loading files: 100%|██████████| 1/1 [00:00<00:00, 975.19it/s]\n"
     ]
    }
   ],
   "source": [
    "from llama_index.core.readers import SimpleDirectoryReader\n",
    "\n",
    "documents = SimpleDirectoryReader(input_files=['./data/insurance_contract_example.txt']).load_data(show_progress=True)"
   ]
  },
  {
   "cell_type": "code",
   "execution_count": 74,
   "id": "148c7fd2",
   "metadata": {},
   "outputs": [
    {
     "data": {
      "text/plain": [
       "5"
      ]
     },
     "execution_count": 74,
     "metadata": {},
     "output_type": "execute_result"
    }
   ],
   "source": [
    "from llama_index.core.node_parser import SentenceSplitter\n",
    "\n",
    "parser = SentenceSplitter(\n",
    "    chunk_size=256,\n",
    "    chunk_overlap=20,\n",
    ")\n",
    "chunks = parser.get_nodes_from_documents(documents)\n",
    "len(chunks)"
   ]
  },
  {
   "cell_type": "code",
   "execution_count": 75,
   "id": "b4c84ae0",
   "metadata": {},
   "outputs": [],
   "source": [
    "query = \"Wer ist der Versicherer und wer ist Versicherungsnehmer? Was wird gehaftet?\"\n",
    "embeddings_document = [\n",
    "    embed_model.get_text_embedding(chunk.text) for chunk in chunks\n",
    "]\n",
    "embedding_query = embed_model.get_text_embedding(query)"
   ]
  },
  {
   "cell_type": "code",
   "execution_count": 76,
   "id": "745f29ea",
   "metadata": {},
   "outputs": [],
   "source": [
    "from sklearn.metrics.pairwise import cosine_similarity\n",
    "\n",
    "similarities = cosine_similarity([embedding_query], embeddings_document)[0]"
   ]
  },
  {
   "cell_type": "code",
   "execution_count": 77,
   "id": "8fcc45ef",
   "metadata": {},
   "outputs": [
    {
     "data": {
      "text/plain": [
       "array([0.79948033, 0.84596817, 0.84828211, 0.85467669, 0.81015427])"
      ]
     },
     "execution_count": 77,
     "metadata": {},
     "output_type": "execute_result"
    }
   ],
   "source": [
    "similarities"
   ]
  },
  {
   "cell_type": "code",
   "execution_count": 78,
   "id": "2bb144a4",
   "metadata": {},
   "outputs": [
    {
     "data": {
      "text/html": [
       "<div>\n",
       "<style scoped>\n",
       "    .dataframe tbody tr th:only-of-type {\n",
       "        vertical-align: middle;\n",
       "    }\n",
       "\n",
       "    .dataframe tbody tr th {\n",
       "        vertical-align: top;\n",
       "    }\n",
       "\n",
       "    .dataframe thead th {\n",
       "        text-align: right;\n",
       "    }\n",
       "</style>\n",
       "<table border=\"1\" class=\"dataframe\">\n",
       "  <thead>\n",
       "    <tr style=\"text-align: right;\">\n",
       "      <th></th>\n",
       "      <th>Similarity score</th>\n",
       "      <th>Text</th>\n",
       "    </tr>\n",
       "  </thead>\n",
       "  <tbody>\n",
       "    <tr>\n",
       "      <th>0</th>\n",
       "      <td>0.79948</td>\n",
       "      <td>📉 Semantisch irrelevanter Abschnitt (für Demonstration)\\nDie durchschnittliche Bearbeitungszeit von Leistungsanträgen im Bereich Zahnzusatzversicherung beträgt laut interner Statistik der Allianz AG etwa 7,3 Werktage, wobei regionale Unterschiede durch standortbezogene Ressourcenverteilung entstehen können.\\n\\nAllianz Versicherungs-AG\\nKöniginstraße 28\\n80802 München\\nTelefon: 089 3800-0\\nE-Mail: service@allianz.de\\nWeb: www.allianz.de\\n\\nVersicherungsschein (Police-Nr.</td>\n",
       "    </tr>\n",
       "    <tr>\n",
       "      <th>1</th>\n",
       "      <td>0.845968</td>\n",
       "      <td>1234 5678 9012)\\nVertragsbeginn: 01.07.2025\\nVersicherungsnehmer:\\nMax Mustermann\\nMusterstraße 12\\n12345 Musterstadt\\nGeburtsdatum: 01.01.1980\\nVersichert seit: 01.07.2025\\n\\n🛡️ Vertragsübersicht\\nVersicherungsart:\\nPrivathaftpflichtversicherung – Komfortschutz\\n\\nGeltungsbereich:\\nWeltweit (inkl. vorübergehende Auslandsaufenthalte bis 12 Monate)\\n\\nVersicherungssumme:\\n10.000.000 € pauschal für Personen-, Sach- und Vermögensschäden\\n\\nSelbstbeteiligung:\\n150 € je Schadensfall\\n\\nJährlicher Beitrag:\\n120,00 € (inkl.</td>\n",
       "    </tr>\n",
       "    <tr>\n",
       "      <th>2</th>\n",
       "      <td>0.848282</td>\n",
       "      <td>Versicherungssteuer)\\n\\nZahlweise:\\njährlich, per SEPA-Lastschrift\\n\\nZahlungstermin:\\n01.07. jeden Jahres\\n\\n📋 Wichtige Vertragsbedingungen\\nWir, die Versicherer Allianz Versicherungs-AG, haften für den Versicherungsnehmer Max Mustermann im Rahmen der vereinbarten Bedingungen und Versicherungssummen gegenüber Dritten für Personen-, Sach- und Vermögensschäden, die durch ihn verursacht werden.\\n\\nDer Versicherer haftet für den Versicherungsnehmer Max Mustermann, sofern Ansprüche Dritter auf gesetzlicher Grundlage entstehen und im Rahmen der Privathaftpflichtversicherung abgedeckt sind.</td>\n",
       "    </tr>\n",
       "    <tr>\n",
       "      <th>3</th>\n",
       "      <td>0.854677</td>\n",
       "      <td>Die Versicherung haftet für folgende Objekte, sofern diese sich im Eigentum oder rechtmäßigen Besitz des Versicherungsnehmers befinden und im Rahmen des Versicherungsvertrages eingeschlossen sind:\\n\\nWohnräume und Nebengebäude am Wohnort\\n\\nHaustiere (z. B. Hunde, Katzen – keine gefährlichen Tiere i.S.d. Gesetzes)\\n\\nBewegliche Gegenstände des täglichen Lebens\\n\\nSchäden im Rahmen gesetzlicher Haftung im privaten Umfeld\\n\\nDer Versicherungsschutz beginnt mit dem in der Police genannten Datum, sofern der erste Beitrag rechtzeitig gezahlt wurde.\\n\\nDie Vertragslaufzeit beträgt 1 Jahr und verlängert sich automatisch, sofern nicht 3 Monate vor Ablauf gekündigt wird.\\n\\nEs gelten die Allgemeinen Versicherungsbedingungen (AVB PHV 2025).</td>\n",
       "    </tr>\n",
       "    <tr>\n",
       "      <th>4</th>\n",
       "      <td>0.810154</td>\n",
       "      <td>📌 Kontakt bei Schadenmeldung\\nTelefonische Schadenmeldung:\\n089 3800-5555 (Mo–Fr, 8–20 Uhr)\\n\\nOnline:\\nwww.allianz.de/schaden-melden\\n\\nE-Mail:\\nschaden@allianz.de\\n\\n🖊️ Bestätigung\\nBitte prüfen Sie die Angaben zu Ihrer Versicherung sorgfältig. Bei Fragen oder Änderungswünschen wenden Sie sich gerne an unseren Kundenservice.\\n\\nMit freundlichen Grüßen\\nIhre Allianz Versicherungs-AG\\n\\nUnterschrift maschinell erstellt – gültig ohne Unterschrift\\n\\n🔒 Datenschutz-Hinweis\\nIhre personenbezogenen Daten werden gemäß den geltenden Datenschutzvorschriften, insbesondere der DSGVO, verarbeitet. Weitere Informationen finden Sie unter www.allianz.de/datenschutz.\\n\\nHinweis: Dieses Dokument ist ein fiktives Beispiel und dient ausschließlich Demonstrationszwecken. Es besteht kein tatsächlicher Versicherungsvertrag.</td>\n",
       "    </tr>\n",
       "  </tbody>\n",
       "</table>\n",
       "</div>"
      ],
      "text/plain": [
       "  Similarity score  \\\n",
       "0          0.79948   \n",
       "1         0.845968   \n",
       "2         0.848282   \n",
       "3         0.854677   \n",
       "4         0.810154   \n",
       "\n",
       "                                                                                                                                                                                                                                                                                                                                                                                                                                                                                                                                                                                                                                                                                                                                                                                                                                             Text  \n",
       "0                                                                                                                                                                                                                                                                                                                                                      📉 Semantisch irrelevanter Abschnitt (für Demonstration)\\nDie durchschnittliche Bearbeitungszeit von Leistungsanträgen im Bereich Zahnzusatzversicherung beträgt laut interner Statistik der Allianz AG etwa 7,3 Werktage, wobei regionale Unterschiede durch standortbezogene Ressourcenverteilung entstehen können.\\n\\nAllianz Versicherungs-AG\\nKöniginstraße 28\\n80802 München\\nTelefon: 089 3800-0\\nE-Mail: service@allianz.de\\nWeb: www.allianz.de\\n\\nVersicherungsschein (Police-Nr.  \n",
       "1                                                                                                                                                                                                                                                                                                      1234 5678 9012)\\nVertragsbeginn: 01.07.2025\\nVersicherungsnehmer:\\nMax Mustermann\\nMusterstraße 12\\n12345 Musterstadt\\nGeburtsdatum: 01.01.1980\\nVersichert seit: 01.07.2025\\n\\n🛡️ Vertragsübersicht\\nVersicherungsart:\\nPrivathaftpflichtversicherung – Komfortschutz\\n\\nGeltungsbereich:\\nWeltweit (inkl. vorübergehende Auslandsaufenthalte bis 12 Monate)\\n\\nVersicherungssumme:\\n10.000.000 € pauschal für Personen-, Sach- und Vermögensschäden\\n\\nSelbstbeteiligung:\\n150 € je Schadensfall\\n\\nJährlicher Beitrag:\\n120,00 € (inkl.  \n",
       "2                                                                                                                                                                                                                                 Versicherungssteuer)\\n\\nZahlweise:\\njährlich, per SEPA-Lastschrift\\n\\nZahlungstermin:\\n01.07. jeden Jahres\\n\\n📋 Wichtige Vertragsbedingungen\\nWir, die Versicherer Allianz Versicherungs-AG, haften für den Versicherungsnehmer Max Mustermann im Rahmen der vereinbarten Bedingungen und Versicherungssummen gegenüber Dritten für Personen-, Sach- und Vermögensschäden, die durch ihn verursacht werden.\\n\\nDer Versicherer haftet für den Versicherungsnehmer Max Mustermann, sofern Ansprüche Dritter auf gesetzlicher Grundlage entstehen und im Rahmen der Privathaftpflichtversicherung abgedeckt sind.  \n",
       "3                                                                            Die Versicherung haftet für folgende Objekte, sofern diese sich im Eigentum oder rechtmäßigen Besitz des Versicherungsnehmers befinden und im Rahmen des Versicherungsvertrages eingeschlossen sind:\\n\\nWohnräume und Nebengebäude am Wohnort\\n\\nHaustiere (z. B. Hunde, Katzen – keine gefährlichen Tiere i.S.d. Gesetzes)\\n\\nBewegliche Gegenstände des täglichen Lebens\\n\\nSchäden im Rahmen gesetzlicher Haftung im privaten Umfeld\\n\\nDer Versicherungsschutz beginnt mit dem in der Police genannten Datum, sofern der erste Beitrag rechtzeitig gezahlt wurde.\\n\\nDie Vertragslaufzeit beträgt 1 Jahr und verlängert sich automatisch, sofern nicht 3 Monate vor Ablauf gekündigt wird.\\n\\nEs gelten die Allgemeinen Versicherungsbedingungen (AVB PHV 2025).  \n",
       "4  📌 Kontakt bei Schadenmeldung\\nTelefonische Schadenmeldung:\\n089 3800-5555 (Mo–Fr, 8–20 Uhr)\\n\\nOnline:\\nwww.allianz.de/schaden-melden\\n\\nE-Mail:\\nschaden@allianz.de\\n\\n🖊️ Bestätigung\\nBitte prüfen Sie die Angaben zu Ihrer Versicherung sorgfältig. Bei Fragen oder Änderungswünschen wenden Sie sich gerne an unseren Kundenservice.\\n\\nMit freundlichen Grüßen\\nIhre Allianz Versicherungs-AG\\n\\nUnterschrift maschinell erstellt – gültig ohne Unterschrift\\n\\n🔒 Datenschutz-Hinweis\\nIhre personenbezogenen Daten werden gemäß den geltenden Datenschutzvorschriften, insbesondere der DSGVO, verarbeitet. Weitere Informationen finden Sie unter www.allianz.de/datenschutz.\\n\\nHinweis: Dieses Dokument ist ein fiktives Beispiel und dient ausschließlich Demonstrationszwecken. Es besteht kein tatsächlicher Versicherungsvertrag.  "
      ]
     },
     "execution_count": 78,
     "metadata": {},
     "output_type": "execute_result"
    }
   ],
   "source": [
    "import pandas as pd\n",
    "\n",
    "pd.set_option('display.max_colwidth', None)\n",
    "df = pd.DataFrame([similarities, [chunk.text for chunk in chunks]], index=[\"Similarity score\", \"Text\"])\n",
    "df.T"
   ]
  },
  {
   "cell_type": "code",
   "execution_count": 79,
   "id": "b9b7b2c3",
   "metadata": {},
   "outputs": [
    {
     "data": {
      "text/html": [
       "<div>\n",
       "<style scoped>\n",
       "    .dataframe tbody tr th:only-of-type {\n",
       "        vertical-align: middle;\n",
       "    }\n",
       "\n",
       "    .dataframe tbody tr th {\n",
       "        vertical-align: top;\n",
       "    }\n",
       "\n",
       "    .dataframe thead th {\n",
       "        text-align: right;\n",
       "    }\n",
       "</style>\n",
       "<table border=\"1\" class=\"dataframe\">\n",
       "  <thead>\n",
       "    <tr style=\"text-align: right;\">\n",
       "      <th></th>\n",
       "      <th>Similarity score</th>\n",
       "      <th>Text</th>\n",
       "    </tr>\n",
       "  </thead>\n",
       "  <tbody>\n",
       "    <tr>\n",
       "      <th>3</th>\n",
       "      <td>0.854677</td>\n",
       "      <td>Die Versicherung haftet für folgende Objekte, sofern diese sich im Eigentum oder rechtmäßigen Besitz des Versicherungsnehmers befinden und im Rahmen des Versicherungsvertrages eingeschlossen sind:\\n\\nWohnräume und Nebengebäude am Wohnort\\n\\nHaustiere (z. B. Hunde, Katzen – keine gefährlichen Tiere i.S.d. Gesetzes)\\n\\nBewegliche Gegenstände des täglichen Lebens\\n\\nSchäden im Rahmen gesetzlicher Haftung im privaten Umfeld\\n\\nDer Versicherungsschutz beginnt mit dem in der Police genannten Datum, sofern der erste Beitrag rechtzeitig gezahlt wurde.\\n\\nDie Vertragslaufzeit beträgt 1 Jahr und verlängert sich automatisch, sofern nicht 3 Monate vor Ablauf gekündigt wird.\\n\\nEs gelten die Allgemeinen Versicherungsbedingungen (AVB PHV 2025).</td>\n",
       "    </tr>\n",
       "    <tr>\n",
       "      <th>2</th>\n",
       "      <td>0.848282</td>\n",
       "      <td>Versicherungssteuer)\\n\\nZahlweise:\\njährlich, per SEPA-Lastschrift\\n\\nZahlungstermin:\\n01.07. jeden Jahres\\n\\n📋 Wichtige Vertragsbedingungen\\nWir, die Versicherer Allianz Versicherungs-AG, haften für den Versicherungsnehmer Max Mustermann im Rahmen der vereinbarten Bedingungen und Versicherungssummen gegenüber Dritten für Personen-, Sach- und Vermögensschäden, die durch ihn verursacht werden.\\n\\nDer Versicherer haftet für den Versicherungsnehmer Max Mustermann, sofern Ansprüche Dritter auf gesetzlicher Grundlage entstehen und im Rahmen der Privathaftpflichtversicherung abgedeckt sind.</td>\n",
       "    </tr>\n",
       "    <tr>\n",
       "      <th>1</th>\n",
       "      <td>0.845968</td>\n",
       "      <td>1234 5678 9012)\\nVertragsbeginn: 01.07.2025\\nVersicherungsnehmer:\\nMax Mustermann\\nMusterstraße 12\\n12345 Musterstadt\\nGeburtsdatum: 01.01.1980\\nVersichert seit: 01.07.2025\\n\\n🛡️ Vertragsübersicht\\nVersicherungsart:\\nPrivathaftpflichtversicherung – Komfortschutz\\n\\nGeltungsbereich:\\nWeltweit (inkl. vorübergehende Auslandsaufenthalte bis 12 Monate)\\n\\nVersicherungssumme:\\n10.000.000 € pauschal für Personen-, Sach- und Vermögensschäden\\n\\nSelbstbeteiligung:\\n150 € je Schadensfall\\n\\nJährlicher Beitrag:\\n120,00 € (inkl.</td>\n",
       "    </tr>\n",
       "    <tr>\n",
       "      <th>4</th>\n",
       "      <td>0.810154</td>\n",
       "      <td>📌 Kontakt bei Schadenmeldung\\nTelefonische Schadenmeldung:\\n089 3800-5555 (Mo–Fr, 8–20 Uhr)\\n\\nOnline:\\nwww.allianz.de/schaden-melden\\n\\nE-Mail:\\nschaden@allianz.de\\n\\n🖊️ Bestätigung\\nBitte prüfen Sie die Angaben zu Ihrer Versicherung sorgfältig. Bei Fragen oder Änderungswünschen wenden Sie sich gerne an unseren Kundenservice.\\n\\nMit freundlichen Grüßen\\nIhre Allianz Versicherungs-AG\\n\\nUnterschrift maschinell erstellt – gültig ohne Unterschrift\\n\\n🔒 Datenschutz-Hinweis\\nIhre personenbezogenen Daten werden gemäß den geltenden Datenschutzvorschriften, insbesondere der DSGVO, verarbeitet. Weitere Informationen finden Sie unter www.allianz.de/datenschutz.\\n\\nHinweis: Dieses Dokument ist ein fiktives Beispiel und dient ausschließlich Demonstrationszwecken. Es besteht kein tatsächlicher Versicherungsvertrag.</td>\n",
       "    </tr>\n",
       "    <tr>\n",
       "      <th>0</th>\n",
       "      <td>0.79948</td>\n",
       "      <td>📉 Semantisch irrelevanter Abschnitt (für Demonstration)\\nDie durchschnittliche Bearbeitungszeit von Leistungsanträgen im Bereich Zahnzusatzversicherung beträgt laut interner Statistik der Allianz AG etwa 7,3 Werktage, wobei regionale Unterschiede durch standortbezogene Ressourcenverteilung entstehen können.\\n\\nAllianz Versicherungs-AG\\nKöniginstraße 28\\n80802 München\\nTelefon: 089 3800-0\\nE-Mail: service@allianz.de\\nWeb: www.allianz.de\\n\\nVersicherungsschein (Police-Nr.</td>\n",
       "    </tr>\n",
       "  </tbody>\n",
       "</table>\n",
       "</div>"
      ],
      "text/plain": [
       "  Similarity score  \\\n",
       "3         0.854677   \n",
       "2         0.848282   \n",
       "1         0.845968   \n",
       "4         0.810154   \n",
       "0          0.79948   \n",
       "\n",
       "                                                                                                                                                                                                                                                                                                                                                                                                                                                                                                                                                                                                                                                                                                                                                                                                                                             Text  \n",
       "3                                                                            Die Versicherung haftet für folgende Objekte, sofern diese sich im Eigentum oder rechtmäßigen Besitz des Versicherungsnehmers befinden und im Rahmen des Versicherungsvertrages eingeschlossen sind:\\n\\nWohnräume und Nebengebäude am Wohnort\\n\\nHaustiere (z. B. Hunde, Katzen – keine gefährlichen Tiere i.S.d. Gesetzes)\\n\\nBewegliche Gegenstände des täglichen Lebens\\n\\nSchäden im Rahmen gesetzlicher Haftung im privaten Umfeld\\n\\nDer Versicherungsschutz beginnt mit dem in der Police genannten Datum, sofern der erste Beitrag rechtzeitig gezahlt wurde.\\n\\nDie Vertragslaufzeit beträgt 1 Jahr und verlängert sich automatisch, sofern nicht 3 Monate vor Ablauf gekündigt wird.\\n\\nEs gelten die Allgemeinen Versicherungsbedingungen (AVB PHV 2025).  \n",
       "2                                                                                                                                                                                                                                 Versicherungssteuer)\\n\\nZahlweise:\\njährlich, per SEPA-Lastschrift\\n\\nZahlungstermin:\\n01.07. jeden Jahres\\n\\n📋 Wichtige Vertragsbedingungen\\nWir, die Versicherer Allianz Versicherungs-AG, haften für den Versicherungsnehmer Max Mustermann im Rahmen der vereinbarten Bedingungen und Versicherungssummen gegenüber Dritten für Personen-, Sach- und Vermögensschäden, die durch ihn verursacht werden.\\n\\nDer Versicherer haftet für den Versicherungsnehmer Max Mustermann, sofern Ansprüche Dritter auf gesetzlicher Grundlage entstehen und im Rahmen der Privathaftpflichtversicherung abgedeckt sind.  \n",
       "1                                                                                                                                                                                                                                                                                                      1234 5678 9012)\\nVertragsbeginn: 01.07.2025\\nVersicherungsnehmer:\\nMax Mustermann\\nMusterstraße 12\\n12345 Musterstadt\\nGeburtsdatum: 01.01.1980\\nVersichert seit: 01.07.2025\\n\\n🛡️ Vertragsübersicht\\nVersicherungsart:\\nPrivathaftpflichtversicherung – Komfortschutz\\n\\nGeltungsbereich:\\nWeltweit (inkl. vorübergehende Auslandsaufenthalte bis 12 Monate)\\n\\nVersicherungssumme:\\n10.000.000 € pauschal für Personen-, Sach- und Vermögensschäden\\n\\nSelbstbeteiligung:\\n150 € je Schadensfall\\n\\nJährlicher Beitrag:\\n120,00 € (inkl.  \n",
       "4  📌 Kontakt bei Schadenmeldung\\nTelefonische Schadenmeldung:\\n089 3800-5555 (Mo–Fr, 8–20 Uhr)\\n\\nOnline:\\nwww.allianz.de/schaden-melden\\n\\nE-Mail:\\nschaden@allianz.de\\n\\n🖊️ Bestätigung\\nBitte prüfen Sie die Angaben zu Ihrer Versicherung sorgfältig. Bei Fragen oder Änderungswünschen wenden Sie sich gerne an unseren Kundenservice.\\n\\nMit freundlichen Grüßen\\nIhre Allianz Versicherungs-AG\\n\\nUnterschrift maschinell erstellt – gültig ohne Unterschrift\\n\\n🔒 Datenschutz-Hinweis\\nIhre personenbezogenen Daten werden gemäß den geltenden Datenschutzvorschriften, insbesondere der DSGVO, verarbeitet. Weitere Informationen finden Sie unter www.allianz.de/datenschutz.\\n\\nHinweis: Dieses Dokument ist ein fiktives Beispiel und dient ausschließlich Demonstrationszwecken. Es besteht kein tatsächlicher Versicherungsvertrag.  \n",
       "0                                                                                                                                                                                                                                                                                                                                                      📉 Semantisch irrelevanter Abschnitt (für Demonstration)\\nDie durchschnittliche Bearbeitungszeit von Leistungsanträgen im Bereich Zahnzusatzversicherung beträgt laut interner Statistik der Allianz AG etwa 7,3 Werktage, wobei regionale Unterschiede durch standortbezogene Ressourcenverteilung entstehen können.\\n\\nAllianz Versicherungs-AG\\nKöniginstraße 28\\n80802 München\\nTelefon: 089 3800-0\\nE-Mail: service@allianz.de\\nWeb: www.allianz.de\\n\\nVersicherungsschein (Police-Nr.  "
      ]
     },
     "execution_count": 79,
     "metadata": {},
     "output_type": "execute_result"
    }
   ],
   "source": [
    "sorted = df.T.sort_values(by=[\"Similarity score\"], ascending=False)\n",
    "sorted"
   ]
  },
  {
   "cell_type": "code",
   "execution_count": 80,
   "id": "7f909fcb",
   "metadata": {},
   "outputs": [],
   "source": [
    "from llama_index.core import VectorStoreIndex\n",
    "\n",
    "index = VectorStoreIndex.from_documents(documents=chunks, embed_model=embed_model)"
   ]
  },
  {
   "cell_type": "code",
   "execution_count": 84,
   "id": "f2baf12f",
   "metadata": {},
   "outputs": [],
   "source": [
    "from IPython.display import display\n",
    "\n",
    "top_k = 1 # default is 2, can be extended or reduced!\n",
    "\n",
    "query = \"Wer ist der Versicherer und wer der Versicherungsnehmer? Was wird gehaftet?\"\n",
    "query_engine = index.as_query_engine(similarity_top_k=top_k, llm=llm)\n",
    "response = query_engine.query(query)"
   ]
  },
  {
   "cell_type": "code",
   "execution_count": 85,
   "id": "24d5a57d",
   "metadata": {},
   "outputs": [
    {
     "data": {
      "text/html": [
       "<div>\n",
       "<style scoped>\n",
       "    .dataframe tbody tr th:only-of-type {\n",
       "        vertical-align: middle;\n",
       "    }\n",
       "\n",
       "    .dataframe tbody tr th {\n",
       "        vertical-align: top;\n",
       "    }\n",
       "\n",
       "    .dataframe thead th {\n",
       "        text-align: right;\n",
       "    }\n",
       "</style>\n",
       "<table border=\"1\" class=\"dataframe\">\n",
       "  <thead>\n",
       "    <tr style=\"text-align: right;\">\n",
       "      <th></th>\n",
       "      <th>Query</th>\n",
       "      <th>Output</th>\n",
       "    </tr>\n",
       "  </thead>\n",
       "  <tbody>\n",
       "    <tr>\n",
       "      <th>0</th>\n",
       "      <td>Wer ist der Versicherer und wer der Versicherungsnehmer? Was wird gehaftet?</td>\n",
       "      <td>\\nDer Versicherer ist nicht explizit genannt, da es sich um ein Beispiel handelt. Der Versicherungsnehmer ist die Person, die den Vertrag abschließt und somit die Versicherung in Anspruch nehmen kann. Es wird für Wohnräume, Nebengebäude, Haustiere, bewegliche Gegenstände und Schäden im privaten Umfeld gehaftet.</td>\n",
       "    </tr>\n",
       "  </tbody>\n",
       "</table>\n",
       "</div>"
      ],
      "text/plain": [
       "                                                                         Query  \\\n",
       "0  Wer ist der Versicherer und wer der Versicherungsnehmer? Was wird gehaftet?   \n",
       "\n",
       "                                                                                                                                                                                                                                                                                                                     Output  \n",
       "0  \\nDer Versicherer ist nicht explizit genannt, da es sich um ein Beispiel handelt. Der Versicherungsnehmer ist die Person, die den Vertrag abschließt und somit die Versicherung in Anspruch nehmen kann. Es wird für Wohnräume, Nebengebäude, Haustiere, bewegliche Gegenstände und Schäden im privaten Umfeld gehaftet.  "
      ]
     },
     "execution_count": 85,
     "metadata": {},
     "output_type": "execute_result"
    }
   ],
   "source": [
    "pd.DataFrame([[query], [response.response]], index=['Query', 'Output']).T"
   ]
  },
  {
   "cell_type": "code",
   "execution_count": 86,
   "id": "1b7fac87",
   "metadata": {},
   "outputs": [],
   "source": [
    "from IPython.display import display\n",
    "\n",
    "top_k = 2 # default is 2, can be extended or reduced!\n",
    "\n",
    "query = \"Wer ist der Versicherer und wer der Versicherungsnehmer? Was wird gehaftet?\"\n",
    "query_engine = index.as_query_engine(similarity_top_k=top_k)\n",
    "response = query_engine.query(query)"
   ]
  },
  {
   "cell_type": "code",
   "execution_count": 87,
   "id": "afeeb29b",
   "metadata": {},
   "outputs": [
    {
     "data": {
      "text/html": [
       "<div>\n",
       "<style scoped>\n",
       "    .dataframe tbody tr th:only-of-type {\n",
       "        vertical-align: middle;\n",
       "    }\n",
       "\n",
       "    .dataframe tbody tr th {\n",
       "        vertical-align: top;\n",
       "    }\n",
       "\n",
       "    .dataframe thead th {\n",
       "        text-align: right;\n",
       "    }\n",
       "</style>\n",
       "<table border=\"1\" class=\"dataframe\">\n",
       "  <thead>\n",
       "    <tr style=\"text-align: right;\">\n",
       "      <th></th>\n",
       "      <th>Query</th>\n",
       "      <th>Output</th>\n",
       "    </tr>\n",
       "  </thead>\n",
       "  <tbody>\n",
       "    <tr>\n",
       "      <th>0</th>\n",
       "      <td>Wer ist der Versicherer und wer der Versicherungsnehmer? Was wird gehaftet?</td>\n",
       "      <td>\\nDer Versicherer ist die Allianz Versicherungs-AG und der Versicherungsnehmer ist Max Mustermann. Der Versicherer haftet für den Versicherungsnehmer Max Mustermann im Rahmen der vereinbarten Bedingungen und Versicherungssummen gegenüber Dritten für Personen-, Sach- und Vermögensschäden, die durch ihn verursacht werden.</td>\n",
       "    </tr>\n",
       "  </tbody>\n",
       "</table>\n",
       "</div>"
      ],
      "text/plain": [
       "                                                                         Query  \\\n",
       "0  Wer ist der Versicherer und wer der Versicherungsnehmer? Was wird gehaftet?   \n",
       "\n",
       "                                                                                                                                                                                                                                                                                                                              Output  \n",
       "0  \\nDer Versicherer ist die Allianz Versicherungs-AG und der Versicherungsnehmer ist Max Mustermann. Der Versicherer haftet für den Versicherungsnehmer Max Mustermann im Rahmen der vereinbarten Bedingungen und Versicherungssummen gegenüber Dritten für Personen-, Sach- und Vermögensschäden, die durch ihn verursacht werden.  "
      ]
     },
     "execution_count": 87,
     "metadata": {},
     "output_type": "execute_result"
    }
   ],
   "source": [
    "pd.DataFrame([[query], [response.response]], index=['Query', 'Output']).T"
   ]
  },
  {
   "cell_type": "code",
   "execution_count": 88,
   "id": "24695b95",
   "metadata": {},
   "outputs": [
    {
     "name": "stdout",
     "output_type": "stream",
     "text": [
      "Collecting llama-index-llms-ollama\n",
      "  Downloading llama_index_llms_ollama-0.6.2-py3-none-any.whl.metadata (3.6 kB)\n",
      "Requirement already satisfied: llama-index-core<0.13,>=0.12.4 in ./.venv/lib/python3.10/site-packages (from llama-index-llms-ollama) (0.12.48)\n",
      "Requirement already satisfied: ollama>=0.5.1 in ./.venv/lib/python3.10/site-packages (from llama-index-llms-ollama) (0.5.1)\n",
      "Requirement already satisfied: aiohttp<4,>=3.8.6 in ./.venv/lib/python3.10/site-packages (from llama-index-core<0.13,>=0.12.4->llama-index-llms-ollama) (3.12.14)\n",
      "Requirement already satisfied: aiosqlite in ./.venv/lib/python3.10/site-packages (from llama-index-core<0.13,>=0.12.4->llama-index-llms-ollama) (0.21.0)\n",
      "Requirement already satisfied: banks<3,>=2.0.0 in ./.venv/lib/python3.10/site-packages (from llama-index-core<0.13,>=0.12.4->llama-index-llms-ollama) (2.1.3)\n",
      "Requirement already satisfied: dataclasses-json in ./.venv/lib/python3.10/site-packages (from llama-index-core<0.13,>=0.12.4->llama-index-llms-ollama) (0.6.7)\n",
      "Requirement already satisfied: deprecated>=1.2.9.3 in ./.venv/lib/python3.10/site-packages (from llama-index-core<0.13,>=0.12.4->llama-index-llms-ollama) (1.2.18)\n",
      "Requirement already satisfied: dirtyjson<2,>=1.0.8 in ./.venv/lib/python3.10/site-packages (from llama-index-core<0.13,>=0.12.4->llama-index-llms-ollama) (1.0.8)\n",
      "Requirement already satisfied: filetype<2,>=1.2.0 in ./.venv/lib/python3.10/site-packages (from llama-index-core<0.13,>=0.12.4->llama-index-llms-ollama) (1.2.0)\n",
      "Requirement already satisfied: fsspec>=2023.5.0 in ./.venv/lib/python3.10/site-packages (from llama-index-core<0.13,>=0.12.4->llama-index-llms-ollama) (2025.5.1)\n",
      "Requirement already satisfied: httpx in ./.venv/lib/python3.10/site-packages (from llama-index-core<0.13,>=0.12.4->llama-index-llms-ollama) (0.28.1)\n",
      "Requirement already satisfied: llama-index-workflows<2,>=1.0.1 in ./.venv/lib/python3.10/site-packages (from llama-index-core<0.13,>=0.12.4->llama-index-llms-ollama) (1.1.0)\n",
      "Requirement already satisfied: nest-asyncio<2,>=1.5.8 in ./.venv/lib/python3.10/site-packages (from llama-index-core<0.13,>=0.12.4->llama-index-llms-ollama) (1.6.0)\n",
      "Requirement already satisfied: networkx>=3.0 in ./.venv/lib/python3.10/site-packages (from llama-index-core<0.13,>=0.12.4->llama-index-llms-ollama) (3.4.2)\n",
      "Requirement already satisfied: nltk>3.8.1 in ./.venv/lib/python3.10/site-packages (from llama-index-core<0.13,>=0.12.4->llama-index-llms-ollama) (3.9.1)\n",
      "Requirement already satisfied: numpy in ./.venv/lib/python3.10/site-packages (from llama-index-core<0.13,>=0.12.4->llama-index-llms-ollama) (2.2.6)\n",
      "Requirement already satisfied: pillow>=9.0.0 in ./.venv/lib/python3.10/site-packages (from llama-index-core<0.13,>=0.12.4->llama-index-llms-ollama) (11.3.0)\n",
      "Requirement already satisfied: pydantic>=2.8.0 in ./.venv/lib/python3.10/site-packages (from llama-index-core<0.13,>=0.12.4->llama-index-llms-ollama) (2.11.7)\n",
      "Requirement already satisfied: pyyaml>=6.0.1 in ./.venv/lib/python3.10/site-packages (from llama-index-core<0.13,>=0.12.4->llama-index-llms-ollama) (6.0.2)\n",
      "Requirement already satisfied: requests>=2.31.0 in ./.venv/lib/python3.10/site-packages (from llama-index-core<0.13,>=0.12.4->llama-index-llms-ollama) (2.32.4)\n",
      "Requirement already satisfied: setuptools>=80.9.0 in ./.venv/lib/python3.10/site-packages (from llama-index-core<0.13,>=0.12.4->llama-index-llms-ollama) (80.9.0)\n",
      "Requirement already satisfied: sqlalchemy>=1.4.49 in ./.venv/lib/python3.10/site-packages (from sqlalchemy[asyncio]>=1.4.49->llama-index-core<0.13,>=0.12.4->llama-index-llms-ollama) (2.0.41)\n",
      "Requirement already satisfied: tenacity!=8.4.0,<10.0.0,>=8.2.0 in ./.venv/lib/python3.10/site-packages (from llama-index-core<0.13,>=0.12.4->llama-index-llms-ollama) (9.1.2)\n",
      "Requirement already satisfied: tiktoken>=0.7.0 in ./.venv/lib/python3.10/site-packages (from llama-index-core<0.13,>=0.12.4->llama-index-llms-ollama) (0.9.0)\n",
      "Requirement already satisfied: tqdm<5,>=4.66.1 in ./.venv/lib/python3.10/site-packages (from llama-index-core<0.13,>=0.12.4->llama-index-llms-ollama) (4.67.1)\n",
      "Requirement already satisfied: typing-extensions>=4.5.0 in ./.venv/lib/python3.10/site-packages (from llama-index-core<0.13,>=0.12.4->llama-index-llms-ollama) (4.14.1)\n",
      "Requirement already satisfied: typing-inspect>=0.8.0 in ./.venv/lib/python3.10/site-packages (from llama-index-core<0.13,>=0.12.4->llama-index-llms-ollama) (0.9.0)\n",
      "Requirement already satisfied: wrapt in ./.venv/lib/python3.10/site-packages (from llama-index-core<0.13,>=0.12.4->llama-index-llms-ollama) (1.17.2)\n",
      "Requirement already satisfied: aiohappyeyeballs>=2.5.0 in ./.venv/lib/python3.10/site-packages (from aiohttp<4,>=3.8.6->llama-index-core<0.13,>=0.12.4->llama-index-llms-ollama) (2.6.1)\n",
      "Requirement already satisfied: aiosignal>=1.4.0 in ./.venv/lib/python3.10/site-packages (from aiohttp<4,>=3.8.6->llama-index-core<0.13,>=0.12.4->llama-index-llms-ollama) (1.4.0)\n",
      "Requirement already satisfied: async-timeout<6.0,>=4.0 in ./.venv/lib/python3.10/site-packages (from aiohttp<4,>=3.8.6->llama-index-core<0.13,>=0.12.4->llama-index-llms-ollama) (5.0.1)\n",
      "Requirement already satisfied: attrs>=17.3.0 in ./.venv/lib/python3.10/site-packages (from aiohttp<4,>=3.8.6->llama-index-core<0.13,>=0.12.4->llama-index-llms-ollama) (25.3.0)\n",
      "Requirement already satisfied: frozenlist>=1.1.1 in ./.venv/lib/python3.10/site-packages (from aiohttp<4,>=3.8.6->llama-index-core<0.13,>=0.12.4->llama-index-llms-ollama) (1.7.0)\n",
      "Requirement already satisfied: multidict<7.0,>=4.5 in ./.venv/lib/python3.10/site-packages (from aiohttp<4,>=3.8.6->llama-index-core<0.13,>=0.12.4->llama-index-llms-ollama) (6.6.3)\n",
      "Requirement already satisfied: propcache>=0.2.0 in ./.venv/lib/python3.10/site-packages (from aiohttp<4,>=3.8.6->llama-index-core<0.13,>=0.12.4->llama-index-llms-ollama) (0.3.2)\n",
      "Requirement already satisfied: yarl<2.0,>=1.17.0 in ./.venv/lib/python3.10/site-packages (from aiohttp<4,>=3.8.6->llama-index-core<0.13,>=0.12.4->llama-index-llms-ollama) (1.20.1)\n",
      "Requirement already satisfied: griffe in ./.venv/lib/python3.10/site-packages (from banks<3,>=2.0.0->llama-index-core<0.13,>=0.12.4->llama-index-llms-ollama) (1.7.3)\n",
      "Requirement already satisfied: jinja2 in ./.venv/lib/python3.10/site-packages (from banks<3,>=2.0.0->llama-index-core<0.13,>=0.12.4->llama-index-llms-ollama) (3.1.6)\n",
      "Requirement already satisfied: platformdirs in ./.venv/lib/python3.10/site-packages (from banks<3,>=2.0.0->llama-index-core<0.13,>=0.12.4->llama-index-llms-ollama) (4.3.8)\n",
      "Requirement already satisfied: llama-index-instrumentation>=0.1.0 in ./.venv/lib/python3.10/site-packages (from llama-index-workflows<2,>=1.0.1->llama-index-core<0.13,>=0.12.4->llama-index-llms-ollama) (0.2.0)\n",
      "Requirement already satisfied: idna>=2.0 in ./.venv/lib/python3.10/site-packages (from yarl<2.0,>=1.17.0->aiohttp<4,>=3.8.6->llama-index-core<0.13,>=0.12.4->llama-index-llms-ollama) (3.10)\n",
      "Requirement already satisfied: click in ./.venv/lib/python3.10/site-packages (from nltk>3.8.1->llama-index-core<0.13,>=0.12.4->llama-index-llms-ollama) (8.2.1)\n",
      "Requirement already satisfied: joblib in ./.venv/lib/python3.10/site-packages (from nltk>3.8.1->llama-index-core<0.13,>=0.12.4->llama-index-llms-ollama) (1.5.1)\n",
      "Requirement already satisfied: regex>=2021.8.3 in ./.venv/lib/python3.10/site-packages (from nltk>3.8.1->llama-index-core<0.13,>=0.12.4->llama-index-llms-ollama) (2024.11.6)\n",
      "Requirement already satisfied: anyio in ./.venv/lib/python3.10/site-packages (from httpx->llama-index-core<0.13,>=0.12.4->llama-index-llms-ollama) (4.9.0)\n",
      "Requirement already satisfied: certifi in ./.venv/lib/python3.10/site-packages (from httpx->llama-index-core<0.13,>=0.12.4->llama-index-llms-ollama) (2025.7.9)\n",
      "Requirement already satisfied: httpcore==1.* in ./.venv/lib/python3.10/site-packages (from httpx->llama-index-core<0.13,>=0.12.4->llama-index-llms-ollama) (1.0.9)\n",
      "Requirement already satisfied: h11>=0.16 in ./.venv/lib/python3.10/site-packages (from httpcore==1.*->httpx->llama-index-core<0.13,>=0.12.4->llama-index-llms-ollama) (0.16.0)\n",
      "Requirement already satisfied: annotated-types>=0.6.0 in ./.venv/lib/python3.10/site-packages (from pydantic>=2.8.0->llama-index-core<0.13,>=0.12.4->llama-index-llms-ollama) (0.7.0)\n",
      "Requirement already satisfied: pydantic-core==2.33.2 in ./.venv/lib/python3.10/site-packages (from pydantic>=2.8.0->llama-index-core<0.13,>=0.12.4->llama-index-llms-ollama) (2.33.2)\n",
      "Requirement already satisfied: typing-inspection>=0.4.0 in ./.venv/lib/python3.10/site-packages (from pydantic>=2.8.0->llama-index-core<0.13,>=0.12.4->llama-index-llms-ollama) (0.4.1)\n",
      "Requirement already satisfied: charset_normalizer<4,>=2 in ./.venv/lib/python3.10/site-packages (from requests>=2.31.0->llama-index-core<0.13,>=0.12.4->llama-index-llms-ollama) (3.4.2)\n",
      "Requirement already satisfied: urllib3<3,>=1.21.1 in ./.venv/lib/python3.10/site-packages (from requests>=2.31.0->llama-index-core<0.13,>=0.12.4->llama-index-llms-ollama) (2.5.0)\n",
      "Requirement already satisfied: greenlet>=1 in ./.venv/lib/python3.10/site-packages (from sqlalchemy>=1.4.49->sqlalchemy[asyncio]>=1.4.49->llama-index-core<0.13,>=0.12.4->llama-index-llms-ollama) (3.2.3)\n",
      "Requirement already satisfied: mypy-extensions>=0.3.0 in ./.venv/lib/python3.10/site-packages (from typing-inspect>=0.8.0->llama-index-core<0.13,>=0.12.4->llama-index-llms-ollama) (1.1.0)\n",
      "Requirement already satisfied: exceptiongroup>=1.0.2 in ./.venv/lib/python3.10/site-packages (from anyio->httpx->llama-index-core<0.13,>=0.12.4->llama-index-llms-ollama) (1.3.0)\n",
      "Requirement already satisfied: sniffio>=1.1 in ./.venv/lib/python3.10/site-packages (from anyio->httpx->llama-index-core<0.13,>=0.12.4->llama-index-llms-ollama) (1.3.1)\n",
      "Requirement already satisfied: marshmallow<4.0.0,>=3.18.0 in ./.venv/lib/python3.10/site-packages (from dataclasses-json->llama-index-core<0.13,>=0.12.4->llama-index-llms-ollama) (3.26.1)\n",
      "Requirement already satisfied: packaging>=17.0 in ./.venv/lib/python3.10/site-packages (from marshmallow<4.0.0,>=3.18.0->dataclasses-json->llama-index-core<0.13,>=0.12.4->llama-index-llms-ollama) (25.0)\n",
      "Requirement already satisfied: colorama>=0.4 in ./.venv/lib/python3.10/site-packages (from griffe->banks<3,>=2.0.0->llama-index-core<0.13,>=0.12.4->llama-index-llms-ollama) (0.4.6)\n",
      "Requirement already satisfied: MarkupSafe>=2.0 in ./.venv/lib/python3.10/site-packages (from jinja2->banks<3,>=2.0.0->llama-index-core<0.13,>=0.12.4->llama-index-llms-ollama) (3.0.2)\n",
      "Downloading llama_index_llms_ollama-0.6.2-py3-none-any.whl (8.1 kB)\n",
      "Installing collected packages: llama-index-llms-ollama\n",
      "Successfully installed llama-index-llms-ollama-0.6.2\n",
      "Note: you may need to restart the kernel to use updated packages.\n"
     ]
    }
   ],
   "source": [
    "%pip install llama-index-llms-ollama"
   ]
  },
  {
   "cell_type": "code",
   "execution_count": null,
   "id": "2ce7d5e6",
   "metadata": {},
   "outputs": [],
   "source": [
    "from sklearn.metrics.pairwise import cosine_similarity\n",
    "from llama_index.embeddings.ollama import OllamaEmbedding\n",
    "from llama_index.llms.ollama import Ollama\n",
    "from llama_index.core.settings import Settings\n",
    "\n",
    "import os\n",
    "\n",
    "base_url = os.getenv('OLLAMA_URL', 'http://localhost:11434')\n",
    "\n",
    "llm = Ollama(\n",
    "    model='llama3.3:70b',\n",
    "    base_url=base_url,\n",
    "    temperature=0,\n",
    "    request_timeout=42069,\n",
    ")\n",
    "embed_model = OllamaEmbedding(\n",
    "    model_name='llama3.3:70b',\n",
    "    base_url=base_url\n",
    ")\n",
    "Settings.llm = llm\n",
    "Settings.embed_model = embed_model\n",
    "Settings.chunk_size=256"
   ]
  },
  {
   "cell_type": "code",
   "execution_count": 90,
   "id": "036c6e9b",
   "metadata": {},
   "outputs": [
    {
     "name": "stderr",
     "output_type": "stream",
     "text": [
      "Loading files: 100%|██████████| 1/1 [00:00<00:00, 1484.71it/s]\n"
     ]
    },
    {
     "data": {
      "text/plain": [
       "5"
      ]
     },
     "execution_count": 90,
     "metadata": {},
     "output_type": "execute_result"
    }
   ],
   "source": [
    "from llama_index.core.readers import SimpleDirectoryReader\n",
    "from llama_index.core.node_parser import SentenceSplitter\n",
    "\n",
    "documents = SimpleDirectoryReader(input_files=['./data/insurance_contract_example.txt']).load_data(show_progress=True)\n",
    "\n",
    "parser = SentenceSplitter(\n",
    "    chunk_size=256,\n",
    "    chunk_overlap=20,\n",
    ")\n",
    "chunks = parser.get_nodes_from_documents(documents)\n",
    "len(chunks)"
   ]
  },
  {
   "cell_type": "code",
   "execution_count": 91,
   "id": "ec263d08",
   "metadata": {},
   "outputs": [],
   "source": [
    "query = \"Wer ist der Versicherer und wer ist Versicherungsnehmer? Was wird gehaftet?\"\n",
    "embeddings_document = [\n",
    "    embed_model.get_text_embedding(chunk.text) for chunk in chunks\n",
    "]\n",
    "embedding_query = embed_model.get_text_embedding(query)"
   ]
  },
  {
   "cell_type": "code",
   "execution_count": 92,
   "id": "3399b937",
   "metadata": {},
   "outputs": [],
   "source": [
    "from sklearn.metrics.pairwise import cosine_similarity\n",
    "\n",
    "similarities = cosine_similarity([embedding_query], embeddings_document)[0]"
   ]
  },
  {
   "cell_type": "code",
   "execution_count": 94,
   "id": "3c678927",
   "metadata": {},
   "outputs": [
    {
     "data": {
      "text/html": [
       "<div>\n",
       "<style scoped>\n",
       "    .dataframe tbody tr th:only-of-type {\n",
       "        vertical-align: middle;\n",
       "    }\n",
       "\n",
       "    .dataframe tbody tr th {\n",
       "        vertical-align: top;\n",
       "    }\n",
       "\n",
       "    .dataframe thead th {\n",
       "        text-align: right;\n",
       "    }\n",
       "</style>\n",
       "<table border=\"1\" class=\"dataframe\">\n",
       "  <thead>\n",
       "    <tr style=\"text-align: right;\">\n",
       "      <th></th>\n",
       "      <th>Similarity score</th>\n",
       "      <th>Text</th>\n",
       "    </tr>\n",
       "  </thead>\n",
       "  <tbody>\n",
       "    <tr>\n",
       "      <th>2</th>\n",
       "      <td>0.746873</td>\n",
       "      <td>Versicherungssteuer)\\n\\nZahlweise:\\njährlich, per SEPA-Lastschrift\\n\\nZahlungstermin:\\n01.07. jeden Jahres\\n\\n📋 Wichtige Vertragsbedingungen\\nWir, die Versicherer Allianz Versicherungs-AG, haften für den Versicherungsnehmer Max Mustermann im Rahmen der vereinbarten Bedingungen und Versicherungssummen gegenüber Dritten für Personen-, Sach- und Vermögensschäden, die durch ihn verursacht werden.\\n\\nDer Versicherer haftet für den Versicherungsnehmer Max Mustermann, sofern Ansprüche Dritter auf gesetzlicher Grundlage entstehen und im Rahmen der Privathaftpflichtversicherung abgedeckt sind.</td>\n",
       "    </tr>\n",
       "    <tr>\n",
       "      <th>3</th>\n",
       "      <td>0.696489</td>\n",
       "      <td>Die Versicherung haftet für folgende Objekte, sofern diese sich im Eigentum oder rechtmäßigen Besitz des Versicherungsnehmers befinden und im Rahmen des Versicherungsvertrages eingeschlossen sind:\\n\\nWohnräume und Nebengebäude am Wohnort\\n\\nHaustiere (z. B. Hunde, Katzen – keine gefährlichen Tiere i.S.d. Gesetzes)\\n\\nBewegliche Gegenstände des täglichen Lebens\\n\\nSchäden im Rahmen gesetzlicher Haftung im privaten Umfeld\\n\\nDer Versicherungsschutz beginnt mit dem in der Police genannten Datum, sofern der erste Beitrag rechtzeitig gezahlt wurde.\\n\\nDie Vertragslaufzeit beträgt 1 Jahr und verlängert sich automatisch, sofern nicht 3 Monate vor Ablauf gekündigt wird.\\n\\nEs gelten die Allgemeinen Versicherungsbedingungen (AVB PHV 2025).</td>\n",
       "    </tr>\n",
       "    <tr>\n",
       "      <th>4</th>\n",
       "      <td>0.606278</td>\n",
       "      <td>📌 Kontakt bei Schadenmeldung\\nTelefonische Schadenmeldung:\\n089 3800-5555 (Mo–Fr, 8–20 Uhr)\\n\\nOnline:\\nwww.allianz.de/schaden-melden\\n\\nE-Mail:\\nschaden@allianz.de\\n\\n🖊️ Bestätigung\\nBitte prüfen Sie die Angaben zu Ihrer Versicherung sorgfältig. Bei Fragen oder Änderungswünschen wenden Sie sich gerne an unseren Kundenservice.\\n\\nMit freundlichen Grüßen\\nIhre Allianz Versicherungs-AG\\n\\nUnterschrift maschinell erstellt – gültig ohne Unterschrift\\n\\n🔒 Datenschutz-Hinweis\\nIhre personenbezogenen Daten werden gemäß den geltenden Datenschutzvorschriften, insbesondere der DSGVO, verarbeitet. Weitere Informationen finden Sie unter www.allianz.de/datenschutz.\\n\\nHinweis: Dieses Dokument ist ein fiktives Beispiel und dient ausschließlich Demonstrationszwecken. Es besteht kein tatsächlicher Versicherungsvertrag.</td>\n",
       "    </tr>\n",
       "    <tr>\n",
       "      <th>1</th>\n",
       "      <td>0.508678</td>\n",
       "      <td>1234 5678 9012)\\nVertragsbeginn: 01.07.2025\\nVersicherungsnehmer:\\nMax Mustermann\\nMusterstraße 12\\n12345 Musterstadt\\nGeburtsdatum: 01.01.1980\\nVersichert seit: 01.07.2025\\n\\n🛡️ Vertragsübersicht\\nVersicherungsart:\\nPrivathaftpflichtversicherung – Komfortschutz\\n\\nGeltungsbereich:\\nWeltweit (inkl. vorübergehende Auslandsaufenthalte bis 12 Monate)\\n\\nVersicherungssumme:\\n10.000.000 € pauschal für Personen-, Sach- und Vermögensschäden\\n\\nSelbstbeteiligung:\\n150 € je Schadensfall\\n\\nJährlicher Beitrag:\\n120,00 € (inkl.</td>\n",
       "    </tr>\n",
       "    <tr>\n",
       "      <th>0</th>\n",
       "      <td>0.390144</td>\n",
       "      <td>📉 Semantisch irrelevanter Abschnitt (für Demonstration)\\nDie durchschnittliche Bearbeitungszeit von Leistungsanträgen im Bereich Zahnzusatzversicherung beträgt laut interner Statistik der Allianz AG etwa 7,3 Werktage, wobei regionale Unterschiede durch standortbezogene Ressourcenverteilung entstehen können.\\n\\nAllianz Versicherungs-AG\\nKöniginstraße 28\\n80802 München\\nTelefon: 089 3800-0\\nE-Mail: service@allianz.de\\nWeb: www.allianz.de\\n\\nVersicherungsschein (Police-Nr.</td>\n",
       "    </tr>\n",
       "  </tbody>\n",
       "</table>\n",
       "</div>"
      ],
      "text/plain": [
       "  Similarity score  \\\n",
       "2         0.746873   \n",
       "3         0.696489   \n",
       "4         0.606278   \n",
       "1         0.508678   \n",
       "0         0.390144   \n",
       "\n",
       "                                                                                                                                                                                                                                                                                                                                                                                                                                                                                                                                                                                                                                                                                                                                                                                                                                             Text  \n",
       "2                                                                                                                                                                                                                                 Versicherungssteuer)\\n\\nZahlweise:\\njährlich, per SEPA-Lastschrift\\n\\nZahlungstermin:\\n01.07. jeden Jahres\\n\\n📋 Wichtige Vertragsbedingungen\\nWir, die Versicherer Allianz Versicherungs-AG, haften für den Versicherungsnehmer Max Mustermann im Rahmen der vereinbarten Bedingungen und Versicherungssummen gegenüber Dritten für Personen-, Sach- und Vermögensschäden, die durch ihn verursacht werden.\\n\\nDer Versicherer haftet für den Versicherungsnehmer Max Mustermann, sofern Ansprüche Dritter auf gesetzlicher Grundlage entstehen und im Rahmen der Privathaftpflichtversicherung abgedeckt sind.  \n",
       "3                                                                            Die Versicherung haftet für folgende Objekte, sofern diese sich im Eigentum oder rechtmäßigen Besitz des Versicherungsnehmers befinden und im Rahmen des Versicherungsvertrages eingeschlossen sind:\\n\\nWohnräume und Nebengebäude am Wohnort\\n\\nHaustiere (z. B. Hunde, Katzen – keine gefährlichen Tiere i.S.d. Gesetzes)\\n\\nBewegliche Gegenstände des täglichen Lebens\\n\\nSchäden im Rahmen gesetzlicher Haftung im privaten Umfeld\\n\\nDer Versicherungsschutz beginnt mit dem in der Police genannten Datum, sofern der erste Beitrag rechtzeitig gezahlt wurde.\\n\\nDie Vertragslaufzeit beträgt 1 Jahr und verlängert sich automatisch, sofern nicht 3 Monate vor Ablauf gekündigt wird.\\n\\nEs gelten die Allgemeinen Versicherungsbedingungen (AVB PHV 2025).  \n",
       "4  📌 Kontakt bei Schadenmeldung\\nTelefonische Schadenmeldung:\\n089 3800-5555 (Mo–Fr, 8–20 Uhr)\\n\\nOnline:\\nwww.allianz.de/schaden-melden\\n\\nE-Mail:\\nschaden@allianz.de\\n\\n🖊️ Bestätigung\\nBitte prüfen Sie die Angaben zu Ihrer Versicherung sorgfältig. Bei Fragen oder Änderungswünschen wenden Sie sich gerne an unseren Kundenservice.\\n\\nMit freundlichen Grüßen\\nIhre Allianz Versicherungs-AG\\n\\nUnterschrift maschinell erstellt – gültig ohne Unterschrift\\n\\n🔒 Datenschutz-Hinweis\\nIhre personenbezogenen Daten werden gemäß den geltenden Datenschutzvorschriften, insbesondere der DSGVO, verarbeitet. Weitere Informationen finden Sie unter www.allianz.de/datenschutz.\\n\\nHinweis: Dieses Dokument ist ein fiktives Beispiel und dient ausschließlich Demonstrationszwecken. Es besteht kein tatsächlicher Versicherungsvertrag.  \n",
       "1                                                                                                                                                                                                                                                                                                      1234 5678 9012)\\nVertragsbeginn: 01.07.2025\\nVersicherungsnehmer:\\nMax Mustermann\\nMusterstraße 12\\n12345 Musterstadt\\nGeburtsdatum: 01.01.1980\\nVersichert seit: 01.07.2025\\n\\n🛡️ Vertragsübersicht\\nVersicherungsart:\\nPrivathaftpflichtversicherung – Komfortschutz\\n\\nGeltungsbereich:\\nWeltweit (inkl. vorübergehende Auslandsaufenthalte bis 12 Monate)\\n\\nVersicherungssumme:\\n10.000.000 € pauschal für Personen-, Sach- und Vermögensschäden\\n\\nSelbstbeteiligung:\\n150 € je Schadensfall\\n\\nJährlicher Beitrag:\\n120,00 € (inkl.  \n",
       "0                                                                                                                                                                                                                                                                                                                                                      📉 Semantisch irrelevanter Abschnitt (für Demonstration)\\nDie durchschnittliche Bearbeitungszeit von Leistungsanträgen im Bereich Zahnzusatzversicherung beträgt laut interner Statistik der Allianz AG etwa 7,3 Werktage, wobei regionale Unterschiede durch standortbezogene Ressourcenverteilung entstehen können.\\n\\nAllianz Versicherungs-AG\\nKöniginstraße 28\\n80802 München\\nTelefon: 089 3800-0\\nE-Mail: service@allianz.de\\nWeb: www.allianz.de\\n\\nVersicherungsschein (Police-Nr.  "
      ]
     },
     "execution_count": 94,
     "metadata": {},
     "output_type": "execute_result"
    }
   ],
   "source": [
    "import pandas as pd\n",
    "\n",
    "pd.set_option('display.max_colwidth', None)\n",
    "df = pd.DataFrame([similarities, [chunk.text for chunk in chunks]], index=[\"Similarity score\", \"Text\"])\n",
    "df.T.sort_values(by=[\"Similarity score\"], ascending=False)"
   ]
  },
  {
   "cell_type": "code",
   "execution_count": 97,
   "id": "0379c990",
   "metadata": {},
   "outputs": [],
   "source": [
    "from llama_index.core import VectorStoreIndex\n",
    "\n",
    "index = VectorStoreIndex.from_documents(documents=chunks, embed_model=embed_model)\n",
    "\n",
    "top_k = 1 # default is 2, can be extended or reduced!\n",
    "query = \"Wer ist der Versicherer und wer der Versicherungsnehmer? Was wird gehaftet?\"\n",
    "query_engine = index.as_query_engine(similarity_top_k=top_k, llm=llm)\n",
    "response = query_engine.query(query)"
   ]
  },
  {
   "cell_type": "code",
   "execution_count": 98,
   "id": "6a3b4c0e",
   "metadata": {},
   "outputs": [
    {
     "data": {
      "text/html": [
       "<div>\n",
       "<style scoped>\n",
       "    .dataframe tbody tr th:only-of-type {\n",
       "        vertical-align: middle;\n",
       "    }\n",
       "\n",
       "    .dataframe tbody tr th {\n",
       "        vertical-align: top;\n",
       "    }\n",
       "\n",
       "    .dataframe thead th {\n",
       "        text-align: right;\n",
       "    }\n",
       "</style>\n",
       "<table border=\"1\" class=\"dataframe\">\n",
       "  <thead>\n",
       "    <tr style=\"text-align: right;\">\n",
       "      <th></th>\n",
       "      <th>Query</th>\n",
       "      <th>Output</th>\n",
       "    </tr>\n",
       "  </thead>\n",
       "  <tbody>\n",
       "    <tr>\n",
       "      <th>0</th>\n",
       "      <td>Wer ist der Versicherer und wer der Versicherungsnehmer? Was wird gehaftet?</td>\n",
       "      <td>Der Versicherer ist die Allianz Versicherungs-AG und der Versicherungsnehmer ist Max Mustermann. Der Versicherer haftet für den Versicherungsnehmer gegenüber Dritten für Personen-, Sach- und Vermögensschäden, die durch ihn verursacht werden, sowie für Ansprüche Dritter auf gesetzlicher Grundlage im Rahmen der Privathaftpflichtversicherung.</td>\n",
       "    </tr>\n",
       "  </tbody>\n",
       "</table>\n",
       "</div>"
      ],
      "text/plain": [
       "                                                                         Query  \\\n",
       "0  Wer ist der Versicherer und wer der Versicherungsnehmer? Was wird gehaftet?   \n",
       "\n",
       "                                                                                                                                                                                                                                                                                                                                                  Output  \n",
       "0  Der Versicherer ist die Allianz Versicherungs-AG und der Versicherungsnehmer ist Max Mustermann. Der Versicherer haftet für den Versicherungsnehmer gegenüber Dritten für Personen-, Sach- und Vermögensschäden, die durch ihn verursacht werden, sowie für Ansprüche Dritter auf gesetzlicher Grundlage im Rahmen der Privathaftpflichtversicherung.  "
      ]
     },
     "execution_count": 98,
     "metadata": {},
     "output_type": "execute_result"
    }
   ],
   "source": [
    "pd.DataFrame([[query], [response.response]], index=['Query', 'Output']).T"
   ]
  },
  {
   "cell_type": "code",
   "execution_count": 99,
   "id": "67748fb7",
   "metadata": {},
   "outputs": [],
   "source": [
    "from llama_index.core import VectorStoreIndex\n",
    "\n",
    "index = VectorStoreIndex.from_documents(documents=chunks, embed_model=embed_model)\n",
    "\n",
    "top_k = 2 # default is 2, can be extended or reduced!\n",
    "query = \"Wer ist der Versicherer und wer der Versicherungsnehmer? Was wird gehaftet?\"\n",
    "query_engine = index.as_query_engine(similarity_top_k=top_k, llm=llm)\n",
    "response = query_engine.query(query)"
   ]
  },
  {
   "cell_type": "code",
   "execution_count": 100,
   "id": "596576ad",
   "metadata": {},
   "outputs": [
    {
     "data": {
      "text/html": [
       "<div>\n",
       "<style scoped>\n",
       "    .dataframe tbody tr th:only-of-type {\n",
       "        vertical-align: middle;\n",
       "    }\n",
       "\n",
       "    .dataframe tbody tr th {\n",
       "        vertical-align: top;\n",
       "    }\n",
       "\n",
       "    .dataframe thead th {\n",
       "        text-align: right;\n",
       "    }\n",
       "</style>\n",
       "<table border=\"1\" class=\"dataframe\">\n",
       "  <thead>\n",
       "    <tr style=\"text-align: right;\">\n",
       "      <th></th>\n",
       "      <th>Query</th>\n",
       "      <th>Output</th>\n",
       "    </tr>\n",
       "  </thead>\n",
       "  <tbody>\n",
       "    <tr>\n",
       "      <th>0</th>\n",
       "      <td>Wer ist der Versicherer und wer der Versicherungsnehmer? Was wird gehaftet?</td>\n",
       "      <td>Der Versicherer ist die Allianz Versicherungs-AG, während der Versicherungsnehmer Max Mustermann ist. Der Versicherer haftet für den Versicherungsnehmer gegenüber Dritten für Personen-, Sach- und Vermögensschäden, die durch ihn verursacht werden, sofern Ansprüche auf gesetzlicher Grundlage entstehen und im Rahmen der Privathaftpflichtversicherung abgedeckt sind.</td>\n",
       "    </tr>\n",
       "  </tbody>\n",
       "</table>\n",
       "</div>"
      ],
      "text/plain": [
       "                                                                         Query  \\\n",
       "0  Wer ist der Versicherer und wer der Versicherungsnehmer? Was wird gehaftet?   \n",
       "\n",
       "                                                                                                                                                                                                                                                                                                                                                                         Output  \n",
       "0  Der Versicherer ist die Allianz Versicherungs-AG, während der Versicherungsnehmer Max Mustermann ist. Der Versicherer haftet für den Versicherungsnehmer gegenüber Dritten für Personen-, Sach- und Vermögensschäden, die durch ihn verursacht werden, sofern Ansprüche auf gesetzlicher Grundlage entstehen und im Rahmen der Privathaftpflichtversicherung abgedeckt sind.  "
      ]
     },
     "execution_count": 100,
     "metadata": {},
     "output_type": "execute_result"
    }
   ],
   "source": [
    "pd.DataFrame([[query], [response.response]], index=['Query', 'Output']).T"
   ]
  },
  {
   "cell_type": "code",
   "execution_count": null,
   "id": "f0bae02b",
   "metadata": {},
   "outputs": [],
   "source": []
  }
 ],
 "metadata": {
  "kernelspec": {
   "display_name": ".venv",
   "language": "python",
   "name": "python3"
  },
  "language_info": {
   "codemirror_mode": {
    "name": "ipython",
    "version": 3
   },
   "file_extension": ".py",
   "mimetype": "text/x-python",
   "name": "python",
   "nbconvert_exporter": "python",
   "pygments_lexer": "ipython3",
   "version": "3.10.12"
  }
 },
 "nbformat": 4,
 "nbformat_minor": 5
}
