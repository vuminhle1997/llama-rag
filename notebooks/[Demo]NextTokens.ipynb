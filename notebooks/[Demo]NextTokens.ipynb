{
 "cells": [
  {
   "cell_type": "code",
   "execution_count": 100,
   "id": "de650009",
   "metadata": {},
   "outputs": [
    {
     "name": "stdout",
     "output_type": "stream",
     "text": [
      "Requirement already satisfied: openai in ./.venv/lib/python3.10/site-packages (1.95.0)\n",
      "Requirement already satisfied: anyio<5,>=3.5.0 in ./.venv/lib/python3.10/site-packages (from openai) (4.9.0)\n",
      "Requirement already satisfied: distro<2,>=1.7.0 in ./.venv/lib/python3.10/site-packages (from openai) (1.9.0)\n",
      "Requirement already satisfied: httpx<1,>=0.23.0 in ./.venv/lib/python3.10/site-packages (from openai) (0.28.1)\n",
      "Requirement already satisfied: jiter<1,>=0.4.0 in ./.venv/lib/python3.10/site-packages (from openai) (0.10.0)\n",
      "Requirement already satisfied: pydantic<3,>=1.9.0 in ./.venv/lib/python3.10/site-packages (from openai) (2.11.7)\n",
      "Requirement already satisfied: sniffio in ./.venv/lib/python3.10/site-packages (from openai) (1.3.1)\n",
      "Requirement already satisfied: tqdm>4 in ./.venv/lib/python3.10/site-packages (from openai) (4.67.1)\n",
      "Requirement already satisfied: typing-extensions<5,>=4.11 in ./.venv/lib/python3.10/site-packages (from openai) (4.14.1)\n",
      "Requirement already satisfied: exceptiongroup>=1.0.2 in ./.venv/lib/python3.10/site-packages (from anyio<5,>=3.5.0->openai) (1.3.0)\n",
      "Requirement already satisfied: idna>=2.8 in ./.venv/lib/python3.10/site-packages (from anyio<5,>=3.5.0->openai) (3.10)\n",
      "Requirement already satisfied: certifi in ./.venv/lib/python3.10/site-packages (from httpx<1,>=0.23.0->openai) (2025.7.9)\n",
      "Requirement already satisfied: httpcore==1.* in ./.venv/lib/python3.10/site-packages (from httpx<1,>=0.23.0->openai) (1.0.9)\n",
      "Requirement already satisfied: h11>=0.16 in ./.venv/lib/python3.10/site-packages (from httpcore==1.*->httpx<1,>=0.23.0->openai) (0.16.0)\n",
      "Requirement already satisfied: annotated-types>=0.6.0 in ./.venv/lib/python3.10/site-packages (from pydantic<3,>=1.9.0->openai) (0.7.0)\n",
      "Requirement already satisfied: pydantic-core==2.33.2 in ./.venv/lib/python3.10/site-packages (from pydantic<3,>=1.9.0->openai) (2.33.2)\n",
      "Requirement already satisfied: typing-inspection>=0.4.0 in ./.venv/lib/python3.10/site-packages (from pydantic<3,>=1.9.0->openai) (0.4.1)\n",
      "Note: you may need to restart the kernel to use updated packages.\n",
      "Requirement already satisfied: dotenv in ./.venv/lib/python3.10/site-packages (0.9.9)\n",
      "Requirement already satisfied: python-dotenv in ./.venv/lib/python3.10/site-packages (from dotenv) (1.1.1)\n",
      "Note: you may need to restart the kernel to use updated packages.\n",
      "Requirement already satisfied: pandas in ./.venv/lib/python3.10/site-packages (2.3.1)\n",
      "Requirement already satisfied: numpy in ./.venv/lib/python3.10/site-packages (2.2.6)\n",
      "Collecting matplotlib\n",
      "  Downloading matplotlib-3.10.3-cp310-cp310-manylinux_2_17_x86_64.manylinux2014_x86_64.whl.metadata (11 kB)\n",
      "Requirement already satisfied: python-dateutil>=2.8.2 in ./.venv/lib/python3.10/site-packages (from pandas) (2.9.0.post0)\n",
      "Requirement already satisfied: pytz>=2020.1 in ./.venv/lib/python3.10/site-packages (from pandas) (2025.2)\n",
      "Requirement already satisfied: tzdata>=2022.7 in ./.venv/lib/python3.10/site-packages (from pandas) (2025.2)\n",
      "Collecting contourpy>=1.0.1 (from matplotlib)\n",
      "  Downloading contourpy-1.3.2-cp310-cp310-manylinux_2_17_x86_64.manylinux2014_x86_64.whl.metadata (5.5 kB)\n",
      "Collecting cycler>=0.10 (from matplotlib)\n",
      "  Downloading cycler-0.12.1-py3-none-any.whl.metadata (3.8 kB)\n",
      "Collecting fonttools>=4.22.0 (from matplotlib)\n",
      "  Downloading fonttools-4.58.5-cp310-cp310-manylinux2014_x86_64.manylinux_2_17_x86_64.whl.metadata (106 kB)\n",
      "Collecting kiwisolver>=1.3.1 (from matplotlib)\n",
      "  Downloading kiwisolver-1.4.8-cp310-cp310-manylinux_2_12_x86_64.manylinux2010_x86_64.whl.metadata (6.2 kB)\n",
      "Requirement already satisfied: packaging>=20.0 in ./.venv/lib/python3.10/site-packages (from matplotlib) (25.0)\n",
      "Collecting pillow>=8 (from matplotlib)\n",
      "  Downloading pillow-11.3.0-cp310-cp310-manylinux_2_27_x86_64.manylinux_2_28_x86_64.whl.metadata (9.0 kB)\n",
      "Collecting pyparsing>=2.3.1 (from matplotlib)\n",
      "  Downloading pyparsing-3.2.3-py3-none-any.whl.metadata (5.0 kB)\n",
      "Requirement already satisfied: six>=1.5 in ./.venv/lib/python3.10/site-packages (from python-dateutil>=2.8.2->pandas) (1.17.0)\n",
      "Downloading matplotlib-3.10.3-cp310-cp310-manylinux_2_17_x86_64.manylinux2014_x86_64.whl (8.6 MB)\n",
      "\u001b[2K   \u001b[90m━━━━━━━━━━━━━━━━━━━━━━━━━━━━━━━━━━━━━━━━\u001b[0m \u001b[32m8.6/8.6 MB\u001b[0m \u001b[31m2.2 MB/s\u001b[0m eta \u001b[36m0:00:00\u001b[0ma \u001b[36m0:00:01\u001b[0m\n",
      "\u001b[?25hDownloading contourpy-1.3.2-cp310-cp310-manylinux_2_17_x86_64.manylinux2014_x86_64.whl (325 kB)\n",
      "Downloading cycler-0.12.1-py3-none-any.whl (8.3 kB)\n",
      "Downloading fonttools-4.58.5-cp310-cp310-manylinux2014_x86_64.manylinux_2_17_x86_64.whl (4.8 MB)\n",
      "\u001b[2K   \u001b[90m━━━━━━━━━━━━━━━━━━━━━━━━━━━━━━━━━━━━━━━━\u001b[0m \u001b[32m4.8/4.8 MB\u001b[0m \u001b[31m2.1 MB/s\u001b[0m eta \u001b[36m0:00:00\u001b[0m00:01\u001b[0m00:01\u001b[0m\n",
      "\u001b[?25hDownloading kiwisolver-1.4.8-cp310-cp310-manylinux_2_12_x86_64.manylinux2010_x86_64.whl (1.6 MB)\n",
      "\u001b[2K   \u001b[90m━━━━━━━━━━━━━━━━━━━━━━━━━━━━━━━━━━━━━━━━\u001b[0m \u001b[32m1.6/1.6 MB\u001b[0m \u001b[31m1.7 MB/s\u001b[0m eta \u001b[36m0:00:00\u001b[0ma \u001b[36m0:00:01\u001b[0m\n",
      "\u001b[?25hDownloading pillow-11.3.0-cp310-cp310-manylinux_2_27_x86_64.manylinux_2_28_x86_64.whl (6.6 MB)\n",
      "\u001b[2K   \u001b[90m━━━━━━━━━━━━━━━━━━━━━━━━━━━━━━━━━━━━━━━━\u001b[0m \u001b[32m6.6/6.6 MB\u001b[0m \u001b[31m1.9 MB/s\u001b[0m eta \u001b[36m0:00:00\u001b[0m00:01\u001b[0m00:01\u001b[0m\n",
      "\u001b[?25hDownloading pyparsing-3.2.3-py3-none-any.whl (111 kB)\n",
      "Installing collected packages: pyparsing, pillow, kiwisolver, fonttools, cycler, contourpy, matplotlib\n",
      "\u001b[2K   \u001b[90m━━━━━━━━━━━━━━━━━━━━━━━━━━━━━━━━━━━━━━━━\u001b[0m \u001b[32m7/7\u001b[0m [matplotlib]7\u001b[0m [matplotlib]\n",
      "\u001b[1A\u001b[2KSuccessfully installed contourpy-1.3.2 cycler-0.12.1 fonttools-4.58.5 kiwisolver-1.4.8 matplotlib-3.10.3 pillow-11.3.0 pyparsing-3.2.3\n",
      "Note: you may need to restart the kernel to use updated packages.\n"
     ]
    }
   ],
   "source": [
    "%pip install openai\n",
    "%pip install dotenv\n",
    "%pip install pandas numpy matplotlib"
   ]
  },
  {
   "cell_type": "code",
   "execution_count": 99,
   "id": "13127a4e",
   "metadata": {},
   "outputs": [],
   "source": [
    "from openai.types import CompletionChoice\n",
    "from typing import List, Optional, Dict, TypedDict\n",
    "\n",
    "class LogProbsDict(TypedDict):\n",
    "    text_offset: List[int]\n",
    "    token_logprobs: List[float] # probabilities that has to be taken for the next tokens\n",
    "    tokens: List[str] # tokens, that were taken for the prompt context\n",
    "    top_logprobs: List[Dict[str, float]] # calculated probabilites for the next occurent tokens"
   ]
  },
  {
   "cell_type": "code",
   "execution_count": 101,
   "id": "ed1b0dcc",
   "metadata": {},
   "outputs": [
    {
     "data": {
      "text/plain": [
       "True"
      ]
     },
     "execution_count": 101,
     "metadata": {},
     "output_type": "execute_result"
    }
   ],
   "source": [
    "from dotenv import load_dotenv\n",
    "load_dotenv()"
   ]
  },
  {
   "cell_type": "code",
   "execution_count": 102,
   "id": "82eb225d",
   "metadata": {},
   "outputs": [
    {
     "name": "stdout",
     "output_type": "stream",
     "text": [
      "OPENAI_KEY exists\n"
     ]
    }
   ],
   "source": [
    "import os\n",
    "\n",
    "key = os.getenv('OPENAI_KEY')\n",
    "if key is not None:\n",
    "    print(\"OPENAI_KEY exists\")"
   ]
  },
  {
   "cell_type": "markdown",
   "id": "bb18d582",
   "metadata": {},
   "source": [
    "## GPT-3.5 Demo: Prompt \"Italien hat die beste\" (Temperature = 0)\n",
    "\n",
    "This section demonstrates how to use OpenAI's GPT-3.5 model to generate token predictions for the German prompt \"Italien hat die beste\" with a temperature setting of 0. A temperature of 0 makes the model deterministic, always choosing the most likely next token. The workflow includes retrieving token probabilities and visualizing the top token candidates for each position."
   ]
  },
  {
   "cell_type": "code",
   "execution_count": 262,
   "id": "4c5769b9",
   "metadata": {},
   "outputs": [],
   "source": [
    "from openai import OpenAI\n",
    "\n",
    "client = OpenAI(\n",
    "    api_key=key,\n",
    ")\n",
    "\n",
    "response_temp_0 = client.completions.create(\n",
    "    model=\"gpt-3.5-turbo-instruct\",\n",
    "    prompt=\"Italien hat die beste\",\n",
    "    max_tokens=2,\n",
    "    logprobs=10,\n",
    "    temperature=0\n",
    ")"
   ]
  },
  {
   "cell_type": "code",
   "execution_count": 263,
   "id": "2980733b",
   "metadata": {},
   "outputs": [],
   "source": [
    "choices: CompletionChoice = response_temp_0.choices[0]\n",
    "obj = choices.model_dump()\n",
    "\n",
    "logprobs: Optional[LogProbsDict] = obj.get(\"logprobs\")"
   ]
  },
  {
   "cell_type": "markdown",
   "id": "32843b9e",
   "metadata": {},
   "source": [
    "### Token Prediction Result (Temperature = 0)\n",
    "\n",
    "For the prompt \"Italien hat die beste\" with temperature set to 0, the model predicted the next two tokens as \"Kü\" and \"che\". At temperature 0, the model always selects the next token with the highest probability (i.e., the lowest negative log probability score), resulting in deterministic output."
   ]
  },
  {
   "cell_type": "code",
   "execution_count": 264,
   "id": "e8fb8de2",
   "metadata": {},
   "outputs": [
    {
     "data": {
      "text/html": [
       "<div>\n",
       "<style scoped>\n",
       "    .dataframe tbody tr th:only-of-type {\n",
       "        vertical-align: middle;\n",
       "    }\n",
       "\n",
       "    .dataframe tbody tr th {\n",
       "        vertical-align: top;\n",
       "    }\n",
       "\n",
       "    .dataframe thead th {\n",
       "        text-align: right;\n",
       "    }\n",
       "</style>\n",
       "<table border=\"1\" class=\"dataframe\">\n",
       "  <thead>\n",
       "    <tr style=\"text-align: right;\">\n",
       "      <th></th>\n",
       "      <th>0</th>\n",
       "      <th>1</th>\n",
       "    </tr>\n",
       "  </thead>\n",
       "  <tbody>\n",
       "    <tr>\n",
       "      <th>0</th>\n",
       "      <td>Kü</td>\n",
       "      <td>-1.909545</td>\n",
       "    </tr>\n",
       "    <tr>\n",
       "      <th>1</th>\n",
       "      <td>che</td>\n",
       "      <td>-0.070941</td>\n",
       "    </tr>\n",
       "  </tbody>\n",
       "</table>\n",
       "</div>"
      ],
      "text/plain": [
       "     0         1\n",
       "0   Kü -1.909545\n",
       "1  che -0.070941"
      ]
     },
     "execution_count": 264,
     "metadata": {},
     "output_type": "execute_result"
    }
   ],
   "source": [
    "import pandas as pd\n",
    "\n",
    "token_candidates = logprobs.get('tokens')\n",
    "token_probs = logprobs.get('token_logprobs')\n",
    "next_tokens = pd.DataFrame([token_candidates, token_probs])\n",
    "next_tokens.T"
   ]
  },
  {
   "cell_type": "code",
   "execution_count": 265,
   "id": "e6672373",
   "metadata": {},
   "outputs": [
    {
     "data": {
      "image/png": "[encoded data removed]",
      "text/plain": [
       "<Figure size 800x400 with 1 Axes>"
      ]
     },
     "metadata": {},
     "output_type": "display_data"
    },
    {
     "data": {
      "image/png": "[encoded data removed]",
      "text/plain": [
       "<Figure size 800x400 with 1 Axes>"
      ]
     },
     "metadata": {},
     "output_type": "display_data"
    }
   ],
   "source": [
    "import pandas as pd\n",
    "import numpy as np\n",
    "import matplotlib.pyplot as plt\n",
    "\n",
    "top_candidates = logprobs.get('top_logprobs')\n",
    "\n",
    "# Process each token position\n",
    "for idx, token_dict in enumerate(top_candidates):\n",
    "    df = pd.DataFrame(token_dict.items(), columns=[\"token\", \"log_prob\"])\n",
    "    \n",
    "    # Plot log probs directly\n",
    "    plt.figure(figsize=(8, 4))\n",
    "    plt.bar(df[\"token\"], df[\"log_prob\"])\n",
    "    plt.xlabel(\"Token Candidates\")\n",
    "    plt.ylabel(\"Log Probability\")\n",
    "    plt.title(f\"Top Token Predictions for Position {idx + 1}\\nPrompt: 'Italien hat die beste'\")\n",
    "    plt.grid(axis='y', linestyle='--', alpha=0.7)\n",
    "    plt.tight_layout()\n",
    "    plt.show()\n"
   ]
  },
  {
   "cell_type": "code",
   "execution_count": 275,
   "id": "dfa9c8fa",
   "metadata": {},
   "outputs": [
    {
     "data": {
      "text/html": [
       "<div>\n",
       "<style scoped>\n",
       "    .dataframe tbody tr th:only-of-type {\n",
       "        vertical-align: middle;\n",
       "    }\n",
       "\n",
       "    .dataframe tbody tr th {\n",
       "        vertical-align: top;\n",
       "    }\n",
       "\n",
       "    .dataframe thead th {\n",
       "        text-align: right;\n",
       "    }\n",
       "</style>\n",
       "<table border=\"1\" class=\"dataframe\">\n",
       "  <thead>\n",
       "    <tr style=\"text-align: right;\">\n",
       "      <th></th>\n",
       "      <th>0</th>\n",
       "      <th>1</th>\n",
       "    </tr>\n",
       "  </thead>\n",
       "  <tbody>\n",
       "    <tr>\n",
       "      <th>0</th>\n",
       "      <td>Kü</td>\n",
       "      <td>-1.909545</td>\n",
       "    </tr>\n",
       "    <tr>\n",
       "      <th>1</th>\n",
       "      <td>Mann</td>\n",
       "      <td>-3.086459</td>\n",
       "    </tr>\n",
       "    <tr>\n",
       "      <th>2</th>\n",
       "      <td>Pizza</td>\n",
       "      <td>-3.209649</td>\n",
       "    </tr>\n",
       "    <tr>\n",
       "      <th>3</th>\n",
       "      <td>Fuß</td>\n",
       "      <td>-3.28192</td>\n",
       "    </tr>\n",
       "    <tr>\n",
       "      <th>4</th>\n",
       "      <td>V</td>\n",
       "      <td>-3.563044</td>\n",
       "    </tr>\n",
       "    <tr>\n",
       "      <th>5</th>\n",
       "      <td>Pasta</td>\n",
       "      <td>-3.788603</td>\n",
       "    </tr>\n",
       "    <tr>\n",
       "      <th>6</th>\n",
       "      <td>W</td>\n",
       "      <td>-3.955809</td>\n",
       "    </tr>\n",
       "    <tr>\n",
       "      <th>7</th>\n",
       "      <td>Lebens</td>\n",
       "      <td>-3.96799</td>\n",
       "    </tr>\n",
       "    <tr>\n",
       "      <th>8</th>\n",
       "      <td>K</td>\n",
       "      <td>-4.049636</td>\n",
       "    </tr>\n",
       "    <tr>\n",
       "      <th>9</th>\n",
       "      <td>it</td>\n",
       "      <td>-4.195041</td>\n",
       "    </tr>\n",
       "  </tbody>\n",
       "</table>\n",
       "</div>"
      ],
      "text/plain": [
       "         0         1\n",
       "0       Kü -1.909545\n",
       "1     Mann -3.086459\n",
       "2    Pizza -3.209649\n",
       "3      Fuß  -3.28192\n",
       "4        V -3.563044\n",
       "5    Pasta -3.788603\n",
       "6        W -3.955809\n",
       "7   Lebens  -3.96799\n",
       "8        K -4.049636\n",
       "9       it -4.195041"
      ]
     },
     "execution_count": 275,
     "metadata": {},
     "output_type": "execute_result"
    }
   ],
   "source": [
    "rows_0, cols_0 = [], []\n",
    "\n",
    "for k, v in top_candidates[0].items():\n",
    "    rows_0.append(k)\n",
    "    cols_0.append(v)\n",
    "\n",
    "pd.DataFrame([rows_0, cols_0]).T"
   ]
  },
  {
   "cell_type": "code",
   "execution_count": 276,
   "id": "ecf2a037",
   "metadata": {},
   "outputs": [
    {
     "data": {
      "text/html": [
       "<div>\n",
       "<style scoped>\n",
       "    .dataframe tbody tr th:only-of-type {\n",
       "        vertical-align: middle;\n",
       "    }\n",
       "\n",
       "    .dataframe tbody tr th {\n",
       "        vertical-align: top;\n",
       "    }\n",
       "\n",
       "    .dataframe thead th {\n",
       "        text-align: right;\n",
       "    }\n",
       "</style>\n",
       "<table border=\"1\" class=\"dataframe\">\n",
       "  <thead>\n",
       "    <tr style=\"text-align: right;\">\n",
       "      <th></th>\n",
       "      <th>0</th>\n",
       "      <th>1</th>\n",
       "    </tr>\n",
       "  </thead>\n",
       "  <tbody>\n",
       "    <tr>\n",
       "      <th>0</th>\n",
       "      <td>che</td>\n",
       "      <td>-0.070941</td>\n",
       "    </tr>\n",
       "    <tr>\n",
       "      <th>1</th>\n",
       "      <td>ste</td>\n",
       "      <td>-3.032206</td>\n",
       "    </tr>\n",
       "    <tr>\n",
       "      <th>2</th>\n",
       "      <td>sten</td>\n",
       "      <td>-4.124024</td>\n",
       "    </tr>\n",
       "    <tr>\n",
       "      <th>3</th>\n",
       "      <td>ch</td>\n",
       "      <td>-6.934836</td>\n",
       "    </tr>\n",
       "    <tr>\n",
       "      <th>4</th>\n",
       "      <td>chen</td>\n",
       "      <td>-6.973887</td>\n",
       "    </tr>\n",
       "    <tr>\n",
       "      <th>5</th>\n",
       "      <td>st</td>\n",
       "      <td>-7.302436</td>\n",
       "    </tr>\n",
       "    <tr>\n",
       "      <th>6</th>\n",
       "      <td>he</td>\n",
       "      <td>-8.119468</td>\n",
       "    </tr>\n",
       "    <tr>\n",
       "      <th>7</th>\n",
       "      <td>s</td>\n",
       "      <td>-8.426507</td>\n",
       "    </tr>\n",
       "    <tr>\n",
       "      <th>8</th>\n",
       "      <td>c</td>\n",
       "      <td>-8.862472</td>\n",
       "    </tr>\n",
       "    <tr>\n",
       "      <th>9</th>\n",
       "      <td>hl</td>\n",
       "      <td>-8.960635</td>\n",
       "    </tr>\n",
       "  </tbody>\n",
       "</table>\n",
       "</div>"
      ],
      "text/plain": [
       "      0         1\n",
       "0   che -0.070941\n",
       "1   ste -3.032206\n",
       "2  sten -4.124024\n",
       "3    ch -6.934836\n",
       "4  chen -6.973887\n",
       "5    st -7.302436\n",
       "6    he -8.119468\n",
       "7     s -8.426507\n",
       "8     c -8.862472\n",
       "9    hl -8.960635"
      ]
     },
     "execution_count": 276,
     "metadata": {},
     "output_type": "execute_result"
    }
   ],
   "source": [
    "rows_1, cols_1 = [], []\n",
    "\n",
    "for k, v in top_candidates[1].items():\n",
    "    rows_1.append(k)\n",
    "    cols_1.append(v)\n",
    "\n",
    "pd.DataFrame([rows_1, cols_1]).T"
   ]
  },
  {
   "cell_type": "markdown",
   "id": "3e6d1edf",
   "metadata": {},
   "source": [
    "### Token Prediction Result (Temperature = 0.85)\n",
    "\n",
    "With temperature set to 0.85, the model introduces randomness into token selection, allowing for more diverse outputs rather than always choosing the most probable token. For the prompt \"Italien hat die beste\", the model selected \"Fuß\" instead of \"Ku\", demonstrating the effect of higher temperature on token prediction."
   ]
  },
  {
   "cell_type": "code",
   "execution_count": null,
   "id": "ff2df496",
   "metadata": {},
   "outputs": [],
   "source": [
    "from openai import OpenAI\n",
    "\n",
    "client = OpenAI(\n",
    "    api_key=key,\n",
    ")\n",
    "\n",
    "response = client.completions.create(\n",
    "    model=\"gpt-3.5-turbo-instruct\",\n",
    "    prompt=\"Italien hat die beste\",\n",
    "    max_tokens=1,\n",
    "    logprobs=10,\n",
    "    temperature=0.85\n",
    ")"
   ]
  },
  {
   "cell_type": "code",
   "execution_count": null,
   "id": "faad6095",
   "metadata": {},
   "outputs": [],
   "source": [
    "choices_higher_temp: CompletionChoice = response.choices[0]\n",
    "obj_higher_temp = choices_higher_temp.model_dump()\n",
    "\n",
    "logprobs_higher_temp: Optional[LogProbsDict] = obj_higher_temp.get(\"logprobs\")"
   ]
  },
  {
   "cell_type": "code",
   "execution_count": null,
   "id": "567b4975",
   "metadata": {},
   "outputs": [
    {
     "data": {
      "text/html": [
       "<div>\n",
       "<style scoped>\n",
       "    .dataframe tbody tr th:only-of-type {\n",
       "        vertical-align: middle;\n",
       "    }\n",
       "\n",
       "    .dataframe tbody tr th {\n",
       "        vertical-align: top;\n",
       "    }\n",
       "\n",
       "    .dataframe thead th {\n",
       "        text-align: right;\n",
       "    }\n",
       "</style>\n",
       "<table border=\"1\" class=\"dataframe\">\n",
       "  <thead>\n",
       "    <tr style=\"text-align: right;\">\n",
       "      <th></th>\n",
       "      <th>0</th>\n",
       "      <th>1</th>\n",
       "    </tr>\n",
       "  </thead>\n",
       "  <tbody>\n",
       "    <tr>\n",
       "      <th>0</th>\n",
       "      <td>Fuß</td>\n",
       "      <td>-3.281921</td>\n",
       "    </tr>\n",
       "  </tbody>\n",
       "</table>\n",
       "</div>"
      ],
      "text/plain": [
       "      0         1\n",
       "0   Fuß -3.281921"
      ]
     },
     "execution_count": 234,
     "metadata": {},
     "output_type": "execute_result"
    }
   ],
   "source": [
    "import pandas as pd\n",
    "\n",
    "token_candidates_higher_temp = logprobs_higher_temp.get('tokens')\n",
    "token_probs_higher_temp = logprobs_higher_temp.get('token_logprobs')\n",
    "next_tokens_higher_temp = pd.DataFrame([token_candidates_higher_temp, token_probs_higher_temp])\n",
    "next_tokens_higher_temp.T"
   ]
  },
  {
   "cell_type": "code",
   "execution_count": null,
   "id": "a1503656",
   "metadata": {},
   "outputs": [
    {
     "data": {
      "image/png": "[encoded data removed]",
      "text/plain": [
       "<Figure size 800x400 with 1 Axes>"
      ]
     },
     "metadata": {},
     "output_type": "display_data"
    }
   ],
   "source": [
    "import pandas as pd\n",
    "import numpy as np\n",
    "import matplotlib.pyplot as plt\n",
    "\n",
    "top_candidates_higher_temp = logprobs_higher_temp.get('top_logprobs')\n",
    "\n",
    "# Process each token position\n",
    "for idx, token_dict in enumerate(top_candidates_higher_temp):\n",
    "    df = pd.DataFrame(token_dict.items(), columns=[\"token\", \"log_prob\"])\n",
    "    \n",
    "    # Plot log probs directly\n",
    "    plt.figure(figsize=(8, 4))\n",
    "    plt.bar(df[\"token\"], df[\"log_prob\"])\n",
    "    plt.xlabel(\"Token Candidates\")\n",
    "    plt.ylabel(\"Log Probability\")\n",
    "    plt.title(f\"Top Token Predictions for Position {idx + 1}\\nPrompt: 'Italien hat die beste'\")\n",
    "    plt.grid(axis='y', linestyle='--', alpha=0.7)\n",
    "    plt.tight_layout()\n",
    "    plt.show()"
   ]
  },
  {
   "cell_type": "code",
   "execution_count": null,
   "id": "3383cc86",
   "metadata": {},
   "outputs": [],
   "source": [
    "rows, cols = [], []\n",
    "for k, v in enumerate(top_candidates_higher_temp):\n",
    "    for k, val in v.items():\n",
    "        rows.append(k)\n",
    "        cols.append(val)\n"
   ]
  },
  {
   "cell_type": "code",
   "execution_count": null,
   "id": "cb4bae36",
   "metadata": {},
   "outputs": [
    {
     "data": {
      "text/html": [
       "<div>\n",
       "<style scoped>\n",
       "    .dataframe tbody tr th:only-of-type {\n",
       "        vertical-align: middle;\n",
       "    }\n",
       "\n",
       "    .dataframe tbody tr th {\n",
       "        vertical-align: top;\n",
       "    }\n",
       "\n",
       "    .dataframe thead th {\n",
       "        text-align: right;\n",
       "    }\n",
       "</style>\n",
       "<table border=\"1\" class=\"dataframe\">\n",
       "  <thead>\n",
       "    <tr style=\"text-align: right;\">\n",
       "      <th></th>\n",
       "      <th>0</th>\n",
       "      <th>1</th>\n",
       "    </tr>\n",
       "  </thead>\n",
       "  <tbody>\n",
       "    <tr>\n",
       "      <th>0</th>\n",
       "      <td>Kü</td>\n",
       "      <td>-1.906157</td>\n",
       "    </tr>\n",
       "    <tr>\n",
       "      <th>1</th>\n",
       "      <td>Mann</td>\n",
       "      <td>-3.088257</td>\n",
       "    </tr>\n",
       "    <tr>\n",
       "      <th>2</th>\n",
       "      <td>Pizza</td>\n",
       "      <td>-3.207342</td>\n",
       "    </tr>\n",
       "    <tr>\n",
       "      <th>3</th>\n",
       "      <td>Fuß</td>\n",
       "      <td>-3.281921</td>\n",
       "    </tr>\n",
       "    <tr>\n",
       "      <th>4</th>\n",
       "      <td>V</td>\n",
       "      <td>-3.562426</td>\n",
       "    </tr>\n",
       "    <tr>\n",
       "      <th>5</th>\n",
       "      <td>Pasta</td>\n",
       "      <td>-3.786978</td>\n",
       "    </tr>\n",
       "    <tr>\n",
       "      <th>6</th>\n",
       "      <td>W</td>\n",
       "      <td>-3.958446</td>\n",
       "    </tr>\n",
       "    <tr>\n",
       "      <th>7</th>\n",
       "      <td>Lebens</td>\n",
       "      <td>-3.968187</td>\n",
       "    </tr>\n",
       "    <tr>\n",
       "      <th>8</th>\n",
       "      <td>K</td>\n",
       "      <td>-4.049765</td>\n",
       "    </tr>\n",
       "    <tr>\n",
       "      <th>9</th>\n",
       "      <td>it</td>\n",
       "      <td>-4.193665</td>\n",
       "    </tr>\n",
       "  </tbody>\n",
       "</table>\n",
       "</div>"
      ],
      "text/plain": [
       "         0         1\n",
       "0       Kü -1.906157\n",
       "1     Mann -3.088257\n",
       "2    Pizza -3.207342\n",
       "3      Fuß -3.281921\n",
       "4        V -3.562426\n",
       "5    Pasta -3.786978\n",
       "6        W -3.958446\n",
       "7   Lebens -3.968187\n",
       "8        K -4.049765\n",
       "9       it -4.193665"
      ]
     },
     "execution_count": 261,
     "metadata": {},
     "output_type": "execute_result"
    }
   ],
   "source": [
    "pd.DataFrame([rows, cols]).T"
   ]
  }
 ],
 "metadata": {
  "kernelspec": {
   "display_name": ".venv",
   "language": "python",
   "name": "python3"
  },
  "language_info": {
   "codemirror_mode": {
    "name": "ipython",
    "version": 3
   },
   "file_extension": ".py",
   "mimetype": "text/x-python",
   "name": "python",
   "nbconvert_exporter": "python",
   "pygments_lexer": "ipython3",
   "version": "3.10.12"
  }
 },
 "nbformat": 4,
 "nbformat_minor": 5
}
