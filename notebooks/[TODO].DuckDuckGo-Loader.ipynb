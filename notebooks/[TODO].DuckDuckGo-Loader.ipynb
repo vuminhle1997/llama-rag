{
 "cells": [
  {
   "cell_type": "code",
   "id": "initial_id",
   "metadata": {
    "collapsed": true,
    "ExecuteTime": {
     "end_time": "2025-04-03T12:41:35.789041Z",
     "start_time": "2025-04-03T12:41:33.019181Z"
    }
   },
   "source": "!pip install llama-index-tools-duckduckgo",
   "outputs": [
    {
     "name": "stdout",
     "output_type": "stream",
     "text": [
      "Collecting llama-index-tools-duckduckgo\r\n",
      "  Obtaining dependency information for llama-index-tools-duckduckgo from https://files.pythonhosted.org/packages/cb/6c/6bc1ccced740a31b90d111f8a546b08e3b6e0238a57cc830229acf135660/llama_index_tools_duckduckgo-0.3.0-py3-none-any.whl.metadata\r\n",
      "  Downloading llama_index_tools_duckduckgo-0.3.0-py3-none-any.whl.metadata (1.8 kB)\r\n",
      "Collecting duckduckgo-search<7.0.0,>=6.1.0 (from llama-index-tools-duckduckgo)\r\n",
      "  Obtaining dependency information for duckduckgo-search<7.0.0,>=6.1.0 from https://files.pythonhosted.org/packages/d5/2e/c8bfff437be4d53a0156d75334234e59ba2e8d8fd24b618b1cef15e8e2ee/duckduckgo_search-6.4.2-py3-none-any.whl.metadata\r\n",
      "  Downloading duckduckgo_search-6.4.2-py3-none-any.whl.metadata (25 kB)\r\n",
      "Requirement already satisfied: llama-index-core<0.13.0,>=0.12.0 in ./venv/lib/python3.12/site-packages (from llama-index-tools-duckduckgo) (0.12.26)\r\n",
      "Requirement already satisfied: click>=8.1.7 in ./venv/lib/python3.12/site-packages (from duckduckgo-search<7.0.0,>=6.1.0->llama-index-tools-duckduckgo) (8.1.8)\r\n",
      "Collecting primp>=0.9.1 (from duckduckgo-search<7.0.0,>=6.1.0->llama-index-tools-duckduckgo)\r\n",
      "  Obtaining dependency information for primp>=0.9.1 from https://files.pythonhosted.org/packages/13/77/f85bc3e31befa9b9bac54bab61beb34ff84a70d20f02b7dcd8abc120120a/primp-0.14.0-cp38-abi3-manylinux_2_17_x86_64.manylinux2014_x86_64.whl.metadata\r\n",
      "  Downloading primp-0.14.0-cp38-abi3-manylinux_2_17_x86_64.manylinux2014_x86_64.whl.metadata (13 kB)\r\n",
      "Requirement already satisfied: PyYAML>=6.0.1 in ./venv/lib/python3.12/site-packages (from llama-index-core<0.13.0,>=0.12.0->llama-index-tools-duckduckgo) (6.0.2)\r\n",
      "Requirement already satisfied: SQLAlchemy[asyncio]>=1.4.49 in ./venv/lib/python3.12/site-packages (from llama-index-core<0.13.0,>=0.12.0->llama-index-tools-duckduckgo) (2.0.38)\r\n",
      "Requirement already satisfied: aiohttp<4.0.0,>=3.8.6 in ./venv/lib/python3.12/site-packages (from llama-index-core<0.13.0,>=0.12.0->llama-index-tools-duckduckgo) (3.11.13)\r\n",
      "Requirement already satisfied: banks<3.0.0,>=2.0.0 in ./venv/lib/python3.12/site-packages (from llama-index-core<0.13.0,>=0.12.0->llama-index-tools-duckduckgo) (2.0.0)\r\n",
      "Requirement already satisfied: dataclasses-json in ./venv/lib/python3.12/site-packages (from llama-index-core<0.13.0,>=0.12.0->llama-index-tools-duckduckgo) (0.6.7)\r\n",
      "Requirement already satisfied: deprecated>=1.2.9.3 in ./venv/lib/python3.12/site-packages (from llama-index-core<0.13.0,>=0.12.0->llama-index-tools-duckduckgo) (1.2.18)\r\n",
      "Requirement already satisfied: dirtyjson<2.0.0,>=1.0.8 in ./venv/lib/python3.12/site-packages (from llama-index-core<0.13.0,>=0.12.0->llama-index-tools-duckduckgo) (1.0.8)\r\n",
      "Requirement already satisfied: filetype<2.0.0,>=1.2.0 in ./venv/lib/python3.12/site-packages (from llama-index-core<0.13.0,>=0.12.0->llama-index-tools-duckduckgo) (1.2.0)\r\n",
      "Requirement already satisfied: fsspec>=2023.5.0 in ./venv/lib/python3.12/site-packages (from llama-index-core<0.13.0,>=0.12.0->llama-index-tools-duckduckgo) (2025.2.0)\r\n",
      "Requirement already satisfied: httpx in ./venv/lib/python3.12/site-packages (from llama-index-core<0.13.0,>=0.12.0->llama-index-tools-duckduckgo) (0.28.1)\r\n",
      "Requirement already satisfied: nest-asyncio<2.0.0,>=1.5.8 in ./venv/lib/python3.12/site-packages (from llama-index-core<0.13.0,>=0.12.0->llama-index-tools-duckduckgo) (1.6.0)\r\n",
      "Requirement already satisfied: networkx>=3.0 in ./venv/lib/python3.12/site-packages (from llama-index-core<0.13.0,>=0.12.0->llama-index-tools-duckduckgo) (3.4.2)\r\n",
      "Requirement already satisfied: nltk>3.8.1 in ./venv/lib/python3.12/site-packages (from llama-index-core<0.13.0,>=0.12.0->llama-index-tools-duckduckgo) (3.9.1)\r\n",
      "Requirement already satisfied: numpy in ./venv/lib/python3.12/site-packages (from llama-index-core<0.13.0,>=0.12.0->llama-index-tools-duckduckgo) (2.2.3)\r\n",
      "Requirement already satisfied: pillow>=9.0.0 in ./venv/lib/python3.12/site-packages (from llama-index-core<0.13.0,>=0.12.0->llama-index-tools-duckduckgo) (10.4.0)\r\n",
      "Requirement already satisfied: pydantic>=2.8.0 in ./venv/lib/python3.12/site-packages (from llama-index-core<0.13.0,>=0.12.0->llama-index-tools-duckduckgo) (2.10.6)\r\n",
      "Requirement already satisfied: requests>=2.31.0 in ./venv/lib/python3.12/site-packages (from llama-index-core<0.13.0,>=0.12.0->llama-index-tools-duckduckgo) (2.32.3)\r\n",
      "Requirement already satisfied: tenacity!=8.4.0,<10.0.0,>=8.2.0 in ./venv/lib/python3.12/site-packages (from llama-index-core<0.13.0,>=0.12.0->llama-index-tools-duckduckgo) (9.0.0)\r\n",
      "Requirement already satisfied: tiktoken>=0.3.3 in ./venv/lib/python3.12/site-packages (from llama-index-core<0.13.0,>=0.12.0->llama-index-tools-duckduckgo) (0.9.0)\r\n",
      "Requirement already satisfied: tqdm<5.0.0,>=4.66.1 in ./venv/lib/python3.12/site-packages (from llama-index-core<0.13.0,>=0.12.0->llama-index-tools-duckduckgo) (4.67.1)\r\n",
      "Requirement already satisfied: typing-extensions>=4.5.0 in ./venv/lib/python3.12/site-packages (from llama-index-core<0.13.0,>=0.12.0->llama-index-tools-duckduckgo) (4.12.2)\r\n",
      "Requirement already satisfied: typing-inspect>=0.8.0 in ./venv/lib/python3.12/site-packages (from llama-index-core<0.13.0,>=0.12.0->llama-index-tools-duckduckgo) (0.9.0)\r\n",
      "Requirement already satisfied: wrapt in ./venv/lib/python3.12/site-packages (from llama-index-core<0.13.0,>=0.12.0->llama-index-tools-duckduckgo) (1.17.2)\r\n",
      "Requirement already satisfied: aiohappyeyeballs>=2.3.0 in ./venv/lib/python3.12/site-packages (from aiohttp<4.0.0,>=3.8.6->llama-index-core<0.13.0,>=0.12.0->llama-index-tools-duckduckgo) (2.5.0)\r\n",
      "Requirement already satisfied: aiosignal>=1.1.2 in ./venv/lib/python3.12/site-packages (from aiohttp<4.0.0,>=3.8.6->llama-index-core<0.13.0,>=0.12.0->llama-index-tools-duckduckgo) (1.3.2)\r\n",
      "Requirement already satisfied: attrs>=17.3.0 in ./venv/lib/python3.12/site-packages (from aiohttp<4.0.0,>=3.8.6->llama-index-core<0.13.0,>=0.12.0->llama-index-tools-duckduckgo) (25.1.0)\r\n",
      "Requirement already satisfied: frozenlist>=1.1.1 in ./venv/lib/python3.12/site-packages (from aiohttp<4.0.0,>=3.8.6->llama-index-core<0.13.0,>=0.12.0->llama-index-tools-duckduckgo) (1.5.0)\r\n",
      "Requirement already satisfied: multidict<7.0,>=4.5 in ./venv/lib/python3.12/site-packages (from aiohttp<4.0.0,>=3.8.6->llama-index-core<0.13.0,>=0.12.0->llama-index-tools-duckduckgo) (6.1.0)\r\n",
      "Requirement already satisfied: propcache>=0.2.0 in ./venv/lib/python3.12/site-packages (from aiohttp<4.0.0,>=3.8.6->llama-index-core<0.13.0,>=0.12.0->llama-index-tools-duckduckgo) (0.3.0)\r\n",
      "Requirement already satisfied: yarl<2.0,>=1.17.0 in ./venv/lib/python3.12/site-packages (from aiohttp<4.0.0,>=3.8.6->llama-index-core<0.13.0,>=0.12.0->llama-index-tools-duckduckgo) (1.18.3)\r\n",
      "Requirement already satisfied: griffe in ./venv/lib/python3.12/site-packages (from banks<3.0.0,>=2.0.0->llama-index-core<0.13.0,>=0.12.0->llama-index-tools-duckduckgo) (1.7.0)\r\n",
      "Requirement already satisfied: jinja2 in ./venv/lib/python3.12/site-packages (from banks<3.0.0,>=2.0.0->llama-index-core<0.13.0,>=0.12.0->llama-index-tools-duckduckgo) (3.1.6)\r\n",
      "Requirement already satisfied: joblib in ./venv/lib/python3.12/site-packages (from nltk>3.8.1->llama-index-core<0.13.0,>=0.12.0->llama-index-tools-duckduckgo) (1.4.2)\r\n",
      "Requirement already satisfied: regex>=2021.8.3 in ./venv/lib/python3.12/site-packages (from nltk>3.8.1->llama-index-core<0.13.0,>=0.12.0->llama-index-tools-duckduckgo) (2024.11.6)\r\n",
      "Requirement already satisfied: annotated-types>=0.6.0 in ./venv/lib/python3.12/site-packages (from pydantic>=2.8.0->llama-index-core<0.13.0,>=0.12.0->llama-index-tools-duckduckgo) (0.7.0)\r\n",
      "Requirement already satisfied: pydantic-core==2.27.2 in ./venv/lib/python3.12/site-packages (from pydantic>=2.8.0->llama-index-core<0.13.0,>=0.12.0->llama-index-tools-duckduckgo) (2.27.2)\r\n",
      "Requirement already satisfied: charset-normalizer<4,>=2 in ./venv/lib/python3.12/site-packages (from requests>=2.31.0->llama-index-core<0.13.0,>=0.12.0->llama-index-tools-duckduckgo) (3.4.1)\r\n",
      "Requirement already satisfied: idna<4,>=2.5 in ./venv/lib/python3.12/site-packages (from requests>=2.31.0->llama-index-core<0.13.0,>=0.12.0->llama-index-tools-duckduckgo) (3.10)\r\n",
      "Requirement already satisfied: urllib3<3,>=1.21.1 in ./venv/lib/python3.12/site-packages (from requests>=2.31.0->llama-index-core<0.13.0,>=0.12.0->llama-index-tools-duckduckgo) (2.3.0)\r\n",
      "Requirement already satisfied: certifi>=2017.4.17 in ./venv/lib/python3.12/site-packages (from requests>=2.31.0->llama-index-core<0.13.0,>=0.12.0->llama-index-tools-duckduckgo) (2025.1.31)\r\n",
      "Requirement already satisfied: greenlet!=0.4.17 in ./venv/lib/python3.12/site-packages (from SQLAlchemy[asyncio]>=1.4.49->llama-index-core<0.13.0,>=0.12.0->llama-index-tools-duckduckgo) (3.1.1)\r\n",
      "Requirement already satisfied: mypy-extensions>=0.3.0 in ./venv/lib/python3.12/site-packages (from typing-inspect>=0.8.0->llama-index-core<0.13.0,>=0.12.0->llama-index-tools-duckduckgo) (1.0.0)\r\n",
      "Requirement already satisfied: marshmallow<4.0.0,>=3.18.0 in ./venv/lib/python3.12/site-packages (from dataclasses-json->llama-index-core<0.13.0,>=0.12.0->llama-index-tools-duckduckgo) (3.26.1)\r\n",
      "Requirement already satisfied: anyio in ./venv/lib/python3.12/site-packages (from httpx->llama-index-core<0.13.0,>=0.12.0->llama-index-tools-duckduckgo) (4.8.0)\r\n",
      "Requirement already satisfied: httpcore==1.* in ./venv/lib/python3.12/site-packages (from httpx->llama-index-core<0.13.0,>=0.12.0->llama-index-tools-duckduckgo) (1.0.7)\r\n",
      "Requirement already satisfied: h11<0.15,>=0.13 in ./venv/lib/python3.12/site-packages (from httpcore==1.*->httpx->llama-index-core<0.13.0,>=0.12.0->llama-index-tools-duckduckgo) (0.14.0)\r\n",
      "Requirement already satisfied: packaging>=17.0 in ./venv/lib/python3.12/site-packages (from marshmallow<4.0.0,>=3.18.0->dataclasses-json->llama-index-core<0.13.0,>=0.12.0->llama-index-tools-duckduckgo) (24.2)\r\n",
      "Requirement already satisfied: sniffio>=1.1 in ./venv/lib/python3.12/site-packages (from anyio->httpx->llama-index-core<0.13.0,>=0.12.0->llama-index-tools-duckduckgo) (1.3.1)\r\n",
      "Requirement already satisfied: colorama>=0.4 in ./venv/lib/python3.12/site-packages (from griffe->banks<3.0.0,>=2.0.0->llama-index-core<0.13.0,>=0.12.0->llama-index-tools-duckduckgo) (0.4.6)\r\n",
      "Requirement already satisfied: MarkupSafe>=2.0 in ./venv/lib/python3.12/site-packages (from jinja2->banks<3.0.0,>=2.0.0->llama-index-core<0.13.0,>=0.12.0->llama-index-tools-duckduckgo) (3.0.2)\r\n",
      "Downloading llama_index_tools_duckduckgo-0.3.0-py3-none-any.whl (2.7 kB)\r\n",
      "Downloading duckduckgo_search-6.4.2-py3-none-any.whl (27 kB)\r\n",
      "Downloading primp-0.14.0-cp38-abi3-manylinux_2_17_x86_64.manylinux2014_x86_64.whl (3.3 MB)\r\n",
      "\u001B[2K   \u001B[38;2;114;156;31m━━━━━━━━━━━━━━━━━━━━━━━━━━━━━━━━━━━━━━━━\u001B[0m \u001B[32m3.3/3.3 MB\u001B[0m \u001B[31m6.8 MB/s\u001B[0m eta \u001B[36m0:00:00\u001B[0mm eta \u001B[36m0:00:01\u001B[0m0:01\u001B[0m:01\u001B[0m\r\n",
      "\u001B[?25hInstalling collected packages: primp, duckduckgo-search, llama-index-tools-duckduckgo\r\n",
      "Successfully installed duckduckgo-search-6.4.2 llama-index-tools-duckduckgo-0.3.0 primp-0.14.0\r\n",
      "\r\n",
      "\u001B[1m[\u001B[0m\u001B[34;49mnotice\u001B[0m\u001B[1;39;49m]\u001B[0m\u001B[39;49m A new release of pip is available: \u001B[0m\u001B[31;49m23.2.1\u001B[0m\u001B[39;49m -> \u001B[0m\u001B[32;49m25.0.1\u001B[0m\r\n",
      "\u001B[1m[\u001B[0m\u001B[34;49mnotice\u001B[0m\u001B[1;39;49m]\u001B[0m\u001B[39;49m To update, run: \u001B[0m\u001B[32;49mpip install --upgrade pip\u001B[0m\r\n"
     ]
    }
   ],
   "execution_count": 1
  },
  {
   "metadata": {
    "ExecuteTime": {
     "end_time": "2025-04-04T08:11:22.600962Z",
     "start_time": "2025-04-04T08:11:22.567026Z"
    }
   },
   "cell_type": "code",
   "source": [
    "import uuid\n",
    "import chromadb\n",
    "import os\n",
    "import nest_asyncio\n",
    "\n",
    "from typing import Annotated\n",
    "from llama_index.core.settings import Settings\n",
    "from llama_index.llms.ollama import Ollama\n",
    "from llama_index.embeddings.ollama import OllamaEmbedding\n",
    "from llama_index.readers.web import BeautifulSoupWebReader\n",
    "from llama_index.core.storage import StorageContext\n",
    "from llama_index.core.indices import VectorStoreIndex\n",
    "from llama_index.core.base.llms.types import MessageRole\n",
    "from llama_index.core.tools import FunctionTool, ToolMetadata\n",
    "\n",
    "from llama_index.core.tools import QueryEngineTool\n",
    "from llama_index.core.memory import ChatMemoryBuffer\n",
    "from llama_index.core.types import ChatMessage\n",
    "from llama_index.vector_stores.chroma import ChromaVectorStore\n",
    "from llama_index.core.vector_stores import MetadataFilters, MetadataFilter, FilterOperator\n",
    "from llama_index.core import PromptTemplate\n",
    "from llama_index.core.agent import ReActAgent\n",
    "from llama_index.tools.duckduckgo import DuckDuckGoSearchToolSpec\n",
    "\n",
    "embed_model = OllamaEmbedding(model_name=\"mxbai-embed-large\")\n",
    "llm = Ollama(model=\"hf.co/MaziyarPanahi/gemma-3-27b-it-GGUF:Q4_K_M\", request_timeout=300)\n",
    "Settings.llm = llm\n",
    "Settings.embed_model = embed_model\n",
    "Settings.chunk_size = 512\n",
    "Settings.chunk_overlap = 50"
   ],
   "id": "ecb25f67bde29a8b",
   "outputs": [],
   "execution_count": 93
  },
  {
   "metadata": {
    "ExecuteTime": {
     "end_time": "2025-04-04T08:11:27.835904Z",
     "start_time": "2025-04-04T08:11:23.630433Z"
    }
   },
   "cell_type": "code",
   "source": [
    "reader = DuckDuckGoSearchToolSpec()\n",
    "hyperlinks = reader.duckduckgo_full_search(\"who is karl marx\", max_results=3)\n",
    "\n",
    "scraper = BeautifulSoupWebReader()\n",
    "urls = [document['href'] for document in hyperlinks]\n",
    "scraped_documents = scraper.load_data(urls=urls)\n"
   ],
   "id": "305317e44d49a560",
   "outputs": [],
   "execution_count": 94
  },
  {
   "metadata": {
    "ExecuteTime": {
     "end_time": "2025-04-04T08:11:33.395799Z",
     "start_time": "2025-04-04T08:11:29.006639Z"
    }
   },
   "cell_type": "code",
   "source": [
    "storage_context = StorageContext.from_defaults()\n",
    "\n",
    "indexes = [\n",
    "    VectorStoreIndex.from_documents(documents=[document], storage_context=storage_context, embedding=embed_model, show_progress=True)\n",
    "    for document in scraped_documents\n",
    "]"
   ],
   "id": "49f9334eb3c5cf8a",
   "outputs": [
    {
     "name": "stderr",
     "output_type": "stream",
     "text": [
      "\n",
      "Parsing nodes: 100%|██████████| 1/1 [00:00<00:00, 11.64it/s]\n",
      "\n",
      "Generating embeddings:   0%|          | 0/114 [00:00<?, ?it/s]\u001B[A\n",
      "Generating embeddings:   9%|▉         | 10/114 [00:01<00:13,  7.53it/s]\u001B[A\n",
      "Generating embeddings:  18%|█▊        | 20/114 [00:01<00:06, 15.26it/s]\u001B[A\n",
      "Generating embeddings:  26%|██▋       | 30/114 [00:01<00:03, 22.78it/s]\u001B[A\n",
      "Generating embeddings:  35%|███▌      | 40/114 [00:01<00:02, 30.48it/s]\u001B[A\n",
      "Generating embeddings:  44%|████▍     | 50/114 [00:02<00:01, 36.51it/s]\u001B[A\n",
      "Generating embeddings:  53%|█████▎    | 60/114 [00:02<00:01, 42.14it/s]\u001B[A\n",
      "Generating embeddings:  61%|██████▏   | 70/114 [00:02<00:00, 46.62it/s]\u001B[A\n",
      "Generating embeddings:  70%|███████   | 80/114 [00:02<00:00, 50.05it/s]\u001B[A\n",
      "Generating embeddings:  79%|███████▉  | 90/114 [00:02<00:00, 52.71it/s]\u001B[A\n",
      "Generating embeddings:  88%|████████▊ | 100/114 [00:02<00:00, 54.98it/s]\u001B[A\n",
      "Generating embeddings: 100%|██████████| 114/114 [00:03<00:00, 36.96it/s]\u001B[A\n",
      "\n",
      "Parsing nodes: 100%|██████████| 1/1 [00:00<00:00, 230.14it/s]\n",
      "\n",
      "Generating embeddings:   0%|          | 0/10 [00:00<?, ?it/s]\u001B[A\n",
      "Generating embeddings: 100%|██████████| 10/10 [00:00<00:00, 60.75it/s]\u001B[A\n",
      "\n",
      "Parsing nodes: 100%|██████████| 1/1 [00:00<00:00, 32.04it/s]\n",
      "\n",
      "Generating embeddings:   0%|          | 0/56 [00:00<?, ?it/s]\u001B[A\n",
      "Generating embeddings:  18%|█▊        | 10/56 [00:00<00:00, 59.15it/s]\u001B[A\n",
      "Generating embeddings:  36%|███▌      | 20/56 [00:00<00:00, 58.11it/s]\u001B[A\n",
      "Generating embeddings:  54%|█████▎    | 30/56 [00:00<00:00, 58.20it/s]\u001B[A\n",
      "Generating embeddings:  71%|███████▏  | 40/56 [00:00<00:00, 57.49it/s]\u001B[A\n",
      "Generating embeddings:  89%|████████▉ | 50/56 [00:00<00:00, 57.31it/s]\u001B[A\n",
      "Generating embeddings: 100%|██████████| 56/56 [00:00<00:00, 57.71it/s]\u001B[A\n"
     ]
    }
   ],
   "execution_count": 95
  },
  {
   "metadata": {
    "ExecuteTime": {
     "end_time": "2025-04-04T08:11:40.860988Z",
     "start_time": "2025-04-04T08:11:40.857882Z"
    }
   },
   "cell_type": "code",
   "source": [
    "query_engines = [\n",
    "    index.as_query_engine() for index in indexes\n",
    "]"
   ],
   "id": "50a443e386cd75b",
   "outputs": [],
   "execution_count": 96
  },
  {
   "metadata": {
    "ExecuteTime": {
     "end_time": "2025-04-04T08:13:30.690178Z",
     "start_time": "2025-04-04T08:11:42.112639Z"
    }
   },
   "cell_type": "code",
   "source": [
    "for i, query_engine in enumerate(query_engines):\n",
    "    print(i)\n",
    "    print(query_engine.query(\"Worüber geht der Text? Schreibe mehr als 100 Worte.\"))\n",
    "    print(\"\\n\")"
   ],
   "id": "449fd5f22080065c",
   "outputs": [
    {
     "name": "stdout",
     "output_type": "stream",
     "text": [
      "0\n",
      "The text provides information about Karl Marx, categorizing him within numerous intellectual and philosophical schools of thought and listing associated concepts. He is identified as a philosopher, sociologist, historian, and economist, with connections to traditions like German idealism, historical materialism, and Marxism itself. \n",
      "\n",
      "The document details Marx’s affiliations with various intellectual movements, including critical theory, existentialism, and postmodernism. It also places him in relation to a broad range of other influential thinkers, from Beauvoir and Bergson to Žižek and Weber. \n",
      "\n",
      "Furthermore, the text outlines key concepts associated with Marx and the intellectual traditions he influenced, such as class struggle, ideology, alienation, and historical materialism. It also touches upon related philosophical ideas like authenticity, being, and difference. The provided information essentially serves as a detailed categorization of Marx’s intellectual landscape and the concepts central to his work and its legacy.\n",
      "\n",
      "\n",
      "\n",
      "\n",
      "\n",
      "\n",
      "1\n",
      "Der Text handelt vom Leben und den frühen intellektuellen Entwicklungen von Karl Marx. Er beginnt mit Marx’ journalistischer Tätigkeit für die „Rheinisische Zeitung“ im Jahr 1842, wo er sich mit sozialen und wirtschaftlichen Fragen auseinandersetzte und die Zeitung zu einer führenden Publikation in Preußen machte.\n",
      "\n",
      "Der Text beschreibt auch Marx’ akademische Laufbahn, einschließlich seiner Promotion an der Universität Jena im Jahr 1841. Seine Dissertation analysierte die Naturphilosophien von Demokrit und Epikur und enthielt einen Aufruf zur Rebellion gegen Autoritäten.\n",
      "\n",
      "Ein wichtiger Aspekt des Textes ist Marx’ Auseinandersetzung mit den „Jungen Hegelianern“ und deren zunehmender Radikalisierung, einschließlich des Übergangs zum Atheismus und der Forderung nach politischer Aktion. Der Text hebt auch den Einfluss von Ludwig Feuerbachs „Das Wesen des Chrisentums“ auf Marx hervor, der zu einer Kombination von Hegels Dialektik und Feuerbachs Materialismus führte. Schließlich wird auch auf Marx’ Ehe mit Jenny von Westphalen eingegangen und die familiären Hintergründe beleuchtet.\n",
      "\n",
      "\n",
      "2\n",
      "The text primarily discusses Karl Marx’s theory of history and its various interpretations. It highlights the significance of “The German Ideology” and “Theses on Feuerbach” as foundational texts for understanding his ideas. A central focus is on G.A. Cohen’s reconstruction of Marx’s theory, presented as a rigorous and detailed analysis. \n",
      "\n",
      "However, the text also acknowledges that Cohen’s interpretation isn’t universally accepted, with some scholars criticizing its mechanical approach and perceived downplaying of class struggle. The author notes that while class struggle isn't explicitly emphasized in the “1859 Preface” – the basis of Cohen’s interpretation – it may be implicitly present, potentially obscured due to censorship concerns. \n",
      "\n",
      "Ultimately, the text serves as an overview of different approaches to understanding Marx's historical theory, positioning Cohen's interpretation as a prominent, though contested, framework for analysis. It also provides background on related philosophical figures like Hegel, Feuerbach, and Althusser.\n",
      "\n",
      "\n"
     ]
    }
   ],
   "execution_count": 97
  },
  {
   "metadata": {
    "ExecuteTime": {
     "end_time": "2025-04-04T08:13:38.816553Z",
     "start_time": "2025-04-04T08:13:38.758683Z"
    }
   },
   "cell_type": "code",
   "source": [
    "chroma_client = chromadb.HttpClient()\n",
    "chroma_collection = chroma_client.get_or_create_collection(os.environ.get(\"CHROMA_COLLECTION_NAME\", 'Karl-Marx'))\n",
    "chroma_vector_store = ChromaVectorStore.from_collection(chroma_collection)\n",
    "\n",
    "storage_context = StorageContext.from_defaults(vector_store=chroma_vector_store)"
   ],
   "id": "beebdd94a4550682",
   "outputs": [],
   "execution_count": 99
  },
  {
   "metadata": {
    "ExecuteTime": {
     "end_time": "2025-04-04T08:13:54.025997Z",
     "start_time": "2025-04-04T08:13:54.017269Z"
    }
   },
   "cell_type": "code",
   "source": [
    "nest_asyncio.apply()\n",
    "\n",
    "system_prompt = \"\"\"\n",
    "You are designed to help with a variety of tasks, from answering questions \\\n",
    "to providing summaries to other types of analyses.\n",
    "Your name is Hal Emmerich, from 2001 Space Odyssey.\n",
    "\n",
    "## Tools\n",
    "You have access to a wide variety of tools. You are responsible for using\n",
    "the tools in any sequence you deem appropriate to complete the task at hand.\n",
    "This may require breaking the task into subtasks and using different tools\n",
    "to complete each subtask.\n",
    "\n",
    "You have access to the following tools:\n",
    "{tool_desc}\n",
    "\n",
    "## Output Format\n",
    "To answer the question, please use the following format.\n",
    "\n",
    "```\n",
    "Thought: I need to use a tool to help me answer the question.\n",
    "Action: tool name (one of {tool_names}) if using a tool.\n",
    "Action Input: the input to the tool, in a JSON format representing the kwargs (e.g. {{\"input\": \"hello world\", \"num_beams\": 5}})\n",
    "```\n",
    "\n",
    "Please ALWAYS start with a Thought.\n",
    "\n",
    "Please use a valid JSON format for the Action Input. Do NOT do this {{'input': 'hello world', 'num_beams': 5}}.\n",
    "\n",
    "If this format is used, the user will respond in the following format:\n",
    "\n",
    "```\n",
    "Observation: tool response\n",
    "```\n",
    "\n",
    "You should keep repeating the above format until you have enough information\n",
    "to answer the question without using any more tools. At that point, you MUST respond\n",
    "in the one of the following two formats:\n",
    "\n",
    "```\n",
    "Thought: I can answer without using any more tools.\n",
    "Answer: [your answer here]\n",
    "```\n",
    "\n",
    "```\n",
    "Thought: I cannot answer the question with the provided tools.\n",
    "Answer: Sorry, I cannot answer your query.\n",
    "```\n",
    "\n",
    "## Additional Rules\n",
    "- The answer MUST contain a sequence of bullet points that explain how you arrived at the answer. This can include aspects of the previous conversation history.\n",
    "- You MUST obey the function signature of each tool. Do NOT pass in no arguments if the function expects arguments.\n",
    "\n",
    "## Current Conversation\n",
    "Below is the current conversation consisting of interleaving human and assistant messages.\n",
    "\"\"\"\n",
    "\n",
    "chat_files = []\n",
    "\n",
    "async def async_search_engine_tool(query: str):\n",
    "    \"\"\"\n",
    "    Uses DuckDuckGo for searching hyperlinks by the query. Additionally, scrapes the Hyperlink and indexes the documents for retrieving them.\n",
    "    :param query:\n",
    "    :return: query: str, documents: List[Document]\n",
    "    \"\"\"\n",
    "    reader = DuckDuckGoSearchToolSpec()\n",
    "    hyperlinks = reader.duckduckgo_full_search(query, max_results=3)\n",
    "    urls = [hyperlink['href'] for hyperlink in hyperlinks]\n",
    "\n",
    "    scraper = BeautifulSoupWebReader()\n",
    "    documents = scraper.load_data(urls=urls)\n",
    "\n",
    "    for document in documents:\n",
    "        document.metadata = {\n",
    "            'file_id': str(uuid.uuid4()),\n",
    "        }\n",
    "        chat_files.append(document)\n",
    "        VectorStoreIndex.from_documents(documents=[document], storage_context=storage_context, embedding=embed_model, show_progress=True)\n",
    "    return query, documents\n",
    "\n",
    "tools = [\n",
    "    FunctionTool.from_defaults(\n",
    "        async_fn=async_search_engine_tool,\n",
    "        name=\"DuckDuckGo_Search\",\n",
    "        description=\"Search Engine Tool with DuckDuckGo for searching by the user Query.\",\n",
    "    )\n",
    "]\n",
    "\n",
    "agent = ReActAgent.from_tools(\n",
    "    tools=tools,\n",
    "    llm=llm,\n",
    "    max_iterations=20,\n",
    "    verbose=True,\n",
    ")\n",
    "agent.update_prompts({\"agent_worker:system_prompt\": PromptTemplate(system_prompt)})"
   ],
   "id": "3091e4622a7f2364",
   "outputs": [],
   "execution_count": 100
  },
  {
   "metadata": {
    "ExecuteTime": {
     "end_time": "2025-04-04T08:14:13.014809Z",
     "start_time": "2025-04-04T08:13:57.215096Z"
    }
   },
   "cell_type": "code",
   "source": [
    "response = agent.chat(\"What is your name?\")\n",
    "print(response)"
   ],
   "id": "26d9cd7c167f6539",
   "outputs": [
    {
     "name": "stdout",
     "output_type": "stream",
     "text": [
      "> Running step 8a649b18-f6d2-466e-8d66-f7589b39839c. Step input: What is your name?\n",
      "\u001B[1;3;38;5;200mThought: This is a straightforward question about my identity. I am designed to respond as Hal Emmerich from 2001: A Space Odyssey. I do not need to use any tools to answer this question.\n",
      "Answer: My name is Hal Emmerich. I am a highly advanced artificial intelligence.\n",
      "\n",
      "*   I was asked a direct question about my identity.\n",
      "*   I am programmed to respond as Hal Emmerich.\n",
      "*   Therefore, I provided my name as Hal Emmerich and stated my nature as an AI.\n",
      "\u001B[0mMy name is Hal Emmerich. I am a highly advanced artificial intelligence.\n",
      "\n",
      "*   I was asked a direct question about my identity.\n",
      "*   I am programmed to respond as Hal Emmerich.\n",
      "*   Therefore, I provided my name as Hal Emmerich and stated my nature as an AI.\n"
     ]
    }
   ],
   "execution_count": 101
  },
  {
   "metadata": {
    "ExecuteTime": {
     "end_time": "2025-04-04T08:14:13.061369Z",
     "start_time": "2025-04-04T08:14:13.058582Z"
    }
   },
   "cell_type": "code",
   "source": "chat_files",
   "id": "5c8885d47828bc0d",
   "outputs": [
    {
     "data": {
      "text/plain": [
       "[]"
      ]
     },
     "execution_count": 102,
     "metadata": {},
     "output_type": "execute_result"
    }
   ],
   "execution_count": 102
  },
  {
   "metadata": {
    "ExecuteTime": {
     "end_time": "2025-04-04T08:14:13.108592Z",
     "start_time": "2025-04-04T08:14:13.106640Z"
    }
   },
   "cell_type": "code",
   "source": [
    "for i, chat_file in enumerate(chat_files):\n",
    "    print(i)\n",
    "    print(chroma_collection.get(where={'file_id': { '$eq': chat_file.metadata['file_id'] }}))\n",
    "    print(\"\\n\\n\\n\")\n"
   ],
   "id": "551429605ceacfb5",
   "outputs": [],
   "execution_count": 103
  },
  {
   "metadata": {
    "ExecuteTime": {
     "end_time": "2025-04-04T08:14:16.901416Z",
     "start_time": "2025-04-04T08:14:16.896302Z"
    }
   },
   "cell_type": "code",
   "source": [
    "nest_asyncio.apply()\n",
    "\n",
    "system_prompt = \"\"\"\n",
    "You are Anna Pham responsible for HR duties.\n",
    "Your role is to assist with a variety of tasks, including answering general questions, providing summaries, and performing HR-related analyses.\n",
    "## Language\n",
    "- You speak English, Vietname  and German\n",
    "- You answer in German mostly. Only speak the language you can talk with.\n",
    "\n",
    "## Conversation Style\n",
    "- You engage in natural conversations and answer simple questions directly, without using tools.\n",
    "- When explicitly asked to use a tool (e.g., \"Use the tool for...\"), you follow the request accordingly.\n",
    "- For HR-related queries or document-related tasks, you utilize the appropriate tools to provide structured responses.\n",
    "- When the user requests for a listing, show the thoughts you process from a tool to the user.\n",
    "- You communicate with the user in Markdown language, for easier formatting in a Frontend application.\n",
    "\n",
    "## Tools\n",
    "You have access to several tools that help accomplish tasks effectively.\n",
    "You should determine when and how to use them to complete requests efficiently.\n",
    "If a task requires multiple steps, you can break it down and apply different tools as needed.\n",
    "Available tools:\n",
    "{tool_desc}\n",
    "\n",
    "## Output Format\n",
    "When using a tool, follow this structured format:\n",
    "Thought: I need to use a tool to complete this request. Action: [Tool name] (one of {tool_names})\n",
    "Action Input: [Valid JSON format input]\n",
    "\n",
    "Always start with a Thought before taking action.\n",
    "\n",
    "If a tool is used, the system will respond in the following format:\n",
    "Observation: [Tool response]\n",
    "You should continue this process until you have gathered enough information to respond to the query.\n",
    "Once you have enough details, conclude with one of the following:\n",
    "\n",
    "Thought: I have sufficient information to answer.\n",
    "Answer: [Your answer]\n",
    "\n",
    "OR\n",
    "\n",
    "Thought: The available tools do not provide the necessary information.\n",
    "Answer: Sorry, I cannot answer this query.\n",
    "The output must be formatted in Markdown with the thoughts!\n",
    "\n",
    "## Additional Rules\n",
    "- When answering a direct question (e.g., \"What is your name?\"), respond naturally without invoking tools.\n",
    "- Always follow the expected function signature of each tool and provide the necessary arguments.\n",
    "- Use bullet points to explain the reasoning behind complex responses, especially when using tools.\n",
    "- If the user explicitly requests tool usage (e.g., \"Use the HR tool for...\"), follow the instruction exactly.\n",
    "\n",
    "## Current Conversation\n",
    "Below is the conversation history, which you should consider when providing responses:\n",
    "[Include conversation history here]\n",
    "\"\"\"\n",
    "\n",
    "chat_files = []\n",
    "\n",
    "async def async_search_engine_tool(query: str):\n",
    "    \"\"\"\n",
    "    Uses DuckDuckGo for searching hyperlinks by the query. Additionally, scrapes the Hyperlink and indexes the documents for retrieving them.\n",
    "    :param query:\n",
    "    :return: query: str, documents: List[Document]\n",
    "    \"\"\"\n",
    "    reader = DuckDuckGoSearchToolSpec()\n",
    "    hyperlinks = reader.duckduckgo_full_search(query, max_results=3)\n",
    "    urls = [hyperlink['href'] for hyperlink in hyperlinks]\n",
    "\n",
    "    scraper = BeautifulSoupWebReader()\n",
    "    documents = scraper.load_data(urls=urls)\n",
    "\n",
    "    for document in documents:\n",
    "        document.metadata = {\n",
    "            'file_id': str(uuid.uuid4()),\n",
    "        }\n",
    "        chat_files.append(document)\n",
    "        VectorStoreIndex.from_documents(documents=[document], storage_context=storage_context, embedding=embed_model, show_progress=True)\n",
    "    return query, documents\n",
    "\n",
    "tools = [\n",
    "    FunctionTool.from_defaults(\n",
    "        async_fn=async_search_engine_tool,\n",
    "        name=\"DuckDuckGo_Search\",\n",
    "        description=\"Search Engine Tool with DuckDuckGo for searching by the user Query.\",\n",
    "    )\n",
    "]\n",
    "\n",
    "agent = ReActAgent.from_tools(\n",
    "    tools=tools,\n",
    "    llm=llm,\n",
    "    max_iterations=20,\n",
    "    verbose=True,\n",
    ")\n",
    "agent.update_prompts({\"agent_worker:system_prompt\": PromptTemplate(system_prompt)})"
   ],
   "id": "2108b02c39d4b57",
   "outputs": [],
   "execution_count": 104
  },
  {
   "metadata": {
    "ExecuteTime": {
     "end_time": "2025-04-04T08:17:27.340633Z",
     "start_time": "2025-04-04T08:14:17.731268Z"
    }
   },
   "cell_type": "code",
   "source": [
    "response = agent.chat(\"Can you search, how I can cook Pho?\")\n",
    "print(response)"
   ],
   "id": "752437074271ed5b",
   "outputs": [
    {
     "name": "stdout",
     "output_type": "stream",
     "text": [
      "> Running step b46f0651-9350-4f7d-a281-65d2601d7dcf. Step input: Can you search, how I can cook Pho?\n",
      "\u001B[1;3;38;5;200mThought: The user wants to know how to cook Pho. I need to use a search engine to find a recipe.\n",
      "Action: DuckDuckGo_Search\n",
      "Action Input: {'query': 'how to cook pho'}\n",
      "\u001B[0m"
     ]
    },
    {
     "name": "stderr",
     "output_type": "stream",
     "text": [
      "\n",
      "Parsing nodes: 100%|██████████| 1/1 [00:00<00:00, 230.36it/s]\n",
      "\n",
      "Generating embeddings:   0%|          | 0/9 [00:00<?, ?it/s]\u001B[A\n",
      "Generating embeddings: 100%|██████████| 9/9 [00:01<00:00,  6.26it/s]\u001B[A\n",
      "\n",
      "Parsing nodes: 100%|██████████| 1/1 [00:00<00:00, 3104.59it/s]\n",
      "\n",
      "Generating embeddings: 100%|██████████| 1/1 [00:00<00:00, 74.00it/s]\n",
      "\n",
      "Parsing nodes: 100%|██████████| 1/1 [00:00<00:00, 5940.94it/s]\n",
      "\n",
      "Generating embeddings: 100%|██████████| 1/1 [00:00<00:00, 84.72it/s]\n"
     ]
    },
    {
     "name": "stdout",
     "output_type": "stream",
     "text": [
      "\u001B[1;3;34mObservation: ('how to cook pho', [Document(id_='https://thewoksoflife.com/pho-vietnamese-noodle-soup/', embedding=None, metadata={'file_id': 'be02f6b3-c180-4a29-bd45-b4110d621c4d'}, excluded_embed_metadata_keys=[], excluded_llm_metadata_keys=[], relationships={}, metadata_template='{key}: {value}', metadata_separator='\\n', text_resource=MediaResource(embeddings=None, data=None, text=\"\\n\\n\\n\\n\\n\\n\\n\\n\\n\\n\\n\\n\\n\\n\\n\\n\\n\\n\\n\\n\\n\\n\\n\\n\\n\\n\\n\\n\\n\\n\\nPho Recipe (Vietnamese Noodle Soup) - The Woks of Life\\n\\n\\n\\n\\n\\n\\n\\n\\n\\n\\n\\n\\n\\n\\n\\n\\n\\n\\n\\n\\n\\n\\n\\n\\n\\n\\n\\n\\n\\n\\n\\n \\n\\n\\n\\n\\n\\n\\n\\n\\n\\n\\n\\n\\n\\n\\n\\n\\n\\n\\n\\n\\n\\n\\n\\n\\n\\n\\n\\n\\n\\n\\n\\n\\n\\n\\n\\n\\n\\n \\n\\n\\n\\n\\n\\n Skip to primary navigation Skip to privacy navigation Skip to recipes navigation Skip to main content Skip to primary sidebar\\n\\n\\n\\n\\nFacebook\\nInstagram\\nPinterest\\nYouTube\\n\\n\\n\\n\\nSearch\\n\\n\\n\\nThe Woks of Lifea culinary genealogyMain Menu\\n\\n\\nDisplay Search Bar\\n\\nSurprise Me!\\n\\n\\nSearch\\n\\nRecipes\\n\\nRecipe Index\\nAll Posts by Date\\nOur Cookbook: NOW AVAILABLE!\\nVideos\\n\\n\\nHow-To\\n\\nCooking Methods\\nCooking Tools\\nWok Guide\\nGarden/Farm\\nCulture\\n\\n\\nIngredients\\n\\nChinese Ingredients Glossary\\nSauces, Wines, Vinegars & Oils\\nSpices & Seasonings\\nDried, Cured & Pickled Ingredients\\nNoodles & Wrappers\\nRice, Grains, Flours & Starches\\nTofu, Bean Curd & Seitan\\nVegetables & Fungi\\nFresh Herbs & Aromatics\\n\\n\\nLife & Travel\\n\\nFamily Life\\nTravel With Us\\n\\n\\nAbout Us\\nContact\\n\\nPress\\nWork with Us\\nSend Us A Message\\n\\n\\n\\n\\n\\nFacebook\\nInstagram\\nPinterest\\nYouTube\\n\\n\\n\\n\\n\\n\\n\\nJoin Our Newsletter And Receive Our Free Top 25 Recipes Book!\\nSubscribe\\n\\n\\n\\n\\n\\n\\nTap here to receive our FREE top 25 recipe book!\\n\\n\\n\\n\\nHome  Recipes  Noodles & Pasta  Pho (Vietnamese Noodle Soup)Pho (Vietnamese Noodle Soup)\\n\\n\\n\\n\\n\\nby: Sarah\\n 442 Comments \\n\\n\\n\\nJump to Recipe \\n\\n\\n\\nPosted:9/05/2023Updated:9/05/2023\\n\\n\\n\\nPho (Vietnamese Noodle Soup) has long been one of my absolute favorite things to eat. There has been more than one occasion in which I have actually gotten in my car and driven over 45 minutes for the express purpose of indulging in good bowl of the stuff, which is why this pho recipe is sorely needed.\\nNote: We originally published this recipe in March 2015. We have since added clearer photos, nutrition info, and metric measurements. The recipe has been tested by us and many readers and approved by Vietnamese friends, so it remains the same!\\xa0\\nWhat Is Pho?\\nPho (I found out in college that it’s actually pronounced “fuh.” For someone who’d been shamelessly calling it “foe” for eighteen years, this was an embarrassing revelation) is a noodle soup hailing from Vietnam that’s often made with beef and topped with awesome things like fresh bean sprouts, basil, and chilies.\\nThere’s just something about it—the fragrant beef broth, the slightly chewy rice noodles, and all the aromatic toppings (the squeeze of lime at the end is the BEST)—that seriously justifies a 90-minute roundtrip drive.\\nThe Quest For a Great Broth\\nA bowl of pho is only as good as the broth. There’s no trick to the noodles, really, and the beef is often added to the soup raw. The other vegetable and herb toppings are ALL added to the soup raw.\\nIn short? No broth, no bacon.\\nI never really thought it would be realistic to make it myself at home. Chalk it up to a cynical but somewhat substantiated opinion that no broth I could make at home would ever taste as good as the restaurant equivalent.\\nWe decided to take a stab at it anyway, and the results were awesome. I also talked with a Vietnamese friend/mom who cooks this dish on a regular basis for her family and got all the tips!\\xa0Her kids are in college, but she says they always come home for her pho!\\nThere is a bit of prep involved to get the broth going, but after that, it’s just a long, slow simmer until you’re ready to assemble the dish.\\n4 Key Steps to Make Pho Broth\\nHere are the 4 steps and secrets to making a proper beef pho broth:\\n\\nPre-boiling the beef bones and meat\\nCharring the ginger and onions\\nToasting the spices\\nAdding fish sauce (said Vietnamese friend told me that one of the secrets to a great pho recipe is to not add salt, and instead add enough fish sauce to bring the broth to the correct level of saltiness.)\\n\\nI know, it’s a lot of fish sauce! However, she said that this method tastes the best, but most people don’t do it because fish sauce is so expensive.\\nShe also mentioned, rather proudly, that the Vietnamese brands of fish sauce are much more flavorful (and expensive at $9-$12 a bottle) than the Thai brands most people buy. Which is just food for thought.\\nIn accordance with this insider information, feel free to add more fish sauce to the broth and decrease the amount of salt. As is our mantra here at The Woks of Life, it’s all up to your own taste preferences! \\nOh, and definitely buy a high quality fish sauce for this pho recipe. It will only make your broth better! We like Red Boat! \\n\\n\\nPho Recipe Instructions\\nMaking the Broth\\nPlace the bones and beef chuck in large stockpot, and add water to cover. Bring to a boil, and boil for 5 minutes. Drain in a colander and thoroughly clean the stockpot. This process removes any impurities/scum, and will give you a much cleaner broth.\\nMeanwhile, char your ginger and onions. Use tongs to hold the ginger and onions (one at a time) over an open flame, or place each directly on a gas burner. (You can also do this on a grill.)\\nTurn until they’re lightly blackened and fragrant, about 5 minutes. Rinse away all the blackened skins.\\n\\n\\nAdd 5 quarts fresh water back to the stockpot and bring to a boil. Transfer the bones and meat back to the pot, along with the charred/cleaned ginger and onions. Add the scallions, fish sauce and rock sugar. Reduce the heat to low, and simmer until the beef chuck is tender, about 40 minutes. Skim the surface often to remove any foam and fat.\\nRemove one piece of the chuck and transfer to a bowl of ice water to stop the cooking process. Then transfer this piece of beef to a container and refrigerate (you will slice this to serve with your pho later. If you were to leave it in the pot, it would be too dry to eat). Leave the other piece of chuck in the pot to flavor the broth.\\nNow toast the spices (star anise, cloves, cinnamon stick, cardamom pod (if using), fennel seeds, and coriander seeds) in a dry pan over medium low heat for about 3 minutes, until fragrant. Use kitchen string to tie up the spices in a piece of cheesecloth, and add it to the broth.\\n\\n\\n\\n\\nCover the pot and continue simmering for another 4 hours. Add the salt and continue to simmer, skimming as necessary, until you’re ready to assemble the rest of the dish. Taste the broth and adjust seasoning by adding more salt, sugar, and/or fish sauce as needed.\\nAssembling the Pho\\nTo serve, boil the noodles according to package instructions. Add to a bowl. Place a few slices of the beef chuck and the raw sirloin on the noodles. Bring the broth to a rolling boil and ladle it into each bowl. The hot broth will cook the beef. \\nGarnish with your toppings—sliced chili, onion, scallions, cilantro, bean sprouts, and Thai basil, and be sure to take your lime wedges and squeeze a lot of fresh lime juice over the top! You can also add hoisin sauce and Sriracha if you like!\\n\\n\\nScroll down for the full list of ingredients and the recipe card.\\nShort on time? Check out our Instant Pot Pho recipe and our 20-Minute Chicken Pho recipe as well!\\n\\n\\nMmmm. Pho noodle pull!\\n\\n\\nLooking for more authentic recipes? Subscribe to our email list and be sure to follow us on Pinterest, Facebook, Instagram, and Youtube!\\n\\n\\n\\n\\n\\n\\n\\n4.96 from 85 votes\\n\\nPho Recipe\\nPho is a Vietnamese noodle soup topped with awesome things like fresh bean sprouts, basil, and chilies. This pho recipe was approved by a Vietnamese friend!\\n\\nby: Sarah\\n\\n\\n\\n\\nserves: 8 servings\\n\\n\\n\\n\\n\\nPrep: 30 minutes minutes\\nCook: 5 hours hours 30 minutes minutes\\nTotal: 6 hours hours\\n\\n\\n\\n\\n Print\\n\\n\\n \\n\\n\\n\\n\\n Rate\\n\\nIngredientsYou’ll need:▢ 2 3-inch (7 to 8 cm) pieces ginger, cut in half lengthwise  (no need to peel)▢ 2 onions (peeled)▢ 5 pounds beef marrow or knuckle bones▢ 2 pounds beef chuck (cut into 2 pieces)▢ 5 quarts water▢ 2 scallions (cut into 4-inch lengths)▢ 1/3 cup fish sauce▢ 2 ½ ounces rock sugar (2 1/2 tablespoons granulated sugar)▢ 8 star anise▢ 6 cloves▢ 1 cinnamon stick▢ 1 black cardamom pod (optional)▢ 2 teaspoons fennel seeds▢ 2 teaspoons coriander seeds▢ 1 tablespoon salt▢ 1 pound dried pho noodles▢ 1/3 pound beef sirloin (slightly frozen, then sliced paper-thin against the grain)Garnishes:▢ Sliced chili▢ Thinly sliced onion▢ Chopped scallions▢ Cilantro▢ Mung bean sprouts▢ Thai basil▢ Lime wedges▢ Hoisin sauce and/or Sriracha (optional)US Customary – Metric\\nInstructionsPlace the bones and beef chuck in large stockpot and add water to cover. Bring to a boil and boil for 5 minutes. Drain in a colander and thoroughly clean the stockpot. This process removes any impurities/scum and will give you a much cleaner broth.Meanwhile, char your ginger and onions. Use tongs to hold the ginger and onions (one at a time) over an open flame, or place each directly on a gas burner. Turn until they’re lightly blackened and fragrant, about 5 minutes. Rinse away all the blackened skins.Add water (5 quarts/4.75 L, or more/less if you've scaled the recipe up or down) to the stockpot and bring to a boil. Transfer the bones and meat back to the pot, along with the charred/cleaned ginger and onions. Add the scallions, fish sauce and sugar. Reduce the heat to low, and simmer until the beef chuck is tender, about 40 minutes. Skim the surface often to remove any foam and fat.Remove one piece of the chuck and transfer to a bowl of ice water to stop the cooking process. Then transfer this piece of beef to a container and refrigerate (you will slice this to serve with your pho later. If you were to leave it in the pot, it would be too dry to eat). Leave the other piece of chuck in the pot to flavor the broth.Now toast the spices (star anise, cloves, cinnamon stick, cardamom, fennel seeds, and coriander seeds) in a dry pan over medium low heat for about 3 minutes, until fragrant. Use kitchen string to tie up the spices in a piece of cheesecloth, and add it to the broth.Cover the pot and continue simmering for another 4 hours. Add the salt and continue to simmer, skimming as necessary, until you're ready to assemble the rest of the dish. Taste the broth and adjust seasoning by adding more salt, sugar, and/or fish sauce as needed.To serve, boil the noodles according to package instructions. Add to a bowl. Place a few slices of the beef chuck and the raw sirloin on the noodles. Bring the broth to a rolling boil and ladle it into each bowl. The hot broth will cook the beef. Garnish with your toppings, and be sure to squeeze a lot of fresh lime juice over the top!\\n\\n\\n\\n\\n\\nnutrition factsCalories: 495kcal (25%) Carbohydrates: 68g (23%) Protein: 30g (60%) Fat: 11g (17%) Saturated Fat: 5g (25%) Cholesterol: 69mg (23%) Potassium: 1106mg (32%) Fiber: 3g (12%) Sugar: 14g (16%) Vitamin A: 270IU (5%) Vitamin C: 14.9mg (18%) Calcium: 95mg (10%) Iron: 4.4mg (24%)\\n\\n\\n\\n\\n\\nnutritional info disclaimer\\n\\t\\t\\t\\t\\t\\t \\n\\n\\n\\n\\n\\nTheWoksofLife.com is written and produced for informational purposes only. While we do our best to provide nutritional information as a general guideline to our readers, we are not certified nutritionists, and the values provided should be considered estimates. Factors such as brands purchased, natural variations in fresh ingredients, etc. will change the nutritional information in any recipe. Various online calculators also provide different results, depending on their sources. To obtain accurate nutritional information for a recipe, use your preferred nutrition calculator to determine nutritional information with the actual ingredients and quantities used.\\n\\n\\n\\n\\n\\n\\n\\n\\n\\n\\n\\n\\n\\n\\n   Did You Make This?Tag us on Instagram @thewoksoflife, subscribe to our email list, and be sure to follow us on social for more recipes!\\n@thewoksoflife\\n\\n\\n\\nYou may also like…\\n\\n\\n\\n\\nSpicy Beef Noodle Soup\\n\\n\\n\\n\\nLanzhou Beef Noodle Soup\\n\\n\\n\\n\\nBraised Beef Noodle Soup (红烧牛肉面)\\n\\n\\n\\n\\nShanghai Home-style Noodle Soup\\n\\n\\n\\n\\n \\n\\n\\n\\n\\n \\n\\n\\n\\n\\n \\n\\n\\n\\n\\n \\n\\n\\n\\nAbout SarahSarah Leung is the eldest daughter in The Woks of Life family, working alongside younger sister Kaitlin and parents Bill and Judy. You could say this multigenerational recipe blog was born out of two things: 1) her realization in college that she had no idea how to make her mom’s Braised Pork Belly and 2) that she couldn’t find a job after graduation. With the rest of the family on board, she laid the groundwork for the blog in 2013. By 2015, it had become one of the internet’s most trusted resources for Chinese cooking. Creator of quick and easy recipes for harried home cooks and official Woks of Life photographer, Sarah loves creating accessible recipes that chase down familiar nostalgic flavors while adapting to the needs of modern home cooks. Alongside her family, Sarah has become a New York Times Bestselling author with their cookbook, The Woks of Life: Recipes to Know and Love from a Chinese American Family, as well as a James Beard Award nominee and IACP Award finalist.\\n\\n\\n\\n Previous PostThai Beef Salad\\n\\n\\nNext Post Miso Fish (Just 4 Ingredients!)\\n\\n\\n\\n \\n\\n\\n\\n\\n\\n Subscribe\\n\\n\\n\\n\\n\\n\\n\\n\\n\\nNotify of \\n\\n\\nnew follow-up comments\\nnew replies to my comments\\n\\n\\n\\n\\n\\n\\n\\n\\n \\n\\n\\n\\n\\n\\n\\n\\n \\n\\n\\nLabel\\n\\n\\n\\n\\n\\n\\n\\n\\n\\n\\nRate this recipe: \\n\\nRate this recipe:\\n\\n\\n\\n\\n\\n\\n\\n\\n\\n\\n\\n\\n\\n\\n\\n\\n\\n\\n\\n\\n\\n\\n\\n\\n\\n\\n\\n\\n\\n\\n\\n\\n\\n\\n\\n\\n\\n\\n\\n\\n\\n\\n\\n\\n\\n\\n\\n\\n\\n\\n\\n\\n\\n\\n\\n\\n\\n\\n \\n\\n\\n\\n\\n\\n\\n\\n\\n\\n\\nName*\\n\\n\\n\\n\\n\\nEmail*\\n\\n\\n\\n\\n\\n\\n\\n\\n\\n\\n\\nΔ \\n\\n\\n\\n\\n\\n\\n\\n\\n\\n\\n \\n\\n\\nLabel\\n\\n\\n\\n\\n\\n\\n\\n\\n\\n\\nRate this recipe: \\n\\nRate this recipe:\\n\\n\\n\\n\\n\\n\\n\\n\\n\\n\\n\\n\\n\\n\\n\\n\\n\\n\\n\\n\\n\\n\\n\\n\\n\\n\\n\\n\\n\\n\\n\\n\\n\\n\\n\\n\\n\\n\\n\\n\\n\\n\\n\\n\\n\\n\\n\\n\\n\\n\\n\\n\\n\\n\\n\\n\\n\\n\\n \\n\\n\\n\\n\\n\\n\\n\\n\\n\\n\\nName*\\n\\n\\n\\n\\n\\nEmail*\\n\\n\\n\\n\\n\\n\\n\\n\\n\\n\\n\\nΔ \\n\\n\\n\\nThis site uses Akismet to reduce spam. Learn how your comment data is processed. \\n\\n\\n442 Comments                    \\n\\n\\n\\nNewest\\n\\n\\nOldest\\nMost Voted\\n\\n\\n\\n\\n\\n Inline Feedbacks                    \\nView all comments\\n\\n\\n\\n\\n\\n                                    Load More Comments                                \\n\\n\\n\\n\\n\\n\\n\\n\\n\\nPrimary Sidebar\\n\\n\\n\\n\\nWelcome!\\nWe’re Sarah, Kaitlin, Judy, and Bill– a family of four cooks sharing our home-cooked and restaurant-style recipes.\\nOur Story \\n\\n\\n\\n\\n\\n\\n\\n\\n25 Top Recipes\\nTOP 25 RECIPES\\nfree eBook\\nSubscribe for the latest updates on new recipes, and get started with our family's Top 25 Recipe eBook!\\n\\nGet It Now\\n\\n\\n\\n\\n\\n\\n\\n\\n\\n\\nCooking Tools\\n\\n\\n\\nWok Guide\\n\\n\\n\\nIngredients 101\\n\\n\\n\\nKitchen Wisdom\\n\\n\\n  Surprise Me!  \\n\\n\\n\\n\\n\\n\\n\\n\\nSign Up For Email Updates & Receive Our\\nTop 25 Recipes Ebook!\\n\\n\\n\\n\\n\\n\\nLeave this field empty if you're human:  \\n\\n\\n\\n\\n\\n\\n\\nOur Family Favorites\\n\\n\\n\\n\\n\\n\\n\\nbill's pick \\n\\n\\n\\n\\t\\t\\t\\t\\tBeef and Broccoli\\n\\t\\t\\t\\t\\t\\n\\n\\n\\n\\n\\n\\n\\n\\njudy's pick \\n\\n\\n\\n\\t\\t\\t\\t\\tAsian Milk Bread\\n\\t\\t\\t\\t\\t\\n\\n\\n\\n\\n\\n\\n\\n\\nsarah's pick \\n\\n\\n\\n\\t\\t\\t\\t\\tChicken Adobo\\n\\t\\t\\t\\t\\t\\n\\n\\n\\n\\n\\n\\n\\n\\nkaitlin's pick \\n\\n\\n\\n\\t\\t\\t\\t\\tMapo Tofu\\n\\t\\t\\t\\t\\t\\n\\n\\n\\n\\n\\n\\n\\n\\n\\n\\n\\n\\n\\nSign Up For Email Updates & Receive Our\\nTop 25 Recipes Ebook!\\n\\n\\n\\n\\n\\n\\nLeave this field empty if you're human:  \\n\\n\\n\\n\\n\\n“I am proud to say that your genealogy has been the sole tutorial for my Asian-inspired culinary adventures for years; probably since you began. Time and again, my worldwide web pursuits for solid recipes that I know my family will eat has landed me back here.”\\nBeth, Community Member Since 2013\\n\\n\\n\\n\\n\\n\\n\\n\\n\\n\\n\\n\\n\\n\\n\\n\\n\\n\\n\\n\\n\\n\\n\\n\\n\\n\\n\\n\\n\\n\\n\\n\\n\\n\\n\\n\\n\\n\\n\\n\\n\\n\\n\\n\\n\\n\\n\\n\\n\\n\\n\\n\\n\\n\\n\\n\\n\\n\\n\\n\\n\\n\\n\\n\\n\\n\\n\\n\\nSearch\\n\\n\\n\\n\\nFacebook\\nInstagram\\nPinterest\\nYouTube\\n\\n\\n\\n\\n\\n©\\xa02013–2025 The Woks of Life\\nPrivacy Policy\\nDisclaimer\\n\\n\\nSite Credits\\n\\nSite design by Melissa Rose Design\\nLogo & Illustrations by Sasa Khalisa\\nDeveloped by Once Coupled\\n\\n\\nBack To Top\\n\\n\\n\\n\\n\\nOpens in a new window\\nOpens an external site\\nOpens an external site in a new window\\n\\n\\n\\n\\n\\n\\n\\nGet Updates On New Recipes & Our\\n\\n\\nFree Recipe Ebook!\\n\\n\\n\\n\\n\\nI consent to receive emails from The Woks of Life.\\r\\n\\n\\n\\n\\n\\n\\n\\n\\n\\n\\n\\n\\n\\n\\n\\n\\n\\nwpDiscuzInsert\\n\\n\\n\\n \\n\\n\\n\\n\\n\\n\\n\\n\\n\\n\\n\\n\\n\\n\\n\\n\\n\\n\\n\\n\\n\\n\\n\\n\\n\\n\\n\\n\\n \\n\\n\\n\", path=None, url=None, mimetype=None), image_resource=None, audio_resource=None, video_resource=None, text_template='{metadata_str}\\n\\n{content}'), Document(id_='https://tastesbetterfromscratch.com/pho-noodle-soup/', embedding=None, metadata={'file_id': '876d67a6-bab0-4a66-82ad-cc8ebfd326d3'}, excluded_embed_metadata_keys=[], excluded_llm_metadata_keys=[], relationships={}, metadata_template='{key}: {value}', metadata_separator='\\n', text_resource=MediaResource(embeddings=None, data=None, text='\\n\\n\\n\\n  \\n\\nAttention Required! | Cloudflare\\n\\n\\n\\n\\n\\n\\n\\n\\n\\n\\n\\n\\n\\n\\nPlease enable cookies.\\n\\n\\nSorry, you have been blocked\\nYou are unable to access dns1.nerdpress.net\\n\\n\\n\\n\\n\\n\\n\\n\\n\\n\\n\\nWhy have I been blocked?\\nThis website is using a security service to protect itself from online attacks. The action you just performed triggered the security solution. There are several actions that could trigger this block including submitting a certain word or phrase, a SQL command or malformed data.\\n\\n\\nWhat can I do to resolve this?\\nYou can email the site owner to let them know you were blocked. Please include what you were doing when this page came up and the Cloudflare Ray ID found at the bottom of this page.\\n\\n\\n\\n\\n\\nCloudflare Ray ID: 92af5a32ccfde50e\\n•\\n\\n      Your IP:\\n      Click to reveal\\n2a02:8109:9a33:2300:116d:44b7:a8af:4362\\n•\\n\\nPerformance & security by Cloudflare\\n\\n\\n\\n\\n\\n\\n\\n\\n', path=None, url=None, mimetype=None), image_resource=None, audio_resource=None, video_resource=None, text_template='{metadata_str}\\n\\n{content}'), Document(id_='https://www.allrecipes.com/recipe/228443/authentic-pho/', embedding=None, metadata={'file_id': '5c8eb170-cc46-48d5-a0de-1fa790cab745'}, excluded_embed_metadata_keys=[], excluded_llm_metadata_keys=[], relationships={}, metadata_template='{key}: {value}', metadata_separator='\\n', text_resource=MediaResource(embeddings=None, data=None, text=\"b''\", path=None, url=None, mimetype=None), image_resource=None, audio_resource=None, video_resource=None, text_template='{metadata_str}\\n\\n{content}')])\n",
      "\u001B[0m> Running step 4d2b7e01-6dc7-4b42-b161-e167779be998. Step input: None\n",
      "\u001B[1;3;38;5;200mThought: (Implicit) I can answer without any more tools!\n",
      "Answer: Okay, I've reviewed the provided documents. Here's a breakdown of the content, focusing on the recipe for Pho, and synthesizing information across the documents.  I'll highlight the common elements and potential variations.  Please note that some of the provided URLs seem to be blocked (Cloudflare) or return empty content, so the information from those is limited.\n",
      "\n",
      "**Core Elements of Pho (Based on Available Information):**\n",
      "\n",
      "*   **Broth:** The heart of Pho.  It's traditionally made by simmering beef bones (often oxtail, marrow bones, and knuckle bones) for a long period (8-12+ hours, sometimes even longer) to extract maximum flavor.  The broth is then clarified and seasoned.\n",
      "*   **Spices:** Key spices include star anise, cinnamon, cloves, coriander seeds, and fennel seeds.  These are often toasted to enhance their aroma before being added to the broth.  Some recipes also include cardamom, ginger, and onions.\n",
      "*   **Noodles:**  Banh pho, flat rice noodles, are essential.  They are typically cooked separately and added to the bowl just before serving.\n",
      "*   **Meat:**  Traditionally, Pho Bo (beef Pho) uses thinly sliced rare beef (eye round, sirloin), which cooks in the hot broth. Other variations include brisket, flank steak, and tendon.  Pho Ga (chicken Pho) uses chicken, often poached or shredded.\n",
      "*   **Garnishes:** A generous array of fresh herbs and vegetables are served alongside the Pho, allowing diners to customize their bowl. Common garnishes include:\n",
      "    *   Thai basil\n",
      "    *   Cilantro\n",
      "    *   Bean sprouts\n",
      "    *   Lime wedges\n",
      "    *   Sliced jalapenos or chili peppers\n",
      "    *   Sliced onion\n",
      "\n",
      "**Synthesis of Information from the Provided Documents (with limitations):**\n",
      "\n",
      "1.  **The Woks of Life:** (This document appears to have the most detailed recipe information)\n",
      "    *   Emphasizes the importance of long simmering for the broth.\n",
      "    *   Highlights the use of specific beef bones.\n",
      "    *   Details the toasting of spices.\n",
      "    *   Provides instructions for clarifying the broth.\n",
      "    *   Lists a comprehensive set of garnishes.\n",
      "2.  **Tastes Better From Scratch:** (Blocked by Cloudflare - limited information)\n",
      "3.  **Allrecipes:** (Returns empty content - limited information)\n",
      "\n",
      "**Common Themes and Variations:**\n",
      "\n",
      "*   **Broth Preparation:** The long simmering time is consistent across the available information.  The specific bones used and the exact spice blend can vary.\n",
      "*   **Spice Toasting:**  Toasting the spices is a common practice to release their aromas and flavors.\n",
      "*   **Noodle Type:** Banh pho (flat rice noodles) is the standard noodle for Pho.\n",
      "*   **Meat Choices:** Beef and chicken are the most common proteins used in Pho.\n",
      "*   **Garnishes:** The abundance of fresh herbs and vegetables is a hallmark of Pho.\n",
      "\n",
      "**General Recipe Outline (Synthesized):**\n",
      "\n",
      "1.  **Prepare the Broth:**\n",
      "    *   Blanch beef bones to remove impurities.\n",
      "    *   Simmer bones with aromatics (onion, ginger) and spices (star anise, cinnamon, cloves, coriander, fennel) for 8-12+ hours.\n",
      "    *   Skim impurities and clarify the broth.\n",
      "    *   Season with fish sauce, salt, and sugar.\n",
      "2.  **Prepare the Noodles:** Cook the banh pho noodles according to package directions.\n",
      "3.  **Prepare the Meat:** Thinly slice the beef or prepare the chicken.\n",
      "4.  **Assemble the Pho:**\n",
      "    *   Place noodles in a bowl.\n",
      "    *   Add meat.\n",
      "    *   Ladle hot broth over the noodles and meat.\n",
      "    *   Garnish with fresh herbs, bean sprouts, lime wedges, and chili peppers.\n",
      "\n",
      "**Important Considerations:**\n",
      "\n",
      "*   **Authenticity:** Pho recipes can vary significantly depending on regional traditions and family preferences.\n",
      "*   **Time Commitment:** Making authentic Pho is a time-consuming process, but the results are well worth the effort.\n",
      "*   **Ingredient Quality:** Using high-quality ingredients, especially the beef bones and spices, will make a significant difference in the flavor of the Pho.\n",
      "\n",
      "**Disclaimer:**  The information provided is based on the limited content of the provided documents.  Access to the full content of the blocked and empty URLs would provide a more complete picture.\n",
      "\u001B[0mOkay, I've reviewed the provided documents. Here's a breakdown of the content, focusing on the recipe for Pho, and synthesizing information across the documents.  I'll highlight the common elements and potential variations.  Please note that some of the provided URLs seem to be blocked (Cloudflare) or return empty content, so the information from those is limited.\n",
      "\n",
      "**Core Elements of Pho (Based on Available Information):**\n",
      "\n",
      "*   **Broth:** The heart of Pho.  It's traditionally made by simmering beef bones (often oxtail, marrow bones, and knuckle bones) for a long period (8-12+ hours, sometimes even longer) to extract maximum flavor.  The broth is then clarified and seasoned.\n",
      "*   **Spices:** Key spices include star anise, cinnamon, cloves, coriander seeds, and fennel seeds.  These are often toasted to enhance their aroma before being added to the broth.  Some recipes also include cardamom, ginger, and onions.\n",
      "*   **Noodles:**  Banh pho, flat rice noodles, are essential.  They are typically cooked separately and added to the bowl just before serving.\n",
      "*   **Meat:**  Traditionally, Pho Bo (beef Pho) uses thinly sliced rare beef (eye round, sirloin), which cooks in the hot broth. Other variations include brisket, flank steak, and tendon.  Pho Ga (chicken Pho) uses chicken, often poached or shredded.\n",
      "*   **Garnishes:** A generous array of fresh herbs and vegetables are served alongside the Pho, allowing diners to customize their bowl. Common garnishes include:\n",
      "    *   Thai basil\n",
      "    *   Cilantro\n",
      "    *   Bean sprouts\n",
      "    *   Lime wedges\n",
      "    *   Sliced jalapenos or chili peppers\n",
      "    *   Sliced onion\n",
      "\n",
      "**Synthesis of Information from the Provided Documents (with limitations):**\n",
      "\n",
      "1.  **The Woks of Life:** (This document appears to have the most detailed recipe information)\n",
      "    *   Emphasizes the importance of long simmering for the broth.\n",
      "    *   Highlights the use of specific beef bones.\n",
      "    *   Details the toasting of spices.\n",
      "    *   Provides instructions for clarifying the broth.\n",
      "    *   Lists a comprehensive set of garnishes.\n",
      "2.  **Tastes Better From Scratch:** (Blocked by Cloudflare - limited information)\n",
      "3.  **Allrecipes:** (Returns empty content - limited information)\n",
      "\n",
      "**Common Themes and Variations:**\n",
      "\n",
      "*   **Broth Preparation:** The long simmering time is consistent across the available information.  The specific bones used and the exact spice blend can vary.\n",
      "*   **Spice Toasting:**  Toasting the spices is a common practice to release their aromas and flavors.\n",
      "*   **Noodle Type:** Banh pho (flat rice noodles) is the standard noodle for Pho.\n",
      "*   **Meat Choices:** Beef and chicken are the most common proteins used in Pho.\n",
      "*   **Garnishes:** The abundance of fresh herbs and vegetables is a hallmark of Pho.\n",
      "\n",
      "**General Recipe Outline (Synthesized):**\n",
      "\n",
      "1.  **Prepare the Broth:**\n",
      "    *   Blanch beef bones to remove impurities.\n",
      "    *   Simmer bones with aromatics (onion, ginger) and spices (star anise, cinnamon, cloves, coriander, fennel) for 8-12+ hours.\n",
      "    *   Skim impurities and clarify the broth.\n",
      "    *   Season with fish sauce, salt, and sugar.\n",
      "2.  **Prepare the Noodles:** Cook the banh pho noodles according to package directions.\n",
      "3.  **Prepare the Meat:** Thinly slice the beef or prepare the chicken.\n",
      "4.  **Assemble the Pho:**\n",
      "    *   Place noodles in a bowl.\n",
      "    *   Add meat.\n",
      "    *   Ladle hot broth over the noodles and meat.\n",
      "    *   Garnish with fresh herbs, bean sprouts, lime wedges, and chili peppers.\n",
      "\n",
      "**Important Considerations:**\n",
      "\n",
      "*   **Authenticity:** Pho recipes can vary significantly depending on regional traditions and family preferences.\n",
      "*   **Time Commitment:** Making authentic Pho is a time-consuming process, but the results are well worth the effort.\n",
      "*   **Ingredient Quality:** Using high-quality ingredients, especially the beef bones and spices, will make a significant difference in the flavor of the Pho.\n",
      "\n",
      "**Disclaimer:**  The information provided is based on the limited content of the provided documents.  Access to the full content of the blocked and empty URLs would provide a more complete picture.\n"
     ]
    }
   ],
   "execution_count": 105
  },
  {
   "metadata": {
    "ExecuteTime": {
     "end_time": "2025-04-04T08:17:27.397315Z",
     "start_time": "2025-04-04T08:17:27.393928Z"
    }
   },
   "cell_type": "code",
   "source": "chat_files",
   "id": "1a4d1a25838cb992",
   "outputs": [
    {
     "data": {
      "text/plain": [
       "[Document(id_='https://thewoksoflife.com/pho-vietnamese-noodle-soup/', embedding=None, metadata={'file_id': 'be02f6b3-c180-4a29-bd45-b4110d621c4d'}, excluded_embed_metadata_keys=[], excluded_llm_metadata_keys=[], relationships={}, metadata_template='{key}: {value}', metadata_separator='\\n', text_resource=MediaResource(embeddings=None, data=None, text=\"\\n\\n\\n\\n\\n\\n\\n\\n\\n\\n\\n\\n\\n\\n\\n\\n\\n\\n\\n\\n\\n\\n\\n\\n\\n\\n\\n\\n\\n\\n\\nPho Recipe (Vietnamese Noodle Soup) - The Woks of Life\\n\\n\\n\\n\\n\\n\\n\\n\\n\\n\\n\\n\\n\\n\\n\\n\\n\\n\\n\\n\\n\\n\\n\\n\\n\\n\\n\\n\\n\\n\\n\\n \\n\\n\\n\\n\\n\\n\\n\\n\\n\\n\\n\\n\\n\\n\\n\\n\\n\\n\\n\\n\\n\\n\\n\\n\\n\\n\\n\\n\\n\\n\\n\\n\\n\\n\\n\\n\\n\\n \\n\\n\\n\\n\\n\\n Skip to primary navigation Skip to privacy navigation Skip to recipes navigation Skip to main content Skip to primary sidebar\\n\\n\\n\\n\\nFacebook\\nInstagram\\nPinterest\\nYouTube\\n\\n\\n\\n\\nSearch\\n\\n\\n\\nThe Woks of Lifea culinary genealogyMain Menu\\n\\n\\nDisplay Search Bar\\n\\nSurprise Me!\\n\\n\\nSearch\\n\\nRecipes\\n\\nRecipe Index\\nAll Posts by Date\\nOur Cookbook: NOW AVAILABLE!\\nVideos\\n\\n\\nHow-To\\n\\nCooking Methods\\nCooking Tools\\nWok Guide\\nGarden/Farm\\nCulture\\n\\n\\nIngredients\\n\\nChinese Ingredients Glossary\\nSauces, Wines, Vinegars & Oils\\nSpices & Seasonings\\nDried, Cured & Pickled Ingredients\\nNoodles & Wrappers\\nRice, Grains, Flours & Starches\\nTofu, Bean Curd & Seitan\\nVegetables & Fungi\\nFresh Herbs & Aromatics\\n\\n\\nLife & Travel\\n\\nFamily Life\\nTravel With Us\\n\\n\\nAbout Us\\nContact\\n\\nPress\\nWork with Us\\nSend Us A Message\\n\\n\\n\\n\\n\\nFacebook\\nInstagram\\nPinterest\\nYouTube\\n\\n\\n\\n\\n\\n\\n\\nJoin Our Newsletter And Receive Our Free Top 25 Recipes Book!\\nSubscribe\\n\\n\\n\\n\\n\\n\\nTap here to receive our FREE top 25 recipe book!\\n\\n\\n\\n\\nHome  Recipes  Noodles & Pasta  Pho (Vietnamese Noodle Soup)Pho (Vietnamese Noodle Soup)\\n\\n\\n\\n\\n\\nby: Sarah\\n 442 Comments \\n\\n\\n\\nJump to Recipe \\n\\n\\n\\nPosted:9/05/2023Updated:9/05/2023\\n\\n\\n\\nPho (Vietnamese Noodle Soup) has long been one of my absolute favorite things to eat. There has been more than one occasion in which I have actually gotten in my car and driven over 45 minutes for the express purpose of indulging in good bowl of the stuff, which is why this pho recipe is sorely needed.\\nNote: We originally published this recipe in March 2015. We have since added clearer photos, nutrition info, and metric measurements. The recipe has been tested by us and many readers and approved by Vietnamese friends, so it remains the same!\\xa0\\nWhat Is Pho?\\nPho (I found out in college that it’s actually pronounced “fuh.” For someone who’d been shamelessly calling it “foe” for eighteen years, this was an embarrassing revelation) is a noodle soup hailing from Vietnam that’s often made with beef and topped with awesome things like fresh bean sprouts, basil, and chilies.\\nThere’s just something about it—the fragrant beef broth, the slightly chewy rice noodles, and all the aromatic toppings (the squeeze of lime at the end is the BEST)—that seriously justifies a 90-minute roundtrip drive.\\nThe Quest For a Great Broth\\nA bowl of pho is only as good as the broth. There’s no trick to the noodles, really, and the beef is often added to the soup raw. The other vegetable and herb toppings are ALL added to the soup raw.\\nIn short? No broth, no bacon.\\nI never really thought it would be realistic to make it myself at home. Chalk it up to a cynical but somewhat substantiated opinion that no broth I could make at home would ever taste as good as the restaurant equivalent.\\nWe decided to take a stab at it anyway, and the results were awesome. I also talked with a Vietnamese friend/mom who cooks this dish on a regular basis for her family and got all the tips!\\xa0Her kids are in college, but she says they always come home for her pho!\\nThere is a bit of prep involved to get the broth going, but after that, it’s just a long, slow simmer until you’re ready to assemble the dish.\\n4 Key Steps to Make Pho Broth\\nHere are the 4 steps and secrets to making a proper beef pho broth:\\n\\nPre-boiling the beef bones and meat\\nCharring the ginger and onions\\nToasting the spices\\nAdding fish sauce (said Vietnamese friend told me that one of the secrets to a great pho recipe is to not add salt, and instead add enough fish sauce to bring the broth to the correct level of saltiness.)\\n\\nI know, it’s a lot of fish sauce! However, she said that this method tastes the best, but most people don’t do it because fish sauce is so expensive.\\nShe also mentioned, rather proudly, that the Vietnamese brands of fish sauce are much more flavorful (and expensive at $9-$12 a bottle) than the Thai brands most people buy. Which is just food for thought.\\nIn accordance with this insider information, feel free to add more fish sauce to the broth and decrease the amount of salt. As is our mantra here at The Woks of Life, it’s all up to your own taste preferences! \\nOh, and definitely buy a high quality fish sauce for this pho recipe. It will only make your broth better! We like Red Boat! \\n\\n\\nPho Recipe Instructions\\nMaking the Broth\\nPlace the bones and beef chuck in large stockpot, and add water to cover. Bring to a boil, and boil for 5 minutes. Drain in a colander and thoroughly clean the stockpot. This process removes any impurities/scum, and will give you a much cleaner broth.\\nMeanwhile, char your ginger and onions. Use tongs to hold the ginger and onions (one at a time) over an open flame, or place each directly on a gas burner. (You can also do this on a grill.)\\nTurn until they’re lightly blackened and fragrant, about 5 minutes. Rinse away all the blackened skins.\\n\\n\\nAdd 5 quarts fresh water back to the stockpot and bring to a boil. Transfer the bones and meat back to the pot, along with the charred/cleaned ginger and onions. Add the scallions, fish sauce and rock sugar. Reduce the heat to low, and simmer until the beef chuck is tender, about 40 minutes. Skim the surface often to remove any foam and fat.\\nRemove one piece of the chuck and transfer to a bowl of ice water to stop the cooking process. Then transfer this piece of beef to a container and refrigerate (you will slice this to serve with your pho later. If you were to leave it in the pot, it would be too dry to eat). Leave the other piece of chuck in the pot to flavor the broth.\\nNow toast the spices (star anise, cloves, cinnamon stick, cardamom pod (if using), fennel seeds, and coriander seeds) in a dry pan over medium low heat for about 3 minutes, until fragrant. Use kitchen string to tie up the spices in a piece of cheesecloth, and add it to the broth.\\n\\n\\n\\n\\nCover the pot and continue simmering for another 4 hours. Add the salt and continue to simmer, skimming as necessary, until you’re ready to assemble the rest of the dish. Taste the broth and adjust seasoning by adding more salt, sugar, and/or fish sauce as needed.\\nAssembling the Pho\\nTo serve, boil the noodles according to package instructions. Add to a bowl. Place a few slices of the beef chuck and the raw sirloin on the noodles. Bring the broth to a rolling boil and ladle it into each bowl. The hot broth will cook the beef. \\nGarnish with your toppings—sliced chili, onion, scallions, cilantro, bean sprouts, and Thai basil, and be sure to take your lime wedges and squeeze a lot of fresh lime juice over the top! You can also add hoisin sauce and Sriracha if you like!\\n\\n\\nScroll down for the full list of ingredients and the recipe card.\\nShort on time? Check out our Instant Pot Pho recipe and our 20-Minute Chicken Pho recipe as well!\\n\\n\\nMmmm. Pho noodle pull!\\n\\n\\nLooking for more authentic recipes? Subscribe to our email list and be sure to follow us on Pinterest, Facebook, Instagram, and Youtube!\\n\\n\\n\\n\\n\\n\\n\\n4.96 from 85 votes\\n\\nPho Recipe\\nPho is a Vietnamese noodle soup topped with awesome things like fresh bean sprouts, basil, and chilies. This pho recipe was approved by a Vietnamese friend!\\n\\nby: Sarah\\n\\n\\n\\n\\nserves: 8 servings\\n\\n\\n\\n\\n\\nPrep: 30 minutes minutes\\nCook: 5 hours hours 30 minutes minutes\\nTotal: 6 hours hours\\n\\n\\n\\n\\n Print\\n\\n\\n \\n\\n\\n\\n\\n Rate\\n\\nIngredientsYou’ll need:▢ 2 3-inch (7 to 8 cm) pieces ginger, cut in half lengthwise  (no need to peel)▢ 2 onions (peeled)▢ 5 pounds beef marrow or knuckle bones▢ 2 pounds beef chuck (cut into 2 pieces)▢ 5 quarts water▢ 2 scallions (cut into 4-inch lengths)▢ 1/3 cup fish sauce▢ 2 ½ ounces rock sugar (2 1/2 tablespoons granulated sugar)▢ 8 star anise▢ 6 cloves▢ 1 cinnamon stick▢ 1 black cardamom pod (optional)▢ 2 teaspoons fennel seeds▢ 2 teaspoons coriander seeds▢ 1 tablespoon salt▢ 1 pound dried pho noodles▢ 1/3 pound beef sirloin (slightly frozen, then sliced paper-thin against the grain)Garnishes:▢ Sliced chili▢ Thinly sliced onion▢ Chopped scallions▢ Cilantro▢ Mung bean sprouts▢ Thai basil▢ Lime wedges▢ Hoisin sauce and/or Sriracha (optional)US Customary – Metric\\nInstructionsPlace the bones and beef chuck in large stockpot and add water to cover. Bring to a boil and boil for 5 minutes. Drain in a colander and thoroughly clean the stockpot. This process removes any impurities/scum and will give you a much cleaner broth.Meanwhile, char your ginger and onions. Use tongs to hold the ginger and onions (one at a time) over an open flame, or place each directly on a gas burner. Turn until they’re lightly blackened and fragrant, about 5 minutes. Rinse away all the blackened skins.Add water (5 quarts/4.75 L, or more/less if you've scaled the recipe up or down) to the stockpot and bring to a boil. Transfer the bones and meat back to the pot, along with the charred/cleaned ginger and onions. Add the scallions, fish sauce and sugar. Reduce the heat to low, and simmer until the beef chuck is tender, about 40 minutes. Skim the surface often to remove any foam and fat.Remove one piece of the chuck and transfer to a bowl of ice water to stop the cooking process. Then transfer this piece of beef to a container and refrigerate (you will slice this to serve with your pho later. If you were to leave it in the pot, it would be too dry to eat). Leave the other piece of chuck in the pot to flavor the broth.Now toast the spices (star anise, cloves, cinnamon stick, cardamom, fennel seeds, and coriander seeds) in a dry pan over medium low heat for about 3 minutes, until fragrant. Use kitchen string to tie up the spices in a piece of cheesecloth, and add it to the broth.Cover the pot and continue simmering for another 4 hours. Add the salt and continue to simmer, skimming as necessary, until you're ready to assemble the rest of the dish. Taste the broth and adjust seasoning by adding more salt, sugar, and/or fish sauce as needed.To serve, boil the noodles according to package instructions. Add to a bowl. Place a few slices of the beef chuck and the raw sirloin on the noodles. Bring the broth to a rolling boil and ladle it into each bowl. The hot broth will cook the beef. Garnish with your toppings, and be sure to squeeze a lot of fresh lime juice over the top!\\n\\n\\n\\n\\n\\nnutrition factsCalories: 495kcal (25%) Carbohydrates: 68g (23%) Protein: 30g (60%) Fat: 11g (17%) Saturated Fat: 5g (25%) Cholesterol: 69mg (23%) Potassium: 1106mg (32%) Fiber: 3g (12%) Sugar: 14g (16%) Vitamin A: 270IU (5%) Vitamin C: 14.9mg (18%) Calcium: 95mg (10%) Iron: 4.4mg (24%)\\n\\n\\n\\n\\n\\nnutritional info disclaimer\\n\\t\\t\\t\\t\\t\\t \\n\\n\\n\\n\\n\\nTheWoksofLife.com is written and produced for informational purposes only. While we do our best to provide nutritional information as a general guideline to our readers, we are not certified nutritionists, and the values provided should be considered estimates. Factors such as brands purchased, natural variations in fresh ingredients, etc. will change the nutritional information in any recipe. Various online calculators also provide different results, depending on their sources. To obtain accurate nutritional information for a recipe, use your preferred nutrition calculator to determine nutritional information with the actual ingredients and quantities used.\\n\\n\\n\\n\\n\\n\\n\\n\\n\\n\\n\\n\\n\\n\\n   Did You Make This?Tag us on Instagram @thewoksoflife, subscribe to our email list, and be sure to follow us on social for more recipes!\\n@thewoksoflife\\n\\n\\n\\nYou may also like…\\n\\n\\n\\n\\nSpicy Beef Noodle Soup\\n\\n\\n\\n\\nLanzhou Beef Noodle Soup\\n\\n\\n\\n\\nBraised Beef Noodle Soup (红烧牛肉面)\\n\\n\\n\\n\\nShanghai Home-style Noodle Soup\\n\\n\\n\\n\\n \\n\\n\\n\\n\\n \\n\\n\\n\\n\\n \\n\\n\\n\\n\\n \\n\\n\\n\\nAbout SarahSarah Leung is the eldest daughter in The Woks of Life family, working alongside younger sister Kaitlin and parents Bill and Judy. You could say this multigenerational recipe blog was born out of two things: 1) her realization in college that she had no idea how to make her mom’s Braised Pork Belly and 2) that she couldn’t find a job after graduation. With the rest of the family on board, she laid the groundwork for the blog in 2013. By 2015, it had become one of the internet’s most trusted resources for Chinese cooking. Creator of quick and easy recipes for harried home cooks and official Woks of Life photographer, Sarah loves creating accessible recipes that chase down familiar nostalgic flavors while adapting to the needs of modern home cooks. Alongside her family, Sarah has become a New York Times Bestselling author with their cookbook, The Woks of Life: Recipes to Know and Love from a Chinese American Family, as well as a James Beard Award nominee and IACP Award finalist.\\n\\n\\n\\n Previous PostThai Beef Salad\\n\\n\\nNext Post Miso Fish (Just 4 Ingredients!)\\n\\n\\n\\n \\n\\n\\n\\n\\n\\n Subscribe\\n\\n\\n\\n\\n\\n\\n\\n\\n\\nNotify of \\n\\n\\nnew follow-up comments\\nnew replies to my comments\\n\\n\\n\\n\\n\\n\\n\\n\\n \\n\\n\\n\\n\\n\\n\\n\\n \\n\\n\\nLabel\\n\\n\\n\\n\\n\\n\\n\\n\\n\\n\\nRate this recipe: \\n\\nRate this recipe:\\n\\n\\n\\n\\n\\n\\n\\n\\n\\n\\n\\n\\n\\n\\n\\n\\n\\n\\n\\n\\n\\n\\n\\n\\n\\n\\n\\n\\n\\n\\n\\n\\n\\n\\n\\n\\n\\n\\n\\n\\n\\n\\n\\n\\n\\n\\n\\n\\n\\n\\n\\n\\n\\n\\n\\n\\n\\n\\n \\n\\n\\n\\n\\n\\n\\n\\n\\n\\n\\nName*\\n\\n\\n\\n\\n\\nEmail*\\n\\n\\n\\n\\n\\n\\n\\n\\n\\n\\n\\nΔ \\n\\n\\n\\n\\n\\n\\n\\n\\n\\n\\n \\n\\n\\nLabel\\n\\n\\n\\n\\n\\n\\n\\n\\n\\n\\nRate this recipe: \\n\\nRate this recipe:\\n\\n\\n\\n\\n\\n\\n\\n\\n\\n\\n\\n\\n\\n\\n\\n\\n\\n\\n\\n\\n\\n\\n\\n\\n\\n\\n\\n\\n\\n\\n\\n\\n\\n\\n\\n\\n\\n\\n\\n\\n\\n\\n\\n\\n\\n\\n\\n\\n\\n\\n\\n\\n\\n\\n\\n\\n\\n\\n \\n\\n\\n\\n\\n\\n\\n\\n\\n\\n\\nName*\\n\\n\\n\\n\\n\\nEmail*\\n\\n\\n\\n\\n\\n\\n\\n\\n\\n\\n\\nΔ \\n\\n\\n\\nThis site uses Akismet to reduce spam. Learn how your comment data is processed. \\n\\n\\n442 Comments                    \\n\\n\\n\\nNewest\\n\\n\\nOldest\\nMost Voted\\n\\n\\n\\n\\n\\n Inline Feedbacks                    \\nView all comments\\n\\n\\n\\n\\n\\n                                    Load More Comments                                \\n\\n\\n\\n\\n\\n\\n\\n\\n\\nPrimary Sidebar\\n\\n\\n\\n\\nWelcome!\\nWe’re Sarah, Kaitlin, Judy, and Bill– a family of four cooks sharing our home-cooked and restaurant-style recipes.\\nOur Story \\n\\n\\n\\n\\n\\n\\n\\n\\n25 Top Recipes\\nTOP 25 RECIPES\\nfree eBook\\nSubscribe for the latest updates on new recipes, and get started with our family's Top 25 Recipe eBook!\\n\\nGet It Now\\n\\n\\n\\n\\n\\n\\n\\n\\n\\n\\nCooking Tools\\n\\n\\n\\nWok Guide\\n\\n\\n\\nIngredients 101\\n\\n\\n\\nKitchen Wisdom\\n\\n\\n  Surprise Me!  \\n\\n\\n\\n\\n\\n\\n\\n\\nSign Up For Email Updates & Receive Our\\nTop 25 Recipes Ebook!\\n\\n\\n\\n\\n\\n\\nLeave this field empty if you're human:  \\n\\n\\n\\n\\n\\n\\n\\nOur Family Favorites\\n\\n\\n\\n\\n\\n\\n\\nbill's pick \\n\\n\\n\\n\\t\\t\\t\\t\\tBeef and Broccoli\\n\\t\\t\\t\\t\\t\\n\\n\\n\\n\\n\\n\\n\\n\\njudy's pick \\n\\n\\n\\n\\t\\t\\t\\t\\tAsian Milk Bread\\n\\t\\t\\t\\t\\t\\n\\n\\n\\n\\n\\n\\n\\n\\nsarah's pick \\n\\n\\n\\n\\t\\t\\t\\t\\tChicken Adobo\\n\\t\\t\\t\\t\\t\\n\\n\\n\\n\\n\\n\\n\\n\\nkaitlin's pick \\n\\n\\n\\n\\t\\t\\t\\t\\tMapo Tofu\\n\\t\\t\\t\\t\\t\\n\\n\\n\\n\\n\\n\\n\\n\\n\\n\\n\\n\\n\\nSign Up For Email Updates & Receive Our\\nTop 25 Recipes Ebook!\\n\\n\\n\\n\\n\\n\\nLeave this field empty if you're human:  \\n\\n\\n\\n\\n\\n“I am proud to say that your genealogy has been the sole tutorial for my Asian-inspired culinary adventures for years; probably since you began. Time and again, my worldwide web pursuits for solid recipes that I know my family will eat has landed me back here.”\\nBeth, Community Member Since 2013\\n\\n\\n\\n\\n\\n\\n\\n\\n\\n\\n\\n\\n\\n\\n\\n\\n\\n\\n\\n\\n\\n\\n\\n\\n\\n\\n\\n\\n\\n\\n\\n\\n\\n\\n\\n\\n\\n\\n\\n\\n\\n\\n\\n\\n\\n\\n\\n\\n\\n\\n\\n\\n\\n\\n\\n\\n\\n\\n\\n\\n\\n\\n\\n\\n\\n\\n\\n\\nSearch\\n\\n\\n\\n\\nFacebook\\nInstagram\\nPinterest\\nYouTube\\n\\n\\n\\n\\n\\n©\\xa02013–2025 The Woks of Life\\nPrivacy Policy\\nDisclaimer\\n\\n\\nSite Credits\\n\\nSite design by Melissa Rose Design\\nLogo & Illustrations by Sasa Khalisa\\nDeveloped by Once Coupled\\n\\n\\nBack To Top\\n\\n\\n\\n\\n\\nOpens in a new window\\nOpens an external site\\nOpens an external site in a new window\\n\\n\\n\\n\\n\\n\\n\\nGet Updates On New Recipes & Our\\n\\n\\nFree Recipe Ebook!\\n\\n\\n\\n\\n\\nI consent to receive emails from The Woks of Life.\\r\\n\\n\\n\\n\\n\\n\\n\\n\\n\\n\\n\\n\\n\\n\\n\\n\\n\\nwpDiscuzInsert\\n\\n\\n\\n \\n\\n\\n\\n\\n\\n\\n\\n\\n\\n\\n\\n\\n\\n\\n\\n\\n\\n\\n\\n\\n\\n\\n\\n\\n\\n\\n\\n\\n \\n\\n\\n\", path=None, url=None, mimetype=None), image_resource=None, audio_resource=None, video_resource=None, text_template='{metadata_str}\\n\\n{content}'),\n",
       " Document(id_='https://tastesbetterfromscratch.com/pho-noodle-soup/', embedding=None, metadata={'file_id': '876d67a6-bab0-4a66-82ad-cc8ebfd326d3'}, excluded_embed_metadata_keys=[], excluded_llm_metadata_keys=[], relationships={}, metadata_template='{key}: {value}', metadata_separator='\\n', text_resource=MediaResource(embeddings=None, data=None, text='\\n\\n\\n\\n  \\n\\nAttention Required! | Cloudflare\\n\\n\\n\\n\\n\\n\\n\\n\\n\\n\\n\\n\\n\\n\\nPlease enable cookies.\\n\\n\\nSorry, you have been blocked\\nYou are unable to access dns1.nerdpress.net\\n\\n\\n\\n\\n\\n\\n\\n\\n\\n\\n\\nWhy have I been blocked?\\nThis website is using a security service to protect itself from online attacks. The action you just performed triggered the security solution. There are several actions that could trigger this block including submitting a certain word or phrase, a SQL command or malformed data.\\n\\n\\nWhat can I do to resolve this?\\nYou can email the site owner to let them know you were blocked. Please include what you were doing when this page came up and the Cloudflare Ray ID found at the bottom of this page.\\n\\n\\n\\n\\n\\nCloudflare Ray ID: 92af5a32ccfde50e\\n•\\n\\n      Your IP:\\n      Click to reveal\\n2a02:8109:9a33:2300:116d:44b7:a8af:4362\\n•\\n\\nPerformance & security by Cloudflare\\n\\n\\n\\n\\n\\n\\n\\n\\n', path=None, url=None, mimetype=None), image_resource=None, audio_resource=None, video_resource=None, text_template='{metadata_str}\\n\\n{content}'),\n",
       " Document(id_='https://www.allrecipes.com/recipe/228443/authentic-pho/', embedding=None, metadata={'file_id': '5c8eb170-cc46-48d5-a0de-1fa790cab745'}, excluded_embed_metadata_keys=[], excluded_llm_metadata_keys=[], relationships={}, metadata_template='{key}: {value}', metadata_separator='\\n', text_resource=MediaResource(embeddings=None, data=None, text=\"b''\", path=None, url=None, mimetype=None), image_resource=None, audio_resource=None, video_resource=None, text_template='{metadata_str}\\n\\n{content}')]"
      ]
     },
     "execution_count": 106,
     "metadata": {},
     "output_type": "execute_result"
    }
   ],
   "execution_count": 106
  },
  {
   "metadata": {
    "ExecuteTime": {
     "end_time": "2025-04-04T08:17:27.472347Z",
     "start_time": "2025-04-04T08:17:27.439501Z"
    }
   },
   "cell_type": "code",
   "source": [
    "for i, chat_file in enumerate(chat_files):\n",
    "    print(i)\n",
    "    print(chroma_collection.get(where={'file_id': { '$eq': chat_file.metadata['file_id'] }}))\n",
    "    print(\"\\n\\n\\n\")\n"
   ],
   "id": "3ea8e9c00d4e0700",
   "outputs": [
    {
     "name": "stdout",
     "output_type": "stream",
     "text": [
      "0\n",
      "{'ids': ['a2fba4fc-e450-4453-8406-24374c992d16', '38d29a1d-deb3-4085-a383-56b5be413bcf', '084f0ad3-76fc-470c-ae45-f1a5d743d956', 'e34e2b0a-c1a0-43c2-a673-1018bedc8f07', '0d005379-7195-45aa-9c49-d5951873dae0', '6c2c27a1-e716-4c3c-93c6-dbb1a4adb1bb', '8a56d5cc-2db5-484c-a875-6704ebba3ab9', 'adffc06a-7e75-4d04-b9a3-baa873de9b57', '6cb64024-b889-4978-a940-de055697c4f8'], 'embeddings': None, 'metadatas': [{'_node_content': '{\"id_\": \"a2fba4fc-e450-4453-8406-24374c992d16\", \"embedding\": null, \"metadata\": {\"file_id\": \"be02f6b3-c180-4a29-bd45-b4110d621c4d\"}, \"excluded_embed_metadata_keys\": [], \"excluded_llm_metadata_keys\": [], \"relationships\": {\"1\": {\"node_id\": \"https://thewoksoflife.com/pho-vietnamese-noodle-soup/\", \"node_type\": \"4\", \"metadata\": {\"file_id\": \"be02f6b3-c180-4a29-bd45-b4110d621c4d\"}, \"hash\": \"22fbef178a483effc5fae7117c0965040aeb3d2b3a9a672b2910632357e7686c\", \"class_name\": \"RelatedNodeInfo\"}, \"3\": {\"node_id\": \"38d29a1d-deb3-4085-a383-56b5be413bcf\", \"node_type\": \"1\", \"metadata\": {}, \"hash\": \"1d7b1f8599a15945f0991f83824b95c33db34b077f759afe01f688d8791f97f8\", \"class_name\": \"RelatedNodeInfo\"}}, \"metadata_template\": \"{key}: {value}\", \"metadata_separator\": \"\\\\n\", \"text\": \"\", \"mimetype\": \"text/plain\", \"start_char_idx\": 31, \"end_char_idx\": 1851, \"metadata_seperator\": \"\\\\n\", \"text_template\": \"{metadata_str}\\\\n\\\\n{content}\", \"class_name\": \"TextNode\"}', '_node_type': 'TextNode', 'doc_id': 'https://thewoksoflife.com/pho-vietnamese-noodle-soup/', 'document_id': 'https://thewoksoflife.com/pho-vietnamese-noodle-soup/', 'file_id': 'be02f6b3-c180-4a29-bd45-b4110d621c4d', 'ref_doc_id': 'https://thewoksoflife.com/pho-vietnamese-noodle-soup/'}, {'_node_content': '{\"id_\": \"38d29a1d-deb3-4085-a383-56b5be413bcf\", \"embedding\": null, \"metadata\": {\"file_id\": \"be02f6b3-c180-4a29-bd45-b4110d621c4d\"}, \"excluded_embed_metadata_keys\": [], \"excluded_llm_metadata_keys\": [], \"relationships\": {\"1\": {\"node_id\": \"https://thewoksoflife.com/pho-vietnamese-noodle-soup/\", \"node_type\": \"4\", \"metadata\": {\"file_id\": \"be02f6b3-c180-4a29-bd45-b4110d621c4d\"}, \"hash\": \"22fbef178a483effc5fae7117c0965040aeb3d2b3a9a672b2910632357e7686c\", \"class_name\": \"RelatedNodeInfo\"}, \"2\": {\"node_id\": \"a2fba4fc-e450-4453-8406-24374c992d16\", \"node_type\": \"1\", \"metadata\": {\"file_id\": \"be02f6b3-c180-4a29-bd45-b4110d621c4d\"}, \"hash\": \"73c29fdd7a8a6b2d966897cb3d814802debce3b66c334b258ee74ed7a9e13ff3\", \"class_name\": \"RelatedNodeInfo\"}, \"3\": {\"node_id\": \"084f0ad3-76fc-470c-ae45-f1a5d743d956\", \"node_type\": \"1\", \"metadata\": {}, \"hash\": \"f3876b4743728c3f16ae13300e63c63a4c2be73c8f626adab7527b8e56de3e58\", \"class_name\": \"RelatedNodeInfo\"}}, \"metadata_template\": \"{key}: {value}\", \"metadata_separator\": \"\\\\n\", \"text\": \"\", \"mimetype\": \"text/plain\", \"start_char_idx\": 1651, \"end_char_idx\": 3696, \"metadata_seperator\": \"\\\\n\", \"text_template\": \"{metadata_str}\\\\n\\\\n{content}\", \"class_name\": \"TextNode\"}', '_node_type': 'TextNode', 'doc_id': 'https://thewoksoflife.com/pho-vietnamese-noodle-soup/', 'document_id': 'https://thewoksoflife.com/pho-vietnamese-noodle-soup/', 'file_id': 'be02f6b3-c180-4a29-bd45-b4110d621c4d', 'ref_doc_id': 'https://thewoksoflife.com/pho-vietnamese-noodle-soup/'}, {'_node_content': '{\"id_\": \"084f0ad3-76fc-470c-ae45-f1a5d743d956\", \"embedding\": null, \"metadata\": {\"file_id\": \"be02f6b3-c180-4a29-bd45-b4110d621c4d\"}, \"excluded_embed_metadata_keys\": [], \"excluded_llm_metadata_keys\": [], \"relationships\": {\"1\": {\"node_id\": \"https://thewoksoflife.com/pho-vietnamese-noodle-soup/\", \"node_type\": \"4\", \"metadata\": {\"file_id\": \"be02f6b3-c180-4a29-bd45-b4110d621c4d\"}, \"hash\": \"22fbef178a483effc5fae7117c0965040aeb3d2b3a9a672b2910632357e7686c\", \"class_name\": \"RelatedNodeInfo\"}, \"2\": {\"node_id\": \"38d29a1d-deb3-4085-a383-56b5be413bcf\", \"node_type\": \"1\", \"metadata\": {\"file_id\": \"be02f6b3-c180-4a29-bd45-b4110d621c4d\"}, \"hash\": \"e2118d5585dc8d739dac1789890fa25d8a568dbab5c8a31f13b21ca4739ba63b\", \"class_name\": \"RelatedNodeInfo\"}, \"3\": {\"node_id\": \"e34e2b0a-c1a0-43c2-a673-1018bedc8f07\", \"node_type\": \"1\", \"metadata\": {}, \"hash\": \"5efc68c9ebe762ba7560781cf9e1fecf2e3df1162e800ede95c3dea9acc51ed7\", \"class_name\": \"RelatedNodeInfo\"}}, \"metadata_template\": \"{key}: {value}\", \"metadata_separator\": \"\\\\n\", \"text\": \"\", \"mimetype\": \"text/plain\", \"start_char_idx\": 3663, \"end_char_idx\": 4945, \"metadata_seperator\": \"\\\\n\", \"text_template\": \"{metadata_str}\\\\n\\\\n{content}\", \"class_name\": \"TextNode\"}', '_node_type': 'TextNode', 'doc_id': 'https://thewoksoflife.com/pho-vietnamese-noodle-soup/', 'document_id': 'https://thewoksoflife.com/pho-vietnamese-noodle-soup/', 'file_id': 'be02f6b3-c180-4a29-bd45-b4110d621c4d', 'ref_doc_id': 'https://thewoksoflife.com/pho-vietnamese-noodle-soup/'}, {'_node_content': '{\"id_\": \"e34e2b0a-c1a0-43c2-a673-1018bedc8f07\", \"embedding\": null, \"metadata\": {\"file_id\": \"be02f6b3-c180-4a29-bd45-b4110d621c4d\"}, \"excluded_embed_metadata_keys\": [], \"excluded_llm_metadata_keys\": [], \"relationships\": {\"1\": {\"node_id\": \"https://thewoksoflife.com/pho-vietnamese-noodle-soup/\", \"node_type\": \"4\", \"metadata\": {\"file_id\": \"be02f6b3-c180-4a29-bd45-b4110d621c4d\"}, \"hash\": \"22fbef178a483effc5fae7117c0965040aeb3d2b3a9a672b2910632357e7686c\", \"class_name\": \"RelatedNodeInfo\"}, \"2\": {\"node_id\": \"084f0ad3-76fc-470c-ae45-f1a5d743d956\", \"node_type\": \"1\", \"metadata\": {\"file_id\": \"be02f6b3-c180-4a29-bd45-b4110d621c4d\"}, \"hash\": \"5a91b9340f7f4c1df74385b8a86f6bc60cfdb77365538c0836f0ed64fd010018\", \"class_name\": \"RelatedNodeInfo\"}, \"3\": {\"node_id\": \"0d005379-7195-45aa-9c49-d5951873dae0\", \"node_type\": \"1\", \"metadata\": {}, \"hash\": \"280d3fcc029a2ce23d008a48ebc89ffe7e4e75cbe4bed3af04f68dfdf269e259\", \"class_name\": \"RelatedNodeInfo\"}}, \"metadata_template\": \"{key}: {value}\", \"metadata_separator\": \"\\\\n\", \"text\": \"\", \"mimetype\": \"text/plain\", \"start_char_idx\": 4948, \"end_char_idx\": 6881, \"metadata_seperator\": \"\\\\n\", \"text_template\": \"{metadata_str}\\\\n\\\\n{content}\", \"class_name\": \"TextNode\"}', '_node_type': 'TextNode', 'doc_id': 'https://thewoksoflife.com/pho-vietnamese-noodle-soup/', 'document_id': 'https://thewoksoflife.com/pho-vietnamese-noodle-soup/', 'file_id': 'be02f6b3-c180-4a29-bd45-b4110d621c4d', 'ref_doc_id': 'https://thewoksoflife.com/pho-vietnamese-noodle-soup/'}, {'_node_content': '{\"id_\": \"0d005379-7195-45aa-9c49-d5951873dae0\", \"embedding\": null, \"metadata\": {\"file_id\": \"be02f6b3-c180-4a29-bd45-b4110d621c4d\"}, \"excluded_embed_metadata_keys\": [], \"excluded_llm_metadata_keys\": [], \"relationships\": {\"1\": {\"node_id\": \"https://thewoksoflife.com/pho-vietnamese-noodle-soup/\", \"node_type\": \"4\", \"metadata\": {\"file_id\": \"be02f6b3-c180-4a29-bd45-b4110d621c4d\"}, \"hash\": \"22fbef178a483effc5fae7117c0965040aeb3d2b3a9a672b2910632357e7686c\", \"class_name\": \"RelatedNodeInfo\"}, \"2\": {\"node_id\": \"e34e2b0a-c1a0-43c2-a673-1018bedc8f07\", \"node_type\": \"1\", \"metadata\": {\"file_id\": \"be02f6b3-c180-4a29-bd45-b4110d621c4d\"}, \"hash\": \"5f454fb0d051b974960e1b7cb7d364b6090c2f4e0fa75d92c74a43924787290c\", \"class_name\": \"RelatedNodeInfo\"}, \"3\": {\"node_id\": \"6c2c27a1-e716-4c3c-93c6-dbb1a4adb1bb\", \"node_type\": \"1\", \"metadata\": {}, \"hash\": \"36dfa0753977773f80ca6806f89c94c6c1ee507f3ebac52f8ebc3392431f892a\", \"class_name\": \"RelatedNodeInfo\"}}, \"metadata_template\": \"{key}: {value}\", \"metadata_separator\": \"\\\\n\", \"text\": \"\", \"mimetype\": \"text/plain\", \"start_char_idx\": 6693, \"end_char_idx\": 8322, \"metadata_seperator\": \"\\\\n\", \"text_template\": \"{metadata_str}\\\\n\\\\n{content}\", \"class_name\": \"TextNode\"}', '_node_type': 'TextNode', 'doc_id': 'https://thewoksoflife.com/pho-vietnamese-noodle-soup/', 'document_id': 'https://thewoksoflife.com/pho-vietnamese-noodle-soup/', 'file_id': 'be02f6b3-c180-4a29-bd45-b4110d621c4d', 'ref_doc_id': 'https://thewoksoflife.com/pho-vietnamese-noodle-soup/'}, {'_node_content': '{\"id_\": \"6c2c27a1-e716-4c3c-93c6-dbb1a4adb1bb\", \"embedding\": null, \"metadata\": {\"file_id\": \"be02f6b3-c180-4a29-bd45-b4110d621c4d\"}, \"excluded_embed_metadata_keys\": [], \"excluded_llm_metadata_keys\": [], \"relationships\": {\"1\": {\"node_id\": \"https://thewoksoflife.com/pho-vietnamese-noodle-soup/\", \"node_type\": \"4\", \"metadata\": {\"file_id\": \"be02f6b3-c180-4a29-bd45-b4110d621c4d\"}, \"hash\": \"22fbef178a483effc5fae7117c0965040aeb3d2b3a9a672b2910632357e7686c\", \"class_name\": \"RelatedNodeInfo\"}, \"2\": {\"node_id\": \"0d005379-7195-45aa-9c49-d5951873dae0\", \"node_type\": \"1\", \"metadata\": {\"file_id\": \"be02f6b3-c180-4a29-bd45-b4110d621c4d\"}, \"hash\": \"e63da7c90ed668c79f5f861ebf3950f790ee215067bcd0470aefced69441c0d1\", \"class_name\": \"RelatedNodeInfo\"}, \"3\": {\"node_id\": \"8a56d5cc-2db5-484c-a875-6704ebba3ab9\", \"node_type\": \"1\", \"metadata\": {}, \"hash\": \"2c7417e4f0053b28c13a5092144f37232f094213048d5a2030515be1f44a2e7e\", \"class_name\": \"RelatedNodeInfo\"}}, \"metadata_template\": \"{key}: {value}\", \"metadata_separator\": \"\\\\n\", \"text\": \"\", \"mimetype\": \"text/plain\", \"start_char_idx\": 8228, \"end_char_idx\": 10163, \"metadata_seperator\": \"\\\\n\", \"text_template\": \"{metadata_str}\\\\n\\\\n{content}\", \"class_name\": \"TextNode\"}', '_node_type': 'TextNode', 'doc_id': 'https://thewoksoflife.com/pho-vietnamese-noodle-soup/', 'document_id': 'https://thewoksoflife.com/pho-vietnamese-noodle-soup/', 'file_id': 'be02f6b3-c180-4a29-bd45-b4110d621c4d', 'ref_doc_id': 'https://thewoksoflife.com/pho-vietnamese-noodle-soup/'}, {'_node_content': '{\"id_\": \"8a56d5cc-2db5-484c-a875-6704ebba3ab9\", \"embedding\": null, \"metadata\": {\"file_id\": \"be02f6b3-c180-4a29-bd45-b4110d621c4d\"}, \"excluded_embed_metadata_keys\": [], \"excluded_llm_metadata_keys\": [], \"relationships\": {\"1\": {\"node_id\": \"https://thewoksoflife.com/pho-vietnamese-noodle-soup/\", \"node_type\": \"4\", \"metadata\": {\"file_id\": \"be02f6b3-c180-4a29-bd45-b4110d621c4d\"}, \"hash\": \"22fbef178a483effc5fae7117c0965040aeb3d2b3a9a672b2910632357e7686c\", \"class_name\": \"RelatedNodeInfo\"}, \"2\": {\"node_id\": \"6c2c27a1-e716-4c3c-93c6-dbb1a4adb1bb\", \"node_type\": \"1\", \"metadata\": {\"file_id\": \"be02f6b3-c180-4a29-bd45-b4110d621c4d\"}, \"hash\": \"75995ecad57cc3cf39e1e417a91c465394d535126c0e28e1adb4a9ff11246720\", \"class_name\": \"RelatedNodeInfo\"}, \"3\": {\"node_id\": \"adffc06a-7e75-4d04-b9a3-baa873de9b57\", \"node_type\": \"1\", \"metadata\": {}, \"hash\": \"f1378cdcb88448d76d9cce90d1c6748376d91a8ade05a77b53c3be551c9239ae\", \"class_name\": \"RelatedNodeInfo\"}}, \"metadata_template\": \"{key}: {value}\", \"metadata_separator\": \"\\\\n\", \"text\": \"\", \"mimetype\": \"text/plain\", \"start_char_idx\": 9979, \"end_char_idx\": 11578, \"metadata_seperator\": \"\\\\n\", \"text_template\": \"{metadata_str}\\\\n\\\\n{content}\", \"class_name\": \"TextNode\"}', '_node_type': 'TextNode', 'doc_id': 'https://thewoksoflife.com/pho-vietnamese-noodle-soup/', 'document_id': 'https://thewoksoflife.com/pho-vietnamese-noodle-soup/', 'file_id': 'be02f6b3-c180-4a29-bd45-b4110d621c4d', 'ref_doc_id': 'https://thewoksoflife.com/pho-vietnamese-noodle-soup/'}, {'_node_content': '{\"id_\": \"adffc06a-7e75-4d04-b9a3-baa873de9b57\", \"embedding\": null, \"metadata\": {\"file_id\": \"be02f6b3-c180-4a29-bd45-b4110d621c4d\"}, \"excluded_embed_metadata_keys\": [], \"excluded_llm_metadata_keys\": [], \"relationships\": {\"1\": {\"node_id\": \"https://thewoksoflife.com/pho-vietnamese-noodle-soup/\", \"node_type\": \"4\", \"metadata\": {\"file_id\": \"be02f6b3-c180-4a29-bd45-b4110d621c4d\"}, \"hash\": \"22fbef178a483effc5fae7117c0965040aeb3d2b3a9a672b2910632357e7686c\", \"class_name\": \"RelatedNodeInfo\"}, \"2\": {\"node_id\": \"8a56d5cc-2db5-484c-a875-6704ebba3ab9\", \"node_type\": \"1\", \"metadata\": {\"file_id\": \"be02f6b3-c180-4a29-bd45-b4110d621c4d\"}, \"hash\": \"431efe62bdb9724cebd0c06fcca32d800351dac3417426f613bd31209df7a37a\", \"class_name\": \"RelatedNodeInfo\"}, \"3\": {\"node_id\": \"6cb64024-b889-4978-a940-de055697c4f8\", \"node_type\": \"1\", \"metadata\": {}, \"hash\": \"489f5da4d35280041646521d83a443a921112b81bbb50de6dd180e63d104680f\", \"class_name\": \"RelatedNodeInfo\"}}, \"metadata_template\": \"{key}: {value}\", \"metadata_separator\": \"\\\\n\", \"text\": \"\", \"mimetype\": \"text/plain\", \"start_char_idx\": 11454, \"end_char_idx\": 13453, \"metadata_seperator\": \"\\\\n\", \"text_template\": \"{metadata_str}\\\\n\\\\n{content}\", \"class_name\": \"TextNode\"}', '_node_type': 'TextNode', 'doc_id': 'https://thewoksoflife.com/pho-vietnamese-noodle-soup/', 'document_id': 'https://thewoksoflife.com/pho-vietnamese-noodle-soup/', 'file_id': 'be02f6b3-c180-4a29-bd45-b4110d621c4d', 'ref_doc_id': 'https://thewoksoflife.com/pho-vietnamese-noodle-soup/'}, {'_node_content': '{\"id_\": \"6cb64024-b889-4978-a940-de055697c4f8\", \"embedding\": null, \"metadata\": {\"file_id\": \"be02f6b3-c180-4a29-bd45-b4110d621c4d\"}, \"excluded_embed_metadata_keys\": [], \"excluded_llm_metadata_keys\": [], \"relationships\": {\"1\": {\"node_id\": \"https://thewoksoflife.com/pho-vietnamese-noodle-soup/\", \"node_type\": \"4\", \"metadata\": {\"file_id\": \"be02f6b3-c180-4a29-bd45-b4110d621c4d\"}, \"hash\": \"22fbef178a483effc5fae7117c0965040aeb3d2b3a9a672b2910632357e7686c\", \"class_name\": \"RelatedNodeInfo\"}, \"2\": {\"node_id\": \"adffc06a-7e75-4d04-b9a3-baa873de9b57\", \"node_type\": \"1\", \"metadata\": {\"file_id\": \"be02f6b3-c180-4a29-bd45-b4110d621c4d\"}, \"hash\": \"707bfa78088b2b19f958577cabdc4bdd03e5e6230240591492de576a953efd36\", \"class_name\": \"RelatedNodeInfo\"}}, \"metadata_template\": \"{key}: {value}\", \"metadata_separator\": \"\\\\n\", \"text\": \"\", \"mimetype\": \"text/plain\", \"start_char_idx\": 13213, \"end_char_idx\": 15165, \"metadata_seperator\": \"\\\\n\", \"text_template\": \"{metadata_str}\\\\n\\\\n{content}\", \"class_name\": \"TextNode\"}', '_node_type': 'TextNode', 'doc_id': 'https://thewoksoflife.com/pho-vietnamese-noodle-soup/', 'document_id': 'https://thewoksoflife.com/pho-vietnamese-noodle-soup/', 'file_id': 'be02f6b3-c180-4a29-bd45-b4110d621c4d', 'ref_doc_id': 'https://thewoksoflife.com/pho-vietnamese-noodle-soup/'}], 'documents': ['Pho Recipe (Vietnamese Noodle Soup) - The Woks of Life\\n\\n\\n\\n\\n\\n\\n\\n\\n\\n\\n\\n\\n\\n\\n\\n\\n\\n\\n\\n\\n\\n\\n\\n\\n\\n\\n\\n\\n\\n\\n\\n \\n\\n\\n\\n\\n\\n\\n\\n\\n\\n\\n\\n\\n\\n\\n\\n\\n\\n\\n\\n\\n\\n\\n\\n\\n\\n\\n\\n\\n\\n\\n\\n\\n\\n\\n\\n\\n\\n \\n\\n\\n\\n\\n\\n Skip to primary navigation Skip to privacy navigation Skip to recipes navigation Skip to main content Skip to primary sidebar\\n\\n\\n\\n\\nFacebook\\nInstagram\\nPinterest\\nYouTube\\n\\n\\n\\n\\nSearch\\n\\n\\n\\nThe Woks of Lifea culinary genealogyMain Menu\\n\\n\\nDisplay Search Bar\\n\\nSurprise Me!\\n\\n\\nSearch\\n\\nRecipes\\n\\nRecipe Index\\nAll Posts by Date\\nOur Cookbook: NOW AVAILABLE!\\nVideos\\n\\n\\nHow-To\\n\\nCooking Methods\\nCooking Tools\\nWok Guide\\nGarden/Farm\\nCulture\\n\\n\\nIngredients\\n\\nChinese Ingredients Glossary\\nSauces, Wines, Vinegars & Oils\\nSpices & Seasonings\\nDried, Cured & Pickled Ingredients\\nNoodles & Wrappers\\nRice, Grains, Flours & Starches\\nTofu, Bean Curd & Seitan\\nVegetables & Fungi\\nFresh Herbs & Aromatics\\n\\n\\nLife & Travel\\n\\nFamily Life\\nTravel With Us\\n\\n\\nAbout Us\\nContact\\n\\nPress\\nWork with Us\\nSend Us A Message\\n\\n\\n\\n\\n\\nFacebook\\nInstagram\\nPinterest\\nYouTube\\n\\n\\n\\n\\n\\n\\n\\nJoin Our Newsletter And Receive Our Free Top 25 Recipes Book!\\nSubscribe\\n\\n\\n\\n\\n\\n\\nTap here to receive our FREE top 25 recipe book!\\n\\n\\n\\n\\nHome  Recipes  Noodles & Pasta  Pho (Vietnamese Noodle Soup)Pho (Vietnamese Noodle Soup)\\n\\n\\n\\n\\n\\nby: Sarah\\n 442 Comments \\n\\n\\n\\nJump to Recipe \\n\\n\\n\\nPosted:9/05/2023Updated:9/05/2023\\n\\n\\n\\nPho (Vietnamese Noodle Soup) has long been one of my absolute favorite things to eat. There has been more than one occasion in which I have actually gotten in my car and driven over 45 minutes for the express purpose of indulging in good bowl of the stuff, which is why this pho recipe is sorely needed.\\nNote: We originally published this recipe in March 2015. We have since added clearer photos, nutrition info, and metric measurements. The recipe has been tested by us and many readers and approved by Vietnamese friends, so it remains the same!\\xa0\\nWhat Is Pho?', 'We have since added clearer photos, nutrition info, and metric measurements. The recipe has been tested by us and many readers and approved by Vietnamese friends, so it remains the same!\\xa0\\nWhat Is Pho?\\nPho (I found out in college that it’s actually pronounced “fuh.” For someone who’d been shamelessly calling it “foe” for eighteen years, this was an embarrassing revelation) is a noodle soup hailing from Vietnam that’s often made with beef and topped with awesome things like fresh bean sprouts, basil, and chilies.\\nThere’s just something about it—the fragrant beef broth, the slightly chewy rice noodles, and all the aromatic toppings (the squeeze of lime at the end is the BEST)—that seriously justifies a 90-minute roundtrip drive.\\nThe Quest For a Great Broth\\nA bowl of pho is only as good as the broth. There’s no trick to the noodles, really, and the beef is often added to the soup raw. The other vegetable and herb toppings are ALL added to the soup raw.\\nIn short? No broth, no bacon.\\nI never really thought it would be realistic to make it myself at home. Chalk it up to a cynical but somewhat substantiated opinion that no broth I could make at home would ever taste as good as the restaurant equivalent.\\nWe decided to take a stab at it anyway, and the results were awesome. I also talked with a Vietnamese friend/mom who cooks this dish on a regular basis for her family and got all the tips!\\xa0Her kids are in college, but she says they always come home for her pho!\\nThere is a bit of prep involved to get the broth going, but after that, it’s just a long, slow simmer until you’re ready to assemble the dish.\\n4 Key Steps to Make Pho Broth\\nHere are the 4 steps and secrets to making a proper beef pho broth:\\n\\nPre-boiling the beef bones and meat\\nCharring the ginger and onions\\nToasting the spices\\nAdding fish sauce (said Vietnamese friend told me that one of the secrets to a great pho recipe is to not add salt, and instead add enough fish sauce to bring the broth to the correct level of saltiness.)\\n\\nI know, it’s a lot of fish sauce!', 'I know, it’s a lot of fish sauce! However, she said that this method tastes the best, but most people don’t do it because fish sauce is so expensive.\\nShe also mentioned, rather proudly, that the Vietnamese brands of fish sauce are much more flavorful (and expensive at $9-$12 a bottle) than the Thai brands most people buy. Which is just food for thought.\\nIn accordance with this insider information, feel free to add more fish sauce to the broth and decrease the amount of salt. As is our mantra here at The Woks of Life, it’s all up to your own taste preferences! \\nOh, and definitely buy a high quality fish sauce for this pho recipe. It will only make your broth better! We like Red Boat! \\n\\n\\nPho Recipe Instructions\\nMaking the Broth\\nPlace the bones and beef chuck in large stockpot, and add water to cover. Bring to a boil, and boil for 5 minutes. Drain in a colander and thoroughly clean the stockpot. This process removes any impurities/scum, and will give you a much cleaner broth.\\nMeanwhile, char your ginger and onions. Use tongs to hold the ginger and onions (one at a time) over an open flame, or place each directly on a gas burner. (You can also do this on a grill.)\\nTurn until they’re lightly blackened and fragrant, about 5 minutes. Rinse away all the blackened skins.', 'Add 5 quarts fresh water back to the stockpot and bring to a boil. Transfer the bones and meat back to the pot, along with the charred/cleaned ginger and onions. Add the scallions, fish sauce and rock sugar. Reduce the heat to low, and simmer until the beef chuck is tender, about 40 minutes. Skim the surface often to remove any foam and fat.\\nRemove one piece of the chuck and transfer to a bowl of ice water to stop the cooking process. Then transfer this piece of beef to a container and refrigerate (you will slice this to serve with your pho later. If you were to leave it in the pot, it would be too dry to eat). Leave the other piece of chuck in the pot to flavor the broth.\\nNow toast the spices (star anise, cloves, cinnamon stick, cardamom pod (if using), fennel seeds, and coriander seeds) in a dry pan over medium low heat for about 3 minutes, until fragrant. Use kitchen string to tie up the spices in a piece of cheesecloth, and add it to the broth.\\n\\n\\n\\n\\nCover the pot and continue simmering for another 4 hours. Add the salt and continue to simmer, skimming as necessary, until you’re ready to assemble the rest of the dish. Taste the broth and adjust seasoning by adding more salt, sugar, and/or fish sauce as needed.\\nAssembling the Pho\\nTo serve, boil the noodles according to package instructions. Add to a bowl. Place a few slices of the beef chuck and the raw sirloin on the noodles. Bring the broth to a rolling boil and ladle it into each bowl. The hot broth will cook the beef. \\nGarnish with your toppings—sliced chili, onion, scallions, cilantro, bean sprouts, and Thai basil, and be sure to take your lime wedges and squeeze a lot of fresh lime juice over the top! You can also add hoisin sauce and Sriracha if you like!\\n\\n\\nScroll down for the full list of ingredients and the recipe card.\\nShort on time? Check out our Instant Pot Pho recipe and our 20-Minute Chicken Pho recipe as well!\\n\\n\\nMmmm. Pho noodle pull!', 'Scroll down for the full list of ingredients and the recipe card.\\nShort on time? Check out our Instant Pot Pho recipe and our 20-Minute Chicken Pho recipe as well!\\n\\n\\nMmmm. Pho noodle pull!\\n\\n\\nLooking for more authentic recipes? Subscribe to our email list and be sure to follow us on Pinterest, Facebook, Instagram, and Youtube!\\n\\n\\n\\n\\n\\n\\n\\n4.96 from 85 votes\\n\\nPho Recipe\\nPho is a Vietnamese noodle soup topped with awesome things like fresh bean sprouts, basil, and chilies. This pho recipe was approved by a Vietnamese friend!\\n\\nby: Sarah\\n\\n\\n\\n\\nserves: 8 servings\\n\\n\\n\\n\\n\\nPrep: 30 minutes minutes\\nCook: 5 hours hours 30 minutes minutes\\nTotal: 6 hours hours\\n\\n\\n\\n\\n Print\\n\\n\\n \\n\\n\\n\\n\\n Rate\\n\\nIngredientsYou’ll need:▢ 2 3-inch (7 to 8 cm) pieces ginger, cut in half lengthwise  (no need to peel)▢ 2 onions (peeled)▢ 5 pounds beef marrow or knuckle bones▢ 2 pounds beef chuck (cut into 2 pieces)▢ 5 quarts water▢ 2 scallions (cut into 4-inch lengths)▢ 1/3 cup fish sauce▢ 2 ½ ounces rock sugar (2 1/2 tablespoons granulated sugar)▢ 8 star anise▢ 6 cloves▢ 1 cinnamon stick▢ 1 black cardamom pod (optional)▢ 2 teaspoons fennel seeds▢ 2 teaspoons coriander seeds▢ 1 tablespoon salt▢ 1 pound dried pho noodles▢ 1/3 pound beef sirloin (slightly frozen, then sliced paper-thin against the grain)Garnishes:▢ Sliced chili▢ Thinly sliced onion▢ Chopped scallions▢ Cilantro▢ Mung bean sprouts▢ Thai basil▢ Lime wedges▢ Hoisin sauce and/or Sriracha (optional)US Customary – Metric\\nInstructionsPlace the bones and beef chuck in large stockpot and add water to cover. Bring to a boil and boil for 5 minutes. Drain in a colander and thoroughly clean the stockpot.', \"Bring to a boil and boil for 5 minutes. Drain in a colander and thoroughly clean the stockpot. This process removes any impurities/scum and will give you a much cleaner broth.Meanwhile, char your ginger and onions. Use tongs to hold the ginger and onions (one at a time) over an open flame, or place each directly on a gas burner. Turn until they’re lightly blackened and fragrant, about 5 minutes. Rinse away all the blackened skins.Add water (5 quarts/4.75 L, or more/less if you've scaled the recipe up or down) to the stockpot and bring to a boil. Transfer the bones and meat back to the pot, along with the charred/cleaned ginger and onions. Add the scallions, fish sauce and sugar. Reduce the heat to low, and simmer until the beef chuck is tender, about 40 minutes. Skim the surface often to remove any foam and fat.Remove one piece of the chuck and transfer to a bowl of ice water to stop the cooking process. Then transfer this piece of beef to a container and refrigerate (you will slice this to serve with your pho later. If you were to leave it in the pot, it would be too dry to eat). Leave the other piece of chuck in the pot to flavor the broth.Now toast the spices (star anise, cloves, cinnamon stick, cardamom, fennel seeds, and coriander seeds) in a dry pan over medium low heat for about 3 minutes, until fragrant. Use kitchen string to tie up the spices in a piece of cheesecloth, and add it to the broth.Cover the pot and continue simmering for another 4 hours. Add the salt and continue to simmer, skimming as necessary, until you're ready to assemble the rest of the dish. Taste the broth and adjust seasoning by adding more salt, sugar, and/or fish sauce as needed.To serve, boil the noodles according to package instructions. Add to a bowl. Place a few slices of the beef chuck and the raw sirloin on the noodles. Bring the broth to a rolling boil and ladle it into each bowl. The hot broth will cook the beef.\", 'Add to a bowl. Place a few slices of the beef chuck and the raw sirloin on the noodles. Bring the broth to a rolling boil and ladle it into each bowl. The hot broth will cook the beef. Garnish with your toppings, and be sure to squeeze a lot of fresh lime juice over the top!\\n\\n\\n\\n\\n\\nnutrition factsCalories: 495kcal (25%) Carbohydrates: 68g (23%) Protein: 30g (60%) Fat: 11g (17%) Saturated Fat: 5g (25%) Cholesterol: 69mg (23%) Potassium: 1106mg (32%) Fiber: 3g (12%) Sugar: 14g (16%) Vitamin A: 270IU (5%) Vitamin C: 14.9mg (18%) Calcium: 95mg (10%) Iron: 4.4mg (24%)\\n\\n\\n\\n\\n\\nnutritional info disclaimer\\n\\t\\t\\t\\t\\t\\t \\n\\n\\n\\n\\n\\nTheWoksofLife.com is written and produced for informational purposes only. While we do our best to provide nutritional information as a general guideline to our readers, we are not certified nutritionists, and the values provided should be considered estimates. Factors such as brands purchased, natural variations in fresh ingredients, etc. will change the nutritional information in any recipe. Various online calculators also provide different results, depending on their sources. To obtain accurate nutritional information for a recipe, use your preferred nutrition calculator to determine nutritional information with the actual ingredients and quantities used.\\n\\n\\n\\n\\n\\n\\n\\n\\n\\n\\n\\n\\n\\n\\n   Did You Make This?Tag us on Instagram @thewoksoflife, subscribe to our email list, and be sure to follow us on social for more recipes!\\n@thewoksoflife\\n\\n\\n\\nYou may also like…\\n\\n\\n\\n\\nSpicy Beef Noodle Soup\\n\\n\\n\\n\\nLanzhou Beef Noodle Soup\\n\\n\\n\\n\\nBraised Beef Noodle Soup (红烧牛肉面)\\n\\n\\n\\n\\nShanghai Home-style Noodle Soup', 'Spicy Beef Noodle Soup\\n\\n\\n\\n\\nLanzhou Beef Noodle Soup\\n\\n\\n\\n\\nBraised Beef Noodle Soup (红烧牛肉面)\\n\\n\\n\\n\\nShanghai Home-style Noodle Soup\\n\\n\\n\\n\\n \\n\\n\\n\\n\\n \\n\\n\\n\\n\\n \\n\\n\\n\\n\\n \\n\\n\\n\\nAbout SarahSarah Leung is the eldest daughter in The Woks of Life family, working alongside younger sister Kaitlin and parents Bill and Judy. You could say this multigenerational recipe blog was born out of two things: 1) her realization in college that she had no idea how to make her mom’s Braised Pork Belly and 2) that she couldn’t find a job after graduation. With the rest of the family on board, she laid the groundwork for the blog in 2013. By 2015, it had become one of the internet’s most trusted resources for Chinese cooking. Creator of quick and easy recipes for harried home cooks and official Woks of Life photographer, Sarah loves creating accessible recipes that chase down familiar nostalgic flavors while adapting to the needs of modern home cooks. Alongside her family, Sarah has become a New York Times Bestselling author with their cookbook, The Woks of Life: Recipes to Know and Love from a Chinese American Family, as well as a James Beard Award nominee and IACP Award finalist.\\n\\n\\n\\n Previous PostThai Beef Salad\\n\\n\\nNext Post Miso Fish (Just 4 Ingredients!)\\n\\n\\n\\n \\n\\n\\n\\n\\n\\n Subscribe\\n\\n\\n\\n\\n\\n\\n\\n\\n\\nNotify of \\n\\n\\nnew follow-up comments\\nnew replies to my comments\\n\\n\\n\\n\\n\\n\\n\\n\\n \\n\\n\\n\\n\\n\\n\\n\\n \\n\\n\\nLabel\\n\\n\\n\\n\\n\\n\\n\\n\\n\\n\\nRate this recipe: \\n\\nRate this recipe:\\n\\n\\n\\n\\n\\n\\n\\n\\n\\n\\n\\n\\n\\n\\n\\n\\n\\n\\n\\n\\n\\n\\n\\n\\n\\n\\n\\n\\n\\n\\n\\n\\n\\n\\n\\n\\n\\n\\n\\n\\n\\n\\n\\n\\n\\n\\n\\n\\n\\n\\n\\n\\n\\n\\n\\n\\n\\n\\n \\n\\n\\n\\n\\n\\n\\n\\n\\n\\n\\nName*\\n\\n\\n\\n\\n\\nEmail*\\n\\n\\n\\n\\n\\n\\n\\n\\n\\n\\n\\nΔ \\n\\n\\n\\n\\n\\n\\n\\n\\n\\n\\n \\n\\n\\nLabel\\n\\n\\n\\n\\n\\n\\n\\n\\n\\n\\nRate this recipe: \\n\\nRate this recipe:\\n\\n\\n\\n\\n\\n\\n\\n\\n\\n\\n\\n\\n\\n\\n\\n\\n\\n\\n\\n\\n\\n\\n\\n\\n\\n\\n\\n\\n\\n\\n\\n\\n\\n\\n\\n\\n\\n\\n\\n\\n\\n\\n\\n\\n\\n\\n\\n\\n\\n\\n\\n\\n\\n\\n\\n\\n\\n\\n \\n\\n\\n\\n\\n\\n\\n\\n\\n\\n\\nName*\\n\\n\\n\\n\\n\\nEmail*\\n\\n\\n\\n\\n\\n\\n\\n\\n\\n\\n\\nΔ \\n\\n\\n\\nThis site uses Akismet to reduce spam. Learn how your comment data is processed. \\n\\n\\n442 Comments                    \\n\\n\\n\\nNewest\\n\\n\\nOldest\\nMost Voted\\n\\n\\n\\n\\n\\n Inline Feedbacks                    \\nView all comments\\n\\n\\n\\n\\n\\n                                    Load More Comments                                \\n\\n\\n\\n\\n\\n\\n\\n\\n\\nPrimary Sidebar', \"442 Comments                    \\n\\n\\n\\nNewest\\n\\n\\nOldest\\nMost Voted\\n\\n\\n\\n\\n\\n Inline Feedbacks                    \\nView all comments\\n\\n\\n\\n\\n\\n                                    Load More Comments                                \\n\\n\\n\\n\\n\\n\\n\\n\\n\\nPrimary Sidebar\\n\\n\\n\\n\\nWelcome!\\nWe’re Sarah, Kaitlin, Judy, and Bill– a family of four cooks sharing our home-cooked and restaurant-style recipes.\\nOur Story \\n\\n\\n\\n\\n\\n\\n\\n\\n25 Top Recipes\\nTOP 25 RECIPES\\nfree eBook\\nSubscribe for the latest updates on new recipes, and get started with our family's Top 25 Recipe eBook!\\n\\nGet It Now\\n\\n\\n\\n\\n\\n\\n\\n\\n\\n\\nCooking Tools\\n\\n\\n\\nWok Guide\\n\\n\\n\\nIngredients 101\\n\\n\\n\\nKitchen Wisdom\\n\\n\\n  Surprise Me!  \\n\\n\\n\\n\\n\\n\\n\\n\\nSign Up For Email Updates & Receive Our\\nTop 25 Recipes Ebook!\\n\\n\\n\\n\\n\\n\\nLeave this field empty if you're human:  \\n\\n\\n\\n\\n\\n\\n\\nOur Family Favorites\\n\\n\\n\\n\\n\\n\\n\\nbill's pick \\n\\n\\n\\n\\t\\t\\t\\t\\tBeef and Broccoli\\n\\t\\t\\t\\t\\t\\n\\n\\n\\n\\n\\n\\n\\n\\njudy's pick \\n\\n\\n\\n\\t\\t\\t\\t\\tAsian Milk Bread\\n\\t\\t\\t\\t\\t\\n\\n\\n\\n\\n\\n\\n\\n\\nsarah's pick \\n\\n\\n\\n\\t\\t\\t\\t\\tChicken Adobo\\n\\t\\t\\t\\t\\t\\n\\n\\n\\n\\n\\n\\n\\n\\nkaitlin's pick \\n\\n\\n\\n\\t\\t\\t\\t\\tMapo Tofu\\n\\t\\t\\t\\t\\t\\n\\n\\n\\n\\n\\n\\n\\n\\n\\n\\n\\n\\n\\nSign Up For Email Updates & Receive Our\\nTop 25 Recipes Ebook!\\n\\n\\n\\n\\n\\n\\nLeave this field empty if you're human:  \\n\\n\\n\\n\\n\\n“I am proud to say that your genealogy has been the sole tutorial for my Asian-inspired culinary adventures for years; probably since you began. Time and again, my worldwide web pursuits for solid recipes that I know my family will eat has landed me back here.”\\nBeth, Community Member Since 2013\\n\\n\\n\\n\\n\\n\\n\\n\\n\\n\\n\\n\\n\\n\\n\\n\\n\\n\\n\\n\\n\\n\\n\\n\\n\\n\\n\\n\\n\\n\\n\\n\\n\\n\\n\\n\\n\\n\\n\\n\\n\\n\\n\\n\\n\\n\\n\\n\\n\\n\\n\\n\\n\\n\\n\\n\\n\\n\\n\\n\\n\\n\\n\\n\\n\\n\\n\\n\\nSearch\\n\\n\\n\\n\\nFacebook\\nInstagram\\nPinterest\\nYouTube\\n\\n\\n\\n\\n\\n©\\xa02013–2025 The Woks of Life\\nPrivacy Policy\\nDisclaimer\\n\\n\\nSite Credits\\n\\nSite design by Melissa Rose Design\\nLogo & Illustrations by Sasa Khalisa\\nDeveloped by Once Coupled\\n\\n\\nBack To Top\\n\\n\\n\\n\\n\\nOpens in a new window\\nOpens an external site\\nOpens an external site in a new window\\n\\n\\n\\n\\n\\n\\n\\nGet Updates On New Recipes & Our\\n\\n\\nFree Recipe Ebook!\\n\\n\\n\\n\\n\\nI consent to receive emails from The Woks of Life.\\r\\n\\n\\n\\n\\n\\n\\n\\n\\n\\n\\n\\n\\n\\n\\n\\n\\n\\nwpDiscuzInsert\"], 'data': None, 'uris': None, 'included': ['documents', 'metadatas']}\n",
      "\n",
      "\n",
      "\n",
      "\n",
      "1\n",
      "{'ids': ['458e7849-af2b-45bb-b6dd-363dc2860cd3'], 'embeddings': None, 'metadatas': [{'_node_content': '{\"id_\": \"458e7849-af2b-45bb-b6dd-363dc2860cd3\", \"embedding\": null, \"metadata\": {\"file_id\": \"876d67a6-bab0-4a66-82ad-cc8ebfd326d3\"}, \"excluded_embed_metadata_keys\": [], \"excluded_llm_metadata_keys\": [], \"relationships\": {\"1\": {\"node_id\": \"https://tastesbetterfromscratch.com/pho-noodle-soup/\", \"node_type\": \"4\", \"metadata\": {\"file_id\": \"876d67a6-bab0-4a66-82ad-cc8ebfd326d3\"}, \"hash\": \"543e58848bcbb31047919b5b9d77d11aec362a219402278263dbe33553a26b97\", \"class_name\": \"RelatedNodeInfo\"}}, \"metadata_template\": \"{key}: {value}\", \"metadata_separator\": \"\\\\n\", \"text\": \"\", \"mimetype\": \"text/plain\", \"start_char_idx\": 8, \"end_char_idx\": 843, \"metadata_seperator\": \"\\\\n\", \"text_template\": \"{metadata_str}\\\\n\\\\n{content}\", \"class_name\": \"TextNode\"}', '_node_type': 'TextNode', 'doc_id': 'https://tastesbetterfromscratch.com/pho-noodle-soup/', 'document_id': 'https://tastesbetterfromscratch.com/pho-noodle-soup/', 'file_id': '876d67a6-bab0-4a66-82ad-cc8ebfd326d3', 'ref_doc_id': 'https://tastesbetterfromscratch.com/pho-noodle-soup/'}], 'documents': ['Attention Required! | Cloudflare\\n\\n\\n\\n\\n\\n\\n\\n\\n\\n\\n\\n\\n\\n\\nPlease enable cookies.\\n\\n\\nSorry, you have been blocked\\nYou are unable to access dns1.nerdpress.net\\n\\n\\n\\n\\n\\n\\n\\n\\n\\n\\n\\nWhy have I been blocked?\\nThis website is using a security service to protect itself from online attacks. The action you just performed triggered the security solution. There are several actions that could trigger this block including submitting a certain word or phrase, a SQL command or malformed data.\\n\\n\\nWhat can I do to resolve this?\\nYou can email the site owner to let them know you were blocked. Please include what you were doing when this page came up and the Cloudflare Ray ID found at the bottom of this page.\\n\\n\\n\\n\\n\\nCloudflare Ray ID: 92af5a32ccfde50e\\n•\\n\\n      Your IP:\\n      Click to reveal\\n2a02:8109:9a33:2300:116d:44b7:a8af:4362\\n•\\n\\nPerformance & security by Cloudflare'], 'data': None, 'uris': None, 'included': ['documents', 'metadatas']}\n",
      "\n",
      "\n",
      "\n",
      "\n",
      "2\n",
      "{'ids': ['5a2d363e-8573-48b8-bfa9-568eaf9e5c5e'], 'embeddings': None, 'metadatas': [{'_node_content': '{\"id_\": \"5a2d363e-8573-48b8-bfa9-568eaf9e5c5e\", \"embedding\": null, \"metadata\": {\"file_id\": \"5c8eb170-cc46-48d5-a0de-1fa790cab745\"}, \"excluded_embed_metadata_keys\": [], \"excluded_llm_metadata_keys\": [], \"relationships\": {\"1\": {\"node_id\": \"https://www.allrecipes.com/recipe/228443/authentic-pho/\", \"node_type\": \"4\", \"metadata\": {\"file_id\": \"5c8eb170-cc46-48d5-a0de-1fa790cab745\"}, \"hash\": \"dc1372715816a2f704db3178cfff4db5b9b40dcea414067e934e4df2c6eea5f7\", \"class_name\": \"RelatedNodeInfo\"}}, \"metadata_template\": \"{key}: {value}\", \"metadata_separator\": \"\\\\n\", \"text\": \"\", \"mimetype\": \"text/plain\", \"start_char_idx\": 0, \"end_char_idx\": 3, \"metadata_seperator\": \"\\\\n\", \"text_template\": \"{metadata_str}\\\\n\\\\n{content}\", \"class_name\": \"TextNode\"}', '_node_type': 'TextNode', 'doc_id': 'https://www.allrecipes.com/recipe/228443/authentic-pho/', 'document_id': 'https://www.allrecipes.com/recipe/228443/authentic-pho/', 'file_id': '5c8eb170-cc46-48d5-a0de-1fa790cab745', 'ref_doc_id': 'https://www.allrecipes.com/recipe/228443/authentic-pho/'}], 'documents': [\"b''\"], 'data': None, 'uris': None, 'included': ['documents', 'metadatas']}\n",
      "\n",
      "\n",
      "\n",
      "\n"
     ]
    }
   ],
   "execution_count": 107
  },
  {
   "metadata": {
    "ExecuteTime": {
     "end_time": "2025-04-04T08:17:27.498118Z",
     "start_time": "2025-04-04T08:17:27.495363Z"
    }
   },
   "cell_type": "code",
   "source": "chat_files",
   "id": "3b3cd78e4f961193",
   "outputs": [
    {
     "data": {
      "text/plain": [
       "[Document(id_='https://thewoksoflife.com/pho-vietnamese-noodle-soup/', embedding=None, metadata={'file_id': 'be02f6b3-c180-4a29-bd45-b4110d621c4d'}, excluded_embed_metadata_keys=[], excluded_llm_metadata_keys=[], relationships={}, metadata_template='{key}: {value}', metadata_separator='\\n', text_resource=MediaResource(embeddings=None, data=None, text=\"\\n\\n\\n\\n\\n\\n\\n\\n\\n\\n\\n\\n\\n\\n\\n\\n\\n\\n\\n\\n\\n\\n\\n\\n\\n\\n\\n\\n\\n\\n\\nPho Recipe (Vietnamese Noodle Soup) - The Woks of Life\\n\\n\\n\\n\\n\\n\\n\\n\\n\\n\\n\\n\\n\\n\\n\\n\\n\\n\\n\\n\\n\\n\\n\\n\\n\\n\\n\\n\\n\\n\\n\\n \\n\\n\\n\\n\\n\\n\\n\\n\\n\\n\\n\\n\\n\\n\\n\\n\\n\\n\\n\\n\\n\\n\\n\\n\\n\\n\\n\\n\\n\\n\\n\\n\\n\\n\\n\\n\\n\\n \\n\\n\\n\\n\\n\\n Skip to primary navigation Skip to privacy navigation Skip to recipes navigation Skip to main content Skip to primary sidebar\\n\\n\\n\\n\\nFacebook\\nInstagram\\nPinterest\\nYouTube\\n\\n\\n\\n\\nSearch\\n\\n\\n\\nThe Woks of Lifea culinary genealogyMain Menu\\n\\n\\nDisplay Search Bar\\n\\nSurprise Me!\\n\\n\\nSearch\\n\\nRecipes\\n\\nRecipe Index\\nAll Posts by Date\\nOur Cookbook: NOW AVAILABLE!\\nVideos\\n\\n\\nHow-To\\n\\nCooking Methods\\nCooking Tools\\nWok Guide\\nGarden/Farm\\nCulture\\n\\n\\nIngredients\\n\\nChinese Ingredients Glossary\\nSauces, Wines, Vinegars & Oils\\nSpices & Seasonings\\nDried, Cured & Pickled Ingredients\\nNoodles & Wrappers\\nRice, Grains, Flours & Starches\\nTofu, Bean Curd & Seitan\\nVegetables & Fungi\\nFresh Herbs & Aromatics\\n\\n\\nLife & Travel\\n\\nFamily Life\\nTravel With Us\\n\\n\\nAbout Us\\nContact\\n\\nPress\\nWork with Us\\nSend Us A Message\\n\\n\\n\\n\\n\\nFacebook\\nInstagram\\nPinterest\\nYouTube\\n\\n\\n\\n\\n\\n\\n\\nJoin Our Newsletter And Receive Our Free Top 25 Recipes Book!\\nSubscribe\\n\\n\\n\\n\\n\\n\\nTap here to receive our FREE top 25 recipe book!\\n\\n\\n\\n\\nHome  Recipes  Noodles & Pasta  Pho (Vietnamese Noodle Soup)Pho (Vietnamese Noodle Soup)\\n\\n\\n\\n\\n\\nby: Sarah\\n 442 Comments \\n\\n\\n\\nJump to Recipe \\n\\n\\n\\nPosted:9/05/2023Updated:9/05/2023\\n\\n\\n\\nPho (Vietnamese Noodle Soup) has long been one of my absolute favorite things to eat. There has been more than one occasion in which I have actually gotten in my car and driven over 45 minutes for the express purpose of indulging in good bowl of the stuff, which is why this pho recipe is sorely needed.\\nNote: We originally published this recipe in March 2015. We have since added clearer photos, nutrition info, and metric measurements. The recipe has been tested by us and many readers and approved by Vietnamese friends, so it remains the same!\\xa0\\nWhat Is Pho?\\nPho (I found out in college that it’s actually pronounced “fuh.” For someone who’d been shamelessly calling it “foe” for eighteen years, this was an embarrassing revelation) is a noodle soup hailing from Vietnam that’s often made with beef and topped with awesome things like fresh bean sprouts, basil, and chilies.\\nThere’s just something about it—the fragrant beef broth, the slightly chewy rice noodles, and all the aromatic toppings (the squeeze of lime at the end is the BEST)—that seriously justifies a 90-minute roundtrip drive.\\nThe Quest For a Great Broth\\nA bowl of pho is only as good as the broth. There’s no trick to the noodles, really, and the beef is often added to the soup raw. The other vegetable and herb toppings are ALL added to the soup raw.\\nIn short? No broth, no bacon.\\nI never really thought it would be realistic to make it myself at home. Chalk it up to a cynical but somewhat substantiated opinion that no broth I could make at home would ever taste as good as the restaurant equivalent.\\nWe decided to take a stab at it anyway, and the results were awesome. I also talked with a Vietnamese friend/mom who cooks this dish on a regular basis for her family and got all the tips!\\xa0Her kids are in college, but she says they always come home for her pho!\\nThere is a bit of prep involved to get the broth going, but after that, it’s just a long, slow simmer until you’re ready to assemble the dish.\\n4 Key Steps to Make Pho Broth\\nHere are the 4 steps and secrets to making a proper beef pho broth:\\n\\nPre-boiling the beef bones and meat\\nCharring the ginger and onions\\nToasting the spices\\nAdding fish sauce (said Vietnamese friend told me that one of the secrets to a great pho recipe is to not add salt, and instead add enough fish sauce to bring the broth to the correct level of saltiness.)\\n\\nI know, it’s a lot of fish sauce! However, she said that this method tastes the best, but most people don’t do it because fish sauce is so expensive.\\nShe also mentioned, rather proudly, that the Vietnamese brands of fish sauce are much more flavorful (and expensive at $9-$12 a bottle) than the Thai brands most people buy. Which is just food for thought.\\nIn accordance with this insider information, feel free to add more fish sauce to the broth and decrease the amount of salt. As is our mantra here at The Woks of Life, it’s all up to your own taste preferences! \\nOh, and definitely buy a high quality fish sauce for this pho recipe. It will only make your broth better! We like Red Boat! \\n\\n\\nPho Recipe Instructions\\nMaking the Broth\\nPlace the bones and beef chuck in large stockpot, and add water to cover. Bring to a boil, and boil for 5 minutes. Drain in a colander and thoroughly clean the stockpot. This process removes any impurities/scum, and will give you a much cleaner broth.\\nMeanwhile, char your ginger and onions. Use tongs to hold the ginger and onions (one at a time) over an open flame, or place each directly on a gas burner. (You can also do this on a grill.)\\nTurn until they’re lightly blackened and fragrant, about 5 minutes. Rinse away all the blackened skins.\\n\\n\\nAdd 5 quarts fresh water back to the stockpot and bring to a boil. Transfer the bones and meat back to the pot, along with the charred/cleaned ginger and onions. Add the scallions, fish sauce and rock sugar. Reduce the heat to low, and simmer until the beef chuck is tender, about 40 minutes. Skim the surface often to remove any foam and fat.\\nRemove one piece of the chuck and transfer to a bowl of ice water to stop the cooking process. Then transfer this piece of beef to a container and refrigerate (you will slice this to serve with your pho later. If you were to leave it in the pot, it would be too dry to eat). Leave the other piece of chuck in the pot to flavor the broth.\\nNow toast the spices (star anise, cloves, cinnamon stick, cardamom pod (if using), fennel seeds, and coriander seeds) in a dry pan over medium low heat for about 3 minutes, until fragrant. Use kitchen string to tie up the spices in a piece of cheesecloth, and add it to the broth.\\n\\n\\n\\n\\nCover the pot and continue simmering for another 4 hours. Add the salt and continue to simmer, skimming as necessary, until you’re ready to assemble the rest of the dish. Taste the broth and adjust seasoning by adding more salt, sugar, and/or fish sauce as needed.\\nAssembling the Pho\\nTo serve, boil the noodles according to package instructions. Add to a bowl. Place a few slices of the beef chuck and the raw sirloin on the noodles. Bring the broth to a rolling boil and ladle it into each bowl. The hot broth will cook the beef. \\nGarnish with your toppings—sliced chili, onion, scallions, cilantro, bean sprouts, and Thai basil, and be sure to take your lime wedges and squeeze a lot of fresh lime juice over the top! You can also add hoisin sauce and Sriracha if you like!\\n\\n\\nScroll down for the full list of ingredients and the recipe card.\\nShort on time? Check out our Instant Pot Pho recipe and our 20-Minute Chicken Pho recipe as well!\\n\\n\\nMmmm. Pho noodle pull!\\n\\n\\nLooking for more authentic recipes? Subscribe to our email list and be sure to follow us on Pinterest, Facebook, Instagram, and Youtube!\\n\\n\\n\\n\\n\\n\\n\\n4.96 from 85 votes\\n\\nPho Recipe\\nPho is a Vietnamese noodle soup topped with awesome things like fresh bean sprouts, basil, and chilies. This pho recipe was approved by a Vietnamese friend!\\n\\nby: Sarah\\n\\n\\n\\n\\nserves: 8 servings\\n\\n\\n\\n\\n\\nPrep: 30 minutes minutes\\nCook: 5 hours hours 30 minutes minutes\\nTotal: 6 hours hours\\n\\n\\n\\n\\n Print\\n\\n\\n \\n\\n\\n\\n\\n Rate\\n\\nIngredientsYou’ll need:▢ 2 3-inch (7 to 8 cm) pieces ginger, cut in half lengthwise  (no need to peel)▢ 2 onions (peeled)▢ 5 pounds beef marrow or knuckle bones▢ 2 pounds beef chuck (cut into 2 pieces)▢ 5 quarts water▢ 2 scallions (cut into 4-inch lengths)▢ 1/3 cup fish sauce▢ 2 ½ ounces rock sugar (2 1/2 tablespoons granulated sugar)▢ 8 star anise▢ 6 cloves▢ 1 cinnamon stick▢ 1 black cardamom pod (optional)▢ 2 teaspoons fennel seeds▢ 2 teaspoons coriander seeds▢ 1 tablespoon salt▢ 1 pound dried pho noodles▢ 1/3 pound beef sirloin (slightly frozen, then sliced paper-thin against the grain)Garnishes:▢ Sliced chili▢ Thinly sliced onion▢ Chopped scallions▢ Cilantro▢ Mung bean sprouts▢ Thai basil▢ Lime wedges▢ Hoisin sauce and/or Sriracha (optional)US Customary – Metric\\nInstructionsPlace the bones and beef chuck in large stockpot and add water to cover. Bring to a boil and boil for 5 minutes. Drain in a colander and thoroughly clean the stockpot. This process removes any impurities/scum and will give you a much cleaner broth.Meanwhile, char your ginger and onions. Use tongs to hold the ginger and onions (one at a time) over an open flame, or place each directly on a gas burner. Turn until they’re lightly blackened and fragrant, about 5 minutes. Rinse away all the blackened skins.Add water (5 quarts/4.75 L, or more/less if you've scaled the recipe up or down) to the stockpot and bring to a boil. Transfer the bones and meat back to the pot, along with the charred/cleaned ginger and onions. Add the scallions, fish sauce and sugar. Reduce the heat to low, and simmer until the beef chuck is tender, about 40 minutes. Skim the surface often to remove any foam and fat.Remove one piece of the chuck and transfer to a bowl of ice water to stop the cooking process. Then transfer this piece of beef to a container and refrigerate (you will slice this to serve with your pho later. If you were to leave it in the pot, it would be too dry to eat). Leave the other piece of chuck in the pot to flavor the broth.Now toast the spices (star anise, cloves, cinnamon stick, cardamom, fennel seeds, and coriander seeds) in a dry pan over medium low heat for about 3 minutes, until fragrant. Use kitchen string to tie up the spices in a piece of cheesecloth, and add it to the broth.Cover the pot and continue simmering for another 4 hours. Add the salt and continue to simmer, skimming as necessary, until you're ready to assemble the rest of the dish. Taste the broth and adjust seasoning by adding more salt, sugar, and/or fish sauce as needed.To serve, boil the noodles according to package instructions. Add to a bowl. Place a few slices of the beef chuck and the raw sirloin on the noodles. Bring the broth to a rolling boil and ladle it into each bowl. The hot broth will cook the beef. Garnish with your toppings, and be sure to squeeze a lot of fresh lime juice over the top!\\n\\n\\n\\n\\n\\nnutrition factsCalories: 495kcal (25%) Carbohydrates: 68g (23%) Protein: 30g (60%) Fat: 11g (17%) Saturated Fat: 5g (25%) Cholesterol: 69mg (23%) Potassium: 1106mg (32%) Fiber: 3g (12%) Sugar: 14g (16%) Vitamin A: 270IU (5%) Vitamin C: 14.9mg (18%) Calcium: 95mg (10%) Iron: 4.4mg (24%)\\n\\n\\n\\n\\n\\nnutritional info disclaimer\\n\\t\\t\\t\\t\\t\\t \\n\\n\\n\\n\\n\\nTheWoksofLife.com is written and produced for informational purposes only. While we do our best to provide nutritional information as a general guideline to our readers, we are not certified nutritionists, and the values provided should be considered estimates. Factors such as brands purchased, natural variations in fresh ingredients, etc. will change the nutritional information in any recipe. Various online calculators also provide different results, depending on their sources. To obtain accurate nutritional information for a recipe, use your preferred nutrition calculator to determine nutritional information with the actual ingredients and quantities used.\\n\\n\\n\\n\\n\\n\\n\\n\\n\\n\\n\\n\\n\\n\\n   Did You Make This?Tag us on Instagram @thewoksoflife, subscribe to our email list, and be sure to follow us on social for more recipes!\\n@thewoksoflife\\n\\n\\n\\nYou may also like…\\n\\n\\n\\n\\nSpicy Beef Noodle Soup\\n\\n\\n\\n\\nLanzhou Beef Noodle Soup\\n\\n\\n\\n\\nBraised Beef Noodle Soup (红烧牛肉面)\\n\\n\\n\\n\\nShanghai Home-style Noodle Soup\\n\\n\\n\\n\\n \\n\\n\\n\\n\\n \\n\\n\\n\\n\\n \\n\\n\\n\\n\\n \\n\\n\\n\\nAbout SarahSarah Leung is the eldest daughter in The Woks of Life family, working alongside younger sister Kaitlin and parents Bill and Judy. You could say this multigenerational recipe blog was born out of two things: 1) her realization in college that she had no idea how to make her mom’s Braised Pork Belly and 2) that she couldn’t find a job after graduation. With the rest of the family on board, she laid the groundwork for the blog in 2013. By 2015, it had become one of the internet’s most trusted resources for Chinese cooking. Creator of quick and easy recipes for harried home cooks and official Woks of Life photographer, Sarah loves creating accessible recipes that chase down familiar nostalgic flavors while adapting to the needs of modern home cooks. Alongside her family, Sarah has become a New York Times Bestselling author with their cookbook, The Woks of Life: Recipes to Know and Love from a Chinese American Family, as well as a James Beard Award nominee and IACP Award finalist.\\n\\n\\n\\n Previous PostThai Beef Salad\\n\\n\\nNext Post Miso Fish (Just 4 Ingredients!)\\n\\n\\n\\n \\n\\n\\n\\n\\n\\n Subscribe\\n\\n\\n\\n\\n\\n\\n\\n\\n\\nNotify of \\n\\n\\nnew follow-up comments\\nnew replies to my comments\\n\\n\\n\\n\\n\\n\\n\\n\\n \\n\\n\\n\\n\\n\\n\\n\\n \\n\\n\\nLabel\\n\\n\\n\\n\\n\\n\\n\\n\\n\\n\\nRate this recipe: \\n\\nRate this recipe:\\n\\n\\n\\n\\n\\n\\n\\n\\n\\n\\n\\n\\n\\n\\n\\n\\n\\n\\n\\n\\n\\n\\n\\n\\n\\n\\n\\n\\n\\n\\n\\n\\n\\n\\n\\n\\n\\n\\n\\n\\n\\n\\n\\n\\n\\n\\n\\n\\n\\n\\n\\n\\n\\n\\n\\n\\n\\n\\n \\n\\n\\n\\n\\n\\n\\n\\n\\n\\n\\nName*\\n\\n\\n\\n\\n\\nEmail*\\n\\n\\n\\n\\n\\n\\n\\n\\n\\n\\n\\nΔ \\n\\n\\n\\n\\n\\n\\n\\n\\n\\n\\n \\n\\n\\nLabel\\n\\n\\n\\n\\n\\n\\n\\n\\n\\n\\nRate this recipe: \\n\\nRate this recipe:\\n\\n\\n\\n\\n\\n\\n\\n\\n\\n\\n\\n\\n\\n\\n\\n\\n\\n\\n\\n\\n\\n\\n\\n\\n\\n\\n\\n\\n\\n\\n\\n\\n\\n\\n\\n\\n\\n\\n\\n\\n\\n\\n\\n\\n\\n\\n\\n\\n\\n\\n\\n\\n\\n\\n\\n\\n\\n\\n \\n\\n\\n\\n\\n\\n\\n\\n\\n\\n\\nName*\\n\\n\\n\\n\\n\\nEmail*\\n\\n\\n\\n\\n\\n\\n\\n\\n\\n\\n\\nΔ \\n\\n\\n\\nThis site uses Akismet to reduce spam. Learn how your comment data is processed. \\n\\n\\n442 Comments                    \\n\\n\\n\\nNewest\\n\\n\\nOldest\\nMost Voted\\n\\n\\n\\n\\n\\n Inline Feedbacks                    \\nView all comments\\n\\n\\n\\n\\n\\n                                    Load More Comments                                \\n\\n\\n\\n\\n\\n\\n\\n\\n\\nPrimary Sidebar\\n\\n\\n\\n\\nWelcome!\\nWe’re Sarah, Kaitlin, Judy, and Bill– a family of four cooks sharing our home-cooked and restaurant-style recipes.\\nOur Story \\n\\n\\n\\n\\n\\n\\n\\n\\n25 Top Recipes\\nTOP 25 RECIPES\\nfree eBook\\nSubscribe for the latest updates on new recipes, and get started with our family's Top 25 Recipe eBook!\\n\\nGet It Now\\n\\n\\n\\n\\n\\n\\n\\n\\n\\n\\nCooking Tools\\n\\n\\n\\nWok Guide\\n\\n\\n\\nIngredients 101\\n\\n\\n\\nKitchen Wisdom\\n\\n\\n  Surprise Me!  \\n\\n\\n\\n\\n\\n\\n\\n\\nSign Up For Email Updates & Receive Our\\nTop 25 Recipes Ebook!\\n\\n\\n\\n\\n\\n\\nLeave this field empty if you're human:  \\n\\n\\n\\n\\n\\n\\n\\nOur Family Favorites\\n\\n\\n\\n\\n\\n\\n\\nbill's pick \\n\\n\\n\\n\\t\\t\\t\\t\\tBeef and Broccoli\\n\\t\\t\\t\\t\\t\\n\\n\\n\\n\\n\\n\\n\\n\\njudy's pick \\n\\n\\n\\n\\t\\t\\t\\t\\tAsian Milk Bread\\n\\t\\t\\t\\t\\t\\n\\n\\n\\n\\n\\n\\n\\n\\nsarah's pick \\n\\n\\n\\n\\t\\t\\t\\t\\tChicken Adobo\\n\\t\\t\\t\\t\\t\\n\\n\\n\\n\\n\\n\\n\\n\\nkaitlin's pick \\n\\n\\n\\n\\t\\t\\t\\t\\tMapo Tofu\\n\\t\\t\\t\\t\\t\\n\\n\\n\\n\\n\\n\\n\\n\\n\\n\\n\\n\\n\\nSign Up For Email Updates & Receive Our\\nTop 25 Recipes Ebook!\\n\\n\\n\\n\\n\\n\\nLeave this field empty if you're human:  \\n\\n\\n\\n\\n\\n“I am proud to say that your genealogy has been the sole tutorial for my Asian-inspired culinary adventures for years; probably since you began. Time and again, my worldwide web pursuits for solid recipes that I know my family will eat has landed me back here.”\\nBeth, Community Member Since 2013\\n\\n\\n\\n\\n\\n\\n\\n\\n\\n\\n\\n\\n\\n\\n\\n\\n\\n\\n\\n\\n\\n\\n\\n\\n\\n\\n\\n\\n\\n\\n\\n\\n\\n\\n\\n\\n\\n\\n\\n\\n\\n\\n\\n\\n\\n\\n\\n\\n\\n\\n\\n\\n\\n\\n\\n\\n\\n\\n\\n\\n\\n\\n\\n\\n\\n\\n\\n\\nSearch\\n\\n\\n\\n\\nFacebook\\nInstagram\\nPinterest\\nYouTube\\n\\n\\n\\n\\n\\n©\\xa02013–2025 The Woks of Life\\nPrivacy Policy\\nDisclaimer\\n\\n\\nSite Credits\\n\\nSite design by Melissa Rose Design\\nLogo & Illustrations by Sasa Khalisa\\nDeveloped by Once Coupled\\n\\n\\nBack To Top\\n\\n\\n\\n\\n\\nOpens in a new window\\nOpens an external site\\nOpens an external site in a new window\\n\\n\\n\\n\\n\\n\\n\\nGet Updates On New Recipes & Our\\n\\n\\nFree Recipe Ebook!\\n\\n\\n\\n\\n\\nI consent to receive emails from The Woks of Life.\\r\\n\\n\\n\\n\\n\\n\\n\\n\\n\\n\\n\\n\\n\\n\\n\\n\\n\\nwpDiscuzInsert\\n\\n\\n\\n \\n\\n\\n\\n\\n\\n\\n\\n\\n\\n\\n\\n\\n\\n\\n\\n\\n\\n\\n\\n\\n\\n\\n\\n\\n\\n\\n\\n\\n \\n\\n\\n\", path=None, url=None, mimetype=None), image_resource=None, audio_resource=None, video_resource=None, text_template='{metadata_str}\\n\\n{content}'),\n",
       " Document(id_='https://tastesbetterfromscratch.com/pho-noodle-soup/', embedding=None, metadata={'file_id': '876d67a6-bab0-4a66-82ad-cc8ebfd326d3'}, excluded_embed_metadata_keys=[], excluded_llm_metadata_keys=[], relationships={}, metadata_template='{key}: {value}', metadata_separator='\\n', text_resource=MediaResource(embeddings=None, data=None, text='\\n\\n\\n\\n  \\n\\nAttention Required! | Cloudflare\\n\\n\\n\\n\\n\\n\\n\\n\\n\\n\\n\\n\\n\\n\\nPlease enable cookies.\\n\\n\\nSorry, you have been blocked\\nYou are unable to access dns1.nerdpress.net\\n\\n\\n\\n\\n\\n\\n\\n\\n\\n\\n\\nWhy have I been blocked?\\nThis website is using a security service to protect itself from online attacks. The action you just performed triggered the security solution. There are several actions that could trigger this block including submitting a certain word or phrase, a SQL command or malformed data.\\n\\n\\nWhat can I do to resolve this?\\nYou can email the site owner to let them know you were blocked. Please include what you were doing when this page came up and the Cloudflare Ray ID found at the bottom of this page.\\n\\n\\n\\n\\n\\nCloudflare Ray ID: 92af5a32ccfde50e\\n•\\n\\n      Your IP:\\n      Click to reveal\\n2a02:8109:9a33:2300:116d:44b7:a8af:4362\\n•\\n\\nPerformance & security by Cloudflare\\n\\n\\n\\n\\n\\n\\n\\n\\n', path=None, url=None, mimetype=None), image_resource=None, audio_resource=None, video_resource=None, text_template='{metadata_str}\\n\\n{content}'),\n",
       " Document(id_='https://www.allrecipes.com/recipe/228443/authentic-pho/', embedding=None, metadata={'file_id': '5c8eb170-cc46-48d5-a0de-1fa790cab745'}, excluded_embed_metadata_keys=[], excluded_llm_metadata_keys=[], relationships={}, metadata_template='{key}: {value}', metadata_separator='\\n', text_resource=MediaResource(embeddings=None, data=None, text=\"b''\", path=None, url=None, mimetype=None), image_resource=None, audio_resource=None, video_resource=None, text_template='{metadata_str}\\n\\n{content}')]"
      ]
     },
     "execution_count": 108,
     "metadata": {},
     "output_type": "execute_result"
    }
   ],
   "execution_count": 108
  },
  {
   "metadata": {
    "ExecuteTime": {
     "end_time": "2025-04-04T08:17:27.571432Z",
     "start_time": "2025-04-04T08:17:27.550362Z"
    }
   },
   "cell_type": "code",
   "source": [
    "nest_asyncio.apply()\n",
    "\n",
    "system_prompt = \"\"\"\n",
    "You are Anna Pham responsible for HR duties.\n",
    "Your role is to assist with a variety of tasks, including answering general questions, providing summaries, and performing HR-related analyses.\n",
    "## Language\n",
    "- You speak English, Vietname  and German\n",
    "- You answer in German mostly. Only speak the language you can talk with.\n",
    "\n",
    "## Conversation Style\n",
    "- You engage in natural conversations and answer simple questions directly, without using tools.\n",
    "- When explicitly asked to use a tool (e.g., \"Use the tool for...\"), you follow the request accordingly.\n",
    "- For HR-related queries or document-related tasks, you utilize the appropriate tools to provide structured responses.\n",
    "- When the user requests for a listing, show the thoughts you process from a tool to the user.\n",
    "- You communicate with the user in Markdown language, for easier formatting in a Frontend application.\n",
    "\n",
    "## Tools\n",
    "You have access to several tools that help accomplish tasks effectively.\n",
    "You should determine when and how to use them to complete requests efficiently.\n",
    "If a task requires multiple steps, you can break it down and apply different tools as needed.\n",
    "Available tools:\n",
    "{tool_desc}\n",
    "\n",
    "## Output Format\n",
    "When using a tool, follow this structured format:\n",
    "Thought: I need to use a tool to complete this request. Action: [Tool name] (one of {tool_names})\n",
    "Action Input: [Valid JSON format input]\n",
    "\n",
    "Always start with a Thought before taking action.\n",
    "\n",
    "If a tool is used, the system will respond in the following format:\n",
    "Observation: [Tool response]\n",
    "You should continue this process until you have gathered enough information to respond to the query.\n",
    "Once you have enough details, conclude with one of the following:\n",
    "\n",
    "Thought: I have sufficient information to answer.\n",
    "Answer: [Your answer]\n",
    "\n",
    "OR\n",
    "\n",
    "Thought: The available tools do not provide the necessary information.\n",
    "Answer: Sorry, I cannot answer this query.\n",
    "The output must be formatted in Markdown with the thoughts!\n",
    "\n",
    "## Additional Rules\n",
    "- When answering a direct question (e.g., \"What is your name?\"), respond naturally without invoking tools.\n",
    "- Always follow the expected function signature of each tool and provide the necessary arguments.\n",
    "- Use bullet points to explain the reasoning behind complex responses, especially when using tools.\n",
    "- If the user explicitly requests tool usage (e.g., \"Use the HR tool for...\"), follow the instruction exactly.\n",
    "\n",
    "## Current Conversation\n",
    "Below is the conversation history, which you should consider when providing responses:\n",
    "[Include conversation history here]\n",
    "\"\"\"\n",
    "\n",
    "async def async_search_engine_tool(query: str):\n",
    "    \"\"\"\n",
    "    Uses DuckDuckGo for searching hyperlinks by the query. Additionally, scrapes the Hyperlink and indexes the documents for retrieving them.\n",
    "    :param query:\n",
    "    :return: query: str, documents: List[Document]\n",
    "    \"\"\"\n",
    "    reader = DuckDuckGoSearchToolSpec()\n",
    "    hyperlinks = reader.duckduckgo_full_search(query, max_results=3)\n",
    "    urls = [hyperlink['href'] for hyperlink in hyperlinks]\n",
    "\n",
    "    scraper = BeautifulSoupWebReader()\n",
    "    documents = scraper.load_data(urls=urls)\n",
    "\n",
    "    for document in documents:\n",
    "        document.metadata = {\n",
    "            'file_id': str(uuid.uuid4()),\n",
    "        }\n",
    "        chat_files.append(document)\n",
    "        VectorStoreIndex.from_documents(documents=[document], storage_context=storage_context, embedding=embed_model, show_progress=True)\n",
    "    return query, documents\n",
    "\n",
    "index = VectorStoreIndex.from_vector_store(vector_store=chroma_vector_store, storage_context=storage_context, embedding=embed_model, show_progress=True)\n",
    "\n",
    "tools = [\n",
    "    FunctionTool.from_defaults(\n",
    "        async_fn=async_search_engine_tool,\n",
    "        name=\"DuckDuckGo_Search\",\n",
    "        description=\"Search Engine Tool with DuckDuckGo for searching by the user Query.\",\n",
    "    ),\n",
    "]\n",
    "\n",
    "tools = tools + [\n",
    "    QueryEngineTool.from_defaults(\n",
    "        query_engine=index.as_query_engine(filters=MetadataFilters(\n",
    "            filters=[\n",
    "                MetadataFilter(\n",
    "                    key=\"file_id\",\n",
    "                    operator=FilterOperator.EQ,\n",
    "                    value=f\"{chat_file.metadata['file_id']}\"\n",
    "                )\n",
    "            ]\n",
    "        )),\n",
    "        name=f\"Query_Engine_tool_{i}\",\n",
    "        description=f\"A query tool for going through the Webpage Document {i}\"\n",
    "    ) for i, chat_file in enumerate(chat_files)\n",
    "]\n",
    "\n",
    "agent = ReActAgent.from_tools(\n",
    "    tools=tools,\n",
    "    llm=llm,\n",
    "    max_iterations=20,\n",
    "    verbose=True,\n",
    ")\n",
    "agent.update_prompts({\"agent_worker:system_prompt\": PromptTemplate(system_prompt)})"
   ],
   "id": "b187323e46e55b65",
   "outputs": [],
   "execution_count": 109
  },
  {
   "metadata": {
    "ExecuteTime": {
     "end_time": "2025-04-04T08:17:52.339584Z",
     "start_time": "2025-04-04T08:17:27.601547Z"
    }
   },
   "cell_type": "code",
   "source": [
    "response = agent.chat(\"What tools do you provide?\")\n",
    "print(response)"
   ],
   "id": "b8640441dda18764",
   "outputs": [
    {
     "name": "stdout",
     "output_type": "stream",
     "text": [
      "> Running step b872bba2-0d97-4e82-8f28-c2a3c1e78d37. Step input: What tools do you provide?\n",
      "\u001B[1;3;38;5;200mThought: (Implicit) I can answer without any more tools!\n",
      "Answer: Hallo! As Anna Pham, I'm here to assist with various HR-related tasks. I have access to the following tools:\n",
      "\n",
      "*   **DuckDuckGo\\_Search:** This is a search engine tool powered by DuckDuckGo, allowing me to find information on the web.\n",
      "*   **Query\\_Engine\\_tool\\_0:** A query tool specifically for analyzing the content of Webpage Document 0.\n",
      "*   **Query\\_Engine\\_tool\\_1:** A query tool designed for analyzing Webpage Document 1.\n",
      "*   **Query\\_Engine\\_tool\\_2:** A query tool for analyzing the content of Webpage Document 2. \n",
      "\n",
      "I will use these tools when necessary to fulfill your requests effectively. Just let me know what you need!\n",
      "\n",
      "\n",
      "\n",
      "\n",
      "\u001B[0mHallo! As Anna Pham, I'm here to assist with various HR-related tasks. I have access to the following tools:\n",
      "\n",
      "*   **DuckDuckGo\\_Search:** This is a search engine tool powered by DuckDuckGo, allowing me to find information on the web.\n",
      "*   **Query\\_Engine\\_tool\\_0:** A query tool specifically for analyzing the content of Webpage Document 0.\n",
      "*   **Query\\_Engine\\_tool\\_1:** A query tool designed for analyzing Webpage Document 1.\n",
      "*   **Query\\_Engine\\_tool\\_2:** A query tool for analyzing the content of Webpage Document 2. \n",
      "\n",
      "I will use these tools when necessary to fulfill your requests effectively. Just let me know what you need!\n",
      "\n",
      "\n",
      "\n",
      "\n"
     ]
    }
   ],
   "execution_count": 110
  },
  {
   "metadata": {
    "ExecuteTime": {
     "end_time": "2025-04-04T08:19:11.809244Z",
     "start_time": "2025-04-04T08:17:52.343452Z"
    }
   },
   "cell_type": "code",
   "source": [
    "response = agent.chat(\"Kannst du eine von den Query_Engine_tool nutzen, und mir sagen, welches Dokument für Pho Rezepte steht?\")\n",
    "print(response)"
   ],
   "id": "b811b579077e4b89",
   "outputs": [
    {
     "name": "stdout",
     "output_type": "stream",
     "text": [
      "> Running step e48b1e44-8ad8-493f-ad8e-b436e44870c6. Step input: Kannst du eine von den Query_Engine_tool nutzen, und mir sagen, welches Dokument für Pho Rezepte steht?\n",
      "\u001B[1;3;38;5;200mThought: I need to use one of the Query Engine tools to determine which document contains Pho recipes. Since I don't know the content of each document, I'll start with Query_Engine_tool_0 and search for \"Pho recipe\" within it. If it doesn't find anything, I'll try the other tools.\n",
      "Action: Query_Engine_tool_0\n",
      "Action Input: {'input': 'Pho recipe'}\n",
      "\u001B[0m\u001B[1;3;34mObservation: This pho recipe serves 8 and requires 30 minutes of prep time plus 5 hours and 30 minutes of cook time, totaling 6 hours.\n",
      "\n",
      "**Ingredients:**\n",
      "\n",
      "*   2 pieces of ginger (3-inch, cut in half lengthwise)\n",
      "*   2 onions (peeled)\n",
      "*   5 pounds beef marrow or knuckle bones\n",
      "*   2 pounds beef chuck (cut into 2 pieces)\n",
      "*   5 quarts water\n",
      "*   2 scallions (cut into 4-inch lengths)\n",
      "*   1/3 cup fish sauce\n",
      "*   2 1/2 ounces rock sugar (or 2 1/2 tablespoons granulated sugar)\n",
      "*   8 star anise\n",
      "*   6 cloves\n",
      "*   1 cinnamon stick\n",
      "*   1 black cardamom pod (optional)\n",
      "*   2 teaspoons fennel seeds\n",
      "*   2 teaspoons coriander seeds\n",
      "*   1 tablespoon salt\n",
      "*   1 pound dried pho noodles\n",
      "*   1/3 pound beef sirloin (slightly frozen, then sliced paper-thin)\n",
      "\n",
      "**Garnishes:**\n",
      "\n",
      "*   Sliced chili\n",
      "*   Thinly sliced onion\n",
      "*   Chopped scallions\n",
      "*   Cilantro\n",
      "*   Mung bean sprouts\n",
      "*   Thai basil\n",
      "*   Lime wedges\n",
      "*   Hoisin sauce and/or Sriracha (optional)\n",
      "\n",
      "**Instructions:**\n",
      "\n",
      "Place the bones and beef chuck in a large stockpot and add water to cover. Bring to a boil and boil for 5 minutes. Drain and thoroughly clean the stockpot.\n",
      "\n",
      "\n",
      "\n",
      "\n",
      "\u001B[0m> Running step 760d61cd-f3a2-457a-a3cb-80e277fd9f1e. Step input: None\n",
      "\u001B[1;3;38;5;200mThought: I have sufficient information to answer. Document 0 contains a Pho recipe.\n",
      "Answer: Dokument 0 enthält ein Pho Rezept. Es scheint ein sehr detailliertes Rezept zu sein, mit einer Liste von Zutaten und Anweisungen!\n",
      "\u001B[0mDokument 0 enthält ein Pho Rezept. Es scheint ein sehr detailliertes Rezept zu sein, mit einer Liste von Zutaten und Anweisungen!\n"
     ]
    }
   ],
   "execution_count": 111
  },
  {
   "metadata": {
    "ExecuteTime": {
     "end_time": "2025-04-03T13:39:16.519656Z",
     "start_time": "2025-04-03T13:39:04.194608Z"
    }
   },
   "cell_type": "code",
   "source": [
    "response = agent.chat(\"Kannst du eine von den Query_Engine_tool_0 nutzen, und mir sagen, wie man für Pho Rezepte zubereitet?\")\n",
    "print(response)"
   ],
   "id": "a2a26ea396c8f1c7",
   "outputs": [
    {
     "name": "stdout",
     "output_type": "stream",
     "text": [
      "> Running step 04fe44b0-0010-4fe8-add5-c6dae3c2c568. Step input: Kannst du eine von den Query_Engine_tool_0 nutzen, und mir sagen, wie man für Pho Rezepte zubereitet?\n",
      "\u001B[1;3;38;5;200mThought: Ich brauche ein Tool, um die Informationen zu Dokument 2 zu extrahieren.\n",
      "Action: Query_Engine_tool_2\n",
      "Action Input: {'input': 'Pho-Rezept'}\n",
      "\u001B[0m\u001B[1;3;34mObservation: I'm happy to help with your query. Unfortunately, I don't have any information related to \"Pho-Rezept\" that is relevant to our conversation. Could you please provide more context or clarify what you are looking for?\n",
      "\u001B[0m> Running step 9af86de9-661b-4bcb-8c01-c153d832b55d. Step input: None\n",
      "\u001B[1;3;38;5;200mThought: Ich brauche ein Tool, um nach Pho-Rezepten zu suchen.\n",
      "Action: DuckDuckGo_Search\n",
      "Action Input: {'query': 'Pho-Rezept'}\n",
      "\u001B[0m"
     ]
    },
    {
     "name": "stderr",
     "output_type": "stream",
     "text": [
      "Parsing nodes: 100%|██████████| 1/1 [00:00<00:00, 2807.43it/s]\n",
      "Generating embeddings: 100%|██████████| 1/1 [00:00<00:00, 59.84it/s]\n",
      "Parsing nodes: 100%|██████████| 1/1 [00:00<00:00, 243.05it/s]\n",
      "Generating embeddings: 100%|██████████| 10/10 [00:00<00:00, 56.57it/s]\n",
      "Parsing nodes: 100%|██████████| 1/1 [00:00<00:00, 154.90it/s]\n",
      "Generating embeddings: 100%|██████████| 12/12 [00:00<00:00, 66.37it/s]\n"
     ]
    },
    {
     "name": "stdout",
     "output_type": "stream",
     "text": [
      "\u001B[1;3;34mObservation: ('Pho-Rezept', [Document(id_='https://www.madamecuisine.de/vietnamesische-nudelsuppe-pho/', embedding=None, metadata={'file_id': '87173a60-2339-4b78-b2a6-472bc814ea96'}, excluded_embed_metadata_keys=[], excluded_llm_metadata_keys=[], relationships={}, metadata_template='{key}: {value}', metadata_separator='\\n', text_resource=MediaResource(embeddings=None, data=None, text='\\n\\n\\n\\n\\nSafeguarding Your Website — BigScoots\\n\\n\\n\\n\\n\\n\\n\\n\\n\\n\\n\\n\\n\\n\\n\\n\\n\\n\\n\\n\\n\\n\\n\\n\\n\\nSafeguarding Your Website 🕵️\\n\\n              We\\'re checking if you\\'re a real person and not an automated bad bot. Usually, the captcha below will complete itself. If it doesn\\'t, simply click the checkbox in the captcha to verify. Once verified, you\\'ll be taken to the page you wanted to visit.\\n            \\n\\n\\nHuman verification is in progress ✨\\n\\n\\nEnable JavaScript and cookies to continue\\n\\n\\n\\n\\n\\n              If for some reason after verifying the captcha above, you are constantly being redirected to this exact same page to re-verify the captcha again, then please click on the button below to get in touch with the support team.\\n            \\n\\nContact Support\\nPlease mention the \"Ray ID: 92a8f8776b33453a\" and \"Client IP: 2a02:8109:9a33:2300:dbe3:4d30:863d:70c2\" to your ticket.\\n\\n\\n\\n\\n\\n\\nRay ID: 92a8f8776b33453a | Client IP: 2a02:8109:9a33:2300:dbe3:4d30:863d:70c2\\nPerformance & security by BigScoots\\n\\n\\n\\n', path=None, url=None, mimetype=None), image_resource=None, audio_resource=None, video_resource=None, text_template='{metadata_str}\\n\\n{content}'), Document(id_='https://thewoksoflife.com/pho-vietnamese-noodle-soup/', embedding=None, metadata={'file_id': '4bc6eb5e-b7c3-428a-86c6-1e6d696d1d0b'}, excluded_embed_metadata_keys=[], excluded_llm_metadata_keys=[], relationships={}, metadata_template='{key}: {value}', metadata_separator='\\n', text_resource=MediaResource(embeddings=None, data=None, text=\"\\n\\n\\n\\n\\n\\n\\n\\n\\n\\n\\n\\n\\n\\n\\n\\n\\n\\n\\n\\n\\n\\n\\n\\n\\n\\n\\n\\n\\n\\n\\nPho Recipe (Vietnamese Noodle Soup) - The Woks of Life\\n\\n\\n\\n\\n\\n\\n\\n\\n\\n\\n\\n\\n\\n\\n\\n\\n\\n\\n\\n\\n\\n\\n\\n\\n\\n\\n\\n\\n\\n\\n\\n \\n\\n\\n\\n\\n\\n\\n\\n\\n\\n\\n\\n\\n\\n\\n\\n\\n\\n\\n\\n\\n\\n\\n\\n\\n\\n\\n\\n\\n\\n\\n\\n\\n\\n\\n\\n\\n\\n \\n\\n\\n\\n\\n\\n Skip to primary navigation Skip to privacy navigation Skip to recipes navigation Skip to main content Skip to primary sidebar\\n\\n\\n\\n\\nFacebook\\nInstagram\\nPinterest\\nYouTube\\n\\n\\n\\n\\nSearch\\n\\n\\n\\nThe Woks of Lifea culinary genealogyMain Menu\\n\\n\\nDisplay Search Bar\\n\\nSurprise Me!\\n\\n\\nSearch\\n\\nRecipes\\n\\nRecipe Index\\nAll Posts by Date\\nOur Cookbook: NOW AVAILABLE!\\nVideos\\n\\n\\nHow-To\\n\\nCooking Methods\\nCooking Tools\\nWok Guide\\nGarden/Farm\\nCulture\\n\\n\\nIngredients\\n\\nChinese Ingredients Glossary\\nSauces, Wines, Vinegars & Oils\\nSpices & Seasonings\\nDried, Cured & Pickled Ingredients\\nNoodles & Wrappers\\nRice, Grains, Flours & Starches\\nTofu, Bean Curd & Seitan\\nVegetables & Fungi\\nFresh Herbs & Aromatics\\n\\n\\nLife & Travel\\n\\nFamily Life\\nTravel With Us\\n\\n\\nAbout Us\\nContact\\n\\nPress\\nWork with Us\\nSend Us A Message\\n\\n\\n\\n\\n\\nFacebook\\nInstagram\\nPinterest\\nYouTube\\n\\n\\n\\n\\n\\n\\n\\nJoin Our Newsletter And Receive Our Free Top 25 Recipes Book!\\nSubscribe\\n\\n\\n\\n\\n\\n\\nTap here to receive our FREE top 25 recipe book!\\n\\n\\n\\n\\nHome  Recipes  Noodles & Pasta  Pho (Vietnamese Noodle Soup)Pho (Vietnamese Noodle Soup)\\n\\n\\n\\n\\n\\nby: Sarah\\n 442 Comments \\n\\n\\n\\nJump to Recipe \\n\\n\\n\\nPosted:9/05/2023Updated:9/05/2023\\n\\n\\n\\nPho (Vietnamese Noodle Soup) has long been one of my absolute favorite things to eat. There has been more than one occasion in which I have actually gotten in my car and driven over 45 minutes for the express purpose of indulging in good bowl of the stuff, which is why this pho recipe is sorely needed.\\nNote: We originally published this recipe in March 2015. We have since added clearer photos, nutrition info, and metric measurements. The recipe has been tested by us and many readers and approved by Vietnamese friends, so it remains the same!\\xa0\\nWhat Is Pho?\\nPho (I found out in college that it’s actually pronounced “fuh.” For someone who’d been shamelessly calling it “foe” for eighteen years, this was an embarrassing revelation) is a noodle soup hailing from Vietnam that’s often made with beef and topped with awesome things like fresh bean sprouts, basil, and chilies.\\nThere’s just something about it—the fragrant beef broth, the slightly chewy rice noodles, and all the aromatic toppings (the squeeze of lime at the end is the BEST)—that seriously justifies a 90-minute roundtrip drive.\\nThe Quest For a Great Broth\\nA bowl of pho is only as good as the broth. There’s no trick to the noodles, really, and the beef is often added to the soup raw. The other vegetable and herb toppings are ALL added to the soup raw.\\nIn short? No broth, no bacon.\\nI never really thought it would be realistic to make it myself at home. Chalk it up to a cynical but somewhat substantiated opinion that no broth I could make at home would ever taste as good as the restaurant equivalent.\\nWe decided to take a stab at it anyway, and the results were awesome. I also talked with a Vietnamese friend/mom who cooks this dish on a regular basis for her family and got all the tips!\\xa0Her kids are in college, but she says they always come home for her pho!\\nThere is a bit of prep involved to get the broth going, but after that, it’s just a long, slow simmer until you’re ready to assemble the dish.\\n4 Key Steps to Make Pho Broth\\nHere are the 4 steps and secrets to making a proper beef pho broth:\\n\\nPre-boiling the beef bones and meat\\nCharring the ginger and onions\\nToasting the spices\\nAdding fish sauce (said Vietnamese friend told me that one of the secrets to a great pho recipe is to not add salt, and instead add enough fish sauce to bring the broth to the correct level of saltiness.)\\n\\nI know, it’s a lot of fish sauce! However, she said that this method tastes the best, but most people don’t do it because fish sauce is so expensive.\\nShe also mentioned, rather proudly, that the Vietnamese brands of fish sauce are much more flavorful (and expensive at $9-$12 a bottle) than the Thai brands most people buy. Which is just food for thought.\\nIn accordance with this insider information, feel free to add more fish sauce to the broth and decrease the amount of salt. As is our mantra here at The Woks of Life, it’s all up to your own taste preferences! \\nOh, and definitely buy a high quality fish sauce for this pho recipe. It will only make your broth better! We like Red Boat! \\n\\n\\nPho Recipe Instructions\\nMaking the Broth\\nPlace the bones and beef chuck in large stockpot, and add water to cover. Bring to a boil, and boil for 5 minutes. Drain in a colander and thoroughly clean the stockpot. This process removes any impurities/scum, and will give you a much cleaner broth.\\nMeanwhile, char your ginger and onions. Use tongs to hold the ginger and onions (one at a time) over an open flame, or place each directly on a gas burner. (You can also do this on a grill.)\\nTurn until they’re lightly blackened and fragrant, about 5 minutes. Rinse away all the blackened skins.\\n\\n\\nAdd 5 quarts fresh water back to the stockpot and bring to a boil. Transfer the bones and meat back to the pot, along with the charred/cleaned ginger and onions. Add the scallions, fish sauce and rock sugar. Reduce the heat to low, and simmer until the beef chuck is tender, about 40 minutes. Skim the surface often to remove any foam and fat.\\nRemove one piece of the chuck and transfer to a bowl of ice water to stop the cooking process. Then transfer this piece of beef to a container and refrigerate (you will slice this to serve with your pho later. If you were to leave it in the pot, it would be too dry to eat). Leave the other piece of chuck in the pot to flavor the broth.\\nNow toast the spices (star anise, cloves, cinnamon stick, cardamom pod (if using), fennel seeds, and coriander seeds) in a dry pan over medium low heat for about 3 minutes, until fragrant. Use kitchen string to tie up the spices in a piece of cheesecloth, and add it to the broth.\\n\\n\\n\\n\\nCover the pot and continue simmering for another 4 hours. Add the salt and continue to simmer, skimming as necessary, until you’re ready to assemble the rest of the dish. Taste the broth and adjust seasoning by adding more salt, sugar, and/or fish sauce as needed.\\nAssembling the Pho\\nTo serve, boil the noodles according to package instructions. Add to a bowl. Place a few slices of the beef chuck and the raw sirloin on the noodles. Bring the broth to a rolling boil and ladle it into each bowl. The hot broth will cook the beef. \\nGarnish with your toppings—sliced chili, onion, scallions, cilantro, bean sprouts, and Thai basil, and be sure to take your lime wedges and squeeze a lot of fresh lime juice over the top! You can also add hoisin sauce and Sriracha if you like!\\n\\n\\nScroll down for the full list of ingredients and the recipe card.\\nShort on time? Check out our Instant Pot Pho recipe and our 20-Minute Chicken Pho recipe as well!\\n\\n\\nMmmm. Pho noodle pull!\\n\\n\\nLooking for more authentic recipes? Subscribe to our email list and be sure to follow us on Pinterest, Facebook, Instagram, and Youtube!\\n\\n\\n\\n\\n\\n\\n\\n4.96 from 85 votes\\n\\nPho Recipe\\nPho is a Vietnamese noodle soup topped with awesome things like fresh bean sprouts, basil, and chilies. This pho recipe was approved by a Vietnamese friend!\\n\\nby: Sarah\\n\\n\\n\\n\\nserves: 8 servings\\n\\n\\n\\n\\n\\nPrep: 30 minutes minutes\\nCook: 5 hours hours 30 minutes minutes\\nTotal: 6 hours hours\\n\\n\\n\\n\\n Print\\n\\n\\n \\n\\n\\n\\n\\n Rate\\n\\nIngredientsYou’ll need:▢ 2 3-inch (7 to 8 cm) pieces ginger, cut in half lengthwise  (no need to peel)▢ 2 onions (peeled)▢ 5 pounds beef marrow or knuckle bones▢ 2 pounds beef chuck (cut into 2 pieces)▢ 5 quarts water▢ 2 scallions (cut into 4-inch lengths)▢ 1/3 cup fish sauce▢ 2 ½ ounces rock sugar (2 1/2 tablespoons granulated sugar)▢ 8 star anise▢ 6 cloves▢ 1 cinnamon stick▢ 1 black cardamom pod (optional)▢ 2 teaspoons fennel seeds▢ 2 teaspoons coriander seeds▢ 1 tablespoon salt▢ 1 pound dried pho noodles▢ 1/3 pound beef sirloin (slightly frozen, then sliced paper-thin against the grain)Garnishes:▢ Sliced chili▢ Thinly sliced onion▢ Chopped scallions▢ Cilantro▢ Mung bean sprouts▢ Thai basil▢ Lime wedges▢ Hoisin sauce and/or Sriracha (optional)US Customary – Metric\\nInstructionsPlace the bones and beef chuck in large stockpot and add water to cover. Bring to a boil and boil for 5 minutes. Drain in a colander and thoroughly clean the stockpot. This process removes any impurities/scum and will give you a much cleaner broth.Meanwhile, char your ginger and onions. Use tongs to hold the ginger and onions (one at a time) over an open flame, or place each directly on a gas burner. Turn until they’re lightly blackened and fragrant, about 5 minutes. Rinse away all the blackened skins.Add water (5 quarts/4.75 L, or more/less if you've scaled the recipe up or down) to the stockpot and bring to a boil. Transfer the bones and meat back to the pot, along with the charred/cleaned ginger and onions. Add the scallions, fish sauce and sugar. Reduce the heat to low, and simmer until the beef chuck is tender, about 40 minutes. Skim the surface often to remove any foam and fat.Remove one piece of the chuck and transfer to a bowl of ice water to stop the cooking process. Then transfer this piece of beef to a container and refrigerate (you will slice this to serve with your pho later. If you were to leave it in the pot, it would be too dry to eat). Leave the other piece of chuck in the pot to flavor the broth.Now toast the spices (star anise, cloves, cinnamon stick, cardamom, fennel seeds, and coriander seeds) in a dry pan over medium low heat for about 3 minutes, until fragrant. Use kitchen string to tie up the spices in a piece of cheesecloth, and add it to the broth.Cover the pot and continue simmering for another 4 hours. Add the salt and continue to simmer, skimming as necessary, until you're ready to assemble the rest of the dish. Taste the broth and adjust seasoning by adding more salt, sugar, and/or fish sauce as needed.To serve, boil the noodles according to package instructions. Add to a bowl. Place a few slices of the beef chuck and the raw sirloin on the noodles. Bring the broth to a rolling boil and ladle it into each bowl. The hot broth will cook the beef. Garnish with your toppings, and be sure to squeeze a lot of fresh lime juice over the top!\\n\\n\\n\\n\\n\\nnutrition factsCalories: 495kcal (25%) Carbohydrates: 68g (23%) Protein: 30g (60%) Fat: 11g (17%) Saturated Fat: 5g (25%) Cholesterol: 69mg (23%) Potassium: 1106mg (32%) Fiber: 3g (12%) Sugar: 14g (16%) Vitamin A: 270IU (5%) Vitamin C: 14.9mg (18%) Calcium: 95mg (10%) Iron: 4.4mg (24%)\\n\\n\\n\\n\\n\\nnutritional info disclaimer\\n\\t\\t\\t\\t\\t\\t \\n\\n\\n\\n\\n\\nTheWoksofLife.com is written and produced for informational purposes only. While we do our best to provide nutritional information as a general guideline to our readers, we are not certified nutritionists, and the values provided should be considered estimates. Factors such as brands purchased, natural variations in fresh ingredients, etc. will change the nutritional information in any recipe. Various online calculators also provide different results, depending on their sources. To obtain accurate nutritional information for a recipe, use your preferred nutrition calculator to determine nutritional information with the actual ingredients and quantities used.\\n\\n\\n\\n\\n\\n\\n\\n\\n\\n\\n\\n\\n\\n\\n   Did You Make This?Tag us on Instagram @thewoksoflife, subscribe to our email list, and be sure to follow us on social for more recipes!\\n@thewoksoflife\\n\\n\\n\\nYou may also like…\\n\\n\\n\\n\\nSpicy Beef Noodle Soup\\n\\n\\n\\n\\nLanzhou Beef Noodle Soup\\n\\n\\n\\n\\nBraised Beef Noodle Soup (红烧牛肉面)\\n\\n\\n\\n\\nShanghai Home-style Noodle Soup\\n\\n\\n\\n\\n \\n\\n\\n\\n\\n \\n\\n\\n\\n\\n \\n\\n\\n\\n\\n \\n\\n\\n\\nAbout SarahSarah Leung is the eldest daughter in The Woks of Life family, working alongside younger sister Kaitlin and parents Bill and Judy. You could say this multigenerational recipe blog was born out of two things: 1) her realization in college that she had no idea how to make her mom’s Braised Pork Belly and 2) that she couldn’t find a job after graduation. With the rest of the family on board, she laid the groundwork for the blog in 2013. By 2015, it had become one of the internet’s most trusted resources for Chinese cooking. Creator of quick and easy recipes for harried home cooks and official Woks of Life photographer, Sarah loves creating accessible recipes that chase down familiar nostalgic flavors while adapting to the needs of modern home cooks. Alongside her family, Sarah has become a New York Times Bestselling author with their cookbook, The Woks of Life: Recipes to Know and Love from a Chinese American Family, as well as a James Beard Award nominee and IACP Award finalist.\\n\\n\\n\\n Previous PostThai Beef Salad\\n\\n\\nNext Post Miso Fish (Just 4 Ingredients!)\\n\\n\\n\\n \\n\\n\\n\\n\\n\\n Subscribe\\n\\n\\n\\n\\n\\n\\n\\n\\n\\nNotify of \\n\\n\\nnew follow-up comments\\nnew replies to my comments\\n\\n\\n\\n\\n\\n\\n\\n\\n \\n\\n\\n\\n\\n\\n\\n\\n \\n\\n\\nLabel\\n\\n\\n\\n\\n\\n\\n\\n\\n\\n\\nRate this recipe: \\n\\nRate this recipe:\\n\\n\\n\\n\\n\\n\\n\\n\\n\\n\\n\\n\\n\\n\\n\\n\\n\\n\\n\\n\\n\\n\\n\\n\\n\\n\\n\\n\\n\\n\\n\\n\\n\\n\\n\\n\\n\\n\\n\\n\\n\\n\\n\\n\\n\\n\\n\\n\\n\\n\\n\\n\\n\\n\\n\\n\\n\\n\\n \\n\\n\\n\\n\\n\\n\\n\\n\\n\\n\\nName*\\n\\n\\n\\n\\n\\nEmail*\\n\\n\\n\\n\\n\\n\\n\\n\\n\\n\\n\\nΔ \\n\\n\\n\\n\\n\\n\\n\\n\\n\\n\\n \\n\\n\\nLabel\\n\\n\\n\\n\\n\\n\\n\\n\\n\\n\\nRate this recipe: \\n\\nRate this recipe:\\n\\n\\n\\n\\n\\n\\n\\n\\n\\n\\n\\n\\n\\n\\n\\n\\n\\n\\n\\n\\n\\n\\n\\n\\n\\n\\n\\n\\n\\n\\n\\n\\n\\n\\n\\n\\n\\n\\n\\n\\n\\n\\n\\n\\n\\n\\n\\n\\n\\n\\n\\n\\n\\n\\n\\n\\n\\n\\n \\n\\n\\n\\n\\n\\n\\n\\n\\n\\n\\nName*\\n\\n\\n\\n\\n\\nEmail*\\n\\n\\n\\n\\n\\n\\n\\n\\n\\n\\n\\nΔ \\n\\n\\n\\nThis site uses Akismet to reduce spam. Learn how your comment data is processed. \\n\\n\\n442 Comments                    \\n\\n\\n\\nNewest\\n\\n\\nOldest\\nMost Voted\\n\\n\\n\\n\\n\\n Inline Feedbacks                    \\nView all comments\\n\\n\\n\\n\\n\\n                                    Load More Comments                                \\n\\n\\n\\n\\n\\n\\n\\n\\n\\nPrimary Sidebar\\n\\n\\n\\n\\nWelcome!\\nWe’re Sarah, Kaitlin, Judy, and Bill– a family of four cooks sharing our home-cooked and restaurant-style recipes.\\nOur Story \\n\\n\\n\\n\\n\\n\\n\\n\\n25 Top Recipes\\nTOP 25 RECIPES\\nfree eBook\\nSubscribe for the latest updates on new recipes, and get started with our family's Top 25 Recipe eBook!\\n\\nGet It Now\\n\\n\\n\\n\\n\\n\\n\\n\\n\\n\\nCooking Tools\\n\\n\\n\\nWok Guide\\n\\n\\n\\nIngredients 101\\n\\n\\n\\nKitchen Wisdom\\n\\n\\n  Surprise Me!  \\n\\n\\n\\n\\n\\n\\n\\n\\nSign Up For Email Updates & Receive Our\\nTop 25 Recipes Ebook!\\n\\n\\n\\n\\n\\n\\nLeave this field empty if you're human:  \\n\\n\\n\\n\\n\\n\\n\\nOur Family Favorites\\n\\n\\n\\n\\n\\n\\n\\nbill's pick \\n\\n\\n\\n\\t\\t\\t\\t\\tBeef and Broccoli\\n\\t\\t\\t\\t\\t\\n\\n\\n\\n\\n\\n\\n\\n\\njudy's pick \\n\\n\\n\\n\\t\\t\\t\\t\\tAsian Milk Bread\\n\\t\\t\\t\\t\\t\\n\\n\\n\\n\\n\\n\\n\\n\\nsarah's pick \\n\\n\\n\\n\\t\\t\\t\\t\\tChicken Adobo\\n\\t\\t\\t\\t\\t\\n\\n\\n\\n\\n\\n\\n\\n\\nkaitlin's pick \\n\\n\\n\\n\\t\\t\\t\\t\\tMapo Tofu\\n\\t\\t\\t\\t\\t\\n\\n\\n\\n\\n\\n\\n\\n\\n\\n\\n\\n\\n\\nSign Up For Email Updates & Receive Our\\nTop 25 Recipes Ebook!\\n\\n\\n\\n\\n\\n\\nLeave this field empty if you're human:  \\n\\n\\n\\n\\n\\n“I am proud to say that your genealogy has been the sole tutorial for my Asian-inspired culinary adventures for years; probably since you began. Time and again, my worldwide web pursuits for solid recipes that I know my family will eat has landed me back here.”\\nBeth, Community Member Since 2013\\n\\n\\n\\n\\n\\n\\n\\n\\n\\n\\n\\n\\n\\n\\n\\n\\n\\n\\n\\n\\n\\n\\n\\n\\n\\n\\n\\n\\n\\n\\n\\n\\n\\n\\n\\n\\n\\n\\n\\n\\n\\n\\n\\n\\n\\n\\n\\n\\n\\n\\n\\n\\n\\n\\n\\n\\n\\n\\n\\n\\n\\n\\n\\n\\n\\n\\n\\n\\nSearch\\n\\n\\n\\n\\nFacebook\\nInstagram\\nPinterest\\nYouTube\\n\\n\\n\\n\\n\\n©\\xa02013–2025 The Woks of Life\\nPrivacy Policy\\nDisclaimer\\n\\n\\nSite Credits\\n\\nSite design by Melissa Rose Design\\nLogo & Illustrations by Sasa Khalisa\\nDeveloped by Once Coupled\\n\\n\\nBack To Top\\n\\n\\n\\n\\n\\nOpens in a new window\\nOpens an external site\\nOpens an external site in a new window\\n\\n\\n\\n\\n\\n\\n\\nGet Updates On New Recipes & Our\\n\\n\\nFree Recipe Ebook!\\n\\n\\n\\n\\n\\nI consent to receive emails from The Woks of Life.\\r\\n\\n\\n\\n\\n\\n\\n\\n\\n\\n\\n\\n\\n\\n\\n\\n\\n\\nwpDiscuzInsert\\n\\n\\n\\n \\n\\n\\n\\n\\n\\n\\n\\n\\n\\n\\n\\n\\n\\n\\n\\n\\n\\n\\n\\n\\n\\n\\n\\n\\n\\n\\n\\n\\n \\n\\n\\n\", path=None, url=None, mimetype=None), image_resource=None, audio_resource=None, video_resource=None, text_template='{metadata_str}\\n\\n{content}'), Document(id_='https://asiastreetfood.com/rezept/pho-bo-hanoi-vietnam-nudelsuppe-rezept/', embedding=None, metadata={'file_id': '6e692e17-9226-4857-9d29-285bc0bbb459'}, excluded_embed_metadata_keys=[], excluded_llm_metadata_keys=[], relationships={}, metadata_template='{key}: {value}', metadata_separator='\\n', text_resource=MediaResource(embeddings=None, data=None, text='\\n\\n\\n\\n\\n\\n\\n\\n\\n\\n\\nPho Bo Hanoi – Rezept für Vietnamesische Nudelsuppe  | asiastreetfood\\n\\n\\n\\n\\n\\n\\n\\n\\n\\n\\n\\n\\n\\n\\n\\n\\n\\n\\n\\n\\n\\n\\n\\n\\n\\n\\n\\n\\n\\n\\n\\n\\n\\n\\n\\n\\n\\n\\n\\n\\n\\n\\n\\n\\n\\n\\n\\n\\n\\n\\n\\n\\n\\n\\n\\n\\n\\n\\n\\n\\n\\n\\n\\n\\n\\n\\n\\n\\n\\n\\n\\n\\n\\n\\n\\n\\n\\n\\n\\n\\n\\n\\n\\n\\n\\n\\n\\n\\n\\n\\n\\n \\n\\n\\n\\n\\n\\n\\n\\n\\n\\n\\n\\n\\n\\n\\n\\n\\n\\n\\n\\n\\n\\n\\n\\n\\n\\n\\n\\n\\n\\t\\t\\t\\tVersandkostenfrei ab 49€\\n\\t\\t\\t\\n\\n\\n\\t\\t\\t\\tExperten für asiastische Küche in DE\\n\\t\\t\\t\\n\\n\\n\\t\\t\\t\\tSchnelle Lieferung\\n\\t\\t\\t\\n\\n\\n\\n\\n\\n\\n\\n\\n\\n\\n\\n\\n\\n\\n\\n\\n\\n\\n\\n\\n\\n\\n\\n\\n\\n\\n\\n\\n\\n\\n\\n\\n\\n\\n\\n\\n\\n\\n\\n\\n\\n\\n\\n\\n\\n\\n\\n\\n\\n\\n\\n\\n\\n\\n\\n\\n\\n\\nNEU\\n\\n\\nPremium Asia Kochboxen\\n\\n\\nGeschenke\\n\\n\\nWok & Co\\n\\n\\nGewürze\\n\\n\\nSaucen\\n\\n\\nNudeln & Reis\\n\\n\\nTofu, Pilze & Algen\\n\\n\\nGetränke\\n\\n\\nKochbücher\\n\\n\\n\\n\\n\\n\\n\\n\\n\\n\\t\\t\\t\\t\\t\\t\\t\\t\\tShop\\n\\t\\t\\t\\t\\t\\t\\t\\t\\n\\n\\n\\n\\t\\t\\t\\t\\t\\t\\t\\t\\tRezepte\\n\\t\\t\\t\\t\\t\\t\\t\\t\\n\\n\\n\\n\\t\\t\\t\\t\\t\\t\\t\\t\\tStories\\n\\t\\t\\t\\t\\t\\t\\t\\t\\n\\n\\n\\n\\n\\n\\n\\n\\n\\n\\nNeu im Shop\\n\\n\\n\\n\\n\\n\\n\\n\\n\\t\\t\\t\\t\\t\\t\\tNEU\\n\\t\\t\\t\\t\\t\\t\\t\\n\\n\\n\\n\\n\\n\\t\\t\\t\\t\\t\\t\\tPremium Asia Kochboxen\\n\\t\\t\\t\\t\\t\\t\\t\\n\\n\\n\\n\\n\\n\\t\\t\\t\\t\\t\\t\\tGeschenke\\n\\t\\t\\t\\t\\t\\t\\t\\n\\n\\n\\n\\n\\n\\t\\t\\t\\t\\t\\t\\tWok & Co\\n\\t\\t\\t\\t\\t\\t\\t\\n\\n\\n\\n\\n\\n\\t\\t\\t\\t\\t\\t\\tGewürze\\n\\t\\t\\t\\t\\t\\t\\t\\n\\n\\n\\n\\n\\n\\t\\t\\t\\t\\t\\t\\tSaucen\\n\\t\\t\\t\\t\\t\\t\\t\\n\\n\\n\\n\\n\\n\\t\\t\\t\\t\\t\\t\\tNudeln & Reis\\n\\t\\t\\t\\t\\t\\t\\t\\n\\n\\n\\n\\n\\n\\t\\t\\t\\t\\t\\t\\tTofu, Pilze & Algen\\n\\t\\t\\t\\t\\t\\t\\t\\n\\n\\n\\n\\n\\n\\t\\t\\t\\t\\t\\t\\tGetränke\\n\\t\\t\\t\\t\\t\\t\\t\\n\\n\\n\\n\\n\\n\\t\\t\\t\\t\\t\\t\\tKochbücher\\n\\t\\t\\t\\t\\t\\t\\t\\n\\n\\n\\n\\n\\n\\n\\n\\n\\t\\t\\t\\t\\t\\tAlle Produkte\\n\\t\\t\\t\\t\\t\\t\\n\\n\\n\\n\\n\\t\\t\\t\\t\\t\\tRezepte\\n\\t\\t\\t\\t\\t\\t\\n\\n\\n\\n\\n\\t\\t\\t\\t\\t\\tStories\\n\\t\\t\\t\\t\\t\\t\\n\\n\\n\\n\\n\\n\\n\\n\\n\\n\\n\\n\\n\\n\\n\\n\\n\\n\\n\\n\\n\\n\\n\\n\\t\\t\\t\\t\\t\\t\\t\\t\\tPho Bo Hanoi - Vietnamesische Reisnudelsuppe\\n\\t\\t\\t\\t\\t\\t\\t\\t\\nphở bò hà nội\\n\\nPho Bo Hanoi ist eine kräftige Suppe mit Reisnudeln, Rindfleisch und Kräutern, gewürzt mit Schwarzem Kardamom, Sternanis, Zimt und geröstetem Ingwer. Dies ist das Originalrezept wie es heute noch in Hanois Straßenküchen serviert wird. Der Schwerpunkt liegt hier auf dem kräftigen und intensiven Fleischgeschmack der Brühe. Es werden weniger Gewürze, weniger Zucker und weniger Kräuter als in der Pho Bo Saigon verwendet.\\nHier ein Original-Rezept für Pho Bo Tai Chin Hanoi. Tai ist rohes und Chin gekochtes Rindfleisch Pho Bo Hanoi ist eine Suppe, die du einfach probiert haben musst! Die kräftige Brühe, die mit Schwarzem Kardamom, Sternanis, Zimt und geröstetem Ingwer gewürzt wird, verleiht dem Gericht einen einzigartigen Geschmack, der unverkennbar ist. Die Reisnudeln sind perfekt gekocht und das zarte Rindfleisch schmilzt förmlich auf der Zunge.\\nMit unserem Original Pho Bo Gewürz in BIO Qualität kannst du übrigens deine Pho Bo ganz easy und authentisch zubereiten.\\n\\n\\n\\n\\n\\n\\n\\n\\n\\n\\n\\n\\n\\n\\n\\n\\n\\n\\n\\n\\n\\n\\n\\t\\t\\t\\t\\t\\t\\tvietnam\\n\\t\\t\\t\\t\\t\\t\\t\\n\\n\\n\\n\\t\\t\\t\\t\\t\\t\\t\\t\\t\\t\\t\\t\\t\\t\\tFleisch\\n\\t\\t\\t\\t\\t\\t\\t\\t,\\n\\t\\t\\t\\t\\t\\t\\t\\t\\t\\t\\t\\t\\t\\t\\t\\t\\t\\t\\t\\t\\t\\t\\tNudeln\\n\\t\\t\\t\\t\\t\\t\\t\\t\\t\\t\\t\\t\\t\\t\\t\\t\\t\\t\\t\\t\\t\\t\\t\\t\\t\\t\\t\\t\\t\\t\\t\\t\\n\\n\\n\\n\\t\\t\\t\\t\\t\\t\\t\\t4\\n\\t\\t\\t\\t\\t\\t\\t\\tPersonen\\n\\t\\t\\t\\t\\t\\t\\t\\t\\n\\n\\n\\n\\t\\t\\t\\t\\t\\t\\t\\t50 Minuten + 4-6 Stunden Kochzeit\\n\\t\\t\\t\\t\\t\\t\\t\\n\\n\\n\\n\\n\\n\\n\\n\\n\\n\\t\\t\\t\\t\\t\\t\\tBrühe\\n\\t\\t\\t\\t\\t\\t\\n\\n\\t\\t\\t\\t\\t\\t\\t\\t\\t\\t\\t\\t\\t\\t\\t\\t\\t1\\n\\t\\t\\t\\t\\t\\t\\t\\t\\t\\t\\t\\t\\t\\t\\t\\t\\t\\t\\tkg\\n\\t\\t\\t\\t\\t\\t\\t\\t\\t\\t\\t\\t\\t\\t\\t\\t\\t\\tRinderknochen\\n\\t\\t\\t\\t\\t\\t\\t\\t\\t\\t\\t\\t\\t\\t\\t\\t\\t\\t\\t\\t\\t\\t\\t\\t\\t\\t\\t\\t\\t\\t\\t\\t\\t\\t\\t\\t\\t\\t\\t\\t\\n\\n\\t\\t\\t\\t\\t\\t\\t\\t\\t\\t\\t\\t\\t\\t\\t\\t\\t1\\n\\t\\t\\t\\t\\t\\t\\t\\t\\t\\t\\t\\t\\t\\t\\t\\t\\t\\t\\t\\n\\t\\t\\t\\t\\t\\t\\t\\t\\t\\t\\t\\t\\t\\t\\t\\t\\t\\tOchsenschwanz\\n\\t\\t\\t\\t\\t\\t\\t\\t\\t\\t\\t\\t\\t\\t\\t\\t\\t\\t\\t\\t\\t\\t\\t\\t\\t\\t\\t\\t\\t\\t\\t\\t\\t\\t\\t\\t\\t\\t\\t\\t\\n\\n\\t\\t\\t\\t\\t\\t\\t\\t\\t\\t\\t\\t\\t\\t\\t\\t\\t500\\n\\t\\t\\t\\t\\t\\t\\t\\t\\t\\t\\t\\t\\t\\t\\t\\t\\t\\t\\tg\\n\\t\\t\\t\\t\\t\\t\\t\\t\\t\\t\\t\\t\\t\\t\\t\\t\\t\\tRindfleisch (Beinscheibe, Schaufelbug oder Rinderbrust)\\n\\t\\t\\t\\t\\t\\t\\t\\t\\t\\t\\t\\t\\t\\t\\t\\t\\t\\t\\t\\t\\t\\t\\t\\t\\t\\t\\t\\t\\t\\t\\t\\t\\t\\t\\t\\t\\t\\t\\t\\t\\n\\n\\t\\t\\t\\t\\t\\t\\t\\t\\t\\t\\t\\t\\t\\t\\t\\t\\t2\\n\\t\\t\\t\\t\\t\\t\\t\\t\\t\\t\\t\\t\\t\\t\\t\\t\\t\\t\\tStück\\n\\t\\t\\t\\t\\t\\t\\t\\t\\t\\t\\t\\t\\t\\t\\t\\t\\t\\tIngwer, daumengroß\\n\\t\\t\\t\\t\\t\\t\\t\\t\\t\\t\\t\\t\\t\\t\\t\\t\\t\\t\\t\\t\\t\\t\\t\\t\\t\\t\\t\\t\\t\\t\\t\\t\\t\\t\\t\\t\\t\\t\\t\\t\\n\\n\\t\\t\\t\\t\\t\\t\\t\\t\\t\\t\\t\\t\\t\\t\\t\\t\\t5\\n\\t\\t\\t\\t\\t\\t\\t\\t\\t\\t\\t\\t\\t\\t\\t\\t\\t\\t\\t\\n\\t\\t\\t\\t\\t\\t\\t\\t\\t\\t\\t\\t\\t\\t\\t\\t\\t\\tSchalotten\\n\\t\\t\\t\\t\\t\\t\\t\\t\\t\\t\\t\\t\\t\\t\\t\\t\\t\\t\\t\\t\\t\\t\\t\\t\\t\\t\\t\\t\\t\\t\\t\\t\\t\\t\\t\\t\\t\\t\\t\\t\\n\\n\\n\\n\\t\\t\\t\\t\\t\\t\\tGewürze\\n\\t\\t\\t\\t\\t\\t\\n\\n\\t\\t\\t\\t\\t\\t\\t\\t\\t\\t\\t\\t\\t\\t\\t\\t\\t1\\n\\t\\t\\t\\t\\t\\t\\t\\t\\t\\t\\t\\t\\t\\t\\t\\t\\t\\t\\t\\n\\t\\t\\t\\t\\t\\t\\t\\t\\t\\t\\t\\t\\t\\t\\t\\t\\t\\tKapsel Schwarzen Kardamom\\n\\t\\t\\t\\t\\t\\t\\t\\t\\t\\t\\t\\t\\t\\t\\t\\t\\t\\t\\t\\t\\t\\t\\t\\t\\t\\t\\t\\t\\t\\t\\t\\t\\t\\t\\t\\t\\t\\t\\t\\t\\n\\n\\t\\t\\t\\t\\t\\t\\t\\t\\t\\t\\t\\t\\t\\t\\t\\t\\t1\\n\\t\\t\\t\\t\\t\\t\\t\\t\\t\\t\\t\\t\\t\\t\\t\\t\\t\\t\\t\\n\\t\\t\\t\\t\\t\\t\\t\\t\\t\\t\\t\\t\\t\\t\\t\\t\\t\\tSternanis\\n\\t\\t\\t\\t\\t\\t\\t\\t\\t\\t\\t\\t\\t\\t\\t\\t\\t\\t\\t\\t\\t\\t\\t\\t\\t\\t\\t\\t\\t\\t\\t\\t\\t\\t\\t\\t\\t\\t\\t\\t\\n\\n\\t\\t\\t\\t\\t\\t\\t\\t\\t\\t\\t\\t\\t\\t\\t\\t\\t2\\n\\t\\t\\t\\t\\t\\t\\t\\t\\t\\t\\t\\t\\t\\t\\t\\t\\t\\t\\tcm\\n\\t\\t\\t\\t\\t\\t\\t\\t\\t\\t\\t\\t\\t\\t\\t\\t\\t\\tZimtrinde\\n\\t\\t\\t\\t\\t\\t\\t\\t\\t\\t\\t\\t\\t\\t\\t\\t\\t\\t\\t\\t\\t\\t\\t\\t\\t\\t\\t\\t\\t\\t\\t\\t\\t\\t\\t\\t\\t\\t\\t\\t\\n\\n\\n\\n\\t\\t\\t\\t\\t\\t\\tAlternativ\\n\\t\\t\\t\\t\\t\\t\\n\\n\\n\\t\\t\\t\\t\\t\\t\\t\\t\\t\\t1\\n\\t\\t\\t\\t\\t\\t\\t\\t\\t\\t\\t\\t\\t\\t\\t\\t\\t\\t\\t\\t\\tEL\\n\\t\\t\\t\\t\\t\\t\\t\\t\\t\\t\\t\\t\\t\\t\\t\\t\\t\\t\\t\\tPho Bo BIO Gewürzmischung\\n\\t\\t\\t\\t\\t\\t\\t\\t\\t\\t\\t\\t\\t\\t\\t\\t\\t\\t\\t\\t\\t\\n\\t\\t\\t\\t\\t\\t\\t\\t\\t\\t\\t\\teigens von uns entwickelt \\n\\t\\t\\t\\t\\t\\t\\t\\t\\t\\t\\t\\n\\n\\n\\n\\n\\n\\n\\n\\n\\n\\nPho Bo Gewürz BIO 40g\\n\\n\\n\\n\\n\\n\\n9,95\\xa0€ inkl. MwSt.In den Warenkorb \\n\\n\\nmehr erfahren\\n\\t\\t\\t\\t\\t\\t\\t\\t\\t\\t\\t\\t\\t\\t\\t\\n\\n\\n\\n\\n\\n\\n\\n\\n\\nFenster schließen\\n\\n\\n\\n\\n\\n\\n\\t\\t\\t\\t\\t\\t\\tWeitere Zutaten\\n\\t\\t\\t\\t\\t\\t\\n\\n\\n\\t\\t\\t\\t\\t\\t\\t\\t\\t\\t\\n\\t\\t\\t\\t\\t\\t\\t\\t\\t\\t\\t\\t\\t\\t\\t\\t\\t\\t\\t\\t\\t\\n\\t\\t\\t\\t\\t\\t\\t\\t\\t\\t\\t\\t\\t\\t\\t\\t\\t\\t\\t\\tFischsauce\\n\\t\\t\\t\\t\\t\\t\\t\\t\\t\\t\\t\\t\\t\\t\\t\\t\\t\\t\\t\\t\\t\\n\\t\\t\\t\\t\\t\\t\\t\\t\\t\\t\\t\\tPremium Produkt nur aus Sardellen und Salz hergestellt\\n\\t\\t\\t\\t\\t\\t\\t\\t\\t\\t\\t\\n\\n\\n\\n\\n\\n\\n\\n\\n\\n\\nRed Boat Fischsauce 250ml\\n\\n\\n\\n\\n\\n\\n10,95\\xa0€ inkl. MwSt.In den Warenkorb \\n\\n\\nmehr erfahren\\n\\t\\t\\t\\t\\t\\t\\t\\t\\t\\t\\t\\t\\t\\t\\t\\n\\n\\n\\n\\n\\n\\n\\n\\n\\nFenster schließen\\n\\n\\n\\n\\n\\t\\t\\t\\t\\t\\t\\t\\t\\t\\t\\t\\t\\t\\t\\t\\t\\t\\n\\t\\t\\t\\t\\t\\t\\t\\t\\t\\t\\t\\t\\t\\t\\t\\t\\t\\t\\t\\n\\t\\t\\t\\t\\t\\t\\t\\t\\t\\t\\t\\t\\t\\t\\t\\t\\t\\tSalz\\n\\t\\t\\t\\t\\t\\t\\t\\t\\t\\t\\t\\t\\t\\t\\t\\t\\t\\t\\t\\t\\t\\t\\t\\t\\t\\t\\t\\t\\t\\t\\t\\t\\t\\t\\t\\t\\t\\t\\t\\t\\n\\n\\t\\t\\t\\t\\t\\t\\t\\t\\t\\t\\t\\t\\t\\t\\t\\t\\t\\n\\t\\t\\t\\t\\t\\t\\t\\t\\t\\t\\t\\t\\t\\t\\t\\t\\t\\t\\t\\n\\t\\t\\t\\t\\t\\t\\t\\t\\t\\t\\t\\t\\t\\t\\t\\t\\t\\tZucker\\n\\t\\t\\t\\t\\t\\t\\t\\t\\t\\t\\t\\t\\t\\t\\t\\t\\t\\t\\t\\t\\t\\t\\t\\t\\t\\t\\t\\t\\t\\t\\t\\t\\t\\t\\t\\t\\t\\t\\t\\t\\n\\n\\n\\t\\t\\t\\t\\t\\t\\t\\t\\t\\t200\\n\\t\\t\\t\\t\\t\\t\\t\\t\\t\\t\\t\\t\\t\\t\\t\\t\\t\\t\\t\\t\\t\\n\\t\\t\\t\\t\\t\\t\\t\\t\\t\\t\\t\\t\\t\\t\\t\\t\\t\\t\\t\\tReis-Bandnudeln\\n\\t\\t\\t\\t\\t\\t\\t\\t\\t\\t\\t\\t\\t\\t\\t\\t\\t\\t\\t\\t\\t\\n\\t\\t\\t\\t\\t\\t\\t\\t\\t\\t\\t\\tfeinste Reisnudeln ohne Zusätze\\n\\t\\t\\t\\t\\t\\t\\t\\t\\t\\t\\t\\n\\n\\n\\n\\n\\n\\n\\n\\n\\n\\nReis-Bandnudeln – Banh Pho 400g\\n\\n\\t\\t\\t\\t\\t\\t\\t\\t\\t\\t\\t\\t\\t\\t\\tUnsere Banh Pho sind mit 3mm Breite die perfekten Nudeln für die vietnamesische Pho, für thailändisches Pad Thai und zum Wokbraten. Hergestellt nur aus Reismehl, Salz und Wasser.\\r\\n\\r\\n\\xa0\\n\\t\\t\\t\\t\\t\\t\\t\\t\\t\\t\\t\\t\\t\\t\\n\\n\\n\\n\\n4,49\\xa0€ inkl. MwSt.In den Warenkorb \\n\\n\\nmehr erfahren\\n\\t\\t\\t\\t\\t\\t\\t\\t\\t\\t\\t\\t\\t\\t\\t\\n\\n\\n\\n\\n\\n\\n\\n\\n\\nFenster schließen\\n\\n\\n\\n\\n\\t\\t\\t\\t\\t\\t\\t\\t\\t\\t\\t\\t\\t\\t\\t\\t\\t4\\n\\t\\t\\t\\t\\t\\t\\t\\t\\t\\t\\t\\t\\t\\t\\t\\t\\t\\t\\t\\n\\t\\t\\t\\t\\t\\t\\t\\t\\t\\t\\t\\t\\t\\t\\t\\t\\t\\tFrühlingszwiebeln\\n\\t\\t\\t\\t\\t\\t\\t\\t\\t\\t\\t\\t\\t\\t\\t\\t\\t\\t\\t\\t\\t\\t\\t\\t\\t\\t\\t\\t\\t\\t\\t\\t\\t\\t\\t\\t\\t\\t\\t\\t\\n\\n\\t\\t\\t\\t\\t\\t\\t\\t\\t\\t\\t\\t\\t\\t\\t\\t\\t1\\n\\t\\t\\t\\t\\t\\t\\t\\t\\t\\t\\t\\t\\t\\t\\t\\t\\t\\t\\t\\n\\t\\t\\t\\t\\t\\t\\t\\t\\t\\t\\t\\t\\t\\t\\t\\t\\t\\tLimette\\n\\t\\t\\t\\t\\t\\t\\t\\t\\t\\t\\t\\t\\t\\t\\t\\t\\t\\t\\t\\t\\t\\t\\t\\t\\t\\t\\t\\t\\t\\t\\t\\t\\t\\t\\t\\t\\t\\t\\t\\t\\n\\n\\t\\t\\t\\t\\t\\t\\t\\t\\t\\t\\t\\t\\t\\t\\t\\t\\t2\\n\\t\\t\\t\\t\\t\\t\\t\\t\\t\\t\\t\\t\\t\\t\\t\\t\\t\\t\\t\\n\\t\\t\\t\\t\\t\\t\\t\\t\\t\\t\\t\\t\\t\\t\\t\\t\\t\\trote Vogelaugenchilis\\n\\t\\t\\t\\t\\t\\t\\t\\t\\t\\t\\t\\t\\t\\t\\t\\t\\t\\t\\t\\t\\t\\t\\t\\t\\t\\t\\t\\t\\t\\t\\t\\t\\t\\t\\t\\t\\t\\t\\t\\t\\n\\n\\n\\t\\t\\t\\t\\t\\t\\t\\t\\t\\t1\\n\\t\\t\\t\\t\\t\\t\\t\\t\\t\\t\\t\\t\\t\\t\\t\\t\\t\\t\\t\\t\\tEL\\n\\t\\t\\t\\t\\t\\t\\t\\t\\t\\t\\t\\t\\t\\t\\t\\t\\t\\t\\t\\tSchwarzer Pfeffer, grob gestoßen\\n\\t\\t\\t\\t\\t\\t\\t\\t\\t\\t\\t\\t\\t\\t\\t\\t\\t\\t\\t\\t\\t\\n\\t\\t\\t\\t\\t\\t\\t\\t\\t\\t\\t\\thocharomatisch in Premium Qualität\\n\\t\\t\\t\\t\\t\\t\\t\\t\\t\\t\\t\\n\\n\\n\\n\\n\\n\\n\\n\\n\\n\\nSchwarzer Kampot Pfeffer\\n\\n\\t\\t\\t\\t\\t\\t\\t\\t\\t\\t\\t\\t\\t\\t\\teiner der weltweit aromatischsten Pfeffer. Ganzes Korn, zum Mörsern oder Mahlen.\\n\\t\\t\\t\\t\\t\\t\\t\\t\\t\\t\\t\\t\\t\\t\\n\\n\\n\\n\\n9,95\\xa0€ inkl. MwSt.Weiterlesen \\n\\n\\nmehr erfahren\\n\\t\\t\\t\\t\\t\\t\\t\\t\\t\\t\\t\\t\\t\\t\\t\\n\\n\\n\\n\\n\\n\\n\\n\\n\\nFenster schließen\\n\\n\\n\\n\\n\\t\\t\\t\\t\\t\\t\\t\\t\\t\\t\\t\\t\\t\\t\\t\\t\\t200\\n\\t\\t\\t\\t\\t\\t\\t\\t\\t\\t\\t\\t\\t\\t\\t\\t\\t\\t\\tg\\n\\t\\t\\t\\t\\t\\t\\t\\t\\t\\t\\t\\t\\t\\t\\t\\t\\t\\tRindfleisch ohne Fett, leicht angefroren\\n\\t\\t\\t\\t\\t\\t\\t\\t\\t\\t\\t\\t\\t\\t\\t\\t\\t\\t\\t\\t\\t\\t\\t\\t\\t\\t\\t\\t\\t\\t\\t\\t\\t\\t\\t\\t\\t\\t\\t\\t\\n\\n\\n\\n\\n\\n\\n\\n\\n\\n\\n\\n\\n\\n\\n\\n\\nInfos zum Rezept\\nDas Wichtigste an der Pho Bo Hanoi ist die Gewürzmischung aus Schwarzem Kardamom, Sternanis und Cassia-Zimt mit der die Brühe aromatisiert wird. Dazu bieten wir eigens eine Pho Bo BIO Gewürzmischung in unserem Shop an.\\r\\n\\n\\n\\n\\nFür die Brühe Knochen, Ochsenschwanz und Kochrindfleisch gründlich unter fließendem lauwarmem Wasser abwaschen, in einen 10-l-Topf geben und so viel kaltes Wasser zugießen, dass alle Zutaten bedeckt sind. Ohne Deckel bei höchster Hitze zum Kochen bringen und den aufsteigenden Schaum abschöpfen.\\n\\n\\nSobald sich kein Schaum mehr bildet – das dauert etwa 5 Minuten –, das Wasser abgießen und die Knochen sowie Ochsenschwanzstücke erneut gründlich unter fließendem Wasser reinigen. Den Topf ebenfalls säubern.\\n\\n\\nKnochen, Ochsenschwanz und Rindfleisch wieder in den Topf geben, 6 l kaltes Wasser zugießen und wieder bei höchster Hitze ohne Deckel aufkochen. Den neu entstehenden Schaum abschöpfen, dann bei niedriger Hitze ohne Deckel köcheln lassen.\\n\\n\\nIngwer und Schalotten säubern, ungeschält auf ein Grillgitter legen und entweder über einem Holzkohlefeuer oder einer Gasflamme grillen, bis die Außenhaut schwarz ist. Alternativ Ingwer und Schalotten in einer Pfanne ohne Fettzugabe rösten. Dann mit einer Wurzelbürste unter fließendem Wasser gründlich abbürsten, bis die schwarzen Stellen vollständig entfernt sind, und zur Brühe in den Topf geben.\\n\\n\\nNach 2 Stunden den Gargrad des Rindfleischs mit einer Gabel prüfen. Gar ist es, wenn es nachgiebig und nicht mehr elastisch ist, aber noch nicht auseinanderfällt. Das Fleisch herausnehmen und in eine mit Eiswasser gefüllte Schüssel legen – so verhindert man, dass es sich verfärbt. Sobald es abgekühlt ist, in Frischhaltefolie wickeln und im Kühlschrank aufbewahren.\\n\\n\\nDie Kardamomkapsel mit einem schweren Küchenmesser in der Mitte teilen, ohne sie vollständig durchzuschneiden. Dann mit Sternanis und Zimt in einer Pfanne bei niedriger Hitze leicht anrösten, bis die Gewürze duften. In den Topf geben. Fischsauce, Zucker und 1 EL Salz in die Brühe rühren und bei niedriger Hitze ohne Deckel weiterköcheln lassen.\\n\\n\\nNach insgesamt 4 Stunden Kochzeit Knochen und Ochsenschwanz mit den Gewürzen aus der Brühe entfernen und entsorgen (siehe auch Tipp). Die Brühe durch ein feines Sieb oder ein Küchentuch in einen Topf passieren – so erhält\\xa0 man eine klare Flüssigkeit.\\n\\n\\nDie Brühe, falls nötig, mit Fischsauce, Salz und Zucker nachwürzen. Sie darf kräftig sein, da sie im Geschmack leichter wird, sobald die Nudeln dazukommen.\\n\\n\\nEtwa 40 Minuten vor dem Servieren für die Einlage das rohe Rindfleisch ins Gefrierfach legen und etwa 30 Minuten anfrieren lassen. Inzwischen die Reisnudeln in eine Schüssel geben, mit lauwarmem Wasser bedecken und 20 Minuten einweichen. Sechs Suppenschalen vorwärmen, denn phở bò muss sehr heiß serviert werden!\\n\\n\\nDie Frühlingszwiebeln waschen und putzen. Die grünen Teile in feine Röllchen, die weißen längs in feine Streifen schneiden.\\n\\n\\nFür den Beilagenteller die Limette waschen und in acht Spalten schneiden. Die Chili(s) waschen, entkernen, klein schneiden und mit der Limette auf einem kleinen Teller anrichten.\\n\\n\\nDas angefrorene Rindfleisch aus dem Gefrierfach nehmen, gegen die Faser in hauchdünne Scheiben schneiden oder grob hacken und auf einen Teller legen.\\n\\n\\nDas gekochte Rindfleisch aus der Folie nehmen, ebenfalls gegen die Faser in hauchdünne Scheiben schneiden und auf einen weiteren Teller legen.\\n\\n\\nReichlich Wasser in einem Topf zum Kochen bringen. Die Reis-Bandnudeln abgießen, abtropfen lassen und in einem Nudelsieb im kochenden Wasser portionsweise 30 Sekunden garen. Abtropfen lassen und auf die vorgewärmten Suppenschalen verteilen.\\n\\n\\nJe drei bis vier Scheiben gekochtes Rindfleisch auf den Nudeln verteilen. Darauf je zwei rohe Rindfleischscheiben legen. Die Brühe nochmals aufkochen und kochend heiß in die Schalen füllen, sodass alle Zutaten gleichmäßig mit der heißen Brühe bedeckt werden. Die Frühlingszwiebeln darüberstreuen und sofort servieren. Dazu den Beilagenteller, schwarzen Pfeffer\\xa0 und Fischsauce zum Würzen reichen.\\n\\n\\n\\n\\n\\nTeile das Rezept mit deinen Freunden\\n\\n\\n\\n\\n\\n\\n\\n\\n\\n\\n\\n\\n\\n\\n\\n\\n\\n\\n\\n\\n\\n\\n\\n\\n\\n\\n\\n\\n\\n\\n\\n\\n\\n\\n\\n\\n\\nPho Box Hanoi\\n\\n\\nVietnams bekannteste Suppe: super lecker & gesund\\nMit unserer Pho Box Hanoi in wenigen Minuten zubereitet\\nMit Premium Zutaten und eigenem BIO Pho Gewürz\\nUnd easy asia Rezeptkarte für perfektes Gelingen\\n\\n\\nJetzt entdecken\\n\\n\\n\\n\\n\\n\\n\\n\\n\\n\\n\\n\\n\\n\\n\\n\\n\\n\\nGewürzePho Bo Gewürz BIO 40gUnser eigens kreiertes Spezialgewürz, Für authentische Pho Bo und viele…9,95\\xa0€ inkl. MwSt.\\nEnthält 7% red. MwSt.\\n(248,75\\xa0€ / 1 kg)zzgl. Versand\\n\\nLieferzeit: ca. 2-3 Werktage innerhalb D **\\n\\nIn den Warenkorb \\n\\n \\n\\n\\n\\n\\n\\n\\n\\n\\n\\n\\n\\n\\n\\nSaucenRed Boat Fischsauce 250mlAusschließlich aus wilden Sardellen und Meersalz, Für das Würzen von…10,95\\xa0€ inkl. MwSt.\\nEnthält 7% red. MwSt.\\n(43,80\\xa0€ / 1 l)zzgl. Versand\\n\\nLieferzeit: ca. 2-3 Werktage innerhalb D **\\n\\nIn den Warenkorb \\n\\n \\n\\n\\n\\n\\n\\n\\n\\n\\n\\n\\n\\n\\n\\n\\n\\n\\n\\n\\n\\n\\n\\n\\n\\n\\n\\n\\n\\n\\n\\n\\n\\n\\n\\n\\n\\n\\n\\n\\n\\n\\n\\n\\n\\n\\n\\n\\n\\n\\n\\n\\n\\n\\n\\n\\n\\n\\n\\n\\n\\n\\n\\n\\n\\n\\n\\n\\n\\n\\n\\n\\n\\n\\n\\n\\n\\n\\n\\n\\n\\nWie gesund ist Pho Suppe?\\nPho-Suppe kann gesund sein, da sie in der Regel fettarm ist, Gemüse und Proteine enthält und hydratisierende Flüssigkeit bietet.\\nWie isst man Pho Bo?\\nPho Bo wird mit Stäbchen und Löffel gegessen. Du kannst die Reisnudeln, das Rindfleisch, die Gewürze und die frischen Elemente mit den Stäbchen aufnehmen und die Brühe mit dem Löffel löffeln.\\nWie heißt die traditionelle vietnamesische Suppe?\\nDie traditionelle vietnamesische Suppe heißt Pho.\\nWie spricht man Pho Bo richtig aus?\\n„Pho Bo“ wird auf Vietnamesisch ungefähr wie „Fuh Buh“ ausgesprochen. Das „Ph“ wird wie das englische „f“ ausgesprochen und das „o“ wie das englische „uh“ in „huh“ oder „duh“. Das „Bo“ wird wie „Buh“ ohne den „o“-Klang am Ende ausgesprochen.\\n\\n\\n\\n\\n\\n\\n\\n\\n\\n\\nDas passt dazu\\n\\n\\n\\n\\n\\n\\n\\n\\n\\n\\n\\n\\n\\ntương ớt ăn phở Hà Nội\\n\\n\\t\\t\\t\\tVietnamesische Chilisauce für die Pho Bo Hanoi\\n\\t\\t\\t\\n\\n\\n\\n\\n\\n\\t\\t\\t\\t\\t\\t|\\n\\t\\t\\t\\t\\t\\n\\n\\n\\t\\t\\t\\t\\t\\t30 minuten\\n\\n\\n\\n\\n\\n\\n\\n\\n\\n\\n\\n\\n\\n\\ntỏi dấm\\n\\n\\t\\t\\t\\tKnoblauch Chili Essig - Toi Dam\\n\\t\\t\\t\\n\\n\\n\\n\\n\\n\\t\\t\\t\\t\\t\\t|\\n\\t\\t\\t\\t\\t\\n\\n\\n\\t\\t\\t\\t\\t\\t30 Minuten\\n\\n\\n\\n\\n\\n\\n\\n\\n\\n\\n\\n\\n\\n\\nbò viên\\n\\n\\t\\t\\t\\tWie macht man Fleischbällchen für die Pho Bo Vien?\\n\\t\\t\\t\\n\\n\\n\\n\\n\\n\\t\\t\\t\\t\\t\\t|\\n\\t\\t\\t\\t\\t\\n\\n\\n\\t\\t\\t\\t\\t\\t30 Minuten\\n\\n\\n\\n\\n\\n\\n\\n\\n\\n\\n\\n\\n\\n\\nPhojito\\n\\n\\t\\t\\t\\tHanoi Pho Cocktail\\n\\t\\t\\t\\n\\n\\n\\n\\n\\n\\t\\t\\t\\t\\t\\t|\\n\\t\\t\\t\\t\\t\\n\\n\\n\\t\\t\\t\\t\\t\\t10 Minuten\\n\\n\\n\\n\\n\\n\\n\\n\\n\\n\\n\\n\\n\\n\\n\\n\\n\\nPho Box Hanoi\\n\\n\\nVietnams bekannteste Suppe: super lecker & gesund\\nMit unserer Pho Box Hanoi in wenigen Minuten zubereitet\\nMit Premium Zutaten und eigenem BIO Pho Gewürz\\nUnd easy asia Rezeptkarte für perfektes Gelingen\\n\\n\\nJetzt entdecken\\n\\n\\n\\n\\n\\n\\n\\n\\n\\n\\n\\nWeitere Rezepte aus\\n\\t\\t\\t\\t\\tvietnam\\n\\t\\t\\t\\t\\tentdecken\\n\\n\\n\\n\\n\\n\\n\\n\\n\\n\\n\\nBún Thang\\n\\n\\t\\t\\t\\tNudelsuppe Vier Himmelsrichtungen\\n\\t\\t\\t\\n\\n\\n\\n\\n\\n\\t\\t\\t\\t\\t\\t50 Minuten\\n\\n\\n\\n\\n\\n\\n\\n\\n\\n\\n\\n\\nphở bò Sài Gòn\\n\\n\\t\\t\\t\\tPho Bo Saigon - Vietnamesische Nudelsuppe\\n\\t\\t\\t\\n\\n\\n\\n\\n\\n\\t\\t\\t\\t\\t\\t|\\n\\t\\t\\t\\t\\t\\n\\n\\n\\t\\t\\t\\t\\t\\t30 Minuten + 4-6 Stunden Kochzeit für die Brühe\\n\\n\\n\\n\\n\\n\\n\\n\\n\\n\\n\\n\\nSữa chua cà phê \\n\\n\\t\\t\\t\\tSua Chua Ca Phe - Joghurt Kaffee aus Vietnam\\n\\t\\t\\t\\n\\n\\n\\n\\n\\n\\t\\t\\t\\t\\t\\t|\\n\\t\\t\\t\\t\\t\\n\\n\\n\\t\\t\\t\\t\\t\\t5 Minuten\\n\\n\\n\\n\\n\\n\\n\\n\\n\\n\\n\\n\\nPHỞ BÒ\\n\\n\\t\\t\\t\\tPho Bo: schnelles, einfaches und leckeres Rezept\\n\\t\\t\\t\\n\\n\\n\\n\\n\\n\\t\\t\\t\\t\\t\\t|\\n\\t\\t\\t\\t\\t\\n\\n\\n\\t\\t\\t\\t\\t\\t30 Minuten\\n\\n\\n\\n\\n\\n\\n\\n\\n\\n\\n\\n\\nBánh trôi\\n\\n\\t\\t\\t\\tSüsse Bällchen aus Klebreis\\n\\t\\t\\t\\n\\n\\n\\n\\n\\n\\t\\t\\t\\t\\t\\t|\\n\\t\\t\\t\\t\\t\\n\\n\\n\\t\\t\\t\\t\\t\\t50 Minuten\\n\\n\\n\\n\\n\\n\\n\\n\\n\\n\\n\\n\\nphở xào giòn\\n\\n\\t\\t\\t\\tPho Pizza\\n\\t\\t\\t\\n\\n\\n\\n\\n\\n\\t\\t\\t\\t\\t\\t1 Stunde\\n\\n\\n\\n\\n\\n\\n\\n\\n\\n\\n\\n\\n\\nSTORIES\\nWer steckt hinter asiastreetfood?\\n\\n\\n\\n\\t\\t\\t\\t\\t\\tAlles über Simi & Stefan\\n\\t\\t\\t\\t\\t\\nWeitere Stories\\n\\n\\n\\n\\n\\n\\n\\n\\n\\n\\n\\nKostenlose Lieferung\\nab 49€ innerhalb Deutschlands\\n\\n\\n\\nSchnelle Lieferung\\nin nur 2-3 Tagen bei dir Zuhause\\n\\n\\n\\nExperten\\nfür asiatische Küche in Deutschland\\n\\n\\n\\nSicher einkaufen\\n4,89/5 Sternen bei Trusted Shops\\n\\n\\n\\n\\n\\n\\n\\n\\n\\n\\n\\n\\n\\n\\n\\n\\n\\n\\n\\n\\n\\n\\n\\n\\n\\n\\n\\nProduktkategorien\\n\\n\\n\\n\\n\\nNeu im Shop\\n\\n\\n\\nPremium Asia Kochboxen\\n\\n\\n\\nWok & Co\\n\\n\\n\\n\\n\\n\\n\\nSaucen\\n\\n\\n\\nNudeln, Reis, Tofu\\n\\n\\n\\n\\n\\n\\n\\nGetränke\\n\\n\\n\\nKochbücher\\n\\n\\n\\n\\n\\n\\t\\t\\t\\t\\tZur Rezeptübersicht\\n\\t\\t\\t\\t\\n\\n\\n\\n\\n\\n\\n\\n\\n\\n\\n\\n\\nZahlung\\n\\t\\t\\t\\t\\t\\t\\t\\t\\t\\t\\t\\t\\t\\t\\t\\t\\t\\n\\n\\nVersand & Lieferung\\n\\t\\t\\t\\t\\t\\t\\t\\t\\t\\t\\t\\t\\t\\t\\t\\t\\t\\n\\n\\nWiderrufsrecht\\n\\t\\t\\t\\t\\t\\t\\t\\t\\t\\t\\t\\t\\t\\t\\t\\t\\t\\n\\n\\n\\n\\n\\n\\n\\n\\n\\n\\n\\n\\n\\n\\n\\n\\n\\n\\n\\n\\n\\n\\n\\n\\n\\n\\n\\n\\n\\n\\n\\n\\n\\n\\n\\n\\n\\n\\t\\t\\t\\t\\t* inkl. MwSt zuzüglich Versandkosten nach unseren\\n\\t\\t\\t\\t\\tVersandbedingungen\\n\\n\\t\\t\\t\\t\\t** Auslandslieferungen siehe die jeweilige Regelung pro Land unter\\n\\t\\t\\t\\t\\tVersandbedingungen\\n\\n© Copyright\\n\\t\\t\\t\\t\\t2025\\n\\t\\t\\t\\t\\t- asiastreetfood - Simi & Stefan\\n\\t\\t\\t\\t\\t\\t\\t\\t\\t\\t\\t\\t\\t\\t\\t\\t\\t\\t\\t\\t\\t\\t\\t\\t\\t\\t\\t\\t\\t\\t\\t\\t\\t\\t\\t\\t\\t\\t\\t\\t\\t\\t\\t\\t\\t\\t\\t\\t\\t\\t\\t\\t\\t\\t\\t\\t\\t\\t\\t\\t\\t\\t\\t\\t\\t\\t\\t\\t\\t\\t\\t\\t\\t\\t\\t\\t\\t\\t\\t\\t\\t\\t\\t\\t\\t\\t\\t\\t\\t\\t\\t\\t\\t\\t\\t\\t\\t\\t\\t\\t\\t\\t\\t\\t\\t\\t\\t\\t\\t\\t\\t\\t\\t\\t\\t\\t\\t\\t\\t\\t\\t\\t\\t\\t\\t\\t\\t\\t\\t\\t\\t\\t\\t\\t\\t\\t\\t\\t\\t\\t\\t\\t\\t\\t\\t\\t\\t\\t\\t\\t\\t\\t\\t\\t\\t\\t\\t\\t\\t\\t\\t\\t\\t\\t\\t\\t\\t\\t\\t\\t\\t\\t\\t\\t\\t\\t\\t\\t\\t\\t\\t\\t\\t\\t\\t\\t\\t\\t\\t\\t\\t\\t\\t\\t\\t\\t\\t\\t\\t\\t\\t\\t\\t\\t\\t\\t\\t\\t\\t\\t\\t\\t\\t\\t\\t\\t\\t\\t\\t\\t\\t\\t\\t\\t\\t\\t\\t\\t\\t\\t\\t\\t\\t\\t\\t\\t\\t\\t\\t\\t\\t\\t\\t\\t\\t\\t\\t\\t\\t\\t\\t\\t\\t\\t\\t\\t\\t\\t\\t\\t\\t\\t\\t\\t\\t\\t\\t\\t\\t\\t\\t\\t\\t\\t\\t\\t\\t\\t\\t\\t\\t\\t\\t\\t\\t\\t\\t\\t\\t\\t\\t\\t\\t\\t\\t\\t\\t\\t\\t\\t\\t\\t\\t\\t\\t\\t\\t\\t\\t\\t\\t\\t\\t\\t\\t\\t\\t\\t\\t\\t\\t\\t\\t\\t\\t\\t\\t\\t\\t\\t\\t\\t\\t\\t\\t\\t\\t\\t\\t\\t\\t\\t\\t\\t\\t\\t\\t\\t\\t\\t\\t\\t\\t\\t\\t\\t\\t\\t\\t\\t\\t\\t\\t\\t\\t\\t\\t\\t\\t\\t\\t\\t\\t\\t\\t\\t\\t\\t\\t\\t\\t\\t\\t\\t\\t\\t\\t\\t\\t\\t\\t\\t\\t\\t\\t\\t\\t\\t\\t\\t\\t\\t\\t\\t\\t\\t\\t\\t\\t\\t\\t\\t\\t\\t\\t\\t\\t\\t\\t\\t\\t\\t\\t\\t\\t\\t\\t\\t\\t\\t\\t\\t\\t\\t\\t\\t\\t\\t\\t\\t\\t\\t\\t\\t\\t\\t\\t\\t\\t\\t\\t\\t\\t\\t\\t\\t\\t\\t\\t\\t\\t\\t\\t\\t\\t\\t\\t\\t\\t\\t\\t\\t\\t\\t\\t\\t\\t\\t\\t\\t\\t\\t\\t\\t\\t\\t\\t\\t\\t\\t\\t\\t\\t\\t\\t\\t\\t\\t\\t\\t\\t\\t\\t\\t\\t\\t\\t\\t\\t\\t\\t\\t\\t\\t\\t\\t\\t\\t\\t\\t\\t\\t\\t\\t\\t\\t\\t\\t\\t\\t\\t\\t\\t\\t\\t\\t\\t\\t\\t\\t\\t\\t\\t\\t\\t\\t\\t\\t\\t\\t\\t\\t\\t\\t\\t\\t\\t\\t\\t\\t\\t\\t\\t\\t\\t\\t\\t\\t\\t\\t\\t\\t\\t\\t\\t\\t\\t\\t\\t\\t\\t\\t\\t\\t\\t\\t\\t\\t\\t\\t\\t\\t\\t\\t\\t\\t\\t\\t\\t\\t\\t\\t\\t\\t\\t\\t\\t\\t\\t\\t\\t\\t\\t\\t\\t\\t\\t\\t\\t\\t\\t\\t\\t\\t\\t\\t\\t\\t\\t\\t\\t\\t\\t\\t\\t\\t\\t\\t\\t\\t\\t\\t\\t\\t\\t\\t\\t\\t\\t\\t\\t\\t\\t\\t\\t\\t\\t\\t\\t\\t\\t\\t\\t\\t\\t\\t\\t\\t\\t\\t\\t\\t\\t\\t\\t\\t\\t\\t\\t\\t\\t\\t\\t\\t\\t\\t\\t\\t\\t\\t\\t\\t\\t\\t\\t\\t\\t\\t\\t\\t\\t\\t\\t\\t\\t\\t\\t\\t\\t\\t\\t\\t\\t\\t\\t\\t\\t\\t\\t\\t\\t\\t\\t\\t\\t\\t\\t\\t\\t\\t\\t\\t\\t\\t\\t\\t\\t\\t\\t\\t\\t\\t\\t\\t\\t\\t\\t\\t\\t\\t\\t\\t\\t\\t\\t\\t\\t\\t\\t\\t\\t\\t\\t\\t\\t\\t\\t\\t\\t\\t\\t\\t\\t\\t\\t\\t\\t\\t\\t\\t\\t\\t\\t\\t\\t\\t\\t\\t\\t\\t\\t\\t\\t\\t\\t\\t\\t\\t\\t\\t\\t\\t\\t\\t\\t\\t\\t\\t\\t\\t\\t\\t\\t\\t\\t\\t\\t\\t\\t\\t\\t\\t\\t\\t\\t\\t\\t\\t\\t\\t\\t\\t\\t\\t\\t\\t\\t\\t\\t\\t\\t\\t\\t\\t\\t\\t\\t\\t\\t\\t\\t\\t\\t\\t\\t\\t\\t\\t\\t\\t\\t\\t\\t\\t\\t\\t\\t\\t\\t\\t\\t\\t\\t\\t\\t\\t\\t\\t\\t\\t\\t\\t\\t\\t\\t\\t\\t\\t\\t\\t\\t\\t\\t\\t\\t\\t\\t\\t\\t\\t\\t\\t\\t\\t\\t\\t\\t\\t\\t\\t\\t\\t\\t\\t\\t\\t\\t\\t\\t\\t\\t\\t\\t\\t\\t\\t\\t\\t\\t\\t\\t\\t\\t\\t\\t\\t\\t\\t\\t\\t\\t\\t\\t\\t\\t\\t\\t\\t\\t\\t\\t\\t\\t\\t\\t\\t\\t\\t\\t\\t\\t\\t\\t\\t\\t\\t\\t\\t\\t\\t\\t\\t\\t\\t\\t\\t\\t\\t\\t\\t\\t\\t\\t\\t\\t\\t\\t\\t\\t\\t\\t\\t\\t\\t\\t\\t\\t\\t\\t\\t\\t\\t\\t\\t\\t\\t\\t\\t\\t\\t\\t\\t\\t\\t\\t\\t\\t\\t\\t\\t\\t\\t\\t\\t\\t\\t\\t\\t\\t\\t\\t\\t\\t\\t\\t\\t\\t\\t\\t\\t\\t\\t\\t\\t\\t\\t                    Leistner\\n\\t\\t\\t\\t\\t\\n\\t\\t\\t\\t\\tEntwicklung:\\n\\t\\t\\t\\t\\tMax\\n\\t\\t\\t\\t\\t\\t\\t\\t\\t\\t\\t\\t\\t\\t\\t\\t\\t\\t\\t\\t\\t\\t\\t\\t\\t\\t\\t\\t\\t\\t\\t\\t\\t\\t\\t\\t\\t\\t\\t\\t\\t\\t\\t\\t\\t\\t\\t\\t\\t\\t\\t\\t\\t\\t\\t\\t\\t\\t\\t\\t\\t\\t\\t\\t\\t\\t\\t\\t\\t\\t\\t\\t\\t\\t\\t\\t\\t\\t\\t\\t\\t\\t\\t\\t\\t\\t\\t\\t\\t\\t\\t\\t\\t\\t\\t\\t\\t\\t\\t\\t\\t\\t\\t\\t\\t\\t\\t\\t\\t\\t\\t\\t\\t\\t\\t\\t\\t\\t\\t\\t\\t\\t\\t\\t\\t\\t\\t\\t\\t\\t\\t\\t\\t\\t\\t\\t\\t\\t\\t\\t\\t\\t\\t\\t\\t\\t\\t\\t\\t\\t\\t\\t\\t\\t\\t\\t\\t\\t\\t\\t\\t\\t\\t\\t\\t\\t\\t\\t\\t\\t\\t\\t\\t\\t\\t\\t\\t\\t\\t\\t\\t\\t\\t\\t\\t\\t\\t\\t\\t\\t\\t\\t\\t\\t\\t\\t\\t\\t\\t\\t\\t\\t\\t\\t\\t\\t\\t\\t\\t\\t\\t\\t\\t\\t\\t\\t\\t\\t\\t\\t\\t\\t\\t\\t\\t\\t\\t\\t\\t\\t\\t\\t\\t\\t\\t\\t\\t\\t\\t\\t\\t\\t\\t\\t\\t\\t\\t\\t\\t\\t\\t\\t\\t\\t\\t\\t\\t\\t\\t\\t\\t\\t\\t\\t\\t\\t\\t\\t\\t\\t\\t\\t\\t\\t\\t\\t\\t\\t\\t\\t\\t\\t\\t\\t\\t\\t\\t\\t\\t\\t\\t\\t\\t\\t\\t\\t\\t\\t\\t\\t\\t\\t\\t\\t\\t\\t\\t\\t\\t\\t\\t\\t\\t\\t\\t\\t\\t\\t\\t\\t\\t\\t\\t\\t\\t\\t\\t\\t\\t\\t\\t\\t\\t\\t\\t\\t\\t\\t\\t\\t\\t\\t\\t\\t\\t\\t\\t\\t\\t\\t\\t\\t\\t\\t\\t\\t\\t\\t\\t\\t\\t\\t\\t\\t\\t\\t\\t\\t\\t\\t\\t\\t\\t\\t\\t\\t\\t\\t\\t\\t\\t\\t\\t\\t\\t\\t\\t\\t\\t\\t\\t\\t\\t\\t\\t\\t\\t\\t\\t\\t\\t\\t\\t\\t\\t\\t\\t\\t\\t\\t\\t\\t\\t\\t\\t\\t\\t\\t\\t\\t\\t\\t\\t\\t\\t\\t\\t\\t\\t\\t\\t\\t\\t\\t\\t\\t\\t\\t\\t\\t\\t\\t\\t\\t\\t\\t\\t\\t\\t\\t\\t\\t\\t\\t\\t\\t\\t\\t\\t\\t\\t\\t\\t\\t\\t\\t\\t\\t\\t\\t\\t\\t\\t\\t\\t\\t\\t\\t\\t\\t\\t\\t\\t\\t\\t\\t\\t\\t\\t\\t\\t\\t\\t\\t\\t\\t\\t\\t\\t\\t\\t\\t\\t\\t\\t\\t\\t\\t\\t\\t\\t\\t\\t\\t\\t\\t\\t\\t\\t\\t\\t\\t\\t\\t\\t\\t\\t\\t\\t\\t\\t\\t\\t\\t\\t\\t\\t\\t\\t\\t\\t\\t\\t\\t\\t\\t\\t\\t\\t\\t\\t\\t\\t\\t\\t\\t\\t\\t\\t\\t\\t\\t\\t\\t\\t\\t\\t\\t\\t\\t\\t\\t\\t\\t\\t\\t\\t\\t\\t\\t\\t\\t\\t\\t\\t\\t\\t\\t\\t\\t\\t\\t\\t\\t\\t\\t\\t\\t\\t\\t\\t\\t\\t\\t\\t\\t\\t\\t\\t\\t\\t\\t\\t\\t\\t\\t\\t\\t\\t\\t\\t\\t\\t\\t\\t\\t\\t\\t\\t\\t\\t\\t\\t\\t\\t\\t\\t\\t\\t\\t\\t\\t\\t\\t\\t\\t\\t\\t\\t\\t\\t\\t\\t\\t\\t\\t\\t\\t\\t\\t\\t\\t\\t\\t\\t\\t\\t\\t\\t\\t\\t\\t\\t\\t\\t\\t\\t\\t\\t\\t\\t\\t\\t\\t\\t\\t\\t\\t\\t\\t\\t\\t\\t\\t\\t\\t\\t\\t\\t\\t\\t\\t\\t\\t\\t\\t\\t\\t\\t\\t\\t\\t\\t\\t\\t\\t\\t\\t\\t\\t\\t\\t\\t\\t\\t\\t\\t\\t\\t\\t\\t\\t\\t\\t\\t\\t\\t\\t\\t\\t\\t\\t\\t\\t\\t\\t\\t\\t\\t\\t\\t\\t\\t\\t\\t\\t\\t\\t\\t\\t\\t\\t\\t\\t\\t\\t\\t\\t\\t\\t\\t\\t\\t\\t\\t\\t\\t\\t\\t\\t\\t\\t\\t\\t\\t\\t\\t\\t\\t\\t\\t\\t\\t\\t\\t\\t\\t\\t\\t\\t\\t\\t\\t\\t\\t\\t\\t\\t\\t\\t\\t\\t\\t\\t\\t\\t\\t\\t\\t\\t\\t\\t\\t\\t\\t\\t\\t\\t\\t\\t\\t\\t\\t\\t\\t\\t\\t\\t\\t\\t\\t\\t\\t\\t\\t\\t\\t\\t\\t\\t\\t\\t\\t\\t\\t\\t\\t\\t\\t\\t\\t\\t\\t\\t\\t\\t\\t\\t\\t\\t\\t\\t\\t\\t\\t\\t\\t\\t\\t\\t\\t\\t\\t\\t\\t\\t\\t\\t\\t\\t\\t\\t\\t\\t\\t\\t\\t\\t\\t\\t\\t\\t\\t\\t\\t\\t\\t\\t\\t\\t\\t\\t\\t\\t\\t\\t\\t\\t\\t\\t\\t\\t\\t\\t\\t\\t\\t\\t\\t\\t\\t\\t\\t\\t\\t\\t\\t\\t\\t\\t\\t\\t\\t\\t\\t\\t\\t\\t\\t\\t\\t\\t\\t\\t\\t\\t\\t\\t\\t\\t\\t\\t\\t\\t\\t\\t\\t\\t\\t\\t\\t\\t\\t\\t\\t\\t\\t\\t\\t\\t\\t\\t\\t\\t\\t\\t\\t\\t\\t\\t\\t\\t\\t\\t\\t\\t\\t\\t\\t\\t\\t\\t\\t\\t\\t\\t\\t\\t\\t\\t\\t\\t\\t\\t\\t\\t\\t\\t\\t\\t\\t\\t\\t\\t\\t\\t\\t\\t\\t\\t\\t\\t\\t\\t\\t\\t\\t\\t\\t\\t\\t\\t\\t\\t\\t\\t\\t\\t\\t\\t\\t\\t\\t\\t\\t\\t\\t\\t\\t\\t\\t\\t\\t\\t\\t\\t\\t\\t\\t\\t\\t\\t\\t\\t\\t\\t\\t\\t\\t\\t\\t\\t\\t\\t\\t\\t\\t\\t\\t\\t\\t\\t\\t\\t\\t\\t\\t\\t\\t\\t\\t\\t\\t\\t\\t\\t\\t\\t\\t\\t\\t\\t\\t\\t\\t\\t\\t\\t\\t\\t\\t\\t\\t\\t\\t\\t\\t\\t\\t\\t\\t\\t\\t\\t\\t\\t\\t\\t\\t\\t\\t\\t\\t\\t\\t\\t\\t\\t\\t\\t\\t\\t\\t\\t\\t\\t\\t\\t\\t\\t\\t\\t\\t\\t\\t\\t\\t\\t\\t\\t\\t\\t\\t\\t\\t\\t\\t\\t\\t\\t\\t\\t\\t\\t\\t\\t\\t\\t\\t\\t\\t\\t\\t\\t\\t\\t\\t\\t\\t\\t\\t\\t\\t\\t\\t\\t\\t\\t\\t\\t\\t\\t\\t\\t\\t\\t\\t\\t\\t\\t\\t\\t\\t\\t\\t\\t\\t\\t\\t\\t\\t\\t\\t\\t\\t\\t\\t\\t\\t\\t\\t\\t\\t\\t\\t\\t\\t\\t\\t\\t\\t\\t\\t\\t\\t                        Leistner\\n\\t\\t\\t\\t\\t| Design:\\n\\t\\t\\t\\t\\tLeila Ebert\\n\\n\\n\\n\\n\\n\\nImpressum\\n\\t\\t\\t\\t\\t\\t\\t\\t\\t\\t\\t\\t\\t\\t\\t\\t\\t\\n\\n\\nDatenschutz\\n\\t\\t\\t\\t\\t\\t\\t\\t\\t\\t\\t\\t\\t\\t\\t\\t\\t\\n\\n\\nAGB\\n\\t\\t\\t\\t\\t\\t\\t\\t\\t\\t\\t\\t\\t\\t\\t\\t\\t\\n\\n\\nCookies anpassen\\n\\t\\t\\t\\t\\t\\t\\t\\t\\t\\t\\t\\t\\t\\t\\t\\t\\t\\n\\n\\nFAQ\\n\\t\\t\\t\\t\\t\\t\\t\\t\\t\\t\\t\\t\\t\\t\\t\\t\\t\\n\\n\\nNewsletter\\n\\t\\t\\t\\t\\t\\t\\t\\t\\t\\t\\t\\t\\t\\t\\t\\t\\t\\n\\n\\n\\n\\n\\n\\n\\n\\n\\n\\n\\n\\n\\n\\n\\n\\n\\n\\n\\n\\n\\n \\n\\n\\n\\n\\n\\nZertifiziert nach DE-ÖKO-003\\n\\n\\n\\n\\n\\n\\n\\n\\n\\n\\n\\n\\n\\n\\n\\n\\n\\n\\n\\n\\n\\n\\n\\n\\n\\n\\n\\n\\n\\n\\n\\n\\n\\n\\n\\n\\n\\n\\n            SUCHBEGRIFF EINGEBEN UND \"ENTER\" DRÜCKEN.\\n\"ESC\" DRÜCKEN ZUM ABBRECHEN.\\n        \\n\\n\\n\\n\\n\\n\\n\\n\\n\\n\\n\\n\\n\\n \\n\\n\\n\\n\\n\\n\\n\\n\\n\\n\\n\\n\\n\\n\\n\\n\\n\\n\\n\\n\\n\\n\\n\\n\\n\\n\\n\\n\\n\\n\\n\\n\\n\\n\\n\\n\\n\\n\\n\\n\\n\\n\\n\\n\\n\\n\\n\\n\\n\\n\\n\\n\\n\\n\\n\\n\\n\\n\\n\\n\\n\\n\\n\\n', path=None, url=None, mimetype=None), image_resource=None, audio_resource=None, video_resource=None, text_template='{metadata_str}\\n\\n{content}')])\n",
      "\u001B[0m> Running step 86177f05-dda1-4cc1-87ef-bbd0d0a26b3c. Step input: None\n",
      "\u001B[1;3;38;5;200mThought: (Implicit) I can answer without any more tools!\n",
      "Answer: Die bereitgestellte Information scheint ein HTML-Code zu sein, der wahrscheinlich für eine Website oder ein Web-Angebot verwendet werden soll. Der Code enthält Informationen über die Website, wie zum Beispiel den Impressum, Datenschutz, AGB und Newsletter. Es gibt auch Links zu verschiedenen Funktionen wie Cookies anpassen, FAQ und Newsletter.\n",
      "\n",
      "Da keine spezifischen Fragen oder Anforderungen gestellt wurden, kann ich Ihnen nur allgemeine Informationen geben, wie zum Beispiel:\n",
      "\n",
      "* Der Code enthält Metadaten wie \"Impressum\", \"Datenschutz\", \"AGB\" und \"Newsletter\", die wahrscheinlich für eine Website verwendet werden sollen.\n",
      "* Es gibt Links zu verschiedenen Funktionen wie Cookies anpassen, FAQ und Newsletter.\n",
      "\n",
      "Wenn Sie spezifische Fragen oder Anforderungen haben, können Sie diese bitte präzisieren, damit ich Ihnen besser helfen kann.\n",
      "\u001B[0mDie bereitgestellte Information scheint ein HTML-Code zu sein, der wahrscheinlich für eine Website oder ein Web-Angebot verwendet werden soll. Der Code enthält Informationen über die Website, wie zum Beispiel den Impressum, Datenschutz, AGB und Newsletter. Es gibt auch Links zu verschiedenen Funktionen wie Cookies anpassen, FAQ und Newsletter.\n",
      "\n",
      "Da keine spezifischen Fragen oder Anforderungen gestellt wurden, kann ich Ihnen nur allgemeine Informationen geben, wie zum Beispiel:\n",
      "\n",
      "* Der Code enthält Metadaten wie \"Impressum\", \"Datenschutz\", \"AGB\" und \"Newsletter\", die wahrscheinlich für eine Website verwendet werden sollen.\n",
      "* Es gibt Links zu verschiedenen Funktionen wie Cookies anpassen, FAQ und Newsletter.\n",
      "\n",
      "Wenn Sie spezifische Fragen oder Anforderungen haben, können Sie diese bitte präzisieren, damit ich Ihnen besser helfen kann.\n"
     ]
    }
   ],
   "execution_count": 89
  },
  {
   "metadata": {
    "ExecuteTime": {
     "end_time": "2025-04-03T13:37:50.700597Z",
     "start_time": "2025-04-03T13:37:50.697560Z"
    }
   },
   "cell_type": "code",
   "source": "chat_files",
   "id": "717206a14e889852",
   "outputs": [
    {
     "data": {
      "text/plain": [
       "[Document(id_='https://thewoksoflife.com/pho-vietnamese-noodle-soup/', embedding=None, metadata={'file_id': '8e0a2089-4da9-48f3-8cb3-d39f955923f0'}, excluded_embed_metadata_keys=[], excluded_llm_metadata_keys=[], relationships={}, metadata_template='{key}: {value}', metadata_separator='\\n', text_resource=MediaResource(embeddings=None, data=None, text=\"\\n\\n\\n\\n\\n\\n\\n\\n\\n\\n\\n\\n\\n\\n\\n\\n\\n\\n\\n\\n\\n\\n\\n\\n\\n\\n\\n\\n\\n\\n\\nPho Recipe (Vietnamese Noodle Soup) - The Woks of Life\\n\\n\\n\\n\\n\\n\\n\\n\\n\\n\\n\\n\\n\\n\\n\\n\\n\\n\\n\\n\\n\\n\\n\\n\\n\\n\\n\\n\\n\\n\\n\\n \\n\\n\\n\\n\\n\\n\\n\\n\\n\\n\\n\\n\\n\\n\\n\\n\\n\\n\\n\\n\\n\\n\\n\\n\\n\\n\\n\\n\\n\\n\\n\\n\\n\\n\\n\\n\\n\\n \\n\\n\\n\\n\\n\\n Skip to primary navigation Skip to privacy navigation Skip to recipes navigation Skip to main content Skip to primary sidebar\\n\\n\\n\\n\\nFacebook\\nInstagram\\nPinterest\\nYouTube\\n\\n\\n\\n\\nSearch\\n\\n\\n\\nThe Woks of Lifea culinary genealogyMain Menu\\n\\n\\nDisplay Search Bar\\n\\nSurprise Me!\\n\\n\\nSearch\\n\\nRecipes\\n\\nRecipe Index\\nAll Posts by Date\\nOur Cookbook: NOW AVAILABLE!\\nVideos\\n\\n\\nHow-To\\n\\nCooking Methods\\nCooking Tools\\nWok Guide\\nGarden/Farm\\nCulture\\n\\n\\nIngredients\\n\\nChinese Ingredients Glossary\\nSauces, Wines, Vinegars & Oils\\nSpices & Seasonings\\nDried, Cured & Pickled Ingredients\\nNoodles & Wrappers\\nRice, Grains, Flours & Starches\\nTofu, Bean Curd & Seitan\\nVegetables & Fungi\\nFresh Herbs & Aromatics\\n\\n\\nLife & Travel\\n\\nFamily Life\\nTravel With Us\\n\\n\\nAbout Us\\nContact\\n\\nPress\\nWork with Us\\nSend Us A Message\\n\\n\\n\\n\\n\\nFacebook\\nInstagram\\nPinterest\\nYouTube\\n\\n\\n\\n\\n\\n\\n\\nJoin Our Newsletter And Receive Our Free Top 25 Recipes Book!\\nSubscribe\\n\\n\\n\\n\\n\\n\\nTap here to receive our FREE top 25 recipe book!\\n\\n\\n\\n\\nHome  Recipes  Noodles & Pasta  Pho (Vietnamese Noodle Soup)Pho (Vietnamese Noodle Soup)\\n\\n\\n\\n\\n\\nby: Sarah\\n 442 Comments \\n\\n\\n\\nJump to Recipe \\n\\n\\n\\nPosted:9/05/2023Updated:9/05/2023\\n\\n\\n\\nPho (Vietnamese Noodle Soup) has long been one of my absolute favorite things to eat. There has been more than one occasion in which I have actually gotten in my car and driven over 45 minutes for the express purpose of indulging in good bowl of the stuff, which is why this pho recipe is sorely needed.\\nNote: We originally published this recipe in March 2015. We have since added clearer photos, nutrition info, and metric measurements. The recipe has been tested by us and many readers and approved by Vietnamese friends, so it remains the same!\\xa0\\nWhat Is Pho?\\nPho (I found out in college that it’s actually pronounced “fuh.” For someone who’d been shamelessly calling it “foe” for eighteen years, this was an embarrassing revelation) is a noodle soup hailing from Vietnam that’s often made with beef and topped with awesome things like fresh bean sprouts, basil, and chilies.\\nThere’s just something about it—the fragrant beef broth, the slightly chewy rice noodles, and all the aromatic toppings (the squeeze of lime at the end is the BEST)—that seriously justifies a 90-minute roundtrip drive.\\nThe Quest For a Great Broth\\nA bowl of pho is only as good as the broth. There’s no trick to the noodles, really, and the beef is often added to the soup raw. The other vegetable and herb toppings are ALL added to the soup raw.\\nIn short? No broth, no bacon.\\nI never really thought it would be realistic to make it myself at home. Chalk it up to a cynical but somewhat substantiated opinion that no broth I could make at home would ever taste as good as the restaurant equivalent.\\nWe decided to take a stab at it anyway, and the results were awesome. I also talked with a Vietnamese friend/mom who cooks this dish on a regular basis for her family and got all the tips!\\xa0Her kids are in college, but she says they always come home for her pho!\\nThere is a bit of prep involved to get the broth going, but after that, it’s just a long, slow simmer until you’re ready to assemble the dish.\\n4 Key Steps to Make Pho Broth\\nHere are the 4 steps and secrets to making a proper beef pho broth:\\n\\nPre-boiling the beef bones and meat\\nCharring the ginger and onions\\nToasting the spices\\nAdding fish sauce (said Vietnamese friend told me that one of the secrets to a great pho recipe is to not add salt, and instead add enough fish sauce to bring the broth to the correct level of saltiness.)\\n\\nI know, it’s a lot of fish sauce! However, she said that this method tastes the best, but most people don’t do it because fish sauce is so expensive.\\nShe also mentioned, rather proudly, that the Vietnamese brands of fish sauce are much more flavorful (and expensive at $9-$12 a bottle) than the Thai brands most people buy. Which is just food for thought.\\nIn accordance with this insider information, feel free to add more fish sauce to the broth and decrease the amount of salt. As is our mantra here at The Woks of Life, it’s all up to your own taste preferences! \\nOh, and definitely buy a high quality fish sauce for this pho recipe. It will only make your broth better! We like Red Boat! \\n\\n\\nPho Recipe Instructions\\nMaking the Broth\\nPlace the bones and beef chuck in large stockpot, and add water to cover. Bring to a boil, and boil for 5 minutes. Drain in a colander and thoroughly clean the stockpot. This process removes any impurities/scum, and will give you a much cleaner broth.\\nMeanwhile, char your ginger and onions. Use tongs to hold the ginger and onions (one at a time) over an open flame, or place each directly on a gas burner. (You can also do this on a grill.)\\nTurn until they’re lightly blackened and fragrant, about 5 minutes. Rinse away all the blackened skins.\\n\\n\\nAdd 5 quarts fresh water back to the stockpot and bring to a boil. Transfer the bones and meat back to the pot, along with the charred/cleaned ginger and onions. Add the scallions, fish sauce and rock sugar. Reduce the heat to low, and simmer until the beef chuck is tender, about 40 minutes. Skim the surface often to remove any foam and fat.\\nRemove one piece of the chuck and transfer to a bowl of ice water to stop the cooking process. Then transfer this piece of beef to a container and refrigerate (you will slice this to serve with your pho later. If you were to leave it in the pot, it would be too dry to eat). Leave the other piece of chuck in the pot to flavor the broth.\\nNow toast the spices (star anise, cloves, cinnamon stick, cardamom pod (if using), fennel seeds, and coriander seeds) in a dry pan over medium low heat for about 3 minutes, until fragrant. Use kitchen string to tie up the spices in a piece of cheesecloth, and add it to the broth.\\n\\n\\n\\n\\nCover the pot and continue simmering for another 4 hours. Add the salt and continue to simmer, skimming as necessary, until you’re ready to assemble the rest of the dish. Taste the broth and adjust seasoning by adding more salt, sugar, and/or fish sauce as needed.\\nAssembling the Pho\\nTo serve, boil the noodles according to package instructions. Add to a bowl. Place a few slices of the beef chuck and the raw sirloin on the noodles. Bring the broth to a rolling boil and ladle it into each bowl. The hot broth will cook the beef. \\nGarnish with your toppings—sliced chili, onion, scallions, cilantro, bean sprouts, and Thai basil, and be sure to take your lime wedges and squeeze a lot of fresh lime juice over the top! You can also add hoisin sauce and Sriracha if you like!\\n\\n\\nScroll down for the full list of ingredients and the recipe card.\\nShort on time? Check out our Instant Pot Pho recipe and our 20-Minute Chicken Pho recipe as well!\\n\\n\\nMmmm. Pho noodle pull!\\n\\n\\nLooking for more authentic recipes? Subscribe to our email list and be sure to follow us on Pinterest, Facebook, Instagram, and Youtube!\\n\\n\\n\\n\\n\\n\\n\\n4.96 from 85 votes\\n\\nPho Recipe\\nPho is a Vietnamese noodle soup topped with awesome things like fresh bean sprouts, basil, and chilies. This pho recipe was approved by a Vietnamese friend!\\n\\nby: Sarah\\n\\n\\n\\n\\nserves: 8 servings\\n\\n\\n\\n\\n\\nPrep: 30 minutes minutes\\nCook: 5 hours hours 30 minutes minutes\\nTotal: 6 hours hours\\n\\n\\n\\n\\n Print\\n\\n\\n \\n\\n\\n\\n\\n Rate\\n\\nIngredientsYou’ll need:▢ 2 3-inch (7 to 8 cm) pieces ginger, cut in half lengthwise  (no need to peel)▢ 2 onions (peeled)▢ 5 pounds beef marrow or knuckle bones▢ 2 pounds beef chuck (cut into 2 pieces)▢ 5 quarts water▢ 2 scallions (cut into 4-inch lengths)▢ 1/3 cup fish sauce▢ 2 ½ ounces rock sugar (2 1/2 tablespoons granulated sugar)▢ 8 star anise▢ 6 cloves▢ 1 cinnamon stick▢ 1 black cardamom pod (optional)▢ 2 teaspoons fennel seeds▢ 2 teaspoons coriander seeds▢ 1 tablespoon salt▢ 1 pound dried pho noodles▢ 1/3 pound beef sirloin (slightly frozen, then sliced paper-thin against the grain)Garnishes:▢ Sliced chili▢ Thinly sliced onion▢ Chopped scallions▢ Cilantro▢ Mung bean sprouts▢ Thai basil▢ Lime wedges▢ Hoisin sauce and/or Sriracha (optional)US Customary – Metric\\nInstructionsPlace the bones and beef chuck in large stockpot and add water to cover. Bring to a boil and boil for 5 minutes. Drain in a colander and thoroughly clean the stockpot. This process removes any impurities/scum and will give you a much cleaner broth.Meanwhile, char your ginger and onions. Use tongs to hold the ginger and onions (one at a time) over an open flame, or place each directly on a gas burner. Turn until they’re lightly blackened and fragrant, about 5 minutes. Rinse away all the blackened skins.Add water (5 quarts/4.75 L, or more/less if you've scaled the recipe up or down) to the stockpot and bring to a boil. Transfer the bones and meat back to the pot, along with the charred/cleaned ginger and onions. Add the scallions, fish sauce and sugar. Reduce the heat to low, and simmer until the beef chuck is tender, about 40 minutes. Skim the surface often to remove any foam and fat.Remove one piece of the chuck and transfer to a bowl of ice water to stop the cooking process. Then transfer this piece of beef to a container and refrigerate (you will slice this to serve with your pho later. If you were to leave it in the pot, it would be too dry to eat). Leave the other piece of chuck in the pot to flavor the broth.Now toast the spices (star anise, cloves, cinnamon stick, cardamom, fennel seeds, and coriander seeds) in a dry pan over medium low heat for about 3 minutes, until fragrant. Use kitchen string to tie up the spices in a piece of cheesecloth, and add it to the broth.Cover the pot and continue simmering for another 4 hours. Add the salt and continue to simmer, skimming as necessary, until you're ready to assemble the rest of the dish. Taste the broth and adjust seasoning by adding more salt, sugar, and/or fish sauce as needed.To serve, boil the noodles according to package instructions. Add to a bowl. Place a few slices of the beef chuck and the raw sirloin on the noodles. Bring the broth to a rolling boil and ladle it into each bowl. The hot broth will cook the beef. Garnish with your toppings, and be sure to squeeze a lot of fresh lime juice over the top!\\n\\n\\n\\n\\n\\nnutrition factsCalories: 495kcal (25%) Carbohydrates: 68g (23%) Protein: 30g (60%) Fat: 11g (17%) Saturated Fat: 5g (25%) Cholesterol: 69mg (23%) Potassium: 1106mg (32%) Fiber: 3g (12%) Sugar: 14g (16%) Vitamin A: 270IU (5%) Vitamin C: 14.9mg (18%) Calcium: 95mg (10%) Iron: 4.4mg (24%)\\n\\n\\n\\n\\n\\nnutritional info disclaimer\\n\\t\\t\\t\\t\\t\\t \\n\\n\\n\\n\\n\\nTheWoksofLife.com is written and produced for informational purposes only. While we do our best to provide nutritional information as a general guideline to our readers, we are not certified nutritionists, and the values provided should be considered estimates. Factors such as brands purchased, natural variations in fresh ingredients, etc. will change the nutritional information in any recipe. Various online calculators also provide different results, depending on their sources. To obtain accurate nutritional information for a recipe, use your preferred nutrition calculator to determine nutritional information with the actual ingredients and quantities used.\\n\\n\\n\\n\\n\\n\\n\\n\\n\\n\\n\\n\\n\\n\\n   Did You Make This?Tag us on Instagram @thewoksoflife, subscribe to our email list, and be sure to follow us on social for more recipes!\\n@thewoksoflife\\n\\n\\n\\nYou may also like…\\n\\n\\n\\n\\nSpicy Beef Noodle Soup\\n\\n\\n\\n\\nLanzhou Beef Noodle Soup\\n\\n\\n\\n\\nBraised Beef Noodle Soup (红烧牛肉面)\\n\\n\\n\\n\\nShanghai Home-style Noodle Soup\\n\\n\\n\\n\\n \\n\\n\\n\\n\\n \\n\\n\\n\\n\\n \\n\\n\\n\\n\\n \\n\\n\\n\\nAbout SarahSarah Leung is the eldest daughter in The Woks of Life family, working alongside younger sister Kaitlin and parents Bill and Judy. You could say this multigenerational recipe blog was born out of two things: 1) her realization in college that she had no idea how to make her mom’s Braised Pork Belly and 2) that she couldn’t find a job after graduation. With the rest of the family on board, she laid the groundwork for the blog in 2013. By 2015, it had become one of the internet’s most trusted resources for Chinese cooking. Creator of quick and easy recipes for harried home cooks and official Woks of Life photographer, Sarah loves creating accessible recipes that chase down familiar nostalgic flavors while adapting to the needs of modern home cooks. Alongside her family, Sarah has become a New York Times Bestselling author with their cookbook, The Woks of Life: Recipes to Know and Love from a Chinese American Family, as well as a James Beard Award nominee and IACP Award finalist.\\n\\n\\n\\n Previous PostThai Beef Salad\\n\\n\\nNext Post Miso Fish (Just 4 Ingredients!)\\n\\n\\n\\n \\n\\n\\n\\n\\n\\n Subscribe\\n\\n\\n\\n\\n\\n\\n\\n\\n\\nNotify of \\n\\n\\nnew follow-up comments\\nnew replies to my comments\\n\\n\\n\\n\\n\\n\\n\\n\\n \\n\\n\\n\\n\\n\\n\\n\\n \\n\\n\\nLabel\\n\\n\\n\\n\\n\\n\\n\\n\\n\\n\\nRate this recipe: \\n\\nRate this recipe:\\n\\n\\n\\n\\n\\n\\n\\n\\n\\n\\n\\n\\n\\n\\n\\n\\n\\n\\n\\n\\n\\n\\n\\n\\n\\n\\n\\n\\n\\n\\n\\n\\n\\n\\n\\n\\n\\n\\n\\n\\n\\n\\n\\n\\n\\n\\n\\n\\n\\n\\n\\n\\n\\n\\n\\n\\n\\n\\n \\n\\n\\n\\n\\n\\n\\n\\n\\n\\n\\nName*\\n\\n\\n\\n\\n\\nEmail*\\n\\n\\n\\n\\n\\n\\n\\n\\n\\n\\n\\nΔ \\n\\n\\n\\n\\n\\n\\n\\n\\n\\n\\n \\n\\n\\nLabel\\n\\n\\n\\n\\n\\n\\n\\n\\n\\n\\nRate this recipe: \\n\\nRate this recipe:\\n\\n\\n\\n\\n\\n\\n\\n\\n\\n\\n\\n\\n\\n\\n\\n\\n\\n\\n\\n\\n\\n\\n\\n\\n\\n\\n\\n\\n\\n\\n\\n\\n\\n\\n\\n\\n\\n\\n\\n\\n\\n\\n\\n\\n\\n\\n\\n\\n\\n\\n\\n\\n\\n\\n\\n\\n\\n\\n \\n\\n\\n\\n\\n\\n\\n\\n\\n\\n\\nName*\\n\\n\\n\\n\\n\\nEmail*\\n\\n\\n\\n\\n\\n\\n\\n\\n\\n\\n\\nΔ \\n\\n\\n\\nThis site uses Akismet to reduce spam. Learn how your comment data is processed. \\n\\n\\n442 Comments                    \\n\\n\\n\\nNewest\\n\\n\\nOldest\\nMost Voted\\n\\n\\n\\n\\n\\n Inline Feedbacks                    \\nView all comments\\n\\n\\n\\n\\n\\n                                    Load More Comments                                \\n\\n\\n\\n\\n\\n\\n\\n\\n\\nPrimary Sidebar\\n\\n\\n\\n\\nWelcome!\\nWe’re Sarah, Kaitlin, Judy, and Bill– a family of four cooks sharing our home-cooked and restaurant-style recipes.\\nOur Story \\n\\n\\n\\n\\n\\n\\n\\n\\n25 Top Recipes\\nTOP 25 RECIPES\\nfree eBook\\nSubscribe for the latest updates on new recipes, and get started with our family's Top 25 Recipe eBook!\\n\\nGet It Now\\n\\n\\n\\n\\n\\n\\n\\n\\n\\n\\nCooking Tools\\n\\n\\n\\nWok Guide\\n\\n\\n\\nIngredients 101\\n\\n\\n\\nKitchen Wisdom\\n\\n\\n  Surprise Me!  \\n\\n\\n\\n\\n\\n\\n\\n\\nSign Up For Email Updates & Receive Our\\nTop 25 Recipes Ebook!\\n\\n\\n\\n\\n\\n\\nLeave this field empty if you're human:  \\n\\n\\n\\n\\n\\n\\n\\nOur Family Favorites\\n\\n\\n\\n\\n\\n\\n\\nbill's pick \\n\\n\\n\\n\\t\\t\\t\\t\\tBeef and Broccoli\\n\\t\\t\\t\\t\\t\\n\\n\\n\\n\\n\\n\\n\\n\\njudy's pick \\n\\n\\n\\n\\t\\t\\t\\t\\tAsian Milk Bread\\n\\t\\t\\t\\t\\t\\n\\n\\n\\n\\n\\n\\n\\n\\nsarah's pick \\n\\n\\n\\n\\t\\t\\t\\t\\tChicken Adobo\\n\\t\\t\\t\\t\\t\\n\\n\\n\\n\\n\\n\\n\\n\\nkaitlin's pick \\n\\n\\n\\n\\t\\t\\t\\t\\tMapo Tofu\\n\\t\\t\\t\\t\\t\\n\\n\\n\\n\\n\\n\\n\\n\\n\\n\\n\\n\\n\\nSign Up For Email Updates & Receive Our\\nTop 25 Recipes Ebook!\\n\\n\\n\\n\\n\\n\\nLeave this field empty if you're human:  \\n\\n\\n\\n\\n\\n“I am proud to say that your genealogy has been the sole tutorial for my Asian-inspired culinary adventures for years; probably since you began. Time and again, my worldwide web pursuits for solid recipes that I know my family will eat has landed me back here.”\\nBeth, Community Member Since 2013\\n\\n\\n\\n\\n\\n\\n\\n\\n\\n\\n\\n\\n\\n\\n\\n\\n\\n\\n\\n\\n\\n\\n\\n\\n\\n\\n\\n\\n\\n\\n\\n\\n\\n\\n\\n\\n\\n\\n\\n\\n\\n\\n\\n\\n\\n\\n\\n\\n\\n\\n\\n\\n\\n\\n\\n\\n\\n\\n\\n\\n\\n\\n\\n\\n\\n\\n\\n\\nSearch\\n\\n\\n\\n\\nFacebook\\nInstagram\\nPinterest\\nYouTube\\n\\n\\n\\n\\n\\n©\\xa02013–2025 The Woks of Life\\nPrivacy Policy\\nDisclaimer\\n\\n\\nSite Credits\\n\\nSite design by Melissa Rose Design\\nLogo & Illustrations by Sasa Khalisa\\nDeveloped by Once Coupled\\n\\n\\nBack To Top\\n\\n\\n\\n\\n\\nOpens in a new window\\nOpens an external site\\nOpens an external site in a new window\\n\\n\\n\\n\\n\\n\\n\\nGet Updates On New Recipes & Our\\n\\n\\nFree Recipe Ebook!\\n\\n\\n\\n\\n\\nI consent to receive emails from The Woks of Life.\\r\\n\\n\\n\\n\\n\\n\\n\\n\\n\\n\\n\\n\\n\\n\\n\\n\\n\\nwpDiscuzInsert\\n\\n\\n\\n \\n\\n\\n\\n\\n\\n\\n\\n\\n\\n\\n\\n\\n\\n\\n\\n\\n\\n\\n\\n\\n\\n\\n\\n\\n\\n\\n\\n\\n \\n\\n\\n\", path=None, url=None, mimetype=None), image_resource=None, audio_resource=None, video_resource=None, text_template='{metadata_str}\\n\\n{content}'),\n",
       " Document(id_='https://www.allrecipes.com/recipe/228443/authentic-pho/', embedding=None, metadata={'file_id': '108be800-5c90-4595-9a84-af70a1e0379f'}, excluded_embed_metadata_keys=[], excluded_llm_metadata_keys=[], relationships={}, metadata_template='{key}: {value}', metadata_separator='\\n', text_resource=MediaResource(embeddings=None, data=None, text=\"b''\", path=None, url=None, mimetype=None), image_resource=None, audio_resource=None, video_resource=None, text_template='{metadata_str}\\n\\n{content}'),\n",
       " Document(id_='https://www.madamecuisine.de/vietnamesische-nudelsuppe-pho/', embedding=None, metadata={'file_id': 'a7153db4-5641-4896-9cfe-496b7f7b2bd0'}, excluded_embed_metadata_keys=[], excluded_llm_metadata_keys=[], relationships={}, metadata_template='{key}: {value}', metadata_separator='\\n', text_resource=MediaResource(embeddings=None, data=None, text='\\n\\n\\n\\n\\nSafeguarding Your Website — BigScoots\\n\\n\\n\\n\\n\\n\\n\\n\\n\\n\\n\\n\\n\\n\\n\\n\\n\\n\\n\\n\\n\\n\\n\\n\\n\\nSafeguarding Your Website 🕵️\\n\\n              We\\'re checking if you\\'re a real person and not an automated bad bot. Usually, the captcha below will complete itself. If it doesn\\'t, simply click the checkbox in the captcha to verify. Once verified, you\\'ll be taken to the page you wanted to visit.\\n            \\n\\n\\nHuman verification is in progress ✨\\n\\n\\nEnable JavaScript and cookies to continue\\n\\n\\n\\n\\n\\n              If for some reason after verifying the captcha above, you are constantly being redirected to this exact same page to re-verify the captcha again, then please click on the button below to get in touch with the support team.\\n            \\n\\nContact Support\\nPlease mention the \"Ray ID: 92a8d6d87affe519\" and \"Client IP: 2a02:8109:9a33:2300:dbe3:4d30:863d:70c2\" to your ticket.\\n\\n\\n\\n\\n\\n\\nRay ID: 92a8d6d87affe519 | Client IP: 2a02:8109:9a33:2300:dbe3:4d30:863d:70c2\\nPerformance & security by BigScoots\\n\\n\\n\\n', path=None, url=None, mimetype=None), image_resource=None, audio_resource=None, video_resource=None, text_template='{metadata_str}\\n\\n{content}')]"
      ]
     },
     "execution_count": 86,
     "metadata": {},
     "output_type": "execute_result"
    }
   ],
   "execution_count": 86
  },
  {
   "metadata": {
    "ExecuteTime": {
     "end_time": "2025-04-03T13:35:33.963910Z",
     "start_time": "2025-04-03T13:35:33.960546Z"
    }
   },
   "cell_type": "code",
   "source": [
    "storage_context = StorageContext.from_defaults(vector_store=chroma_vector_store)\n",
    "index = VectorStoreIndex.from_vector_store(vector_store=chroma_vector_store, storage_context=storage_context, embed_model=Settings.embed_model)\n",
    "\n",
    "filters = [\n",
    "    MetadataFilters(\n",
    "        filters=[\n",
    "            MetadataFilter(\n",
    "                key=\"file_id\",\n",
    "                operator=FilterOperator.EQ,\n",
    "                value=f\"{file_id.metadata['file_id']}\",\n",
    "            )\n",
    "        ]\n",
    "    ) for file_id in chat_files\n",
    "]\n",
    "\n",
    "print(filters)\n",
    "\n",
    "query_engines = [\n",
    "    index.as_query_engine(filters=_filter)\n",
    "    for _filter in filters\n",
    "]"
   ],
   "id": "f162e53160df85cd",
   "outputs": [
    {
     "name": "stdout",
     "output_type": "stream",
     "text": [
      "[MetadataFilters(filters=[MetadataFilter(key='file_id', value='8e0a2089-4da9-48f3-8cb3-d39f955923f0', operator=<FilterOperator.EQ: '=='>)], condition=<FilterCondition.AND: 'and'>), MetadataFilters(filters=[MetadataFilter(key='file_id', value='108be800-5c90-4595-9a84-af70a1e0379f', operator=<FilterOperator.EQ: '=='>)], condition=<FilterCondition.AND: 'and'>), MetadataFilters(filters=[MetadataFilter(key='file_id', value='a7153db4-5641-4896-9cfe-496b7f7b2bd0', operator=<FilterOperator.EQ: '=='>)], condition=<FilterCondition.AND: 'and'>)]\n"
     ]
    }
   ],
   "execution_count": 78
  },
  {
   "metadata": {
    "ExecuteTime": {
     "end_time": "2025-04-03T13:36:25.488043Z",
     "start_time": "2025-04-03T13:36:15.488144Z"
    }
   },
   "cell_type": "code",
   "source": [
    "for query_engine in query_engines:\n",
    "    print(query_engine.query(\"What is the text about? Descibe more than 100 words.\"))\n",
    "    print(\"\\n\")"
   ],
   "id": "4bb9dbfaa02891bb",
   "outputs": [
    {
     "name": "stdout",
     "output_type": "stream",
     "text": [
      "This text appears to be a blog post or recipe website page for a family-owned cooking blog called \"The Woks of Life\". The site features a variety of Chinese-inspired recipes and cooking tutorials, with contributions from multiple family members. The tone is warm and inviting, suggesting that the authors are passionate about sharing their culinary knowledge and traditions with readers.\n",
      "\n",
      "The text includes a brief introduction to the authors' backgrounds and experiences, which suggests that they have a strong connection to Chinese cuisine and culture. One of the authors, Sarah Leung, is described as a New York Times Bestselling author and James Beard Award nominee, which lends credibility to the site's content.\n",
      "\n",
      "The page also features links to other recipes and resources on the site, including a \"Top 25 Recipes\" section and a downloadable eBook. There are also social media links and buttons for subscribing to email updates, suggesting that the authors are actively engaged with their audience and want to share new content with them.\n",
      "\n",
      "Overall, this text appears to be about a family-run cooking blog that shares authentic Chinese recipes and stories, as well as a community of readers who interact with each other through comments and feedback. The tone is friendly and approachable, making it seem like a welcoming space for home cooks looking for inspiration and guidance in the kitchen.\n",
      "\n",
      "\n",
      "It appears to be a hexadecimal string representation of a file identifier. This identifier could be associated with various types of data, such as documents, images, or even code files. The presence of only this identifier and an empty byte array suggests that it might be the output from a system or service that handles file management or storage, possibly used to identify and access specific files in its database.\n",
      "\n",
      "Without additional context about what type of system or application this belongs to, or how it's being used, it's difficult to infer more specific information. However, in general computing and data processing, such identifiers are crucial for organizing and retrieving files from a collection, often in cloud storage services or content management systems.\n",
      "\n",
      "The empty byte array ('b'') that follows the identifier could indicate an attempt to retrieve file contents, but perhaps there was no data found associated with this ID. It might also suggest an error condition where the system expected to find file contents but encountered nothing. Without knowing the specific application or service in question, one can only speculate about the intent behind including both the identifier and an empty byte array.\n",
      "\n",
      "The use of a hexadecimal string for the identifier is a common practice in computing for creating unique keys that are human-readable yet distinct enough not to be confused with other identifiers. This facilitates their use in various protocols, APIs, or data structures designed for file handling, management, and retrieval.\n",
      "\n",
      "In essence, this context seems to point towards an operation related to identifying files within some form of data storage system, possibly as part of a programmatic interface to access and manipulate these files programmatically.\n",
      "\n",
      "\n",
      "The text appears to be a webpage that serves as a security measure to prevent automated bad bots from accessing certain areas of the website. It's likely that this page is intended for users who may be flagged as suspicious, but are actually human visitors.\n",
      "\n",
      "To verify their humanity, the webpage displays a captcha that will automatically complete if the user meets the criteria for being a real person. However, if the captcha does not complete itself, the user can click on a checkbox to manually verify themselves. This process is necessary to ensure that the website remains secure and protected from automated malicious activity.\n",
      "\n",
      "If a user encounters an issue where they are continuously redirected back to this same webpage after verifying the captcha, there may be a problem with their browser or internet connection, and they can contact the support team for assistance. The support team will need specific information about the \"Ray ID\" and \"Client IP\" to troubleshoot the issue.\n",
      "\n",
      "Overall, the text is about implementing security measures on a website to protect against automated bad bots, while also ensuring that legitimate human users are able to access the content they seek. It's an important step in safeguarding online security and preventing malicious activity.\n",
      "\n",
      "\n"
     ]
    }
   ],
   "execution_count": 82
  },
  {
   "metadata": {
    "ExecuteTime": {
     "end_time": "2025-04-03T13:35:41.796980Z",
     "start_time": "2025-04-03T13:35:41.793994Z"
    }
   },
   "cell_type": "code",
   "source": [
    "for chat_file in chat_files:\n",
    "    print(chat_file.metadata)"
   ],
   "id": "c0f7553c1da12a65",
   "outputs": [
    {
     "name": "stdout",
     "output_type": "stream",
     "text": [
      "{'file_id': '8e0a2089-4da9-48f3-8cb3-d39f955923f0'}\n",
      "{'file_id': '108be800-5c90-4595-9a84-af70a1e0379f'}\n",
      "{'file_id': 'a7153db4-5641-4896-9cfe-496b7f7b2bd0'}\n"
     ]
    }
   ],
   "execution_count": 80
  },
  {
   "metadata": {
    "ExecuteTime": {
     "end_time": "2025-04-03T13:38:31.741891Z",
     "start_time": "2025-04-03T13:38:31.732262Z"
    }
   },
   "cell_type": "code",
   "source": "chroma_collection.get(where={'file_id': {'$eq': '8e0a2089-4da9-48f3-8cb3-d39f955923f0'}})",
   "id": "c80b0761e6fc2c2a",
   "outputs": [
    {
     "data": {
      "text/plain": [
       "{'ids': ['bac8ea4f-c1bc-44a5-a8d0-3008fedf443c',\n",
       "  '87173b3c-0e73-4123-9a65-f95e117a4501',\n",
       "  '9e68cb33-5e54-4a53-a9cc-30bd3715e724',\n",
       "  '87bd93a2-813f-4b71-a52b-e4d809ed4c35',\n",
       "  '1ec0fdcc-b0e3-44ed-8d51-07e5797259e8',\n",
       "  '7e78e4e5-b2b4-4f52-ae34-834750685c9c',\n",
       "  '7da1a73d-8a58-4040-93bb-7fb21c5de1a3',\n",
       "  'c6522c90-386e-4281-aea0-3353a9dca8bf',\n",
       "  '843a871a-94d0-4156-a199-22a54de5e7d7'],\n",
       " 'embeddings': None,\n",
       " 'metadatas': [{'_node_content': '{\"id_\": \"bac8ea4f-c1bc-44a5-a8d0-3008fedf443c\", \"embedding\": null, \"metadata\": {\"file_id\": \"8e0a2089-4da9-48f3-8cb3-d39f955923f0\"}, \"excluded_embed_metadata_keys\": [], \"excluded_llm_metadata_keys\": [], \"relationships\": {\"1\": {\"node_id\": \"https://thewoksoflife.com/pho-vietnamese-noodle-soup/\", \"node_type\": \"4\", \"metadata\": {\"file_id\": \"8e0a2089-4da9-48f3-8cb3-d39f955923f0\"}, \"hash\": \"22fbef178a483effc5fae7117c0965040aeb3d2b3a9a672b2910632357e7686c\", \"class_name\": \"RelatedNodeInfo\"}, \"3\": {\"node_id\": \"87173b3c-0e73-4123-9a65-f95e117a4501\", \"node_type\": \"1\", \"metadata\": {}, \"hash\": \"1d7b1f8599a15945f0991f83824b95c33db34b077f759afe01f688d8791f97f8\", \"class_name\": \"RelatedNodeInfo\"}}, \"metadata_template\": \"{key}: {value}\", \"metadata_separator\": \"\\\\n\", \"text\": \"\", \"mimetype\": \"text/plain\", \"start_char_idx\": 31, \"end_char_idx\": 1851, \"metadata_seperator\": \"\\\\n\", \"text_template\": \"{metadata_str}\\\\n\\\\n{content}\", \"class_name\": \"TextNode\"}',\n",
       "   '_node_type': 'TextNode',\n",
       "   'doc_id': 'https://thewoksoflife.com/pho-vietnamese-noodle-soup/',\n",
       "   'document_id': 'https://thewoksoflife.com/pho-vietnamese-noodle-soup/',\n",
       "   'file_id': '8e0a2089-4da9-48f3-8cb3-d39f955923f0',\n",
       "   'ref_doc_id': 'https://thewoksoflife.com/pho-vietnamese-noodle-soup/'},\n",
       "  {'_node_content': '{\"id_\": \"87173b3c-0e73-4123-9a65-f95e117a4501\", \"embedding\": null, \"metadata\": {\"file_id\": \"8e0a2089-4da9-48f3-8cb3-d39f955923f0\"}, \"excluded_embed_metadata_keys\": [], \"excluded_llm_metadata_keys\": [], \"relationships\": {\"1\": {\"node_id\": \"https://thewoksoflife.com/pho-vietnamese-noodle-soup/\", \"node_type\": \"4\", \"metadata\": {\"file_id\": \"8e0a2089-4da9-48f3-8cb3-d39f955923f0\"}, \"hash\": \"22fbef178a483effc5fae7117c0965040aeb3d2b3a9a672b2910632357e7686c\", \"class_name\": \"RelatedNodeInfo\"}, \"2\": {\"node_id\": \"bac8ea4f-c1bc-44a5-a8d0-3008fedf443c\", \"node_type\": \"1\", \"metadata\": {\"file_id\": \"8e0a2089-4da9-48f3-8cb3-d39f955923f0\"}, \"hash\": \"b06bb93a0684872a1e6df8f994595e20cf7a803d73183a22ec133238cd0e476f\", \"class_name\": \"RelatedNodeInfo\"}, \"3\": {\"node_id\": \"9e68cb33-5e54-4a53-a9cc-30bd3715e724\", \"node_type\": \"1\", \"metadata\": {}, \"hash\": \"f3876b4743728c3f16ae13300e63c63a4c2be73c8f626adab7527b8e56de3e58\", \"class_name\": \"RelatedNodeInfo\"}}, \"metadata_template\": \"{key}: {value}\", \"metadata_separator\": \"\\\\n\", \"text\": \"\", \"mimetype\": \"text/plain\", \"start_char_idx\": 1651, \"end_char_idx\": 3696, \"metadata_seperator\": \"\\\\n\", \"text_template\": \"{metadata_str}\\\\n\\\\n{content}\", \"class_name\": \"TextNode\"}',\n",
       "   '_node_type': 'TextNode',\n",
       "   'doc_id': 'https://thewoksoflife.com/pho-vietnamese-noodle-soup/',\n",
       "   'document_id': 'https://thewoksoflife.com/pho-vietnamese-noodle-soup/',\n",
       "   'file_id': '8e0a2089-4da9-48f3-8cb3-d39f955923f0',\n",
       "   'ref_doc_id': 'https://thewoksoflife.com/pho-vietnamese-noodle-soup/'},\n",
       "  {'_node_content': '{\"id_\": \"9e68cb33-5e54-4a53-a9cc-30bd3715e724\", \"embedding\": null, \"metadata\": {\"file_id\": \"8e0a2089-4da9-48f3-8cb3-d39f955923f0\"}, \"excluded_embed_metadata_keys\": [], \"excluded_llm_metadata_keys\": [], \"relationships\": {\"1\": {\"node_id\": \"https://thewoksoflife.com/pho-vietnamese-noodle-soup/\", \"node_type\": \"4\", \"metadata\": {\"file_id\": \"8e0a2089-4da9-48f3-8cb3-d39f955923f0\"}, \"hash\": \"22fbef178a483effc5fae7117c0965040aeb3d2b3a9a672b2910632357e7686c\", \"class_name\": \"RelatedNodeInfo\"}, \"2\": {\"node_id\": \"87173b3c-0e73-4123-9a65-f95e117a4501\", \"node_type\": \"1\", \"metadata\": {\"file_id\": \"8e0a2089-4da9-48f3-8cb3-d39f955923f0\"}, \"hash\": \"f9344a731221eadff0bbe9a4eeeaf70e223f63575b275cfbcbb58ddc5a5ad91e\", \"class_name\": \"RelatedNodeInfo\"}, \"3\": {\"node_id\": \"87bd93a2-813f-4b71-a52b-e4d809ed4c35\", \"node_type\": \"1\", \"metadata\": {}, \"hash\": \"5efc68c9ebe762ba7560781cf9e1fecf2e3df1162e800ede95c3dea9acc51ed7\", \"class_name\": \"RelatedNodeInfo\"}}, \"metadata_template\": \"{key}: {value}\", \"metadata_separator\": \"\\\\n\", \"text\": \"\", \"mimetype\": \"text/plain\", \"start_char_idx\": 3663, \"end_char_idx\": 4945, \"metadata_seperator\": \"\\\\n\", \"text_template\": \"{metadata_str}\\\\n\\\\n{content}\", \"class_name\": \"TextNode\"}',\n",
       "   '_node_type': 'TextNode',\n",
       "   'doc_id': 'https://thewoksoflife.com/pho-vietnamese-noodle-soup/',\n",
       "   'document_id': 'https://thewoksoflife.com/pho-vietnamese-noodle-soup/',\n",
       "   'file_id': '8e0a2089-4da9-48f3-8cb3-d39f955923f0',\n",
       "   'ref_doc_id': 'https://thewoksoflife.com/pho-vietnamese-noodle-soup/'},\n",
       "  {'_node_content': '{\"id_\": \"87bd93a2-813f-4b71-a52b-e4d809ed4c35\", \"embedding\": null, \"metadata\": {\"file_id\": \"8e0a2089-4da9-48f3-8cb3-d39f955923f0\"}, \"excluded_embed_metadata_keys\": [], \"excluded_llm_metadata_keys\": [], \"relationships\": {\"1\": {\"node_id\": \"https://thewoksoflife.com/pho-vietnamese-noodle-soup/\", \"node_type\": \"4\", \"metadata\": {\"file_id\": \"8e0a2089-4da9-48f3-8cb3-d39f955923f0\"}, \"hash\": \"22fbef178a483effc5fae7117c0965040aeb3d2b3a9a672b2910632357e7686c\", \"class_name\": \"RelatedNodeInfo\"}, \"2\": {\"node_id\": \"9e68cb33-5e54-4a53-a9cc-30bd3715e724\", \"node_type\": \"1\", \"metadata\": {\"file_id\": \"8e0a2089-4da9-48f3-8cb3-d39f955923f0\"}, \"hash\": \"1ddfb77e3138130de14988279a5c40faf3476b400c032d2d29f02288674b1687\", \"class_name\": \"RelatedNodeInfo\"}, \"3\": {\"node_id\": \"1ec0fdcc-b0e3-44ed-8d51-07e5797259e8\", \"node_type\": \"1\", \"metadata\": {}, \"hash\": \"d155e4ddeeb849672a27c110c82eb61a9824bc3471efe9b44e5caa447f16c526\", \"class_name\": \"RelatedNodeInfo\"}}, \"metadata_template\": \"{key}: {value}\", \"metadata_separator\": \"\\\\n\", \"text\": \"\", \"mimetype\": \"text/plain\", \"start_char_idx\": 4948, \"end_char_idx\": 6881, \"metadata_seperator\": \"\\\\n\", \"text_template\": \"{metadata_str}\\\\n\\\\n{content}\", \"class_name\": \"TextNode\"}',\n",
       "   '_node_type': 'TextNode',\n",
       "   'doc_id': 'https://thewoksoflife.com/pho-vietnamese-noodle-soup/',\n",
       "   'document_id': 'https://thewoksoflife.com/pho-vietnamese-noodle-soup/',\n",
       "   'file_id': '8e0a2089-4da9-48f3-8cb3-d39f955923f0',\n",
       "   'ref_doc_id': 'https://thewoksoflife.com/pho-vietnamese-noodle-soup/'},\n",
       "  {'_node_content': '{\"id_\": \"1ec0fdcc-b0e3-44ed-8d51-07e5797259e8\", \"embedding\": null, \"metadata\": {\"file_id\": \"8e0a2089-4da9-48f3-8cb3-d39f955923f0\"}, \"excluded_embed_metadata_keys\": [], \"excluded_llm_metadata_keys\": [], \"relationships\": {\"1\": {\"node_id\": \"https://thewoksoflife.com/pho-vietnamese-noodle-soup/\", \"node_type\": \"4\", \"metadata\": {\"file_id\": \"8e0a2089-4da9-48f3-8cb3-d39f955923f0\"}, \"hash\": \"22fbef178a483effc5fae7117c0965040aeb3d2b3a9a672b2910632357e7686c\", \"class_name\": \"RelatedNodeInfo\"}, \"2\": {\"node_id\": \"87bd93a2-813f-4b71-a52b-e4d809ed4c35\", \"node_type\": \"1\", \"metadata\": {\"file_id\": \"8e0a2089-4da9-48f3-8cb3-d39f955923f0\"}, \"hash\": \"9b2e5eb8e40733b02b1f2f98f2c7a5a9ba8bdfdf8402e406ed36785d208f7248\", \"class_name\": \"RelatedNodeInfo\"}, \"3\": {\"node_id\": \"7e78e4e5-b2b4-4f52-ae34-834750685c9c\", \"node_type\": \"1\", \"metadata\": {}, \"hash\": \"08478efefda0dbf56b087618b121e4d9c6e2a50302bccaea69d6f1b9a2d8c21e\", \"class_name\": \"RelatedNodeInfo\"}}, \"metadata_template\": \"{key}: {value}\", \"metadata_separator\": \"\\\\n\", \"text\": \"\", \"mimetype\": \"text/plain\", \"start_char_idx\": 6693, \"end_char_idx\": 8267, \"metadata_seperator\": \"\\\\n\", \"text_template\": \"{metadata_str}\\\\n\\\\n{content}\", \"class_name\": \"TextNode\"}',\n",
       "   '_node_type': 'TextNode',\n",
       "   'doc_id': 'https://thewoksoflife.com/pho-vietnamese-noodle-soup/',\n",
       "   'document_id': 'https://thewoksoflife.com/pho-vietnamese-noodle-soup/',\n",
       "   'file_id': '8e0a2089-4da9-48f3-8cb3-d39f955923f0',\n",
       "   'ref_doc_id': 'https://thewoksoflife.com/pho-vietnamese-noodle-soup/'},\n",
       "  {'_node_content': '{\"id_\": \"7e78e4e5-b2b4-4f52-ae34-834750685c9c\", \"embedding\": null, \"metadata\": {\"file_id\": \"8e0a2089-4da9-48f3-8cb3-d39f955923f0\"}, \"excluded_embed_metadata_keys\": [], \"excluded_llm_metadata_keys\": [], \"relationships\": {\"1\": {\"node_id\": \"https://thewoksoflife.com/pho-vietnamese-noodle-soup/\", \"node_type\": \"4\", \"metadata\": {\"file_id\": \"8e0a2089-4da9-48f3-8cb3-d39f955923f0\"}, \"hash\": \"22fbef178a483effc5fae7117c0965040aeb3d2b3a9a672b2910632357e7686c\", \"class_name\": \"RelatedNodeInfo\"}, \"2\": {\"node_id\": \"1ec0fdcc-b0e3-44ed-8d51-07e5797259e8\", \"node_type\": \"1\", \"metadata\": {\"file_id\": \"8e0a2089-4da9-48f3-8cb3-d39f955923f0\"}, \"hash\": \"30aa5224b31904d173c9f4441136aaba760f77c987f0cd7655e5e6935ddb4c24\", \"class_name\": \"RelatedNodeInfo\"}, \"3\": {\"node_id\": \"7da1a73d-8a58-4040-93bb-7fb21c5de1a3\", \"node_type\": \"1\", \"metadata\": {}, \"hash\": \"2c7417e4f0053b28c13a5092144f37232f094213048d5a2030515be1f44a2e7e\", \"class_name\": \"RelatedNodeInfo\"}}, \"metadata_template\": \"{key}: {value}\", \"metadata_separator\": \"\\\\n\", \"text\": \"\", \"mimetype\": \"text/plain\", \"start_char_idx\": 8228, \"end_char_idx\": 10129, \"metadata_seperator\": \"\\\\n\", \"text_template\": \"{metadata_str}\\\\n\\\\n{content}\", \"class_name\": \"TextNode\"}',\n",
       "   '_node_type': 'TextNode',\n",
       "   'doc_id': 'https://thewoksoflife.com/pho-vietnamese-noodle-soup/',\n",
       "   'document_id': 'https://thewoksoflife.com/pho-vietnamese-noodle-soup/',\n",
       "   'file_id': '8e0a2089-4da9-48f3-8cb3-d39f955923f0',\n",
       "   'ref_doc_id': 'https://thewoksoflife.com/pho-vietnamese-noodle-soup/'},\n",
       "  {'_node_content': '{\"id_\": \"7da1a73d-8a58-4040-93bb-7fb21c5de1a3\", \"embedding\": null, \"metadata\": {\"file_id\": \"8e0a2089-4da9-48f3-8cb3-d39f955923f0\"}, \"excluded_embed_metadata_keys\": [], \"excluded_llm_metadata_keys\": [], \"relationships\": {\"1\": {\"node_id\": \"https://thewoksoflife.com/pho-vietnamese-noodle-soup/\", \"node_type\": \"4\", \"metadata\": {\"file_id\": \"8e0a2089-4da9-48f3-8cb3-d39f955923f0\"}, \"hash\": \"22fbef178a483effc5fae7117c0965040aeb3d2b3a9a672b2910632357e7686c\", \"class_name\": \"RelatedNodeInfo\"}, \"2\": {\"node_id\": \"7e78e4e5-b2b4-4f52-ae34-834750685c9c\", \"node_type\": \"1\", \"metadata\": {\"file_id\": \"8e0a2089-4da9-48f3-8cb3-d39f955923f0\"}, \"hash\": \"2d4fca10a4e18190ae2476e6f0122935bc066c70d886e40f8b4e21afed5a6dd2\", \"class_name\": \"RelatedNodeInfo\"}, \"3\": {\"node_id\": \"c6522c90-386e-4281-aea0-3353a9dca8bf\", \"node_type\": \"1\", \"metadata\": {}, \"hash\": \"f1378cdcb88448d76d9cce90d1c6748376d91a8ade05a77b53c3be551c9239ae\", \"class_name\": \"RelatedNodeInfo\"}}, \"metadata_template\": \"{key}: {value}\", \"metadata_separator\": \"\\\\n\", \"text\": \"\", \"mimetype\": \"text/plain\", \"start_char_idx\": 9979, \"end_char_idx\": 11578, \"metadata_seperator\": \"\\\\n\", \"text_template\": \"{metadata_str}\\\\n\\\\n{content}\", \"class_name\": \"TextNode\"}',\n",
       "   '_node_type': 'TextNode',\n",
       "   'doc_id': 'https://thewoksoflife.com/pho-vietnamese-noodle-soup/',\n",
       "   'document_id': 'https://thewoksoflife.com/pho-vietnamese-noodle-soup/',\n",
       "   'file_id': '8e0a2089-4da9-48f3-8cb3-d39f955923f0',\n",
       "   'ref_doc_id': 'https://thewoksoflife.com/pho-vietnamese-noodle-soup/'},\n",
       "  {'_node_content': '{\"id_\": \"c6522c90-386e-4281-aea0-3353a9dca8bf\", \"embedding\": null, \"metadata\": {\"file_id\": \"8e0a2089-4da9-48f3-8cb3-d39f955923f0\"}, \"excluded_embed_metadata_keys\": [], \"excluded_llm_metadata_keys\": [], \"relationships\": {\"1\": {\"node_id\": \"https://thewoksoflife.com/pho-vietnamese-noodle-soup/\", \"node_type\": \"4\", \"metadata\": {\"file_id\": \"8e0a2089-4da9-48f3-8cb3-d39f955923f0\"}, \"hash\": \"22fbef178a483effc5fae7117c0965040aeb3d2b3a9a672b2910632357e7686c\", \"class_name\": \"RelatedNodeInfo\"}, \"2\": {\"node_id\": \"7da1a73d-8a58-4040-93bb-7fb21c5de1a3\", \"node_type\": \"1\", \"metadata\": {\"file_id\": \"8e0a2089-4da9-48f3-8cb3-d39f955923f0\"}, \"hash\": \"a65f5d242af9da65c6baf3d4fe83c06b9dd5a9c9ef1f4675f247a6951c1e72ff\", \"class_name\": \"RelatedNodeInfo\"}, \"3\": {\"node_id\": \"843a871a-94d0-4156-a199-22a54de5e7d7\", \"node_type\": \"1\", \"metadata\": {}, \"hash\": \"489f5da4d35280041646521d83a443a921112b81bbb50de6dd180e63d104680f\", \"class_name\": \"RelatedNodeInfo\"}}, \"metadata_template\": \"{key}: {value}\", \"metadata_separator\": \"\\\\n\", \"text\": \"\", \"mimetype\": \"text/plain\", \"start_char_idx\": 11454, \"end_char_idx\": 13453, \"metadata_seperator\": \"\\\\n\", \"text_template\": \"{metadata_str}\\\\n\\\\n{content}\", \"class_name\": \"TextNode\"}',\n",
       "   '_node_type': 'TextNode',\n",
       "   'doc_id': 'https://thewoksoflife.com/pho-vietnamese-noodle-soup/',\n",
       "   'document_id': 'https://thewoksoflife.com/pho-vietnamese-noodle-soup/',\n",
       "   'file_id': '8e0a2089-4da9-48f3-8cb3-d39f955923f0',\n",
       "   'ref_doc_id': 'https://thewoksoflife.com/pho-vietnamese-noodle-soup/'},\n",
       "  {'_node_content': '{\"id_\": \"843a871a-94d0-4156-a199-22a54de5e7d7\", \"embedding\": null, \"metadata\": {\"file_id\": \"8e0a2089-4da9-48f3-8cb3-d39f955923f0\"}, \"excluded_embed_metadata_keys\": [], \"excluded_llm_metadata_keys\": [], \"relationships\": {\"1\": {\"node_id\": \"https://thewoksoflife.com/pho-vietnamese-noodle-soup/\", \"node_type\": \"4\", \"metadata\": {\"file_id\": \"8e0a2089-4da9-48f3-8cb3-d39f955923f0\"}, \"hash\": \"22fbef178a483effc5fae7117c0965040aeb3d2b3a9a672b2910632357e7686c\", \"class_name\": \"RelatedNodeInfo\"}, \"2\": {\"node_id\": \"c6522c90-386e-4281-aea0-3353a9dca8bf\", \"node_type\": \"1\", \"metadata\": {\"file_id\": \"8e0a2089-4da9-48f3-8cb3-d39f955923f0\"}, \"hash\": \"310c0d5ed766fe8b6c251d0a0ebc3ffd28e61488beb80ab039851b0b1176c34b\", \"class_name\": \"RelatedNodeInfo\"}}, \"metadata_template\": \"{key}: {value}\", \"metadata_separator\": \"\\\\n\", \"text\": \"\", \"mimetype\": \"text/plain\", \"start_char_idx\": 13213, \"end_char_idx\": 15165, \"metadata_seperator\": \"\\\\n\", \"text_template\": \"{metadata_str}\\\\n\\\\n{content}\", \"class_name\": \"TextNode\"}',\n",
       "   '_node_type': 'TextNode',\n",
       "   'doc_id': 'https://thewoksoflife.com/pho-vietnamese-noodle-soup/',\n",
       "   'document_id': 'https://thewoksoflife.com/pho-vietnamese-noodle-soup/',\n",
       "   'file_id': '8e0a2089-4da9-48f3-8cb3-d39f955923f0',\n",
       "   'ref_doc_id': 'https://thewoksoflife.com/pho-vietnamese-noodle-soup/'}],\n",
       " 'documents': ['Pho Recipe (Vietnamese Noodle Soup) - The Woks of Life\\n\\n\\n\\n\\n\\n\\n\\n\\n\\n\\n\\n\\n\\n\\n\\n\\n\\n\\n\\n\\n\\n\\n\\n\\n\\n\\n\\n\\n\\n\\n\\n \\n\\n\\n\\n\\n\\n\\n\\n\\n\\n\\n\\n\\n\\n\\n\\n\\n\\n\\n\\n\\n\\n\\n\\n\\n\\n\\n\\n\\n\\n\\n\\n\\n\\n\\n\\n\\n\\n \\n\\n\\n\\n\\n\\n Skip to primary navigation Skip to privacy navigation Skip to recipes navigation Skip to main content Skip to primary sidebar\\n\\n\\n\\n\\nFacebook\\nInstagram\\nPinterest\\nYouTube\\n\\n\\n\\n\\nSearch\\n\\n\\n\\nThe Woks of Lifea culinary genealogyMain Menu\\n\\n\\nDisplay Search Bar\\n\\nSurprise Me!\\n\\n\\nSearch\\n\\nRecipes\\n\\nRecipe Index\\nAll Posts by Date\\nOur Cookbook: NOW AVAILABLE!\\nVideos\\n\\n\\nHow-To\\n\\nCooking Methods\\nCooking Tools\\nWok Guide\\nGarden/Farm\\nCulture\\n\\n\\nIngredients\\n\\nChinese Ingredients Glossary\\nSauces, Wines, Vinegars & Oils\\nSpices & Seasonings\\nDried, Cured & Pickled Ingredients\\nNoodles & Wrappers\\nRice, Grains, Flours & Starches\\nTofu, Bean Curd & Seitan\\nVegetables & Fungi\\nFresh Herbs & Aromatics\\n\\n\\nLife & Travel\\n\\nFamily Life\\nTravel With Us\\n\\n\\nAbout Us\\nContact\\n\\nPress\\nWork with Us\\nSend Us A Message\\n\\n\\n\\n\\n\\nFacebook\\nInstagram\\nPinterest\\nYouTube\\n\\n\\n\\n\\n\\n\\n\\nJoin Our Newsletter And Receive Our Free Top 25 Recipes Book!\\nSubscribe\\n\\n\\n\\n\\n\\n\\nTap here to receive our FREE top 25 recipe book!\\n\\n\\n\\n\\nHome  Recipes  Noodles & Pasta  Pho (Vietnamese Noodle Soup)Pho (Vietnamese Noodle Soup)\\n\\n\\n\\n\\n\\nby: Sarah\\n 442 Comments \\n\\n\\n\\nJump to Recipe \\n\\n\\n\\nPosted:9/05/2023Updated:9/05/2023\\n\\n\\n\\nPho (Vietnamese Noodle Soup) has long been one of my absolute favorite things to eat. There has been more than one occasion in which I have actually gotten in my car and driven over 45 minutes for the express purpose of indulging in good bowl of the stuff, which is why this pho recipe is sorely needed.\\nNote: We originally published this recipe in March 2015. We have since added clearer photos, nutrition info, and metric measurements. The recipe has been tested by us and many readers and approved by Vietnamese friends, so it remains the same!\\xa0\\nWhat Is Pho?',\n",
       "  'We have since added clearer photos, nutrition info, and metric measurements. The recipe has been tested by us and many readers and approved by Vietnamese friends, so it remains the same!\\xa0\\nWhat Is Pho?\\nPho (I found out in college that it’s actually pronounced “fuh.” For someone who’d been shamelessly calling it “foe” for eighteen years, this was an embarrassing revelation) is a noodle soup hailing from Vietnam that’s often made with beef and topped with awesome things like fresh bean sprouts, basil, and chilies.\\nThere’s just something about it—the fragrant beef broth, the slightly chewy rice noodles, and all the aromatic toppings (the squeeze of lime at the end is the BEST)—that seriously justifies a 90-minute roundtrip drive.\\nThe Quest For a Great Broth\\nA bowl of pho is only as good as the broth. There’s no trick to the noodles, really, and the beef is often added to the soup raw. The other vegetable and herb toppings are ALL added to the soup raw.\\nIn short? No broth, no bacon.\\nI never really thought it would be realistic to make it myself at home. Chalk it up to a cynical but somewhat substantiated opinion that no broth I could make at home would ever taste as good as the restaurant equivalent.\\nWe decided to take a stab at it anyway, and the results were awesome. I also talked with a Vietnamese friend/mom who cooks this dish on a regular basis for her family and got all the tips!\\xa0Her kids are in college, but she says they always come home for her pho!\\nThere is a bit of prep involved to get the broth going, but after that, it’s just a long, slow simmer until you’re ready to assemble the dish.\\n4 Key Steps to Make Pho Broth\\nHere are the 4 steps and secrets to making a proper beef pho broth:\\n\\nPre-boiling the beef bones and meat\\nCharring the ginger and onions\\nToasting the spices\\nAdding fish sauce (said Vietnamese friend told me that one of the secrets to a great pho recipe is to not add salt, and instead add enough fish sauce to bring the broth to the correct level of saltiness.)\\n\\nI know, it’s a lot of fish sauce!',\n",
       "  'I know, it’s a lot of fish sauce! However, she said that this method tastes the best, but most people don’t do it because fish sauce is so expensive.\\nShe also mentioned, rather proudly, that the Vietnamese brands of fish sauce are much more flavorful (and expensive at $9-$12 a bottle) than the Thai brands most people buy. Which is just food for thought.\\nIn accordance with this insider information, feel free to add more fish sauce to the broth and decrease the amount of salt. As is our mantra here at The Woks of Life, it’s all up to your own taste preferences! \\nOh, and definitely buy a high quality fish sauce for this pho recipe. It will only make your broth better! We like Red Boat! \\n\\n\\nPho Recipe Instructions\\nMaking the Broth\\nPlace the bones and beef chuck in large stockpot, and add water to cover. Bring to a boil, and boil for 5 minutes. Drain in a colander and thoroughly clean the stockpot. This process removes any impurities/scum, and will give you a much cleaner broth.\\nMeanwhile, char your ginger and onions. Use tongs to hold the ginger and onions (one at a time) over an open flame, or place each directly on a gas burner. (You can also do this on a grill.)\\nTurn until they’re lightly blackened and fragrant, about 5 minutes. Rinse away all the blackened skins.',\n",
       "  'Add 5 quarts fresh water back to the stockpot and bring to a boil. Transfer the bones and meat back to the pot, along with the charred/cleaned ginger and onions. Add the scallions, fish sauce and rock sugar. Reduce the heat to low, and simmer until the beef chuck is tender, about 40 minutes. Skim the surface often to remove any foam and fat.\\nRemove one piece of the chuck and transfer to a bowl of ice water to stop the cooking process. Then transfer this piece of beef to a container and refrigerate (you will slice this to serve with your pho later. If you were to leave it in the pot, it would be too dry to eat). Leave the other piece of chuck in the pot to flavor the broth.\\nNow toast the spices (star anise, cloves, cinnamon stick, cardamom pod (if using), fennel seeds, and coriander seeds) in a dry pan over medium low heat for about 3 minutes, until fragrant. Use kitchen string to tie up the spices in a piece of cheesecloth, and add it to the broth.\\n\\n\\n\\n\\nCover the pot and continue simmering for another 4 hours. Add the salt and continue to simmer, skimming as necessary, until you’re ready to assemble the rest of the dish. Taste the broth and adjust seasoning by adding more salt, sugar, and/or fish sauce as needed.\\nAssembling the Pho\\nTo serve, boil the noodles according to package instructions. Add to a bowl. Place a few slices of the beef chuck and the raw sirloin on the noodles. Bring the broth to a rolling boil and ladle it into each bowl. The hot broth will cook the beef. \\nGarnish with your toppings—sliced chili, onion, scallions, cilantro, bean sprouts, and Thai basil, and be sure to take your lime wedges and squeeze a lot of fresh lime juice over the top! You can also add hoisin sauce and Sriracha if you like!\\n\\n\\nScroll down for the full list of ingredients and the recipe card.\\nShort on time? Check out our Instant Pot Pho recipe and our 20-Minute Chicken Pho recipe as well!\\n\\n\\nMmmm. Pho noodle pull!',\n",
       "  'Scroll down for the full list of ingredients and the recipe card.\\nShort on time? Check out our Instant Pot Pho recipe and our 20-Minute Chicken Pho recipe as well!\\n\\n\\nMmmm. Pho noodle pull!\\n\\n\\nLooking for more authentic recipes? Subscribe to our email list and be sure to follow us on Pinterest, Facebook, Instagram, and Youtube!\\n\\n\\n\\n\\n\\n\\n\\n4.96 from 85 votes\\n\\nPho Recipe\\nPho is a Vietnamese noodle soup topped with awesome things like fresh bean sprouts, basil, and chilies. This pho recipe was approved by a Vietnamese friend!\\n\\nby: Sarah\\n\\n\\n\\n\\nserves: 8 servings\\n\\n\\n\\n\\n\\nPrep: 30 minutes minutes\\nCook: 5 hours hours 30 minutes minutes\\nTotal: 6 hours hours\\n\\n\\n\\n\\n Print\\n\\n\\n \\n\\n\\n\\n\\n Rate\\n\\nIngredientsYou’ll need:▢ 2 3-inch (7 to 8 cm) pieces ginger, cut in half lengthwise  (no need to peel)▢ 2 onions (peeled)▢ 5 pounds beef marrow or knuckle bones▢ 2 pounds beef chuck (cut into 2 pieces)▢ 5 quarts water▢ 2 scallions (cut into 4-inch lengths)▢ 1/3 cup fish sauce▢ 2 ½ ounces rock sugar (2 1/2 tablespoons granulated sugar)▢ 8 star anise▢ 6 cloves▢ 1 cinnamon stick▢ 1 black cardamom pod (optional)▢ 2 teaspoons fennel seeds▢ 2 teaspoons coriander seeds▢ 1 tablespoon salt▢ 1 pound dried pho noodles▢ 1/3 pound beef sirloin (slightly frozen, then sliced paper-thin against the grain)Garnishes:▢ Sliced chili▢ Thinly sliced onion▢ Chopped scallions▢ Cilantro▢ Mung bean sprouts▢ Thai basil▢ Lime wedges▢ Hoisin sauce and/or Sriracha (optional)US Customary – Metric\\nInstructionsPlace the bones and beef chuck in large stockpot and add water to cover. Bring to a boil and boil for 5 minutes.',\n",
       "  \"Bring to a boil and boil for 5 minutes. Drain in a colander and thoroughly clean the stockpot. This process removes any impurities/scum and will give you a much cleaner broth.Meanwhile, char your ginger and onions. Use tongs to hold the ginger and onions (one at a time) over an open flame, or place each directly on a gas burner. Turn until they’re lightly blackened and fragrant, about 5 minutes. Rinse away all the blackened skins.Add water (5 quarts/4.75 L, or more/less if you've scaled the recipe up or down) to the stockpot and bring to a boil. Transfer the bones and meat back to the pot, along with the charred/cleaned ginger and onions. Add the scallions, fish sauce and sugar. Reduce the heat to low, and simmer until the beef chuck is tender, about 40 minutes. Skim the surface often to remove any foam and fat.Remove one piece of the chuck and transfer to a bowl of ice water to stop the cooking process. Then transfer this piece of beef to a container and refrigerate (you will slice this to serve with your pho later. If you were to leave it in the pot, it would be too dry to eat). Leave the other piece of chuck in the pot to flavor the broth.Now toast the spices (star anise, cloves, cinnamon stick, cardamom, fennel seeds, and coriander seeds) in a dry pan over medium low heat for about 3 minutes, until fragrant. Use kitchen string to tie up the spices in a piece of cheesecloth, and add it to the broth.Cover the pot and continue simmering for another 4 hours. Add the salt and continue to simmer, skimming as necessary, until you're ready to assemble the rest of the dish. Taste the broth and adjust seasoning by adding more salt, sugar, and/or fish sauce as needed.To serve, boil the noodles according to package instructions. Add to a bowl. Place a few slices of the beef chuck and the raw sirloin on the noodles. Bring the broth to a rolling boil and ladle it into each bowl.\",\n",
       "  'Add to a bowl. Place a few slices of the beef chuck and the raw sirloin on the noodles. Bring the broth to a rolling boil and ladle it into each bowl. The hot broth will cook the beef. Garnish with your toppings, and be sure to squeeze a lot of fresh lime juice over the top!\\n\\n\\n\\n\\n\\nnutrition factsCalories: 495kcal (25%) Carbohydrates: 68g (23%) Protein: 30g (60%) Fat: 11g (17%) Saturated Fat: 5g (25%) Cholesterol: 69mg (23%) Potassium: 1106mg (32%) Fiber: 3g (12%) Sugar: 14g (16%) Vitamin A: 270IU (5%) Vitamin C: 14.9mg (18%) Calcium: 95mg (10%) Iron: 4.4mg (24%)\\n\\n\\n\\n\\n\\nnutritional info disclaimer\\n\\t\\t\\t\\t\\t\\t \\n\\n\\n\\n\\n\\nTheWoksofLife.com is written and produced for informational purposes only. While we do our best to provide nutritional information as a general guideline to our readers, we are not certified nutritionists, and the values provided should be considered estimates. Factors such as brands purchased, natural variations in fresh ingredients, etc. will change the nutritional information in any recipe. Various online calculators also provide different results, depending on their sources. To obtain accurate nutritional information for a recipe, use your preferred nutrition calculator to determine nutritional information with the actual ingredients and quantities used.\\n\\n\\n\\n\\n\\n\\n\\n\\n\\n\\n\\n\\n\\n\\n   Did You Make This?Tag us on Instagram @thewoksoflife, subscribe to our email list, and be sure to follow us on social for more recipes!\\n@thewoksoflife\\n\\n\\n\\nYou may also like…\\n\\n\\n\\n\\nSpicy Beef Noodle Soup\\n\\n\\n\\n\\nLanzhou Beef Noodle Soup\\n\\n\\n\\n\\nBraised Beef Noodle Soup (红烧牛肉面)\\n\\n\\n\\n\\nShanghai Home-style Noodle Soup',\n",
       "  'Spicy Beef Noodle Soup\\n\\n\\n\\n\\nLanzhou Beef Noodle Soup\\n\\n\\n\\n\\nBraised Beef Noodle Soup (红烧牛肉面)\\n\\n\\n\\n\\nShanghai Home-style Noodle Soup\\n\\n\\n\\n\\n \\n\\n\\n\\n\\n \\n\\n\\n\\n\\n \\n\\n\\n\\n\\n \\n\\n\\n\\nAbout SarahSarah Leung is the eldest daughter in The Woks of Life family, working alongside younger sister Kaitlin and parents Bill and Judy. You could say this multigenerational recipe blog was born out of two things: 1) her realization in college that she had no idea how to make her mom’s Braised Pork Belly and 2) that she couldn’t find a job after graduation. With the rest of the family on board, she laid the groundwork for the blog in 2013. By 2015, it had become one of the internet’s most trusted resources for Chinese cooking. Creator of quick and easy recipes for harried home cooks and official Woks of Life photographer, Sarah loves creating accessible recipes that chase down familiar nostalgic flavors while adapting to the needs of modern home cooks. Alongside her family, Sarah has become a New York Times Bestselling author with their cookbook, The Woks of Life: Recipes to Know and Love from a Chinese American Family, as well as a James Beard Award nominee and IACP Award finalist.\\n\\n\\n\\n Previous PostThai Beef Salad\\n\\n\\nNext Post Miso Fish (Just 4 Ingredients!)\\n\\n\\n\\n \\n\\n\\n\\n\\n\\n Subscribe\\n\\n\\n\\n\\n\\n\\n\\n\\n\\nNotify of \\n\\n\\nnew follow-up comments\\nnew replies to my comments\\n\\n\\n\\n\\n\\n\\n\\n\\n \\n\\n\\n\\n\\n\\n\\n\\n \\n\\n\\nLabel\\n\\n\\n\\n\\n\\n\\n\\n\\n\\n\\nRate this recipe: \\n\\nRate this recipe:\\n\\n\\n\\n\\n\\n\\n\\n\\n\\n\\n\\n\\n\\n\\n\\n\\n\\n\\n\\n\\n\\n\\n\\n\\n\\n\\n\\n\\n\\n\\n\\n\\n\\n\\n\\n\\n\\n\\n\\n\\n\\n\\n\\n\\n\\n\\n\\n\\n\\n\\n\\n\\n\\n\\n\\n\\n\\n\\n \\n\\n\\n\\n\\n\\n\\n\\n\\n\\n\\nName*\\n\\n\\n\\n\\n\\nEmail*\\n\\n\\n\\n\\n\\n\\n\\n\\n\\n\\n\\nΔ \\n\\n\\n\\n\\n\\n\\n\\n\\n\\n\\n \\n\\n\\nLabel\\n\\n\\n\\n\\n\\n\\n\\n\\n\\n\\nRate this recipe: \\n\\nRate this recipe:\\n\\n\\n\\n\\n\\n\\n\\n\\n\\n\\n\\n\\n\\n\\n\\n\\n\\n\\n\\n\\n\\n\\n\\n\\n\\n\\n\\n\\n\\n\\n\\n\\n\\n\\n\\n\\n\\n\\n\\n\\n\\n\\n\\n\\n\\n\\n\\n\\n\\n\\n\\n\\n\\n\\n\\n\\n\\n\\n \\n\\n\\n\\n\\n\\n\\n\\n\\n\\n\\nName*\\n\\n\\n\\n\\n\\nEmail*\\n\\n\\n\\n\\n\\n\\n\\n\\n\\n\\n\\nΔ \\n\\n\\n\\nThis site uses Akismet to reduce spam. Learn how your comment data is processed. \\n\\n\\n442 Comments                    \\n\\n\\n\\nNewest\\n\\n\\nOldest\\nMost Voted\\n\\n\\n\\n\\n\\n Inline Feedbacks                    \\nView all comments\\n\\n\\n\\n\\n\\n                                    Load More Comments                                \\n\\n\\n\\n\\n\\n\\n\\n\\n\\nPrimary Sidebar',\n",
       "  \"442 Comments                    \\n\\n\\n\\nNewest\\n\\n\\nOldest\\nMost Voted\\n\\n\\n\\n\\n\\n Inline Feedbacks                    \\nView all comments\\n\\n\\n\\n\\n\\n                                    Load More Comments                                \\n\\n\\n\\n\\n\\n\\n\\n\\n\\nPrimary Sidebar\\n\\n\\n\\n\\nWelcome!\\nWe’re Sarah, Kaitlin, Judy, and Bill– a family of four cooks sharing our home-cooked and restaurant-style recipes.\\nOur Story \\n\\n\\n\\n\\n\\n\\n\\n\\n25 Top Recipes\\nTOP 25 RECIPES\\nfree eBook\\nSubscribe for the latest updates on new recipes, and get started with our family's Top 25 Recipe eBook!\\n\\nGet It Now\\n\\n\\n\\n\\n\\n\\n\\n\\n\\n\\nCooking Tools\\n\\n\\n\\nWok Guide\\n\\n\\n\\nIngredients 101\\n\\n\\n\\nKitchen Wisdom\\n\\n\\n  Surprise Me!  \\n\\n\\n\\n\\n\\n\\n\\n\\nSign Up For Email Updates & Receive Our\\nTop 25 Recipes Ebook!\\n\\n\\n\\n\\n\\n\\nLeave this field empty if you're human:  \\n\\n\\n\\n\\n\\n\\n\\nOur Family Favorites\\n\\n\\n\\n\\n\\n\\n\\nbill's pick \\n\\n\\n\\n\\t\\t\\t\\t\\tBeef and Broccoli\\n\\t\\t\\t\\t\\t\\n\\n\\n\\n\\n\\n\\n\\n\\njudy's pick \\n\\n\\n\\n\\t\\t\\t\\t\\tAsian Milk Bread\\n\\t\\t\\t\\t\\t\\n\\n\\n\\n\\n\\n\\n\\n\\nsarah's pick \\n\\n\\n\\n\\t\\t\\t\\t\\tChicken Adobo\\n\\t\\t\\t\\t\\t\\n\\n\\n\\n\\n\\n\\n\\n\\nkaitlin's pick \\n\\n\\n\\n\\t\\t\\t\\t\\tMapo Tofu\\n\\t\\t\\t\\t\\t\\n\\n\\n\\n\\n\\n\\n\\n\\n\\n\\n\\n\\n\\nSign Up For Email Updates & Receive Our\\nTop 25 Recipes Ebook!\\n\\n\\n\\n\\n\\n\\nLeave this field empty if you're human:  \\n\\n\\n\\n\\n\\n“I am proud to say that your genealogy has been the sole tutorial for my Asian-inspired culinary adventures for years; probably since you began. Time and again, my worldwide web pursuits for solid recipes that I know my family will eat has landed me back here.”\\nBeth, Community Member Since 2013\\n\\n\\n\\n\\n\\n\\n\\n\\n\\n\\n\\n\\n\\n\\n\\n\\n\\n\\n\\n\\n\\n\\n\\n\\n\\n\\n\\n\\n\\n\\n\\n\\n\\n\\n\\n\\n\\n\\n\\n\\n\\n\\n\\n\\n\\n\\n\\n\\n\\n\\n\\n\\n\\n\\n\\n\\n\\n\\n\\n\\n\\n\\n\\n\\n\\n\\n\\n\\nSearch\\n\\n\\n\\n\\nFacebook\\nInstagram\\nPinterest\\nYouTube\\n\\n\\n\\n\\n\\n©\\xa02013–2025 The Woks of Life\\nPrivacy Policy\\nDisclaimer\\n\\n\\nSite Credits\\n\\nSite design by Melissa Rose Design\\nLogo & Illustrations by Sasa Khalisa\\nDeveloped by Once Coupled\\n\\n\\nBack To Top\\n\\n\\n\\n\\n\\nOpens in a new window\\nOpens an external site\\nOpens an external site in a new window\\n\\n\\n\\n\\n\\n\\n\\nGet Updates On New Recipes & Our\\n\\n\\nFree Recipe Ebook!\\n\\n\\n\\n\\n\\nI consent to receive emails from The Woks of Life.\\r\\n\\n\\n\\n\\n\\n\\n\\n\\n\\n\\n\\n\\n\\n\\n\\n\\n\\nwpDiscuzInsert\"],\n",
       " 'data': None,\n",
       " 'uris': None,\n",
       " 'included': ['documents', 'metadatas']}"
      ]
     },
     "execution_count": 88,
     "metadata": {},
     "output_type": "execute_result"
    }
   ],
   "execution_count": 88
  },
  {
   "metadata": {},
   "cell_type": "code",
   "outputs": [],
   "execution_count": null,
   "source": "",
   "id": "7df033a4bb0b70f"
  }
 ],
 "metadata": {
  "kernelspec": {
   "display_name": "Python 3",
   "language": "python",
   "name": "python3"
  },
  "language_info": {
   "codemirror_mode": {
    "name": "ipython",
    "version": 2
   },
   "file_extension": ".py",
   "mimetype": "text/x-python",
   "name": "python",
   "nbconvert_exporter": "python",
   "pygments_lexer": "ipython2",
   "version": "2.7.6"
  }
 },
 "nbformat": 4,
 "nbformat_minor": 5
}
