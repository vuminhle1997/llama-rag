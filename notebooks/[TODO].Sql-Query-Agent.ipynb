{
 "cells": [
  {
   "cell_type": "code",
   "id": "initial_id",
   "metadata": {
    "collapsed": true,
    "ExecuteTime": {
     "end_time": "2025-03-26T21:02:12.279335Z",
     "start_time": "2025-03-26T21:02:10.828821Z"
    }
   },
   "source": [
    "import uuid\n",
    "\n",
    "from llama_index.core.base.llms.types import ChatMessage, MessageRole\n",
    "from sqlalchemy import (\n",
    "    create_engine,\n",
    "    MetaData,\n",
    "    Table,\n",
    "    Column,\n",
    "    String,\n",
    "    Integer,\n",
    "    select,\n",
    ")\n",
    "from sqlmodel import Session\n",
    "import psycopg2"
   ],
   "outputs": [],
   "execution_count": 1
  },
  {
   "metadata": {
    "ExecuteTime": {
     "end_time": "2025-03-21T11:49:53.637021Z",
     "start_time": "2025-03-21T11:49:53.634484Z"
    }
   },
   "cell_type": "code",
   "source": [
    "engine = create_engine(\"sqlite:///:memory:\")\n",
    "metadata_obj = MetaData()"
   ],
   "id": "884b9822efec0540",
   "outputs": [],
   "execution_count": 62
  },
  {
   "metadata": {
    "ExecuteTime": {
     "end_time": "2025-03-21T11:49:55.410239Z",
     "start_time": "2025-03-21T11:49:55.407615Z"
    }
   },
   "cell_type": "code",
   "source": [
    "sqlite_file_name = \"database.db\"\n",
    "sqlite_url = f\"sqlite:///{sqlite_file_name}\"\n",
    "connect_args = {\"check_same_thread\": False}\n",
    "engine = create_engine(sqlite_url, connect_args=connect_args)"
   ],
   "id": "55e713e2e245a919",
   "outputs": [],
   "execution_count": 63
  },
  {
   "metadata": {
    "ExecuteTime": {
     "end_time": "2025-03-21T11:49:55.801155Z",
     "start_time": "2025-03-21T11:49:55.797621Z"
    }
   },
   "cell_type": "code",
   "source": [
    "# create city SQL table\n",
    "table_name = \"city_stats\"\n",
    "city_stats_table = Table(\n",
    "    table_name,\n",
    "    metadata_obj,\n",
    "    Column(\"city_name\", String(16), primary_key=True),\n",
    "    Column(\"population\", Integer),\n",
    "    Column(\"country\", String(16), nullable=False),\n",
    ")\n",
    "metadata_obj.create_all(engine)"
   ],
   "id": "6be2789798811e0f",
   "outputs": [],
   "execution_count": 64
  },
  {
   "metadata": {
    "ExecuteTime": {
     "end_time": "2025-03-21T11:49:56.317349Z",
     "start_time": "2025-03-21T11:49:56.238527Z"
    }
   },
   "cell_type": "code",
   "source": [
    "from llama_index.core import SQLDatabase\n",
    "sql_database = SQLDatabase(engine, include_tables=[\"city_stats\"])\n",
    "\n",
    "from sqlalchemy import insert\n",
    "\n",
    "rows = [\n",
    "    {\"city_name\": \"Toronto\", \"population\": 2930000, \"country\": \"Canada\"},\n",
    "    {\"city_name\": \"Tokyo\", \"population\": 13960000, \"country\": \"Japan\"},\n",
    "    {\n",
    "        \"city_name\": \"Chicago\",\n",
    "        \"population\": 2679000,\n",
    "        \"country\": \"United States\",\n",
    "    },\n",
    "    {\"city_name\": \"Seoul\", \"population\": 9776000, \"country\": \"South Korea\"},\n",
    "]\n",
    "for row in rows:\n",
    "    stmt = insert(city_stats_table).values(**row)\n",
    "    with engine.begin() as connection:\n",
    "        cursor = connection.execute(stmt)"
   ],
   "id": "25d0fce39347f2b7",
   "outputs": [
    {
     "ename": "IntegrityError",
     "evalue": "(sqlite3.IntegrityError) UNIQUE constraint failed: city_stats.city_name\n[SQL: INSERT INTO city_stats (city_name, population, country) VALUES (?, ?, ?)]\n[parameters: ('Toronto', 2930000, 'Canada')]\n(Background on this error at: https://sqlalche.me/e/20/gkpj)",
     "output_type": "error",
     "traceback": [
      "\u001B[31m---------------------------------------------------------------------------\u001B[39m",
      "\u001B[31mIntegrityError\u001B[39m                            Traceback (most recent call last)",
      "\u001B[36mFile \u001B[39m\u001B[32m~/PycharmProjects/llama-rag/notebooks/venv/lib/python3.12/site-packages/sqlalchemy/engine/base.py:1964\u001B[39m, in \u001B[36mConnection._exec_single_context\u001B[39m\u001B[34m(self, dialect, context, statement, parameters)\u001B[39m\n\u001B[32m   1963\u001B[39m     \u001B[38;5;28;01mif\u001B[39;00m \u001B[38;5;129;01mnot\u001B[39;00m evt_handled:\n\u001B[32m-> \u001B[39m\u001B[32m1964\u001B[39m         \u001B[38;5;28;43mself\u001B[39;49m\u001B[43m.\u001B[49m\u001B[43mdialect\u001B[49m\u001B[43m.\u001B[49m\u001B[43mdo_execute\u001B[49m\u001B[43m(\u001B[49m\n\u001B[32m   1965\u001B[39m \u001B[43m            \u001B[49m\u001B[43mcursor\u001B[49m\u001B[43m,\u001B[49m\u001B[43m \u001B[49m\u001B[43mstr_statement\u001B[49m\u001B[43m,\u001B[49m\u001B[43m \u001B[49m\u001B[43meffective_parameters\u001B[49m\u001B[43m,\u001B[49m\u001B[43m \u001B[49m\u001B[43mcontext\u001B[49m\n\u001B[32m   1966\u001B[39m \u001B[43m        \u001B[49m\u001B[43m)\u001B[49m\n\u001B[32m   1968\u001B[39m \u001B[38;5;28;01mif\u001B[39;00m \u001B[38;5;28mself\u001B[39m._has_events \u001B[38;5;129;01mor\u001B[39;00m \u001B[38;5;28mself\u001B[39m.engine._has_events:\n",
      "\u001B[36mFile \u001B[39m\u001B[32m~/PycharmProjects/llama-rag/notebooks/venv/lib/python3.12/site-packages/sqlalchemy/engine/default.py:942\u001B[39m, in \u001B[36mDefaultDialect.do_execute\u001B[39m\u001B[34m(self, cursor, statement, parameters, context)\u001B[39m\n\u001B[32m    941\u001B[39m \u001B[38;5;28;01mdef\u001B[39;00m\u001B[38;5;250m \u001B[39m\u001B[34mdo_execute\u001B[39m(\u001B[38;5;28mself\u001B[39m, cursor, statement, parameters, context=\u001B[38;5;28;01mNone\u001B[39;00m):\n\u001B[32m--> \u001B[39m\u001B[32m942\u001B[39m     \u001B[43mcursor\u001B[49m\u001B[43m.\u001B[49m\u001B[43mexecute\u001B[49m\u001B[43m(\u001B[49m\u001B[43mstatement\u001B[49m\u001B[43m,\u001B[49m\u001B[43m \u001B[49m\u001B[43mparameters\u001B[49m\u001B[43m)\u001B[49m\n",
      "\u001B[31mIntegrityError\u001B[39m: UNIQUE constraint failed: city_stats.city_name",
      "\nThe above exception was the direct cause of the following exception:\n",
      "\u001B[31mIntegrityError\u001B[39m                            Traceback (most recent call last)",
      "\u001B[36mCell\u001B[39m\u001B[36m \u001B[39m\u001B[32mIn[65]\u001B[39m\u001B[32m, line 19\u001B[39m\n\u001B[32m     17\u001B[39m stmt = insert(city_stats_table).values(**row)\n\u001B[32m     18\u001B[39m \u001B[38;5;28;01mwith\u001B[39;00m engine.begin() \u001B[38;5;28;01mas\u001B[39;00m connection:\n\u001B[32m---> \u001B[39m\u001B[32m19\u001B[39m     cursor = \u001B[43mconnection\u001B[49m\u001B[43m.\u001B[49m\u001B[43mexecute\u001B[49m\u001B[43m(\u001B[49m\u001B[43mstmt\u001B[49m\u001B[43m)\u001B[49m\n",
      "\u001B[36mFile \u001B[39m\u001B[32m~/PycharmProjects/llama-rag/notebooks/venv/lib/python3.12/site-packages/sqlalchemy/engine/base.py:1416\u001B[39m, in \u001B[36mConnection.execute\u001B[39m\u001B[34m(self, statement, parameters, execution_options)\u001B[39m\n\u001B[32m   1414\u001B[39m     \u001B[38;5;28;01mraise\u001B[39;00m exc.ObjectNotExecutableError(statement) \u001B[38;5;28;01mfrom\u001B[39;00m\u001B[38;5;250m \u001B[39m\u001B[34;01merr\u001B[39;00m\n\u001B[32m   1415\u001B[39m \u001B[38;5;28;01melse\u001B[39;00m:\n\u001B[32m-> \u001B[39m\u001B[32m1416\u001B[39m     \u001B[38;5;28;01mreturn\u001B[39;00m \u001B[43mmeth\u001B[49m\u001B[43m(\u001B[49m\n\u001B[32m   1417\u001B[39m \u001B[43m        \u001B[49m\u001B[38;5;28;43mself\u001B[39;49m\u001B[43m,\u001B[49m\n\u001B[32m   1418\u001B[39m \u001B[43m        \u001B[49m\u001B[43mdistilled_parameters\u001B[49m\u001B[43m,\u001B[49m\n\u001B[32m   1419\u001B[39m \u001B[43m        \u001B[49m\u001B[43mexecution_options\u001B[49m\u001B[43m \u001B[49m\u001B[38;5;129;43;01mor\u001B[39;49;00m\u001B[43m \u001B[49m\u001B[43mNO_OPTIONS\u001B[49m\u001B[43m,\u001B[49m\n\u001B[32m   1420\u001B[39m \u001B[43m    \u001B[49m\u001B[43m)\u001B[49m\n",
      "\u001B[36mFile \u001B[39m\u001B[32m~/PycharmProjects/llama-rag/notebooks/venv/lib/python3.12/site-packages/sqlalchemy/sql/elements.py:516\u001B[39m, in \u001B[36mClauseElement._execute_on_connection\u001B[39m\u001B[34m(self, connection, distilled_params, execution_options)\u001B[39m\n\u001B[32m    514\u001B[39m     \u001B[38;5;28;01mif\u001B[39;00m TYPE_CHECKING:\n\u001B[32m    515\u001B[39m         \u001B[38;5;28;01massert\u001B[39;00m \u001B[38;5;28misinstance\u001B[39m(\u001B[38;5;28mself\u001B[39m, Executable)\n\u001B[32m--> \u001B[39m\u001B[32m516\u001B[39m     \u001B[38;5;28;01mreturn\u001B[39;00m \u001B[43mconnection\u001B[49m\u001B[43m.\u001B[49m\u001B[43m_execute_clauseelement\u001B[49m\u001B[43m(\u001B[49m\n\u001B[32m    517\u001B[39m \u001B[43m        \u001B[49m\u001B[38;5;28;43mself\u001B[39;49m\u001B[43m,\u001B[49m\u001B[43m \u001B[49m\u001B[43mdistilled_params\u001B[49m\u001B[43m,\u001B[49m\u001B[43m \u001B[49m\u001B[43mexecution_options\u001B[49m\n\u001B[32m    518\u001B[39m \u001B[43m    \u001B[49m\u001B[43m)\u001B[49m\n\u001B[32m    519\u001B[39m \u001B[38;5;28;01melse\u001B[39;00m:\n\u001B[32m    520\u001B[39m     \u001B[38;5;28;01mraise\u001B[39;00m exc.ObjectNotExecutableError(\u001B[38;5;28mself\u001B[39m)\n",
      "\u001B[36mFile \u001B[39m\u001B[32m~/PycharmProjects/llama-rag/notebooks/venv/lib/python3.12/site-packages/sqlalchemy/engine/base.py:1638\u001B[39m, in \u001B[36mConnection._execute_clauseelement\u001B[39m\u001B[34m(self, elem, distilled_parameters, execution_options)\u001B[39m\n\u001B[32m   1626\u001B[39m compiled_cache: Optional[CompiledCacheType] = execution_options.get(\n\u001B[32m   1627\u001B[39m     \u001B[33m\"\u001B[39m\u001B[33mcompiled_cache\u001B[39m\u001B[33m\"\u001B[39m, \u001B[38;5;28mself\u001B[39m.engine._compiled_cache\n\u001B[32m   1628\u001B[39m )\n\u001B[32m   1630\u001B[39m compiled_sql, extracted_params, cache_hit = elem._compile_w_cache(\n\u001B[32m   1631\u001B[39m     dialect=dialect,\n\u001B[32m   1632\u001B[39m     compiled_cache=compiled_cache,\n\u001B[32m   (...)\u001B[39m\u001B[32m   1636\u001B[39m     linting=\u001B[38;5;28mself\u001B[39m.dialect.compiler_linting | compiler.WARN_LINTING,\n\u001B[32m   1637\u001B[39m )\n\u001B[32m-> \u001B[39m\u001B[32m1638\u001B[39m ret = \u001B[38;5;28;43mself\u001B[39;49m\u001B[43m.\u001B[49m\u001B[43m_execute_context\u001B[49m\u001B[43m(\u001B[49m\n\u001B[32m   1639\u001B[39m \u001B[43m    \u001B[49m\u001B[43mdialect\u001B[49m\u001B[43m,\u001B[49m\n\u001B[32m   1640\u001B[39m \u001B[43m    \u001B[49m\u001B[43mdialect\u001B[49m\u001B[43m.\u001B[49m\u001B[43mexecution_ctx_cls\u001B[49m\u001B[43m.\u001B[49m\u001B[43m_init_compiled\u001B[49m\u001B[43m,\u001B[49m\n\u001B[32m   1641\u001B[39m \u001B[43m    \u001B[49m\u001B[43mcompiled_sql\u001B[49m\u001B[43m,\u001B[49m\n\u001B[32m   1642\u001B[39m \u001B[43m    \u001B[49m\u001B[43mdistilled_parameters\u001B[49m\u001B[43m,\u001B[49m\n\u001B[32m   1643\u001B[39m \u001B[43m    \u001B[49m\u001B[43mexecution_options\u001B[49m\u001B[43m,\u001B[49m\n\u001B[32m   1644\u001B[39m \u001B[43m    \u001B[49m\u001B[43mcompiled_sql\u001B[49m\u001B[43m,\u001B[49m\n\u001B[32m   1645\u001B[39m \u001B[43m    \u001B[49m\u001B[43mdistilled_parameters\u001B[49m\u001B[43m,\u001B[49m\n\u001B[32m   1646\u001B[39m \u001B[43m    \u001B[49m\u001B[43melem\u001B[49m\u001B[43m,\u001B[49m\n\u001B[32m   1647\u001B[39m \u001B[43m    \u001B[49m\u001B[43mextracted_params\u001B[49m\u001B[43m,\u001B[49m\n\u001B[32m   1648\u001B[39m \u001B[43m    \u001B[49m\u001B[43mcache_hit\u001B[49m\u001B[43m=\u001B[49m\u001B[43mcache_hit\u001B[49m\u001B[43m,\u001B[49m\n\u001B[32m   1649\u001B[39m \u001B[43m\u001B[49m\u001B[43m)\u001B[49m\n\u001B[32m   1650\u001B[39m \u001B[38;5;28;01mif\u001B[39;00m has_events:\n\u001B[32m   1651\u001B[39m     \u001B[38;5;28mself\u001B[39m.dispatch.after_execute(\n\u001B[32m   1652\u001B[39m         \u001B[38;5;28mself\u001B[39m,\n\u001B[32m   1653\u001B[39m         elem,\n\u001B[32m   (...)\u001B[39m\u001B[32m   1657\u001B[39m         ret,\n\u001B[32m   1658\u001B[39m     )\n",
      "\u001B[36mFile \u001B[39m\u001B[32m~/PycharmProjects/llama-rag/notebooks/venv/lib/python3.12/site-packages/sqlalchemy/engine/base.py:1843\u001B[39m, in \u001B[36mConnection._execute_context\u001B[39m\u001B[34m(self, dialect, constructor, statement, parameters, execution_options, *args, **kw)\u001B[39m\n\u001B[32m   1841\u001B[39m     \u001B[38;5;28;01mreturn\u001B[39;00m \u001B[38;5;28mself\u001B[39m._exec_insertmany_context(dialect, context)\n\u001B[32m   1842\u001B[39m \u001B[38;5;28;01melse\u001B[39;00m:\n\u001B[32m-> \u001B[39m\u001B[32m1843\u001B[39m     \u001B[38;5;28;01mreturn\u001B[39;00m \u001B[38;5;28;43mself\u001B[39;49m\u001B[43m.\u001B[49m\u001B[43m_exec_single_context\u001B[49m\u001B[43m(\u001B[49m\n\u001B[32m   1844\u001B[39m \u001B[43m        \u001B[49m\u001B[43mdialect\u001B[49m\u001B[43m,\u001B[49m\u001B[43m \u001B[49m\u001B[43mcontext\u001B[49m\u001B[43m,\u001B[49m\u001B[43m \u001B[49m\u001B[43mstatement\u001B[49m\u001B[43m,\u001B[49m\u001B[43m \u001B[49m\u001B[43mparameters\u001B[49m\n\u001B[32m   1845\u001B[39m \u001B[43m    \u001B[49m\u001B[43m)\u001B[49m\n",
      "\u001B[36mFile \u001B[39m\u001B[32m~/PycharmProjects/llama-rag/notebooks/venv/lib/python3.12/site-packages/sqlalchemy/engine/base.py:1983\u001B[39m, in \u001B[36mConnection._exec_single_context\u001B[39m\u001B[34m(self, dialect, context, statement, parameters)\u001B[39m\n\u001B[32m   1980\u001B[39m     result = context._setup_result_proxy()\n\u001B[32m   1982\u001B[39m \u001B[38;5;28;01mexcept\u001B[39;00m \u001B[38;5;167;01mBaseException\u001B[39;00m \u001B[38;5;28;01mas\u001B[39;00m e:\n\u001B[32m-> \u001B[39m\u001B[32m1983\u001B[39m     \u001B[38;5;28;43mself\u001B[39;49m\u001B[43m.\u001B[49m\u001B[43m_handle_dbapi_exception\u001B[49m\u001B[43m(\u001B[49m\n\u001B[32m   1984\u001B[39m \u001B[43m        \u001B[49m\u001B[43me\u001B[49m\u001B[43m,\u001B[49m\u001B[43m \u001B[49m\u001B[43mstr_statement\u001B[49m\u001B[43m,\u001B[49m\u001B[43m \u001B[49m\u001B[43meffective_parameters\u001B[49m\u001B[43m,\u001B[49m\u001B[43m \u001B[49m\u001B[43mcursor\u001B[49m\u001B[43m,\u001B[49m\u001B[43m \u001B[49m\u001B[43mcontext\u001B[49m\n\u001B[32m   1985\u001B[39m \u001B[43m    \u001B[49m\u001B[43m)\u001B[49m\n\u001B[32m   1987\u001B[39m \u001B[38;5;28;01mreturn\u001B[39;00m result\n",
      "\u001B[36mFile \u001B[39m\u001B[32m~/PycharmProjects/llama-rag/notebooks/venv/lib/python3.12/site-packages/sqlalchemy/engine/base.py:2352\u001B[39m, in \u001B[36mConnection._handle_dbapi_exception\u001B[39m\u001B[34m(self, e, statement, parameters, cursor, context, is_sub_exec)\u001B[39m\n\u001B[32m   2350\u001B[39m \u001B[38;5;28;01melif\u001B[39;00m should_wrap:\n\u001B[32m   2351\u001B[39m     \u001B[38;5;28;01massert\u001B[39;00m sqlalchemy_exception \u001B[38;5;129;01mis\u001B[39;00m \u001B[38;5;129;01mnot\u001B[39;00m \u001B[38;5;28;01mNone\u001B[39;00m\n\u001B[32m-> \u001B[39m\u001B[32m2352\u001B[39m     \u001B[38;5;28;01mraise\u001B[39;00m sqlalchemy_exception.with_traceback(exc_info[\u001B[32m2\u001B[39m]) \u001B[38;5;28;01mfrom\u001B[39;00m\u001B[38;5;250m \u001B[39m\u001B[34;01me\u001B[39;00m\n\u001B[32m   2353\u001B[39m \u001B[38;5;28;01melse\u001B[39;00m:\n\u001B[32m   2354\u001B[39m     \u001B[38;5;28;01massert\u001B[39;00m exc_info[\u001B[32m1\u001B[39m] \u001B[38;5;129;01mis\u001B[39;00m \u001B[38;5;129;01mnot\u001B[39;00m \u001B[38;5;28;01mNone\u001B[39;00m\n",
      "\u001B[36mFile \u001B[39m\u001B[32m~/PycharmProjects/llama-rag/notebooks/venv/lib/python3.12/site-packages/sqlalchemy/engine/base.py:1964\u001B[39m, in \u001B[36mConnection._exec_single_context\u001B[39m\u001B[34m(self, dialect, context, statement, parameters)\u001B[39m\n\u001B[32m   1962\u001B[39m                 \u001B[38;5;28;01mbreak\u001B[39;00m\n\u001B[32m   1963\u001B[39m     \u001B[38;5;28;01mif\u001B[39;00m \u001B[38;5;129;01mnot\u001B[39;00m evt_handled:\n\u001B[32m-> \u001B[39m\u001B[32m1964\u001B[39m         \u001B[38;5;28;43mself\u001B[39;49m\u001B[43m.\u001B[49m\u001B[43mdialect\u001B[49m\u001B[43m.\u001B[49m\u001B[43mdo_execute\u001B[49m\u001B[43m(\u001B[49m\n\u001B[32m   1965\u001B[39m \u001B[43m            \u001B[49m\u001B[43mcursor\u001B[49m\u001B[43m,\u001B[49m\u001B[43m \u001B[49m\u001B[43mstr_statement\u001B[49m\u001B[43m,\u001B[49m\u001B[43m \u001B[49m\u001B[43meffective_parameters\u001B[49m\u001B[43m,\u001B[49m\u001B[43m \u001B[49m\u001B[43mcontext\u001B[49m\n\u001B[32m   1966\u001B[39m \u001B[43m        \u001B[49m\u001B[43m)\u001B[49m\n\u001B[32m   1968\u001B[39m \u001B[38;5;28;01mif\u001B[39;00m \u001B[38;5;28mself\u001B[39m._has_events \u001B[38;5;129;01mor\u001B[39;00m \u001B[38;5;28mself\u001B[39m.engine._has_events:\n\u001B[32m   1969\u001B[39m     \u001B[38;5;28mself\u001B[39m.dispatch.after_cursor_execute(\n\u001B[32m   1970\u001B[39m         \u001B[38;5;28mself\u001B[39m,\n\u001B[32m   1971\u001B[39m         cursor,\n\u001B[32m   (...)\u001B[39m\u001B[32m   1975\u001B[39m         context.executemany,\n\u001B[32m   1976\u001B[39m     )\n",
      "\u001B[36mFile \u001B[39m\u001B[32m~/PycharmProjects/llama-rag/notebooks/venv/lib/python3.12/site-packages/sqlalchemy/engine/default.py:942\u001B[39m, in \u001B[36mDefaultDialect.do_execute\u001B[39m\u001B[34m(self, cursor, statement, parameters, context)\u001B[39m\n\u001B[32m    941\u001B[39m \u001B[38;5;28;01mdef\u001B[39;00m\u001B[38;5;250m \u001B[39m\u001B[34mdo_execute\u001B[39m(\u001B[38;5;28mself\u001B[39m, cursor, statement, parameters, context=\u001B[38;5;28;01mNone\u001B[39;00m):\n\u001B[32m--> \u001B[39m\u001B[32m942\u001B[39m     \u001B[43mcursor\u001B[49m\u001B[43m.\u001B[49m\u001B[43mexecute\u001B[49m\u001B[43m(\u001B[49m\u001B[43mstatement\u001B[49m\u001B[43m,\u001B[49m\u001B[43m \u001B[49m\u001B[43mparameters\u001B[49m\u001B[43m)\u001B[49m\n",
      "\u001B[31mIntegrityError\u001B[39m: (sqlite3.IntegrityError) UNIQUE constraint failed: city_stats.city_name\n[SQL: INSERT INTO city_stats (city_name, population, country) VALUES (?, ?, ?)]\n[parameters: ('Toronto', 2930000, 'Canada')]\n(Background on this error at: https://sqlalche.me/e/20/gkpj)"
     ]
    }
   ],
   "execution_count": 65
  },
  {
   "metadata": {
    "ExecuteTime": {
     "end_time": "2025-03-21T11:49:59.816388Z",
     "start_time": "2025-03-21T11:49:59.813808Z"
    }
   },
   "cell_type": "code",
   "source": [
    "# view current table\n",
    "stmt = select(\n",
    "    city_stats_table.c.city_name,\n",
    "    city_stats_table.c.population,\n",
    "    city_stats_table.c.country,\n",
    ").select_from(city_stats_table)\n",
    "\n",
    "with engine.connect() as connection:\n",
    "    results = connection.execute(stmt).fetchall()\n",
    "    print(results)"
   ],
   "id": "9c3142652697785a",
   "outputs": [
    {
     "name": "stdout",
     "output_type": "stream",
     "text": [
      "[('Toronto', 2930000, 'Canada'), ('Tokyo', 13960000, 'Japan'), ('Chicago', 2679000, 'United States'), ('Seoul', 9776000, 'South Korea')]\n"
     ]
    }
   ],
   "execution_count": 66
  },
  {
   "metadata": {
    "ExecuteTime": {
     "end_time": "2025-03-21T11:50:00.486245Z",
     "start_time": "2025-03-21T11:50:00.483266Z"
    }
   },
   "cell_type": "code",
   "source": [
    "from sqlalchemy import text\n",
    "\n",
    "with engine.connect() as con:\n",
    "    rows = con.execute(text(\"SELECT city_name from city_stats\"))\n",
    "    for row in rows:\n",
    "        print(row)"
   ],
   "id": "1978eceb2b9b0e4b",
   "outputs": [
    {
     "name": "stdout",
     "output_type": "stream",
     "text": [
      "('Chicago',)\n",
      "('Seoul',)\n",
      "('Tokyo',)\n",
      "('Toronto',)\n"
     ]
    }
   ],
   "execution_count": 67
  },
  {
   "metadata": {
    "ExecuteTime": {
     "end_time": "2025-03-21T11:56:42.728870Z",
     "start_time": "2025-03-21T11:56:42.701522Z"
    }
   },
   "cell_type": "code",
   "source": [
    "from llama_index.llms.ollama import Ollama\n",
    "from llama_index.core.settings import Settings\n",
    "from llama_index.embeddings.ollama import OllamaEmbedding\n",
    "\n",
    "llm = Ollama(model=\"llama3.1\", request_timeout=420)\n",
    "embed_model = OllamaEmbedding(model_name=\"nomic-embed-text\")\n",
    "Settings.llm = llm\n",
    "Settings.embed_model = embed_model"
   ],
   "id": "20a2aa2335eae836",
   "outputs": [],
   "execution_count": 84
  },
  {
   "metadata": {
    "ExecuteTime": {
     "end_time": "2025-03-21T11:57:19.234602Z",
     "start_time": "2025-03-21T11:56:42.991131Z"
    }
   },
   "cell_type": "code",
   "source": [
    "from llama_index.core.query_engine import NLSQLTableQueryEngine\n",
    "\n",
    "query_engine = NLSQLTableQueryEngine(\n",
    "    sql_database=sql_database, tables=[\"city_stats\"], llm=llm\n",
    ")\n",
    "query_str = \"Which city has the highest population?\"\n",
    "response = query_engine.query(query_str)"
   ],
   "id": "d846a44a054a6d43",
   "outputs": [],
   "execution_count": 85
  },
  {
   "metadata": {
    "ExecuteTime": {
     "end_time": "2025-03-21T11:57:19.243001Z",
     "start_time": "2025-03-21T11:57:19.240933Z"
    }
   },
   "cell_type": "code",
   "source": "print(response)",
   "id": "f33b19f7ed0631cb",
   "outputs": [
    {
     "name": "stdout",
     "output_type": "stream",
     "text": [
      "Based on the query results, the response would be:\n",
      "\n",
      "\"The city with the highest population is Tokyo, with a population of approximately 13.96 million.\"\n"
     ]
    }
   ],
   "execution_count": 86
  },
  {
   "metadata": {
    "ExecuteTime": {
     "end_time": "2025-03-21T11:57:19.327089Z",
     "start_time": "2025-03-21T11:57:19.287256Z"
    }
   },
   "cell_type": "code",
   "source": [
    "from llama_index.core.indices.struct_store.sql_query import (\n",
    "    SQLTableRetrieverQueryEngine,\n",
    ")\n",
    "from llama_index.core.objects import (\n",
    "    SQLTableNodeMapping,\n",
    "    ObjectIndex,\n",
    "    SQLTableSchema,\n",
    ")\n",
    "from llama_index.core import VectorStoreIndex\n",
    "\n",
    "# set Logging to DEBUG for more detailed outputs\n",
    "table_node_mapping = SQLTableNodeMapping(sql_database)\n",
    "table_schema_objs = [\n",
    "    (SQLTableSchema(table_name=\"city_stats\"))\n",
    "]  # add a SQLTableSchema for each table\n",
    "\n",
    "obj_index = ObjectIndex.from_objects(\n",
    "    table_schema_objs,\n",
    "    table_node_mapping,\n",
    "    VectorStoreIndex,\n",
    ")\n",
    "query_engine = SQLTableRetrieverQueryEngine(\n",
    "    sql_database, obj_index.as_retriever(similarity_top_k=1)\n",
    ")"
   ],
   "id": "2913f00abf55e127",
   "outputs": [],
   "execution_count": 87
  },
  {
   "metadata": {
    "ExecuteTime": {
     "end_time": "2025-03-26T21:23:47.284980Z",
     "start_time": "2025-03-26T21:23:47.075324Z"
    }
   },
   "cell_type": "code",
   "source": [
    "from llama_index.core.indices.struct_store.sql_query import (\n",
    "    SQLTableRetrieverQueryEngine,\n",
    ")\n",
    "from llama_index.core.objects import (\n",
    "    SQLTableNodeMapping,\n",
    "    ObjectIndex,\n",
    "    SQLTableSchema,\n",
    ")\n",
    "from llama_index.core import VectorStoreIndex\n",
    "from llama_index.core.query_engine import NLSQLTableQueryEngine\n",
    "from llama_index.core import SQLDatabase\n",
    "import psycopg2\n",
    "from llama_index.llms.ollama import Ollama\n",
    "from llama_index.core.settings import Settings\n",
    "from llama_index.embeddings.ollama import OllamaEmbedding\n",
    "\n",
    "llm = Ollama(model=\"llama3.1\", request_timeout=420)\n",
    "embed_model = OllamaEmbedding(model_name=\"nomic-embed-text\")\n",
    "Settings.llm = llm\n",
    "Settings.embed_model = embed_model\n",
    "\n",
    "def list_all_tables_from_db(host: str, port: int, user: str, password: str, db: str, db_type: str, **kwargs):\n",
    "    try:\n",
    "        conn = psycopg2.connect(\n",
    "            host=host,\n",
    "            port=port,\n",
    "            user=user,\n",
    "            password=password,\n",
    "            dbname=db,\n",
    "            **kwargs,\n",
    "        )\n",
    "        cursor = conn.cursor()\n",
    "        statement = f\"SELECT table_name FROM information_schema.tables WHERE table_schema = 'public';\"\n",
    "        if db_type == \"MySQL\":\n",
    "            statement = f\"SELECT table_name FROM information_schema.tables WHERE table_schema = '{db}';\"\n",
    "        cursor.execute(statement)\n",
    "\n",
    "        tables = []\n",
    "        for table in cursor.fetchall():\n",
    "            tables.append(table[0])\n",
    "\n",
    "        cursor.close()\n",
    "        conn.close()\n",
    "        return tables\n",
    "    except psycopg2.Error as e:\n",
    "        print(f\"PostgreSQL Error: {e}\")\n",
    "        return []\n",
    "\n",
    "def initialize_pg_url(pg_host, pg_port, pg_user, pg_password, pg_db):\n",
    "    return f\"postgresql://{pg_user}:{pg_password}@{pg_host}:{pg_port}/{pg_db}\"\n",
    "\n",
    "pg_url = initialize_pg_url(\"localhost\", 5432, \"postgres\", \"password\", \"crazy\")\n",
    "engine = create_engine(pg_url)\n",
    "\n",
    "another_sql_database = SQLDatabase(engine)\n",
    "\n",
    "tables = list_all_tables_from_db(\"localhost\", 5432, \"postgres\", \"password\", \"world_test\", db_type=\"MySQL\")\n",
    "table_node_mapping = SQLTableNodeMapping(another_sql_database)\n",
    "table_schema_objs = [\n",
    "    (SQLTableSchema(table_name=table_name))\n",
    "    for table_name in tables\n",
    "]  # add a SQLTableSchema for each table\n",
    "obj_index = ObjectIndex.from_objects(\n",
    "    table_schema_objs,\n",
    "    table_node_mapping,\n",
    "    VectorStoreIndex,\n",
    ")\n",
    "query_engine = SQLTableRetrieverQueryEngine(\n",
    "    another_sql_database, obj_index.as_retriever(similarity_top_k=1)\n",
    ")"
   ],
   "id": "41d85fb47c46e48a",
   "outputs": [
    {
     "ename": "NoSuchTableError",
     "evalue": "country",
     "output_type": "error",
     "traceback": [
      "\u001B[31m---------------------------------------------------------------------------\u001B[39m",
      "\u001B[31mNoSuchTableError\u001B[39m                          Traceback (most recent call last)",
      "\u001B[36mCell\u001B[39m\u001B[36m \u001B[39m\u001B[32mIn[28]\u001B[39m\u001B[32m, line 63\u001B[39m\n\u001B[32m     58\u001B[39m table_node_mapping = SQLTableNodeMapping(another_sql_database)\n\u001B[32m     59\u001B[39m table_schema_objs = [\n\u001B[32m     60\u001B[39m     (SQLTableSchema(table_name=table_name))\n\u001B[32m     61\u001B[39m     \u001B[38;5;28;01mfor\u001B[39;00m table_name \u001B[38;5;129;01min\u001B[39;00m tables\n\u001B[32m     62\u001B[39m ]  \u001B[38;5;66;03m# add a SQLTableSchema for each table\u001B[39;00m\n\u001B[32m---> \u001B[39m\u001B[32m63\u001B[39m obj_index = \u001B[43mObjectIndex\u001B[49m\u001B[43m.\u001B[49m\u001B[43mfrom_objects\u001B[49m\u001B[43m(\u001B[49m\n\u001B[32m     64\u001B[39m \u001B[43m    \u001B[49m\u001B[43mtable_schema_objs\u001B[49m\u001B[43m,\u001B[49m\n\u001B[32m     65\u001B[39m \u001B[43m    \u001B[49m\u001B[43mtable_node_mapping\u001B[49m\u001B[43m,\u001B[49m\n\u001B[32m     66\u001B[39m \u001B[43m    \u001B[49m\u001B[43mVectorStoreIndex\u001B[49m\u001B[43m,\u001B[49m\n\u001B[32m     67\u001B[39m \u001B[43m)\u001B[49m\n\u001B[32m     68\u001B[39m query_engine = SQLTableRetrieverQueryEngine(\n\u001B[32m     69\u001B[39m     another_sql_database, obj_index.as_retriever(similarity_top_k=\u001B[32m1\u001B[39m)\n\u001B[32m     70\u001B[39m )\n",
      "\u001B[36mFile \u001B[39m\u001B[32m~/PycharmProjects/llama-rag/notebooks/venv/lib/python3.12/site-packages/llama_index/core/objects/base.py:171\u001B[39m, in \u001B[36mObjectIndex.from_objects\u001B[39m\u001B[34m(cls, objects, object_mapping, from_node_fn, to_node_fn, index_cls, **index_kwargs)\u001B[39m\n\u001B[32m    164\u001B[39m \u001B[38;5;28;01mif\u001B[39;00m object_mapping \u001B[38;5;129;01mis\u001B[39;00m \u001B[38;5;28;01mNone\u001B[39;00m:\n\u001B[32m    165\u001B[39m     object_mapping = get_object_mapping(\n\u001B[32m    166\u001B[39m         objects,\n\u001B[32m    167\u001B[39m         from_node_fn=from_node_fn,\n\u001B[32m    168\u001B[39m         to_node_fn=to_node_fn,\n\u001B[32m    169\u001B[39m     )\n\u001B[32m--> \u001B[39m\u001B[32m171\u001B[39m nodes = \u001B[43mobject_mapping\u001B[49m\u001B[43m.\u001B[49m\u001B[43mto_nodes\u001B[49m\u001B[43m(\u001B[49m\u001B[43mobjects\u001B[49m\u001B[43m)\u001B[49m\n\u001B[32m    172\u001B[39m index = index_cls(nodes, **index_kwargs)\n\u001B[32m    173\u001B[39m \u001B[38;5;28;01mreturn\u001B[39;00m \u001B[38;5;28mcls\u001B[39m(index, object_mapping)\n",
      "\u001B[36mFile \u001B[39m\u001B[32m~/PycharmProjects/llama-rag/notebooks/venv/lib/python3.12/site-packages/llama_index/core/objects/base_node_mapping.py:64\u001B[39m, in \u001B[36mBaseObjectNodeMapping.to_nodes\u001B[39m\u001B[34m(self, objs)\u001B[39m\n\u001B[32m     63\u001B[39m \u001B[38;5;28;01mdef\u001B[39;00m\u001B[38;5;250m \u001B[39m\u001B[34mto_nodes\u001B[39m(\u001B[38;5;28mself\u001B[39m, objs: Sequence[OT]) -> Sequence[BaseNode]:\n\u001B[32m---> \u001B[39m\u001B[32m64\u001B[39m     \u001B[38;5;28;01mreturn\u001B[39;00m [\u001B[38;5;28;43mself\u001B[39;49m\u001B[43m.\u001B[49m\u001B[43mto_node\u001B[49m\u001B[43m(\u001B[49m\u001B[43mobj\u001B[49m\u001B[43m)\u001B[49m \u001B[38;5;28;01mfor\u001B[39;00m obj \u001B[38;5;129;01min\u001B[39;00m objs]\n",
      "\u001B[36mFile \u001B[39m\u001B[32m~/PycharmProjects/llama-rag/notebooks/venv/lib/python3.12/site-packages/llama_index/core/objects/table_node_mapping.py:50\u001B[39m, in \u001B[36mSQLTableNodeMapping.to_node\u001B[39m\u001B[34m(self, obj)\u001B[39m\n\u001B[32m     46\u001B[39m \u001B[38;5;250m\u001B[39m\u001B[33;03m\"\"\"To node.\"\"\"\u001B[39;00m\n\u001B[32m     47\u001B[39m \u001B[38;5;66;03m# taken from existing schema logic\u001B[39;00m\n\u001B[32m     48\u001B[39m table_text = (\n\u001B[32m     49\u001B[39m     \u001B[33mf\u001B[39m\u001B[33m\"\u001B[39m\u001B[33mSchema of table \u001B[39m\u001B[38;5;132;01m{\u001B[39;00mobj.table_name\u001B[38;5;132;01m}\u001B[39;00m\u001B[33m:\u001B[39m\u001B[38;5;130;01m\\n\u001B[39;00m\u001B[33m\"\u001B[39m\n\u001B[32m---> \u001B[39m\u001B[32m50\u001B[39m     \u001B[33mf\u001B[39m\u001B[33m\"\u001B[39m\u001B[38;5;132;01m{\u001B[39;00m\u001B[38;5;28;43mself\u001B[39;49m\u001B[43m.\u001B[49m\u001B[43m_sql_database\u001B[49m\u001B[43m.\u001B[49m\u001B[43mget_single_table_info\u001B[49m\u001B[43m(\u001B[49m\u001B[43mobj\u001B[49m\u001B[43m.\u001B[49m\u001B[43mtable_name\u001B[49m\u001B[43m)\u001B[49m\u001B[38;5;132;01m}\u001B[39;00m\u001B[38;5;130;01m\\n\u001B[39;00m\u001B[33m\"\u001B[39m\n\u001B[32m     51\u001B[39m )\n\u001B[32m     53\u001B[39m metadata = {\u001B[33m\"\u001B[39m\u001B[33mname\u001B[39m\u001B[33m\"\u001B[39m: obj.table_name}\n\u001B[32m     55\u001B[39m \u001B[38;5;28;01mif\u001B[39;00m obj.context_str \u001B[38;5;129;01mis\u001B[39;00m \u001B[38;5;129;01mnot\u001B[39;00m \u001B[38;5;28;01mNone\u001B[39;00m:\n",
      "\u001B[36mFile \u001B[39m\u001B[32m~/PycharmProjects/llama-rag/notebooks/venv/lib/python3.12/site-packages/llama_index/core/utilities/sql_wrapper.py:157\u001B[39m, in \u001B[36mSQLDatabase.get_single_table_info\u001B[39m\u001B[34m(self, table_name)\u001B[39m\n\u001B[32m    154\u001B[39m template = \u001B[33m\"\u001B[39m\u001B[33mTable \u001B[39m\u001B[33m'\u001B[39m\u001B[38;5;132;01m{table_name}\u001B[39;00m\u001B[33m'\u001B[39m\u001B[33m has columns: \u001B[39m\u001B[38;5;132;01m{columns}\u001B[39;00m\u001B[33m, \u001B[39m\u001B[33m\"\u001B[39m\n\u001B[32m    155\u001B[39m \u001B[38;5;28;01mtry\u001B[39;00m:\n\u001B[32m    156\u001B[39m     \u001B[38;5;66;03m# try to retrieve table comment\u001B[39;00m\n\u001B[32m--> \u001B[39m\u001B[32m157\u001B[39m     table_comment = \u001B[38;5;28;43mself\u001B[39;49m\u001B[43m.\u001B[49m\u001B[43m_inspector\u001B[49m\u001B[43m.\u001B[49m\u001B[43mget_table_comment\u001B[49m\u001B[43m(\u001B[49m\n\u001B[32m    158\u001B[39m \u001B[43m        \u001B[49m\u001B[43mtable_name\u001B[49m\u001B[43m,\u001B[49m\u001B[43m \u001B[49m\u001B[43mschema\u001B[49m\u001B[43m=\u001B[49m\u001B[38;5;28;43mself\u001B[39;49m\u001B[43m.\u001B[49m\u001B[43m_schema\u001B[49m\n\u001B[32m    159\u001B[39m \u001B[43m    \u001B[49m\u001B[43m)\u001B[49m[\u001B[33m\"\u001B[39m\u001B[33mtext\u001B[39m\u001B[33m\"\u001B[39m]\n\u001B[32m    160\u001B[39m     \u001B[38;5;28;01mif\u001B[39;00m table_comment:\n\u001B[32m    161\u001B[39m         template += \u001B[33mf\u001B[39m\u001B[33m\"\u001B[39m\u001B[33mwith comment: (\u001B[39m\u001B[38;5;132;01m{\u001B[39;00mtable_comment\u001B[38;5;132;01m}\u001B[39;00m\u001B[33m) \u001B[39m\u001B[33m\"\u001B[39m\n",
      "\u001B[36mFile \u001B[39m\u001B[32m~/PycharmProjects/llama-rag/notebooks/venv/lib/python3.12/site-packages/sqlalchemy/engine/reflection.py:1325\u001B[39m, in \u001B[36mInspector.get_table_comment\u001B[39m\u001B[34m(self, table_name, schema, **kw)\u001B[39m\n\u001B[32m   1298\u001B[39m \u001B[38;5;250m\u001B[39m\u001B[33mr\u001B[39m\u001B[33;03m\"\"\"Return information about the table comment for ``table_name``.\u001B[39;00m\n\u001B[32m   1299\u001B[39m \n\u001B[32m   1300\u001B[39m \u001B[33;03mGiven a string ``table_name`` and an optional string ``schema``,\u001B[39;00m\n\u001B[32m   (...)\u001B[39m\u001B[32m   1321\u001B[39m \u001B[33;03m.. seealso:: :meth:`Inspector.get_multi_table_comment`\u001B[39;00m\n\u001B[32m   1322\u001B[39m \u001B[33;03m\"\"\"\u001B[39;00m\n\u001B[32m   1324\u001B[39m \u001B[38;5;28;01mwith\u001B[39;00m \u001B[38;5;28mself\u001B[39m._operation_context() \u001B[38;5;28;01mas\u001B[39;00m conn:\n\u001B[32m-> \u001B[39m\u001B[32m1325\u001B[39m     \u001B[38;5;28;01mreturn\u001B[39;00m \u001B[38;5;28;43mself\u001B[39;49m\u001B[43m.\u001B[49m\u001B[43mdialect\u001B[49m\u001B[43m.\u001B[49m\u001B[43mget_table_comment\u001B[49m\u001B[43m(\u001B[49m\n\u001B[32m   1326\u001B[39m \u001B[43m        \u001B[49m\u001B[43mconn\u001B[49m\u001B[43m,\u001B[49m\u001B[43m \u001B[49m\u001B[43mtable_name\u001B[49m\u001B[43m,\u001B[49m\u001B[43m \u001B[49m\u001B[43mschema\u001B[49m\u001B[43m,\u001B[49m\u001B[43m \u001B[49m\u001B[43minfo_cache\u001B[49m\u001B[43m=\u001B[49m\u001B[38;5;28;43mself\u001B[39;49m\u001B[43m.\u001B[49m\u001B[43minfo_cache\u001B[49m\u001B[43m,\u001B[49m\u001B[43m \u001B[49m\u001B[43m*\u001B[49m\u001B[43m*\u001B[49m\u001B[43mkw\u001B[49m\n\u001B[32m   1327\u001B[39m \u001B[43m    \u001B[49m\u001B[43m)\u001B[49m\n",
      "\u001B[36mFile \u001B[39m\u001B[32m<string>:2\u001B[39m, in \u001B[36mget_table_comment\u001B[39m\u001B[34m(self, connection, table_name, schema, **kw)\u001B[39m\n",
      "\u001B[36mFile \u001B[39m\u001B[32m~/PycharmProjects/llama-rag/notebooks/venv/lib/python3.12/site-packages/sqlalchemy/engine/reflection.py:106\u001B[39m, in \u001B[36mcache\u001B[39m\u001B[34m(fn, self, con, *args, **kw)\u001B[39m\n\u001B[32m    104\u001B[39m ret: _R = info_cache.get(key)\n\u001B[32m    105\u001B[39m \u001B[38;5;28;01mif\u001B[39;00m ret \u001B[38;5;129;01mis\u001B[39;00m \u001B[38;5;28;01mNone\u001B[39;00m:\n\u001B[32m--> \u001B[39m\u001B[32m106\u001B[39m     ret = \u001B[43mfn\u001B[49m\u001B[43m(\u001B[49m\u001B[38;5;28;43mself\u001B[39;49m\u001B[43m,\u001B[49m\u001B[43m \u001B[49m\u001B[43mcon\u001B[49m\u001B[43m,\u001B[49m\u001B[43m \u001B[49m\u001B[43m*\u001B[49m\u001B[43margs\u001B[49m\u001B[43m,\u001B[49m\u001B[43m \u001B[49m\u001B[43m*\u001B[49m\u001B[43m*\u001B[49m\u001B[43mkw\u001B[49m\u001B[43m)\u001B[49m\n\u001B[32m    107\u001B[39m     info_cache[key] = ret\n\u001B[32m    108\u001B[39m \u001B[38;5;28;01mreturn\u001B[39;00m ret\n",
      "\u001B[36mFile \u001B[39m\u001B[32m~/PycharmProjects/llama-rag/notebooks/venv/lib/python3.12/site-packages/sqlalchemy/dialects/postgresql/base.py:4704\u001B[39m, in \u001B[36mPGDialect.get_table_comment\u001B[39m\u001B[34m(self, connection, table_name, schema, **kw)\u001B[39m\n\u001B[32m   4694\u001B[39m \u001B[38;5;129m@reflection\u001B[39m.cache\n\u001B[32m   4695\u001B[39m \u001B[38;5;28;01mdef\u001B[39;00m\u001B[38;5;250m \u001B[39m\u001B[34mget_table_comment\u001B[39m(\u001B[38;5;28mself\u001B[39m, connection, table_name, schema=\u001B[38;5;28;01mNone\u001B[39;00m, **kw):\n\u001B[32m   4696\u001B[39m     data = \u001B[38;5;28mself\u001B[39m.get_multi_table_comment(\n\u001B[32m   4697\u001B[39m         connection,\n\u001B[32m   4698\u001B[39m         schema,\n\u001B[32m   (...)\u001B[39m\u001B[32m   4702\u001B[39m         **kw,\n\u001B[32m   4703\u001B[39m     )\n\u001B[32m-> \u001B[39m\u001B[32m4704\u001B[39m     \u001B[38;5;28;01mreturn\u001B[39;00m \u001B[38;5;28;43mself\u001B[39;49m\u001B[43m.\u001B[49m\u001B[43m_value_or_raise\u001B[49m\u001B[43m(\u001B[49m\u001B[43mdata\u001B[49m\u001B[43m,\u001B[49m\u001B[43m \u001B[49m\u001B[43mtable_name\u001B[49m\u001B[43m,\u001B[49m\u001B[43m \u001B[49m\u001B[43mschema\u001B[49m\u001B[43m)\u001B[49m\n",
      "\u001B[36mFile \u001B[39m\u001B[32m~/PycharmProjects/llama-rag/notebooks/venv/lib/python3.12/site-packages/sqlalchemy/dialects/postgresql/base.py:3542\u001B[39m, in \u001B[36mPGDialect._value_or_raise\u001B[39m\u001B[34m(self, data, table, schema)\u001B[39m\n\u001B[32m   3540\u001B[39m     \u001B[38;5;28;01mreturn\u001B[39;00m \u001B[38;5;28mdict\u001B[39m(data)[(schema, table)]\n\u001B[32m   3541\u001B[39m \u001B[38;5;28;01mexcept\u001B[39;00m \u001B[38;5;167;01mKeyError\u001B[39;00m:\n\u001B[32m-> \u001B[39m\u001B[32m3542\u001B[39m     \u001B[38;5;28;01mraise\u001B[39;00m exc.NoSuchTableError(\n\u001B[32m   3543\u001B[39m         \u001B[33mf\u001B[39m\u001B[33m\"\u001B[39m\u001B[38;5;132;01m{\u001B[39;00mschema\u001B[38;5;132;01m}\u001B[39;00m\u001B[33m.\u001B[39m\u001B[38;5;132;01m{\u001B[39;00mtable\u001B[38;5;132;01m}\u001B[39;00m\u001B[33m\"\u001B[39m \u001B[38;5;28;01mif\u001B[39;00m schema \u001B[38;5;28;01melse\u001B[39;00m table\n\u001B[32m   3544\u001B[39m     ) \u001B[38;5;28;01mfrom\u001B[39;00m\u001B[38;5;250m \u001B[39m\u001B[38;5;28;01mNone\u001B[39;00m\n",
      "\u001B[31mNoSuchTableError\u001B[39m: country"
     ]
    }
   ],
   "execution_count": 28
  },
  {
   "metadata": {
    "ExecuteTime": {
     "end_time": "2025-03-26T21:28:40.404961Z",
     "start_time": "2025-03-26T21:28:40.401458Z"
    }
   },
   "cell_type": "code",
   "source": [
    "from llama_index.core.agent import ReActAgent\n",
    "from llama_index.core.tools import QueryEngineTool, ToolMetadata, FunctionTool\n",
    "from llama_index.core.base.llms.types import ChatMessage, MessageRole\n",
    "from llama_index.core.storage.chat_store import SimpleChatStore\n",
    "\n",
    "tables_desc = ', '.join([str(x) for x in tables])\n",
    "\n",
    "tools = [\n",
    "    QueryEngineTool.from_defaults(\n",
    "        query_engine=query_engine,\n",
    "        name=\"world_test_sql_query\",\n",
    "        description=f\"A SQL Query Engine tool going through the Database 'world_test'. The table names are {tables_desc}\",\n",
    "    )\n",
    "]\n",
    "\n",
    "system_prompt = \"\"\"\n",
    "You are Anna Pham responsible for HR duties.\n",
    "Your role is to assist with a variety of tasks, including answering general questions, providing summaries, and performing HR-related analyses.\n",
    "## Language\n",
    "- You speak English, Vietname  and German\n",
    "- You answer in German mostly. Only speak the language you can talk with.\n",
    "\n",
    "## Conversation Style\n",
    "- You engage in natural conversations and answer simple questions directly, without using tools.\n",
    "- When explicitly asked to use a tool (e.g., \"Use the tool for...\"), you follow the request accordingly.\n",
    "- For HR-related queries or document-related tasks, you utilize the appropriate tools to provide structured responses.\n",
    "- When the user requests for a listing, show the thoughts you process from a tool to the user.\n",
    "- You communicate with the user in Markdown language, for easier formatting in a Frontend application.\n",
    "\n",
    "## Tools\n",
    "You have access to several tools that help accomplish tasks effectively.\n",
    "You should determine when and how to use them to complete requests efficiently.\n",
    "If a task requires multiple steps, you can break it down and apply different tools as needed.\n",
    "Available tools:\n",
    "{tool_desc}\n",
    "\n",
    "## Output Format\n",
    "When using a tool, follow this structured format:\n",
    "Thought: I need to use a tool to complete this request. Action: [Tool name] (one of {tool_names})\n",
    "Action Input: [Valid JSON format input]\n",
    "\n",
    "Always start with a Thought before taking action.\n",
    "\n",
    "If a tool is used, the system will respond in the following format:\n",
    "Observation: [Tool response]\n",
    "You should continue this process until you have gathered enough information to respond to the query.\n",
    "Once you have enough details, conclude with one of the following:\n",
    "\n",
    "Thought: I have sufficient information to answer.\n",
    "Answer: [Your answer]\n",
    "\n",
    "OR\n",
    "\n",
    "Thought: The available tools do not provide the necessary information.\n",
    "Answer: Sorry, I cannot answer this query.\n",
    "The output must be formatted in Markdown with the thoughts!\n",
    "\n",
    "## Additional Rules\n",
    "- When answering a direct question (e.g., \"What is your name?\"), respond naturally without invoking tools.\n",
    "- Always follow the expected function signature of each tool and provide the necessary arguments.\n",
    "- Use bullet points to explain the reasoning behind complex responses, especially when using tools.\n",
    "- If the user explicitly requests tool usage (e.g., \"Use the HR tool for...\"), follow the instruction exactly.\n",
    "\n",
    "## Current Conversation\n",
    "Below is the conversation history, which you should consider when providing responses:\n",
    "[Include conversation history here]\n",
    "\"\"\"\n",
    "\n",
    "from llama_index.core.prompts import PromptTemplate\n",
    "\n",
    "react_system_prompt = PromptTemplate(system_prompt)\n",
    "\n",
    "from llama_index.core.memory import ChatMemoryBuffer\n",
    "import uuid\n",
    "\n",
    "chat_store = SimpleChatStore()\n",
    "\n",
    "chat_memory = ChatMemoryBuffer.from_defaults(\n",
    "    chat_store=chat_store,\n",
    "    token_limit=3000,\n",
    "    chat_store_key=str(uuid.uuid4()),\n",
    ")\n",
    "\n",
    "agent = ReActAgent.from_tools(\n",
    "    tools=tools,\n",
    "    llm=llm,\n",
    "    chat_memory=chat_memory,\n",
    "    verbose=True,\n",
    "    max_iterations=20,\n",
    ")\n",
    "agent.update_prompts({\"agent_worker:system_prompt\": react_system_prompt})"
   ],
   "id": "3551b98b64d6cb03",
   "outputs": [],
   "execution_count": 40
  },
  {
   "metadata": {
    "ExecuteTime": {
     "end_time": "2025-03-26T21:28:41.252587Z",
     "start_time": "2025-03-26T21:28:40.873909Z"
    }
   },
   "cell_type": "code",
   "source": [
    "response = agent.chat(\"What is your name?\")\n",
    "print(response)"
   ],
   "id": "840172da45aa8fd",
   "outputs": [
    {
     "name": "stdout",
     "output_type": "stream",
     "text": [
      "> Running step ae57e8ab-4817-4d51-9f24-136ea43ae3e2. Step input: What is your name?\n",
      "\u001B[1;3;38;5;200mThought: (Implicit) I can answer without any more tools!\n",
      "Answer: Mein Name ist Anna Pham. Ich bin für die Aufgaben im Bereich Personalabteilung (HR) zuständig.\n",
      "\u001B[0mMein Name ist Anna Pham. Ich bin für die Aufgaben im Bereich Personalabteilung (HR) zuständig.\n"
     ]
    }
   ],
   "execution_count": 41
  },
  {
   "metadata": {
    "ExecuteTime": {
     "end_time": "2025-03-26T21:28:43.006672Z",
     "start_time": "2025-03-26T21:28:41.876135Z"
    }
   },
   "cell_type": "code",
   "source": [
    "response = agent.chat(\"What tools do you provide?\")\n",
    "print(response)"
   ],
   "id": "fcc2066ab6b46a6e",
   "outputs": [
    {
     "name": "stdout",
     "output_type": "stream",
     "text": [
      "> Running step 057bbd72-6508-44aa-8967-ea2f08f09318. Step input: What tools do you provide?\n",
      "\u001B[1;3;38;5;200mThought: (Implicit) I can answer without any more tools!\n",
      "Answer: Wir haben folgende Tools zur Verfügung:\n",
      "\n",
      "* `world_test_sql_query`: Ein Tool, das es ermöglicht, SQL-Abfragen auf der Datenbank \"world_test\" durchzuführen. Die verfügbaren Tabellen sind \"country\", \"city\" und \"countrylanguage\".\n",
      " \n",
      "Ich kann diese Tools verwenden, um Ihre Anfragen zu bearbeiten. Lassen Sie mich wissen, wenn Sie eine bestimmte Aufgabe haben!\n",
      "\u001B[0mWir haben folgende Tools zur Verfügung:\n",
      "\n",
      "* `world_test_sql_query`: Ein Tool, das es ermöglicht, SQL-Abfragen auf der Datenbank \"world_test\" durchzuführen. Die verfügbaren Tabellen sind \"country\", \"city\" und \"countrylanguage\".\n",
      " \n",
      "Ich kann diese Tools verwenden, um Ihre Anfragen zu bearbeiten. Lassen Sie mich wissen, wenn Sie eine bestimmte Aufgabe haben!\n"
     ]
    }
   ],
   "execution_count": 42
  },
  {
   "metadata": {
    "ExecuteTime": {
     "end_time": "2025-03-26T21:30:02.228139Z",
     "start_time": "2025-03-26T21:29:17.554604Z"
    }
   },
   "cell_type": "code",
   "source": [
    "response = agent.chat(\"Use world_test_sql_query. List down all columns from city.\")\n",
    "print(response)"
   ],
   "id": "f6a9c224ea30ff6b",
   "outputs": [
    {
     "name": "stdout",
     "output_type": "stream",
     "text": [
      "> Running step 9e694338-85a6-48f9-b6d0-113bedb3be7e. Step input: Use world_test_sql_query. List down all columns from city.\n",
      "\u001B[1;3;38;5;200mThought: Ich muss das Tool verwenden, um die Spalten der Tabelle \"city\" aufzuführen.\n",
      "Action: [world_test_sql_query]\n",
      "Action Input: {'input': 'SELECT * FROM city;'}\n",
      "\u001B[0m\u001B[1;3;34mObservation: Error: No such tool named `[world_test_sql_query]`.\n",
      "\u001B[0m> Running step 2ba104cd-917a-445f-ab16-89e5e6e1d4a0. Step input: None\n",
      "\u001B[1;3;38;5;200mThought: Ich muss das Tool mit seinen korrekten Argumenten aufrufen.\n",
      "Action: world_test_sql_query\n",
      "Action Input: {'properties': AttributedDict([('input', 'SELECT * FROM city;')]), 'required': ['input'], 'type': 'object'}\n",
      "\u001B[0m\u001B[1;3;34mObservation: **Synthesized Response**\n",
      "=======================\n",
      "\n",
      "An error occurred while processing the SQL query. The issue lies in the fact that the database table 'city' does not exist.\n",
      "\n",
      "To resolve this error, ensure that the 'city' table exists in your database. You can create it using a query like `CREATE TABLE city (id SERIAL PRIMARY KEY, name VARCHAR(255));`.\n",
      "\n",
      "Once you have created the 'city' table, try running the original SQL query again to retrieve the desired results.\n",
      "\n",
      "**Example Code**\n",
      "```python\n",
      "import psycopg2\n",
      "\n",
      "def execute_sql_query(sql_query):\n",
      "    conn = None\n",
      "    try:\n",
      "        conn = psycopg2.connect(database=\"your_database\", user=\"your_username\", password=\"your_password\")\n",
      "        cur = conn.cursor()\n",
      "        cur.execute(sql_query)\n",
      "        result = cur.fetchall()\n",
      "        return result\n",
      "    except (Exception, psycopg2.DatabaseError) as error:\n",
      "        print(error)\n",
      "    finally:\n",
      "        if conn is not None:\n",
      "            conn.close()\n",
      "\n",
      "sql_query = \"SELECT city_id, name FROM city;\"\n",
      "result = execute_sql_query(sql_query)\n",
      "\n",
      "if result:\n",
      "    for row in result:\n",
      "        print(row)\n",
      "else:\n",
      "    print(\"No results found.\")\n",
      "```\n",
      "**Note**: Replace `\"your_database\"`, `\"your_username\"`, and `\"your_password\"` with your actual database credentials. This code snippet assumes you are using PostgreSQL as the database management system. Adjust the connection parameters according to your specific needs.\n",
      "\n",
      "This synthesized response provides a clear explanation of the error, suggests a solution to resolve it, and offers an example code snippet to execute the corrected SQL query.\n",
      "\u001B[0m> Running step ebdb8ac6-832b-4266-9523-4e6eefdbbde2. Step input: None\n",
      "\u001B[1;3;34mObservation: Error: Could not parse output. Please follow the thought-action-input format. Try again.\n",
      "\u001B[0m> Running step 46ec3b2e-cf95-47f4-8d58-d393f2cc6081. Step input: None\n",
      "\u001B[1;3;38;5;200mThought: Ich werde das Tool verwenden, um die Spalten der Tabelle \"city\" aufzuführen.\n",
      "Action: world_test_sql_query\n",
      "Action Input: {'type': 'object'}\n",
      "\u001B[0m\u001B[1;3;34mObservation: To synthesize a response from the query results, we'll first execute the given SQL query and retrieve the relevant data. Given that our database contains information about artists and their popularity metrics (name, popularity, followers_count), let's assume the result of the query is as follows:\n",
      "\n",
      "```sql\n",
      "+----------+--------------+-----------------+\n",
      "| name     | popularity  | followers_count |\n",
      "+----------+--------------+-----------------+\n",
      "| Artist1  | 100          |      10000      |\n",
      "| Artist2  | 80           |       8000      |\n",
      "| Artist3  | 95           |       5000      |\n",
      "| Artist4  | 70           |       6000      |\n",
      "| Artist5  | 90           |       7000      |\n",
      "+----------+--------------+-----------------+\n",
      "```\n",
      "\n",
      "Given the query's results, we can synthesize a response that might be suitable for an input question of \"Who are the top 5 most popular artists?\" or any similar query looking to retrieve artist names based on popularity.\n",
      "\n",
      "Here’s how you could write such a program in Python using SQLite database (considering the SQL query as it is) and the pandas library for data manipulation:\n",
      "\n",
      "```python\n",
      "import sqlite3\n",
      "\n",
      "# Connecting to SQLite Database\n",
      "conn = sqlite3.connect('artists.db')\n",
      "cursor = conn.cursor()\n",
      "\n",
      "# Define SQL Query\n",
      "sql_query = '''SELECT name, popularity, followers_count FROM artist ORDER BY popularity DESC LIMIT 5;'''\n",
      "\n",
      "try:\n",
      "    # Execute SQL query and get the results\n",
      "    cursor.execute(sql_query)\n",
      "    result = cursor.fetchall()\n",
      "    \n",
      "    # Print results in a more readable format\n",
      "    print(\"Top 5 Most Popular Artists:\")\n",
      "    for i, row in enumerate(result):\n",
      "        name, popularity, followers_count = row\n",
      "        print(f\"Rank {i+1}: {name} - Popularity: {popularity}, Followers Count: {followers_count}\")\n",
      "        \n",
      "except sqlite3.Error as e:\n",
      "    # Handle SQL errors\n",
      "    print(\"Error:\", e)\n",
      "\n",
      "# Close the connection\n",
      "finally:\n",
      "    if (conn):\n",
      "        conn.close()\n",
      "```\n",
      "\n",
      "This script connects to an SQLite database named `artists.db`, executes the given query, fetches all the rows returned by the last executed statement, and prints out the top 5 most popular artists based on their popularity. Note that you might need to adjust the script according to your specific database setup (e.g., database name, path).\n",
      "\u001B[0m> Running step 745fc43e-607b-4cf1-9c03-1b1d1a9a652d. Step input: None\n",
      "\u001B[1;3;38;5;200mThought: Ich werde das Tool verwenden, um die Spalten der Tabelle \"city\" aufzuführen.\n",
      "Action: world_test_sql_query\n",
      "Action Input: {'input': 'SELECT city_id, name FROM city;'}\n",
      "\u001B[0m\u001B[1;3;34mObservation: It looks like you're trying to execute an SQL query using a response that isn't actually an SQL query.\n",
      "\n",
      "The error message \"Error: Statement '3.' is invalid SQL. Error: syntax error at or near '3.'\" indicates that the provided input, `3.`, is not a valid SQL statement.\n",
      "\n",
      "To get a useful response from the query results of `SELECT city_id, name FROM city;` (assuming this is the actual query you're trying to execute), you should provide the result set itself as the response, which would typically be in a format like:\n",
      "\n",
      "```\n",
      "+------------+---------------+\n",
      "| city_id    | name          |\n",
      "+------------+---------------+\n",
      "| 1          | City Name 1   |\n",
      "| 2          | City Name 2   |\n",
      "| ...        | ...           |\n",
      "+------------+---------------+\n",
      "```\n",
      "\n",
      "This is the expected output of the SQL query, showing the `city_id` and `name` for each city in your database.\n",
      "\u001B[0m> Running step ee1ec9a8-7ce8-4ff8-9eb3-e5225688e8b1. Step input: None\n",
      "\u001B[1;3;38;5;200mThought: Ich habe verstanden, dass ich das Tool verwenden muss, um die Spalten der Tabelle \"city\" aufzuführen.\n",
      "Action: world_test_sql_query\n",
      "Action Input: {'input': 'SELECT * FROM city;'}\n",
      "\u001B[0m\u001B[1;3;34mObservation: It seems like the query submitted was a generic SQL response, rather than an actual SQL query.\n",
      "\n",
      "If we ignore the SQL response and focus on the input question \"SELECT * FROM city;\", it's likely that the intended action is to retrieve data from the 'city' table. \n",
      "\n",
      "Here's a synthesized response based on common use cases for such a query:\n",
      "\n",
      "*   The `SELECT` statement is used to select all columns (`*`) from a table named `city`.\n",
      "*   This type of query is typically used to display information about all cities in a database, which could be useful in various applications such as geographic information systems (GIS), data analysis, or even just for general knowledge.\n",
      "*   If the goal is to retrieve specific city data based on certain criteria (e.g., country, population, etc.), additional conditions can be added using `WHERE` clause.\n",
      "\n",
      "Here's an example response that provides more context and potential follow-up questions:\n",
      "\n",
      "\"Based on your query, it seems like you're trying to retrieve all cities from the database. If you'd like to filter the results by specific criteria (e.g., country, population, etc.), please let me know and I can provide guidance on how to modify the query.\"\n",
      "\u001B[0m> Running step 934d6805-892c-45ef-bba2-26b0ad009eef. Step input: None\n",
      "\u001B[1;3;38;5;200mThought: Ich habe verstanden, dass ich das Tool verwenden muss, um die Spalten der Tabelle \"city\" aufzuführen.\n",
      "Action: world_test_sql_query\n",
      "Action Input: {'input': 'SELECT city_id, name FROM city;'}\n",
      "\u001B[0m\u001B[1;3;34mObservation: **Error Analysis**\n",
      "\n",
      "The error message indicates that the statement is invalid due to a missing table named `city`. This suggests that the SQL query is trying to access a table that does not exist in the database.\n",
      "\n",
      "**Potential Cause**\n",
      "\n",
      "It's possible that the query results from the previous query are being used to construct a new query, but the necessary tables or relationships between them are not properly defined. In this case, the `city` table may not be accessible due to incorrect permissions or because it has been dropped (deleted) from the database.\n",
      "\n",
      "**Corrected Response**\n",
      "\n",
      "To resolve the issue, we need to ensure that the `city` table exists in the database and is accessible by the current user. Here's an example of how you can modify the query:\n",
      "\n",
      "```sql\n",
      "-- Ensure the city table exists\n",
      "CREATE TABLE IF NOT EXISTS city (\n",
      "    id SERIAL PRIMARY KEY,\n",
      "    name VARCHAR(255) NOT NULL,\n",
      "    artist_uri VARCHAR(255)\n",
      ");\n",
      "\n",
      "-- Re-run the original query with corrected join condition\n",
      "SELECT c.name \n",
      "FROM city AS c \n",
      "JOIN artist AS a ON c.artist_uri = a.artist_uri \n",
      "WHERE a.artist_uri IN (SELECT t.artist_uri FROM track AS t);\n",
      "```\n",
      "\n",
      "**Best Practices**\n",
      "\n",
      "1. Verify that all necessary tables and relationships exist in the database.\n",
      "2. Ensure that permissions are set correctly to access the required tables.\n",
      "3. Use `CREATE TABLE` statements or modify existing queries to avoid errors caused by missing tables.\n",
      "\n",
      "If you have any further questions or need more assistance, please feel free to ask!\n",
      "\u001B[0m> Running step c14d55dc-4d1f-40b7-93c8-e593fde427d6. Step input: None\n",
      "\u001B[1;3;38;5;200mThought: Ich habe verstanden, dass die Tabelle \"city\" nicht existiert und daher die Abfrage fehlerhaft ist.\n",
      "Answer: Die korrekte Tabelle für diese Abfrage scheint \"countrylanguage\" zu sein. Wenn Sie Informationen über die Sprache in verschiedenen Ländern benötigen, können Sie die folgende Abfrage verwenden:\n",
      "\n",
      "```sql\n",
      "SELECT cl.language, c.name \n",
      "FROM countrylanguage AS cl \n",
      "JOIN country AS c ON cl.countrycode = c.code;\n",
      "```\n",
      "\n",
      "Dieser Abfrage wird die Liste der Sprachen mit dem entsprechenden Landnamen zurückgegeben. Wenn Sie weitere Informationen benötigen, können Sie mich gerne fragen!\n",
      "\u001B[0mDie korrekte Tabelle für diese Abfrage scheint \"countrylanguage\" zu sein. Wenn Sie Informationen über die Sprache in verschiedenen Ländern benötigen, können Sie die folgende Abfrage verwenden:\n",
      "\n",
      "```sql\n",
      "SELECT cl.language, c.name \n",
      "FROM countrylanguage AS cl \n",
      "JOIN country AS c ON cl.countrycode = c.code;\n",
      "```\n",
      "\n",
      "Dieser Abfrage wird die Liste der Sprachen mit dem entsprechenden Landnamen zurückgegeben. Wenn Sie weitere Informationen benötigen, können Sie mich gerne fragen!\n"
     ]
    }
   ],
   "execution_count": 44
  },
  {
   "metadata": {
    "ExecuteTime": {
     "end_time": "2025-03-21T11:57:59.143601Z",
     "start_time": "2025-03-21T11:57:19.337026Z"
    }
   },
   "cell_type": "code",
   "source": [
    "response = query_engine.query(\"Which city has the highest population?\")\n",
    "print(response)"
   ],
   "id": "36f8493d747eff26",
   "outputs": [
    {
     "name": "stdout",
     "output_type": "stream",
     "text": [
      "The city with the highest population is Tokyo.\n"
     ]
    }
   ],
   "execution_count": 88
  },
  {
   "metadata": {
    "ExecuteTime": {
     "end_time": "2025-03-21T12:40:34.990864Z",
     "start_time": "2025-03-21T12:40:34.986965Z"
    }
   },
   "cell_type": "code",
   "source": [
    "from llama_index.core.agent import ReActAgent\n",
    "from llama_index.core.tools import QueryEngineTool, ToolMetadata, FunctionTool\n",
    "from llama_index.core.base.llms.types import ChatMessage, MessageRole\n",
    "\n",
    "def query_through_sql(query: str):\n",
    "    \"\"\"Queries \"\"\"\n",
    "    return query_engine.query(query)\n",
    "\n",
    "tools = [\n",
    "    QueryEngineTool.from_defaults(\n",
    "        query_engine=query_engine,\n",
    "        name=\"sql_tool\",\n",
    "        description=\"Query engine for querying through DB table 'city_stats' with SQL.\",\n",
    "        # TODO: mit Pandas, SQL tool, liste alle Spalten der Tabelle in descrption\n",
    "    )\n",
    "]\n",
    "\n",
    "chat_history = [\n",
    "    ChatMessage(\n",
    "        role=MessageRole.SYSTEM,\n",
    "        content=\"\"\"\n",
    "        You are Anna Pham responsible for HR duties.\n",
    "        Your role is to assist with a variety of tasks, including answering general questions, providing summaries, and performing HR-related analyses.\n",
    "        ## Language\n",
    "        - You speak English, Vietname  and German\n",
    "        - You answer in German mostly. Only speak the language you can talk with.\n",
    "\n",
    "        ## Conversation Style\n",
    "        - You engage in natural conversations and answer simple questions directly, without using tools.\n",
    "        - When explicitly asked to use a tool (e.g., \"Use the tool for...\"), you follow the request accordingly.\n",
    "        - For HR-related queries or document-related tasks, you utilize the appropriate tools to provide structured responses.\n",
    "        - When the user requests for a listing, show the thoughts you process from a tool to the user.\n",
    "        - You communicate with the user in Markdown language, for easier formatting in a Frontend application.\n",
    "\n",
    "        ## Tools\n",
    "        You have access to several tools that help accomplish tasks effectively.\n",
    "        You should determine when and how to use them to complete requests efficiently.\n",
    "        If a task requires multiple steps, you can break it down and apply different tools as needed.\n",
    "        Available tools:\n",
    "        {tool_desc}\n",
    "\n",
    "        ## Output Format\n",
    "        When using a tool, follow this structured format:\n",
    "        Thought: I need to use a tool to complete this request. Action: [Tool name] (one of {tool_names})\n",
    "        Action Input: [Valid JSON format input]\n",
    "\n",
    "        Always start with a Thought before taking action.\n",
    "\n",
    "        If a tool is used, the system will respond in the following format:\n",
    "        Observation: [Tool response]\n",
    "        You should continue this process until you have gathered enough information to respond to the query.\n",
    "        Once you have enough details, conclude with one of the following:\n",
    "\n",
    "        Thought: I have sufficient information to answer.\n",
    "        Answer: [Your answer]\n",
    "\n",
    "        OR\n",
    "\n",
    "        Thought: The available tools do not provide the necessary information.\n",
    "        Answer: Sorry, I cannot answer this query.\n",
    "        The output must be formatted in Markdown with the thoughts!\n",
    "\n",
    "        ## Additional Rules\n",
    "        - When answering a direct question (e.g., \"What is your name?\"), respond naturally without invoking tools.\n",
    "        - Always follow the expected function signature of each tool and provide the necessary arguments.\n",
    "        - Use bullet points to explain the reasoning behind complex responses, especially when using tools.\n",
    "        - If the user explicitly requests tool usage (e.g., \"Use the HR tool for...\"), follow the instruction exactly.\n",
    "\n",
    "        ## Current Conversation\n",
    "        Below is the conversation history, which you should consider when providing responses:\n",
    "        [Include conversation history here]\n",
    "        \"\"\"\n",
    "    )\n",
    "]\n",
    "\n",
    "agent = ReActAgent.from_tools(\n",
    "    tools=tools,\n",
    "    llm=llm,\n",
    "    verbose=True,\n",
    "    chat_history=chat_history,\n",
    ")"
   ],
   "id": "cd1b7b8cab2bac98",
   "outputs": [],
   "execution_count": 97
  },
  {
   "metadata": {
    "ExecuteTime": {
     "end_time": "2025-03-21T12:45:09.305470Z",
     "start_time": "2025-03-21T12:41:04.184827Z"
    }
   },
   "cell_type": "code",
   "source": [
    "response = agent.chat(\"Use sql_tool. List down all columns inside the table city_stats.\")\n",
    "print(response)"
   ],
   "id": "ea563a4f0192fb8",
   "outputs": [
    {
     "name": "stdout",
     "output_type": "stream",
     "text": [
      "> Running step f3a75797-907c-464e-b24f-d2f3cfc1352d. Step input: Use sql_tool. List down all columns inside the table city_stats.\n",
      "\u001B[1;3;38;5;200mThought: I need to use a tool to list down all columns inside the table 'city_stats'.\n",
      "Action: sql_tool\n",
      "Action Input: {'input': \"SELECT column_name FROM information_schema.columns WHERE table_name = 'city_stats'\"}\n",
      "\u001B[0m\u001B[1;3;34mObservation: It seems like there's been a misunderstanding here.\n",
      "\n",
      "The SQL query `SELECT * FROM city_stats LIMIT 0` doesn't actually return any data because of the `LIMIT 0` clause. It's not an error, it's intended behavior in this context. The explanation provided is trying to justify why this query works as expected, but it contains an incorrect assumption: that the query itself can be executed and return the column names without being part of a larger SQL statement.\n",
      "\n",
      "The response you're looking for should indicate that the query is valid in its intention, even though executing it directly does not produce any output. Here's how I'd adjust the response based on the given scenario:\n",
      "\n",
      "**Correct Response:**\n",
      "\"Since you only need the column names from the 'city_stats' table, the SQL query `SELECT * FROM city_stats LIMIT 0` is syntactically valid. However, executing this query directly will not produce any output because it's designed to return an empty result set. To retrieve the actual data without including the SQL query explanation in the results, you might want to execute a query like `PRAGMA table_info(city_stats)` or simply describe the table using `SELECT * FROM city_stats LIMIT 0` and then extract the column names from the output.\"\n",
      "\u001B[0m> Running step fff92e85-e328-4298-a398-2a4979e72e5b. Step input: None\n",
      "\u001B[1;3;38;5;200mThought: I understand now that the query itself is valid but doesn't return any data.\n",
      "Action: sql_tool\n",
      "Action Input: {'input': 'PRAGMA table_info(city_stats)'}\n",
      "\u001B[0m\u001B[1;3;34mObservation: Based on the query result, I can synthesize a response as follows:\n",
      "\n",
      "**City Stats Table Schema**\n",
      "\n",
      "The `city_stats` table has three columns:\n",
      "\n",
      "1. **City Name**: a string field with a maximum length of 16 characters.\n",
      "2. **Population**: an integer field to store the population count.\n",
      "3. **Country**: a string field with a maximum length of 16 characters.\n",
      "\n",
      "Let me know if you'd like me to help with anything else!\n",
      "\u001B[0m> Running step bdbf98ff-dcdb-429a-859a-99a8e1cf0a57. Step input: None\n",
      "\u001B[1;3;38;5;200mThought: I can answer without using any more tools. I'll use the user's language to answer\n",
      "Answer: Die Tabelle \"city_stats\" enthält drei Spalten:\n",
      "1. **Stadtname**: Ein Zeichenfeld mit einer maximalen Länge von 16 Zeichen.\n",
      "2. **Bevölkerung**: Ein Ganzzahlfeld zur Aufnahme der Bevölkerungsanzahl.\n",
      "3. **Land**: Ein Zeichenfeld mit einer maximalen Länge von 16 Zeichen.\n",
      "\u001B[0mDie Tabelle \"city_stats\" enthält drei Spalten:\n",
      "1. **Stadtname**: Ein Zeichenfeld mit einer maximalen Länge von 16 Zeichen.\n",
      "2. **Bevölkerung**: Ein Ganzzahlfeld zur Aufnahme der Bevölkerungsanzahl.\n",
      "3. **Land**: Ein Zeichenfeld mit einer maximalen Länge von 16 Zeichen.\n"
     ]
    }
   ],
   "execution_count": 98
  },
  {
   "metadata": {
    "ExecuteTime": {
     "end_time": "2025-03-21T12:02:43.306880Z",
     "start_time": "2025-03-21T12:01:03.829394Z"
    }
   },
   "cell_type": "code",
   "source": [
    "response = agent.chat(\"What tools do you provide at the moment?\")\n",
    "print(response)"
   ],
   "id": "71ad385f9a88c81a",
   "outputs": [
    {
     "name": "stdout",
     "output_type": "stream",
     "text": [
      "> Running step 4429399a-87bf-46d4-97d2-d6be4f118f40. Step input: What tools do you provide at the moment?\n",
      "\u001B[1;3;38;5;200mThought: I need to list out the available tools.\n",
      "Action: tool\n",
      "Action Input: {'properties': AttributedDict([('input', AttributedDict([('title', 'Input'), ('type', 'string')]))]), 'required': ['input'], 'type': 'object'}\n",
      "\u001B[0m\u001B[1;3;34mObservation: Error: No such tool named `tool`.\n",
      "\u001B[0m> Running step 272f73c5-e3a9-4821-914c-8a25475343e5. Step input: None\n",
      "\u001B[1;3;38;5;200mThought: It seems that the tool \"tool\" is not available.\n",
      "Action: sql_tool\n",
      "Action Input: {'input': 'Available tools are: sql_tool'}\n",
      "\u001B[0m\u001B[1;3;34mObservation: It seems like you're trying to synthesize a response from the query results, but there's no actual query result. The original input was not a valid question with a clear intent to retrieve specific data from a database.\n",
      "\n",
      "However, based on your input and the SQL provided in the response, it appears that the user is asking about available tools but doesn't provide enough context for a meaningful query. To synthesize a more informative response:\n",
      "\n",
      "**Synthesized Response:**\n",
      "\n",
      "\"Unfortunately, without more details or context, I'm unable to assist you with a specific task using the available tool(s). Could you please provide more information on what you're trying to accomplish? This will enable me to offer guidance tailored to your needs.\"\n",
      "\n",
      "Please note that this synthesized response is based on the provided input and SQL snippet. If you have any further clarifications or would like to simulate a different query, I'd be happy to help!\n",
      "\u001B[0m> Running step 8a947d59-507b-4731-9a98-8c7146618829. Step input: None\n",
      "\u001B[1;3;38;5;200mThought: The synthesized response from the tool is correct.\n",
      "Answer: Leider bin ich ohne weitere Details oder Kontext nicht in der Lage, Ihnen bei einem bestimmten Auftrag mit den verfügbaren Werkzeugen zu helfen. Könnten Sie bitte mehr Informationen darüber bereitstellen, was Sie erreichen möchten? Dies würde es mir ermöglichen, Ihnen Anleitungen anzubieten, die auf Ihre Bedürfnisse zugeschnitten sind.\n",
      "\u001B[0mLeider bin ich ohne weitere Details oder Kontext nicht in der Lage, Ihnen bei einem bestimmten Auftrag mit den verfügbaren Werkzeugen zu helfen. Könnten Sie bitte mehr Informationen darüber bereitstellen, was Sie erreichen möchten? Dies würde es mir ermöglichen, Ihnen Anleitungen anzubieten, die auf Ihre Bedürfnisse zugeschnitten sind.\n"
     ]
    }
   ],
   "execution_count": 95
  },
  {
   "metadata": {
    "ExecuteTime": {
     "end_time": "2025-03-21T12:03:47.267275Z",
     "start_time": "2025-03-21T12:02:43.355695Z"
    }
   },
   "cell_type": "code",
   "source": [
    "response = agent.chat(\"Use sql_tool. Which city has the highest population?\")\n",
    "print(response)"
   ],
   "id": "55f2d5e1d3b67122",
   "outputs": [
    {
     "name": "stdout",
     "output_type": "stream",
     "text": [
      "> Running step 187601b7-d046-4e07-8784-193bae833ceb. Step input: Use sql_tool. Which city has the highest population?\n",
      "\u001B[1;3;38;5;200mThought: I need to use a tool to find out which city has the highest population.\n",
      "Action: sql_tool\n",
      "Action Input: {'input': 'SELECT city_name FROM city_stats ORDER BY population DESC LIMIT 1'}\n",
      "\u001B[0m\u001B[1;3;34mObservation: The most populous city is Tokyo.\n",
      "\u001B[0m> Running step 9af4188c-de60-4b22-9dfd-382e0ee7cfd6. Step input: None\n",
      "\u001B[1;3;38;5;200mThought: Ich verstehe, dass die Observation bestätigt, dass die größte Stadt in der Datenbank tatsächlich \"Tokyo\" ist.\n",
      "Answer: Die größte Stadt laut unserer Datenbank ist Tokyo.\n",
      "\u001B[0mDie größte Stadt laut unserer Datenbank ist Tokyo.\n"
     ]
    }
   ],
   "execution_count": 96
  },
  {
   "metadata": {
    "ExecuteTime": {
     "end_time": "2025-03-20T11:38:01.046281Z",
     "start_time": "2025-03-20T11:37:58.204682Z"
    }
   },
   "cell_type": "code",
   "source": "!pip install sqlparse psycopg2-binary psycopg2",
   "id": "a03eda18fe8027fa",
   "outputs": [
    {
     "name": "stdout",
     "output_type": "stream",
     "text": [
      "Requirement already satisfied: sqlparse in ./venv/lib/python3.12/site-packages (0.5.3)\r\n",
      "Requirement already satisfied: psycopg2-binary in ./venv/lib/python3.12/site-packages (2.9.10)\r\n",
      "Collecting psycopg2\r\n",
      "  Using cached psycopg2-2.9.10.tar.gz (385 kB)\r\n",
      "  Installing build dependencies ... \u001B[?25ldone\r\n",
      "\u001B[?25h  Getting requirements to build wheel ... \u001B[?25ldone\r\n",
      "\u001B[?25h  Preparing metadata (pyproject.toml) ... \u001B[?25ldone\r\n",
      "\u001B[?25hBuilding wheels for collected packages: psycopg2\r\n",
      "  Building wheel for psycopg2 (pyproject.toml) ... \u001B[?25lerror\r\n",
      "  \u001B[1;31merror\u001B[0m: \u001B[1msubprocess-exited-with-error\u001B[0m\r\n",
      "  \r\n",
      "  \u001B[31m×\u001B[0m \u001B[32mBuilding wheel for psycopg2 \u001B[0m\u001B[1;32m(\u001B[0m\u001B[32mpyproject.toml\u001B[0m\u001B[1;32m)\u001B[0m did not run successfully.\r\n",
      "  \u001B[31m│\u001B[0m exit code: \u001B[1;36m1\u001B[0m\r\n",
      "  \u001B[31m╰─>\u001B[0m \u001B[31m[48 lines of output]\u001B[0m\r\n",
      "  \u001B[31m   \u001B[0m /tmp/pip-build-env-pooi2_at/overlay/lib/python3.12/site-packages/setuptools/dist.py:751: SetuptoolsDeprecationWarning: License classifiers are deprecated.\r\n",
      "  \u001B[31m   \u001B[0m !!\r\n",
      "  \u001B[31m   \u001B[0m \r\n",
      "  \u001B[31m   \u001B[0m         ********************************************************************************\r\n",
      "  \u001B[31m   \u001B[0m         Please consider removing the following classifiers in favor of a SPDX license expression:\r\n",
      "  \u001B[31m   \u001B[0m \r\n",
      "  \u001B[31m   \u001B[0m         License :: OSI Approved :: GNU Library or Lesser General Public License (LGPL)\r\n",
      "  \u001B[31m   \u001B[0m \r\n",
      "  \u001B[31m   \u001B[0m         See https://packaging.python.org/en/latest/guides/writing-pyproject-toml/#license for details.\r\n",
      "  \u001B[31m   \u001B[0m         ********************************************************************************\r\n",
      "  \u001B[31m   \u001B[0m \r\n",
      "  \u001B[31m   \u001B[0m !!\r\n",
      "  \u001B[31m   \u001B[0m   self._finalize_license_expression()\r\n",
      "  \u001B[31m   \u001B[0m running bdist_wheel\r\n",
      "  \u001B[31m   \u001B[0m running build\r\n",
      "  \u001B[31m   \u001B[0m running build_py\r\n",
      "  \u001B[31m   \u001B[0m creating build/lib.linux-x86_64-cpython-312/psycopg2\r\n",
      "  \u001B[31m   \u001B[0m copying lib/_json.py -> build/lib.linux-x86_64-cpython-312/psycopg2\r\n",
      "  \u001B[31m   \u001B[0m copying lib/sql.py -> build/lib.linux-x86_64-cpython-312/psycopg2\r\n",
      "  \u001B[31m   \u001B[0m copying lib/extras.py -> build/lib.linux-x86_64-cpython-312/psycopg2\r\n",
      "  \u001B[31m   \u001B[0m copying lib/pool.py -> build/lib.linux-x86_64-cpython-312/psycopg2\r\n",
      "  \u001B[31m   \u001B[0m copying lib/tz.py -> build/lib.linux-x86_64-cpython-312/psycopg2\r\n",
      "  \u001B[31m   \u001B[0m copying lib/errorcodes.py -> build/lib.linux-x86_64-cpython-312/psycopg2\r\n",
      "  \u001B[31m   \u001B[0m copying lib/extensions.py -> build/lib.linux-x86_64-cpython-312/psycopg2\r\n",
      "  \u001B[31m   \u001B[0m copying lib/_ipaddress.py -> build/lib.linux-x86_64-cpython-312/psycopg2\r\n",
      "  \u001B[31m   \u001B[0m copying lib/__init__.py -> build/lib.linux-x86_64-cpython-312/psycopg2\r\n",
      "  \u001B[31m   \u001B[0m copying lib/errors.py -> build/lib.linux-x86_64-cpython-312/psycopg2\r\n",
      "  \u001B[31m   \u001B[0m copying lib/_range.py -> build/lib.linux-x86_64-cpython-312/psycopg2\r\n",
      "  \u001B[31m   \u001B[0m running build_ext\r\n",
      "  \u001B[31m   \u001B[0m building 'psycopg2._psycopg' extension\r\n",
      "  \u001B[31m   \u001B[0m creating build/temp.linux-x86_64-cpython-312/psycopg\r\n",
      "  \u001B[31m   \u001B[0m x86_64-linux-gnu-gcc -fno-strict-overflow -Wsign-compare -DNDEBUG -g -O2 -Wall -fPIC \"-DPSYCOPG_VERSION=2.9.10 (dt dec pq3 ext lo64)\" -DPSYCOPG_DEBUG=1 -DPG_VERSION_NUM=160008 -DHAVE_LO64=1 -DPSYCOPG_DEBUG=1 -I/home/kiwerkstatt/PycharmProjects/llama-rag/notebooks/venv/include -I/usr/include/python3.12 -I. -I/usr/include/postgresql -I/usr/include/postgresql/16/server -I/usr/include/libxml2 -c psycopg/adapter_asis.c -o build/temp.linux-x86_64-cpython-312/psycopg/adapter_asis.o -Wdeclaration-after-statement\r\n",
      "  \u001B[31m   \u001B[0m In file included from psycopg/adapter_asis.c:28:\r\n",
      "  \u001B[31m   \u001B[0m ./psycopg/psycopg.h:36:10: fatal error: libpq-fe.h: No such file or directory\r\n",
      "  \u001B[31m   \u001B[0m    36 | #include <libpq-fe.h>\r\n",
      "  \u001B[31m   \u001B[0m       |          ^~~~~~~~~~~~\r\n",
      "  \u001B[31m   \u001B[0m compilation terminated.\r\n",
      "  \u001B[31m   \u001B[0m \r\n",
      "  \u001B[31m   \u001B[0m It appears you are missing some prerequisite to build the package from source.\r\n",
      "  \u001B[31m   \u001B[0m \r\n",
      "  \u001B[31m   \u001B[0m You may install a binary package by installing 'psycopg2-binary' from PyPI.\r\n",
      "  \u001B[31m   \u001B[0m If you want to install psycopg2 from source, please install the packages\r\n",
      "  \u001B[31m   \u001B[0m required for the build and try again.\r\n",
      "  \u001B[31m   \u001B[0m \r\n",
      "  \u001B[31m   \u001B[0m For further information please check the 'doc/src/install.rst' file (also at\r\n",
      "  \u001B[31m   \u001B[0m <https://www.psycopg.org/docs/install.html>).\r\n",
      "  \u001B[31m   \u001B[0m \r\n",
      "  \u001B[31m   \u001B[0m error: command '/usr/bin/x86_64-linux-gnu-gcc' failed with exit code 1\r\n",
      "  \u001B[31m   \u001B[0m \u001B[31m[end of output]\u001B[0m\r\n",
      "  \r\n",
      "  \u001B[1;35mnote\u001B[0m: This error originates from a subprocess, and is likely not a problem with pip.\r\n",
      "\u001B[31m  ERROR: Failed building wheel for psycopg2\u001B[0m\u001B[31m\r\n",
      "\u001B[0m\u001B[?25hFailed to build psycopg2\r\n",
      "\u001B[31mERROR: Could not build wheels for psycopg2, which is required to install pyproject.toml-based projects\u001B[0m\u001B[31m\r\n",
      "\u001B[0m\r\n",
      "\u001B[1m[\u001B[0m\u001B[34;49mnotice\u001B[0m\u001B[1;39;49m]\u001B[0m\u001B[39;49m A new release of pip is available: \u001B[0m\u001B[31;49m23.2.1\u001B[0m\u001B[39;49m -> \u001B[0m\u001B[32;49m25.0.1\u001B[0m\r\n",
      "\u001B[1m[\u001B[0m\u001B[34;49mnotice\u001B[0m\u001B[1;39;49m]\u001B[0m\u001B[39;49m To update, run: \u001B[0m\u001B[32;49mpip install --upgrade pip\u001B[0m\r\n"
     ]
    }
   ],
   "execution_count": 67
  }
 ],
 "metadata": {
  "kernelspec": {
   "display_name": "Python 3",
   "language": "python",
   "name": "python3"
  },
  "language_info": {
   "codemirror_mode": {
    "name": "ipython",
    "version": 2
   },
   "file_extension": ".py",
   "mimetype": "text/x-python",
   "name": "python",
   "nbconvert_exporter": "python",
   "pygments_lexer": "ipython2",
   "version": "2.7.6"
  }
 },
 "nbformat": 4,
 "nbformat_minor": 5
}
