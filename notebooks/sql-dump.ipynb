{
 "cells": [
  {
   "metadata": {
    "ExecuteTime": {
     "end_time": "2025-03-25T15:00:38.969892Z",
     "start_time": "2025-03-25T15:00:38.836100Z"
    }
   },
   "cell_type": "code",
   "source": [
    "import os\n",
    "\n",
    "os.system(\"pgloader\")"
   ],
   "id": "7cf00b6696c882b8",
   "outputs": [
    {
     "name": "stdout",
     "output_type": "stream",
     "text": [
      "pgloader [ option ... ] command-file ...\n",
      "pgloader [ option ... ] SOURCE TARGET\n",
      "  --help -h                       boolean  Show usage and exit.\n",
      "  --version -V                    boolean  Displays pgloader version and exit.\n",
      "  --quiet -q                      boolean  Be quiet\n",
      "  --verbose -v                    boolean  Be verbose\n",
      "  --debug -d                      boolean  Display debug level information.\n",
      "  --client-min-messages           string   Filter logs seen at the console (default: \"warning\")\n",
      "  --log-min-messages              string   Filter logs seen in the logfile (default: \"notice\")\n",
      "  --summary -S                    string   Filename where to copy the summary\n",
      "  --root-dir -D                   string   Output root directory. (default: #P\"/tmp/pgloader/\")\n",
      "  --upgrade-config -U             boolean  Output the command(s) corresponding to .conf file for\n",
      "                                           v2.x\n",
      "  --list-encodings -E             boolean  List pgloader known encodings and exit.\n",
      "  --logfile -L                    string   Filename where to send the logs.\n",
      "  --load-lisp-file -l             string   Read user code from files\n",
      "  --dry-run                       boolean  Only check database connections, don't load anything.\n",
      "  --on-error-stop                 boolean  Refrain from handling errors properly.\n",
      "  --no-ssl-cert-verification      boolean  Instruct OpenSSL to bypass verifying certificates.\n",
      "  --context -C                    string   Command Context Variables\n",
      "  --with                          string   Load options\n",
      "  --set                           string   PostgreSQL options\n",
      "  --field                         string   Source file fields specification\n",
      "  --cast                          string   Specific cast rules\n",
      "  --type                          string   Force input source type\n",
      "  --encoding                      string   Source expected encoding\n",
      "  --before                        string   SQL script to run before loading the data\n",
      "  --after                         string   SQL script to run after loading the data\n",
      "  --self-upgrade                  string   Path to pgloader newer sources\n",
      "  --regress                       boolean  Drive regression testing\n"
     ]
    },
    {
     "data": {
      "text/plain": [
       "512"
      ]
     },
     "execution_count": 1,
     "metadata": {},
     "output_type": "execute_result"
    }
   ],
   "execution_count": 1
  },
  {
   "metadata": {
    "ExecuteTime": {
     "end_time": "2025-03-25T15:02:02.783905Z",
     "start_time": "2025-03-25T15:02:02.780874Z"
    }
   },
   "cell_type": "code",
   "source": [
    "def detect_sql_dump_type(file_path: str) -> str:\n",
    "    \"\"\"Detect if an SQL dump is from MySQL or PostgreSQL.\"\"\"\n",
    "    mysql_keywords = {\"ENGINE=\", \"AUTO_INCREMENT\", \"UNLOCK TABLES\", \"LOCK TABLES\", \"CHARSET=\"}\n",
    "    postgres_keywords = {\"SET search_path\", \"SERIAL PRIMARY KEY\", \"RETURNING\", \"BIGSERIAL\", \"NOW()\"}\n",
    "\n",
    "    try:\n",
    "        with open(file_path, \"r\", encoding=\"utf-8\", errors=\"ignore\") as file:\n",
    "            for line in file:\n",
    "                line = line.strip().upper()\n",
    "                if any(keyword in line for keyword in mysql_keywords):\n",
    "                    return \"MySQL\"\n",
    "                if any(keyword in line for keyword in postgres_keywords):\n",
    "                    return \"PostgreSQL\"\n",
    "        return \"Unknown\"\n",
    "    except Exception as e:\n",
    "        return f\"Error reading file: {e}\""
   ],
   "id": "1f6f87aae64803b4",
   "outputs": [],
   "execution_count": 2
  },
  {
   "metadata": {
    "ExecuteTime": {
     "end_time": "2025-03-25T22:14:31.091942Z",
     "start_time": "2025-03-25T22:14:31.048571Z"
    }
   },
   "cell_type": "code",
   "source": [
    "world_sql = \"./data/world.sql\"\n",
    "recommender_sql = \"./data/recommender.sql\"\n",
    "\n",
    "sql_db = detect_sql_dump_type(world_sql)\n",
    "if sql_db == \"MySQL\":\n",
    "    print(\"MySQL dump detected\")\n",
    "elif sql_db == \"PostgreSQL\":\n",
    "    print(\"PostgreSQL dump detected\")\n",
    "\n",
    "sql_db = detect_sql_dump_type(recommender_sql)\n",
    "if sql_db == \"MySQL\":\n",
    "    print(\"MySQL dump detected\")\n",
    "elif sql_db == \"PostgreSQL\":\n",
    "    print(\"PostgreSQL dump detected\")"
   ],
   "id": "10529c4dbaea8348",
   "outputs": [
    {
     "name": "stdout",
     "output_type": "stream",
     "text": [
      "MySQL dump detected\n",
      "PostgreSQL dump detected\n"
     ]
    }
   ],
   "execution_count": 209
  },
  {
   "metadata": {
    "ExecuteTime": {
     "end_time": "2025-03-25T20:02:59.748242Z",
     "start_time": "2025-03-25T20:02:58.557140Z"
    }
   },
   "cell_type": "code",
   "source": "!pip install mysql-connector-python psycopg2-binary",
   "id": "3d75522bf08e46f8",
   "outputs": [
    {
     "name": "stdout",
     "output_type": "stream",
     "text": [
      "Requirement already satisfied: mysql-connector-python in ./venv/lib/python3.12/site-packages (9.2.0)\r\n",
      "Requirement already satisfied: psycopg2-binary in ./venv/lib/python3.12/site-packages (2.9.10)\r\n",
      "\r\n",
      "\u001B[1m[\u001B[0m\u001B[34;49mnotice\u001B[0m\u001B[1;39;49m]\u001B[0m\u001B[39;49m A new release of pip is available: \u001B[0m\u001B[31;49m23.2.1\u001B[0m\u001B[39;49m -> \u001B[0m\u001B[32;49m25.0.1\u001B[0m\r\n",
      "\u001B[1m[\u001B[0m\u001B[34;49mnotice\u001B[0m\u001B[1;39;49m]\u001B[0m\u001B[39;49m To update, run: \u001B[0m\u001B[32;49mpip install --upgrade pip\u001B[0m\r\n"
     ]
    }
   ],
   "execution_count": 74
  },
  {
   "metadata": {
    "ExecuteTime": {
     "end_time": "2025-03-25T22:14:59.450471Z",
     "start_time": "2025-03-25T22:14:59.447222Z"
    }
   },
   "cell_type": "code",
   "source": [
    "database_id = \"unique_chat\"\n",
    "\n",
    "\"\"\"\n",
    "https://stackoverflow.com/a/77842747\n",
    "Due to the errors with pgloader from apt-get, install it manually from the source.\n",
    "Then move, mv ./build/bin/pgloader to /usr/bin/pgloader to make executeable runable\n",
    "\"\"\"\n",
    "\n",
    "class PostgresMigration():\n",
    "    def __init__(self, host, port, user, password, db):\n",
    "        self.mysql_host = host\n",
    "        self.mysql_user = user\n",
    "        self.mysql_password = password\n",
    "        self.mysql_database = db\n",
    "        self.mysql_port = port\n",
    "        self.mysql_db = db\n",
    "\n",
    "    def migrate_mysql_to_pg(self, pg_host, pg_port, pg_user, pg_password, pg_db, **kwargs):\n",
    "        try:\n",
    "            conn = psycopg2.connect(\n",
    "                host=pg_host,\n",
    "                port=pg_port,\n",
    "                user=pg_user,\n",
    "                password=pg_password,\n",
    "                dbname=\"postgres\",\n",
    "                **kwargs\n",
    "            )\n",
    "            conn.autocommit = True\n",
    "            cursor = conn.cursor()\n",
    "\n",
    "            cursor.execute(f\"SELECT 1 FROM pg_database WHERE datname = '{pg_db}';\")\n",
    "            if not cursor.fetchone():\n",
    "                cursor.execute(f\"CREATE DATABASE {pg_db};\")\n",
    "                print(f\"Database '{pg_db}' created successfully.\")\n",
    "        except psycopg2.Error as e:\n",
    "            print(f\"PostgreSQL Error: {e}\")\n",
    "        except Exception as e:\n",
    "            print(f\"General Error: {e}\")\n",
    "\n",
    "        try:\n",
    "            mysql_url = f\"mysql://{self.mysql_user}:{self.mysql_password}@{self.mysql_host}:{self.mysql_port}/{self.mysql_db}\"\n",
    "            pg_url = f\"pgsql://{pg_user}:{pg_password}@{pg_host}:{pg_port}/{database_id}\"\n",
    "            os.system(f\"pgloader {mysql_url} {pg_url}\")\n",
    "        except Exception as e:\n",
    "            print(f\"General Error: {e}\")"
   ],
   "id": "30cdf4ebffd2b10b",
   "outputs": [],
   "execution_count": 210
  },
  {
   "metadata": {
    "ExecuteTime": {
     "end_time": "2025-03-25T22:15:46.011835Z",
     "start_time": "2025-03-25T22:15:46.007975Z"
    }
   },
   "cell_type": "code",
   "source": [
    "import mysql.connector\n",
    "\n",
    "def load_mysql_dump(host, port, user, password, db, dump_file, **kwargs):\n",
    "    try:\n",
    "        conn = mysql.connector.connect(\n",
    "            host=host,\n",
    "            user=user,\n",
    "            password=password,\n",
    "            port=port,\n",
    "            **kwargs\n",
    "        )\n",
    "        cursor = conn.cursor()\n",
    "\n",
    "        cursor.execute(f\"CREATE DATABASE IF NOT EXISTS {db};\")\n",
    "        print(f\"Database '{db}' checked/created successfully.\")\n",
    "\n",
    "        conn.database = db\n",
    "        conn.autocommit = True\n",
    "\n",
    "        with open(dump_file, \"r\", encoding=\"utf-8\") as file:\n",
    "            sql_script = file.read()\n",
    "\n",
    "        sql_script = re.sub(r\"(?i)CREATE DATABASE.*?;\", \"\", sql_script)\n",
    "        sql_script = re.sub(r\"(?i)USE\\s+\\S+;\", \"\", sql_script)\n",
    "\n",
    "        for statement in sql_script.split(\";\"):\n",
    "            statement = statement.strip()\n",
    "            if statement:\n",
    "                cursor.execute(statement)\n",
    "        print(\"SQL dump loaded successfully.\")\n",
    "    except mysql.connector.Error as e:\n",
    "        print(f\"MySQL Error: {e}\")\n",
    "    except Exception as e:\n",
    "        print(f\"General Error: {e}\")\n",
    "    finally:\n",
    "        cursor.close()\n",
    "        conn.close()\n",
    "\n",
    "import re\n",
    "import psycopg2\n",
    "\n",
    "def load_pgsql_dump(host, port, user, password, db, dump_file, **kwargs):\n",
    "    try:\n",
    "        conn = psycopg2.connect(\n",
    "            host=pg_host,\n",
    "            port=pg_port,\n",
    "            user=pg_user,\n",
    "            password=pg_password,\n",
    "            dbname=\"postgres\",\n",
    "            **kwargs\n",
    "        )\n",
    "        conn.autocommit = True\n",
    "        cursor = conn.cursor()\n",
    "\n",
    "        # Create the database if it doesn't exist\n",
    "        cursor.execute(f\"SELECT 1 FROM pg_database WHERE datname = '{db}';\")\n",
    "        if not cursor.fetchone():\n",
    "            cursor.execute(f\"CREATE DATABASE {db};\")\n",
    "            print(f\"Database '{db}' created successfully.\")\n",
    "        cursor.close()\n",
    "        conn.close()\n",
    "    except psycopg2.Error as e:\n",
    "        print(f\"PostgreSQL Error: {e}\")\n",
    "    finally:\n",
    "        os.system(f\"PGPASSWORD={password} psql -U {user}  -h {host} -p {port} -d {db} < {dump_file}\")"
   ],
   "id": "f5f735b5bc3e065d",
   "outputs": [],
   "execution_count": 211
  },
  {
   "metadata": {
    "ExecuteTime": {
     "end_time": "2025-03-25T22:15:52.435720Z",
     "start_time": "2025-03-25T22:15:52.433110Z"
    }
   },
   "cell_type": "code",
   "source": [
    "mysql_host = \"localhost\"\n",
    "mysql_user = \"root\"\n",
    "mysql_password = \"password\"\n",
    "mysql_port = 3306\n",
    "\n",
    "pg_host = \"127.0.0.1\"\n",
    "pg_port = 5432\n",
    "pg_user = \"postgres\"\n",
    "pg_password = \"password\"\n",
    "\n",
    "def load_dump_to_database(sql_dump_file, db_name=\"TWICE\"):\n",
    "    db = detect_sql_dump_type(sql_dump_file)\n",
    "    if db == \"MySQL\":\n",
    "        print(\"MySQL dump detected\")\n",
    "        load_mysql_dump(mysql_host, mysql_port, mysql_user, mysql_password, db_name, sql_dump_file)\n",
    "        migration = PostgresMigration(mysql_host, mysql_port, mysql_user, mysql_password, db_name,)\n",
    "        migration.migrate_mysql_to_pg(pg_host, pg_port, pg_user, pg_password, db_name)\n",
    "    elif db == \"PostgreSQL\":\n",
    "        print(\"PostgreSQL dump detected\")\n",
    "        load_pgsql_dump(pg_host, pg_port, pg_user, pg_password,db_name, sql_dump_file)"
   ],
   "id": "ab69da86178b38e4",
   "outputs": [],
   "execution_count": 212
  },
  {
   "metadata": {
    "ExecuteTime": {
     "end_time": "2025-03-25T22:18:49.427600Z",
     "start_time": "2025-03-25T22:18:48.497712Z"
    }
   },
   "cell_type": "code",
   "source": [
    "\"\"\"\n",
    "Test for MySql/MariaDB Dump for fist:\n",
    "- saving into a MySql database\n",
    "- transfering the Dump to a PostgreSQL database with 'pgloader'\n",
    "\"\"\"\n",
    "import os\n",
    "\n",
    "world_sql = os.path.join(os.getcwd(), 'data', 'world.sql')\n",
    "load_dump_to_database(world_sql, db_name=\"world_test\")"
   ],
   "id": "2fe2648bd03e9077",
   "outputs": [
    {
     "name": "stdout",
     "output_type": "stream",
     "text": [
      "MySQL dump detected\n",
      "Database 'world_test' checked/created successfully.\n",
      "SQL dump loaded successfully.\n",
      "2025-03-25T23:18:49.008001+01:00 LOG pgloader version \"3.6.70f3557\"\n",
      "2025-03-25T23:18:49.062002+01:00 LOG Migrating from #<MYSQL-CONNECTION mysql://root@localhost:3306/world_test {1005C79613}>\n",
      "2025-03-25T23:18:49.062002+01:00 LOG Migrating into #<PGSQL-CONNECTION pgsql://postgres@127.0.0.1:5432/unique_chat {1005F6FD83}>\n",
      "2025-03-25T23:18:49.405012+01:00 LOG report summary reset\n",
      "                table name     errors       rows      bytes      total time\n",
      "--------------------------  ---------  ---------  ---------  --------------\n",
      "           fetch meta data          0         10                     0.044s\n",
      "            Create Schemas          0          0                     0.000s\n",
      "          Create SQL Types          0          2                     0.008s\n",
      "             Create tables          0          6                     0.008s\n",
      "            Set Table OIDs          0          3                     0.002s\n",
      "--------------------------  ---------  ---------  ---------  --------------\n",
      "world_test.countrylanguage          0        984    17.8 kB          0.093s\n",
      "        world_test.country          0        239    31.1 kB          0.093s\n",
      "           world_test.city          0       4079   141.1 kB          0.053s\n",
      "--------------------------  ---------  ---------  ---------  --------------\n",
      "   COPY Threads Completion          0          4                     0.094s\n",
      "    Index Build Completion          0          5                     0.074s\n",
      "            Create Indexes          0          5                     0.015s\n",
      "           Reset Sequences          0          1                     0.027s\n",
      "              Primary Keys          0          3                     0.002s\n",
      "       Create Foreign Keys          0          2                     0.002s\n",
      "           Create Triggers          0          0                     0.000s\n",
      "          Install Comments          0          0                     0.000s\n",
      "--------------------------  ---------  ---------  ---------  --------------\n",
      "         Total import time          ✓       5302   190.0 kB          0.214s\n"
     ]
    }
   ],
   "execution_count": 215
  },
  {
   "metadata": {
    "ExecuteTime": {
     "end_time": "2025-03-25T22:19:45.148480Z",
     "start_time": "2025-03-25T22:19:45.062773Z"
    }
   },
   "cell_type": "code",
   "source": [
    "\"\"\"\n",
    "Test for PostgreSQL Dump for loading dump into Postgres database\n",
    "It simply uses the psql executable.\n",
    "!!! postgresql-client is mandatory\n",
    "\"\"\"\n",
    "import os\n",
    "\n",
    "recommender_sql_file = 'recommender.sql'\n",
    "path_to_dump = os.path.join(os.getcwd(), 'data', recommender_sql_file)\n",
    "load_dump_to_database(path_to_dump, db_name=\"twice_once_super_test\")"
   ],
   "id": "28010b11c2345e03",
   "outputs": [
    {
     "name": "stdout",
     "output_type": "stream",
     "text": [
      "PostgreSQL dump detected\n",
      "SET\n",
      "SET\n",
      "SET\n",
      "SET\n",
      "SET\n",
      " set_config \n",
      "------------\n",
      " \n",
      "(1 row)\n",
      "\n",
      "SET\n",
      "SET\n",
      "SET\n",
      "SET\n",
      "ALTER SCHEMA\n",
      "COMMENT\n",
      "SET\n",
      "SET\n"
     ]
    },
    {
     "name": "stderr",
     "output_type": "stream",
     "text": [
      "ERROR:  schema \"public\" already exists\n",
      "ERROR:  relation \"artist\" already exists\n",
      "ERROR:  role \"vuminhle\" does not exist\n",
      "ERROR:  relation \"audio_features\" already exists\n",
      "ERROR:  role \"vuminhle\" does not exist\n",
      "ERROR:  relation \"track\" already exists\n",
      "ERROR:  role \"vuminhle\" does not exist\n",
      "ERROR:  duplicate key value violates unique constraint \"artist_pkey\"\n",
      "DETAIL:  Key (artist_uri)=(spotify:artist:4Kxlr1PRlDKEB0ekOCyHgX) already exists.\n",
      "CONTEXT:  COPY artist, line 1\n",
      "ERROR:  duplicate key value violates unique constraint \"audio_features_pkey\"\n",
      "DETAIL:  Key (track_uri)=(spotify:track:4LOLvDtzykDC7y9WehFoOi) already exists.\n",
      "CONTEXT:  COPY audio_features, line 1\n",
      "ERROR:  duplicate key value violates unique constraint \"track_pkey\"\n",
      "DETAIL:  Key (track_uri)=(spotify:track:4LOLvDtzykDC7y9WehFoOi) already exists.\n",
      "CONTEXT:  COPY track, line 1\n",
      "ERROR:  multiple primary keys for table \"artist\" are not allowed\n",
      "ERROR:  multiple primary keys for table \"audio_features\" are not allowed\n",
      "ERROR:  multiple primary keys for table \"track\" are not allowed\n",
      "ERROR:  constraint \"audio_features_track_uri_fkey\" for relation \"audio_features\" already exists\n",
      "ERROR:  constraint \"track_artist_uri_fkey\" for relation \"track\" already exists\n"
     ]
    }
   ],
   "execution_count": 216
  },
  {
   "metadata": {},
   "cell_type": "code",
   "outputs": [],
   "execution_count": null,
   "source": "",
   "id": "721c46672938d5fd"
  }
 ],
 "metadata": {
  "kernelspec": {
   "name": "python3",
   "language": "python",
   "display_name": "Python 3 (ipykernel)"
  }
 },
 "nbformat": 5,
 "nbformat_minor": 9
}
